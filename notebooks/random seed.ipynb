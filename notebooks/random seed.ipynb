{
 "cells": [
  {
   "cell_type": "code",
   "execution_count": 1,
   "metadata": {
    "collapsed": false
   },
   "outputs": [
    {
     "name": "stdout",
     "output_type": "stream",
     "text": [
      "Populating the interactive namespace from numpy and matplotlib\n"
     ]
    }
   ],
   "source": [
    "% pylab inline"
   ]
  },
  {
   "cell_type": "code",
   "execution_count": 2,
   "metadata": {
    "collapsed": false
   },
   "outputs": [],
   "source": [
    "from __future__ import print_function\n",
    "import os.path\n",
    "import pandas\n",
    "import src\n",
    "import sklearn\n",
    "import os\n",
    "import scipy\n",
    "import scipy.stats\n",
    "from operator import itemgetter"
   ]
  },
  {
   "cell_type": "code",
   "execution_count": 3,
   "metadata": {
    "collapsed": true
   },
   "outputs": [],
   "source": [
    "# import seaborn\n",
    "# seaborn.set_palette(\"colorblind\")"
   ]
  },
  {
   "cell_type": "code",
   "execution_count": 4,
   "metadata": {
    "collapsed": false
   },
   "outputs": [
    {
     "name": "stdout",
     "output_type": "stream",
     "text": [
      "/home/cscorley/git/triage/notebooks\n",
      "/home/cscorley/git/triage\n"
     ]
    }
   ],
   "source": [
    "def fake(*args, **kwargs):\n",
    "    print('Fake called with', str(args), str(kwargs))\n",
    "    sys.exit(1)\n",
    "\n",
    "# fake out the create_model so we don't accidentally attempt to create data\n",
    "src.common.create_model = fake\n",
    "\n",
    "print(os.getcwd())\n",
    "if os.getcwd().endswith('notebooks'):\n",
    "    os.chdir('..')\n",
    "print(os.getcwd())"
   ]
  },
  {
   "cell_type": "code",
   "execution_count": 5,
   "metadata": {
    "collapsed": false
   },
   "outputs": [],
   "source": [
    "def reload_projects(seed=1, name=None):\n",
    "    args = dict(level='file', force=False, model='lda', source=['release', 'changeset', 'temporal'], random_seed_value=seed)\n",
    "\n",
    "    model_config, model_config_string = src.main.get_default_model_config(args)\n",
    "    args.update({'model_config': model_config, 'model_config_string': model_config_string})\n",
    "\n",
    "    changeset_config, changeset_config_string = src.main.get_default_changeset_config()\n",
    "    args.update({'changeset_config': changeset_config, 'changeset_config_string': changeset_config_string})\n",
    "\n",
    "    projects = src.common.load_projects(args)\n",
    "    if name:\n",
    "        projects = [x for x in projects if x.name == name]\n",
    "    return projects"
   ]
  },
  {
   "cell_type": "code",
   "execution_count": 6,
   "metadata": {
    "collapsed": false
   },
   "outputs": [
    {
     "data": {
      "text/plain": [
       "[Project(name='bookkeeper', printable_name='BookKeeper v4.3.0', version='v4.3.0', ref='refs/tags/release-4.3.0', data_path='data/bookkeeper/', full_path='data/bookkeeper/v4.3.0/', src_path='data/bookkeeper/v4.3.0/src/', changeset_config_string=u'True-True-False-True', source=['release', 'changeset', 'temporal'], model_config_string=u'seed1-batch-0.002-0.5-0.002-1000-1000-500-1.0-1', force=False, level='file', model_config={'passes': 1, 'eta': 0.002, 'num_topics': 500, 'iterations': 1000, 'decay': 0.5, 'algorithm': 'batch', 'alpha': 0.002, 'offset': 1.0, 'max_bound_iterations': 1000}, model='lda', random_seed_value=1, changeset_config={'include_removals': True, 'include_context': True, 'include_message': False, 'include_additions': True})]"
      ]
     },
     "execution_count": 6,
     "metadata": {},
     "output_type": "execute_result"
    }
   ],
   "source": [
    "projects = reload_projects(seed=1, name='bookkeeper')\n",
    "projects"
   ]
  },
  {
   "cell_type": "markdown",
   "metadata": {},
   "source": [
    "# Data read"
   ]
  },
  {
   "cell_type": "code",
   "execution_count": 11,
   "metadata": {
    "collapsed": false,
    "scrolled": true
   },
   "outputs": [],
   "source": [
    "FIG_TEX=\"\"\"\n",
    "\\\\begin{figure}\n",
    "\\\\centering\n",
    "\\\\includegraphics[height=0.4\\\\textheight]{%s}\n",
    "\\\\caption{%s: %s effectiveness measures for %s}\n",
    "\\\\label{fig:%s}\n",
    "\\\\end{figure}\n",
    "\"\"\"\n",
    "\n",
    "def plot_panel(panel, order, name, kind, seed):\n",
    "    size = (len(order)*1.6, 4.5)\n",
    "    fontsize = None\n",
    "    widths = 0.3\n",
    "    limitgrowth = 0.5\n",
    "    lower = 0\n",
    "    kinds = {\"flt_seed\": \"Feature Location\",\n",
    "             \"dit_seed\": \"Developer Identification\"}\n",
    "    \n",
    "    rqs = {\"flt_seed\": {\"rq1\": \"\\\\rone\", \"rq2\": \"\\\\rone\", \"all\": \"Overview\"},\n",
    "           \"dit_seed\": {\"rq1\": \"\\\\rtwo\", \"rq2\": \"\\\\rtwo\", \"all\": \"Overview\"}}\n",
    "\n",
    "    allt = pandas.DataFrame()\n",
    "    for each in panel:\n",
    "        allt = allt.append(panel[each], ignore_index=True)\n",
    "\n",
    "        upper = panel[each][order].max().max()+1\n",
    "        result = panel[each].plot(kind='box',\n",
    "                         fontsize=fontsize,\n",
    "                         figsize=size,\n",
    "                         widths=widths,\n",
    "                         y=order)\n",
    "        limit = result.get_ylim()\n",
    "        lower = limit[0] - limitgrowth\n",
    "        if (lower < 0):\n",
    "            lower = 0\n",
    "        result.set_ylim(lower, limit[1] + limitgrowth)\n",
    "        #plt.gca().invert_yaxis()\n",
    "        plt.tight_layout()\n",
    "        short_each = each.lower().split(' ')[0]\n",
    "        fig_name = 'figures/%s/%s_%s_%s' % (kind, name, short_each, str(seed))\n",
    "        path = os.path.expanduser('~/git/dissertation/') + fig_name\n",
    "        plt.savefig(path + \".pdf\", dpi=300)\n",
    "        \n",
    "        with open(path + \".tex\", \"wt\") as f:\n",
    "            figlabel = \":\".join([x.lower() for x in [kind, name, short_each]])\n",
    "            f.write(FIG_TEX % (fig_name, rqs[kind][name], kinds[kind], each + \" with $seed=%s$\" % str(seed), figlabel))\n",
    "        plt.close()\n",
    "        \n",
    "        \n",
    "    upper = allt.max().max()+1\n",
    "    allt.plot(kind='box', figsize=(4,1.5), grid=False, vert=False, y=list(reversed(order)))\n",
    "    plt.tight_layout()\n",
    "    short_each = \"tiny\"\n",
    "    fig_name = 'figures/%s/%s_%s_%s' % (kind, name, short_each, str(seed))\n",
    "    path = os.path.expanduser('~/git/dissertation/') + fig_name\n",
    "    plt.savefig(path + \".pdf\", dpi=300)\n",
    "\n",
    "    with open(path + \".tex\", \"wt\") as f:\n",
    "        figlabel = \":\".join([x.lower() for x in [kind, name, short_each]])\n",
    "        f.write(FIG_TEX % (fig_name, rqs[kind][name], kinds[kind], \"all subject systems with $seed=%s$\" % str(seed), figlabel))\n",
    "        \n",
    "    plt.close()\n",
    "    \n",
    "    result = allt.plot(kind='box',\n",
    "               fontsize=fontsize,\n",
    "\n",
    "              figsize=size,\n",
    "              widths=widths,\n",
    "              ylim=(lower, upper),\n",
    "              y=order)\n",
    "    limit = result.get_ylim()\n",
    "    lower = limit[0] - limitgrowth\n",
    "    if (lower < 0):\n",
    "        lower = 0\n",
    "    result.set_ylim(lower, limit[1] + limitgrowth)\n",
    "    #plt.gca().invert_yaxis()\n",
    "    plt.tight_layout()\n",
    "    short_each = \"overview\"\n",
    "    fig_name = 'figures/%s/%s_%s_%s' % (kind, name, short_each, str(seed))\n",
    "    path = os.path.expanduser('~/git/dissertation/') + fig_name\n",
    "    plt.savefig(path + \".pdf\", dpi=300)\n",
    "    with open(path + \".tex\", \"wt\") as f:\n",
    "        figlabel = \":\".join([x.lower() for x in [kind, name, short_each]])\n",
    "        f.write(FIG_TEX % (fig_name, rqs[kind][name], kinds[kind], \"all subject systems with $seed=%s$\" % str(seed), figlabel))\n",
    "    plt.close()"
   ]
  },
  {
   "cell_type": "code",
   "execution_count": 12,
   "metadata": {
    "collapsed": true
   },
   "outputs": [],
   "source": [
    "RQ1_ORDER = [\"Snapshot\", \"Changesets\"]\n",
    "RQ2_ORDER = [\"Changesets\", \"Historical\"]"
   ]
  },
  {
   "cell_type": "code",
   "execution_count": 13,
   "metadata": {
    "collapsed": false,
    "scrolled": true
   },
   "outputs": [],
   "source": [
    "def get_panel(projects, fn):\n",
    "    datarank = dict()\n",
    "    for project in projects:\n",
    "        results = fn(project) \n",
    "        x, y = src.common.merge_first_rels(results['changeset'], results['release'], ignore=True)\n",
    "        #_, z = src.common.merge_first_rels(results['changeset'], results['temporal'], ignore=True)\n",
    "        #print(len(x), len(y))\n",
    "        datarank[project.printable_name] = {'Changesets': pandas.Series(x),\n",
    "                                            'Snapshot': pandas.Series(y)}\n",
    "                                            #'Historical': pandas.Series(z)}\n",
    "\n",
    "    return pandas.Panel(datarank)"
   ]
  },
  {
   "cell_type": "code",
   "execution_count": 14,
   "metadata": {
    "collapsed": false
   },
   "outputs": [
    {
     "name": "stdout",
     "output_type": "stream",
     "text": [
      "seed: 1, 2, 3, 4, 5, 6, 7, 8, 9, 10, 11, 12, 13, 14, 15, 16, 17, 18, 19, 20, 21, 22, 23, 24, 25, 26, 27, 28, 29, 30, 31, 32, 33, 34, 35, 36, 37, 38, 39, 40, 41, 42, 43, 44, 45, 46, 47, 48, 49, 50, "
     ]
    }
   ],
   "source": [
    "fpanels = list()\n",
    "tpanels = list()\n",
    "print(\"seed: \", end='')\n",
    "for seed in range(1, 51):\n",
    "    print(seed, end=', ')\n",
    "    projects = reload_projects(seed=seed, name='bookkeeper')\n",
    "\n",
    "    fpanel = get_panel(projects, src.feature_location.run_experiment)\n",
    "    tpanel = get_panel(projects, src.triage.run_experiment)\n",
    "    \n",
    "    fpanels.append(fpanel)\n",
    "    tpanels.append(tpanel)\n",
    "\n",
    "    plot_panel(tpanel, RQ1_ORDER, \"rq1\", \"dit_seed\", seed)\n",
    "    plot_panel(fpanel, RQ1_ORDER, \"rq1\", \"flt_seed\", seed)"
   ]
  },
  {
   "cell_type": "code",
   "execution_count": 15,
   "metadata": {
    "collapsed": false
   },
   "outputs": [],
   "source": [
    "# http://stackoverflow.com/a/32680477/615429\n",
    "\n",
    "import numpy as np\n",
    "import matplotlib.pyplot as plt  \n",
    "#--------------------------------\n",
    "def points(x,y,n): # Plot n points symmetrically aligned about axes\n",
    "    dx=0.03  # define distance between individual dots    \n",
    "    m = 1-(n%2) # ensure symmetrical alignment for odd or even number of dots\n",
    "    while(m<n):\n",
    "        plt.scatter(x+(dx*m),y,color = 'k', marker = 'o', s=50, zorder=1)\n",
    "        plt.scatter(x-(dx*m),y,color = 'k', marker = 'o', s=50, zorder=1)\n",
    "        m+=2\n",
    "\n",
    "def histogram(b): # count number of data points in each bin\n",
    "    for col in range(0,2):\n",
    "        count = np.unique(b[:,col], return_counts=True)  \n",
    "        for n in range(0,np.size(count[col])):\n",
    "            points(col,count[0][n], count[1][n])\n",
    "\n",
    "def partition(a,bins): # partition continuous data into equal sized bins for plotting     \n",
    "    lo = np.min(a)\n",
    "    hi = np.max(a)\n",
    "    rng = hi-lo\n",
    "    step = rng/float(bins-1)\n",
    "\n",
    "    for col in range (0,2):\n",
    "        for row in range (0,int(np.size(a,axis=0))):\n",
    "            for n in range (0,bins):\n",
    "                 if a[row,col] <= (lo + (step / 2) + n * step):\n",
    "                        b[row,col] = (lo + (n * step))\n",
    "                        break\n",
    "    return(b)\n",
    "\n",
    "def lines(b): # draw 'before' and 'after' lines between paired data points + median line\n",
    "    labeled=False\n",
    "    for row in range (0,int(np.size(a,axis=0))):\n",
    "        if labeled:\n",
    "            plt.plot([0,1], [b[row,0], b[row,1]], c='k', zorder=0, lw=1, alpha=0.3)\n",
    "        else:\n",
    "            plt.plot([0,1], [b[row,0], b[row,1]], c='k', zorder=0, lw=1, alpha=0.3, label='Pair')\n",
    "            labeled=True\n",
    "    plt.plot([0,1], [np.median(b[:,0]),np.median(b[:,1])], c='r', zorder=2, lw=3, alpha=1, label='Median')\n",
    "    plt.plot([0,1], [np.mean(b[:,0]),np.mean(b[:,1])], c='b', zorder=2, lw=3, alpha=1, label='Mean')\n",
    "    plt.legend(loc='best')\n",
    "\n",
    "def plot_pairs(pairs, name, kind, seed):\n",
    "    #================================    \n",
    "    # MAIN   \n",
    "    # Dummy paired continuous data (...or import from spreadsheet as a numpy array)\\;    \n",
    "    a = np.array(pairs.T)\n",
    "\n",
    "    start = pairs.min().min() - 0.05\n",
    "    end = pairs.max().max() + 0.05\n",
    "    step = 0.02\n",
    "\n",
    "    bins = len(np.arange(start, end, step)) # pairs.count().max() # choose total number of bins to categorise data into\n",
    "    ax = plt.axes()\n",
    "\n",
    "    a = a.transpose()\n",
    "    b = np.array(a) # make a copy of the input data matrix to write categorised data to\n",
    "    b = partition(a, bins) # partition continuous data into bins\n",
    "    lines(b) # draw lines between mid points of each bin and draw median line\n",
    "    histogram(b) # draw histograms centered at mid points of each bin\n",
    "\n",
    "    # Make general tweaks to plot appearance here:\n",
    "    plt.xticks([0,1], ['Changesets', 'Snapshot'], fontsize=14)\n",
    "    plt.ylabel('Mean Reciprocol Rank (MRR)',fontsize=13)\n",
    "    # plt.text(0.8,1.3,'All patients',fontsize=13)\n",
    "    ax.patch.set_facecolor('white') # set background colour for plot area (default = white)\n",
    "    ax.spines['top'].set_visible(False)   # remove default upper axis\n",
    "    ax.spines['right'].set_visible(False) # remove default right axis\n",
    "    plt.tick_params(axis='both', \n",
    "                    which='both',\n",
    "                    direction='out',\n",
    "                    top='off',\n",
    "                    right='off',\n",
    "                    labeltop='off') # remove tick marks from top & right axes\n",
    "    plt.xlim(-0.6,1.6)\n",
    "    plt.ylim(pairs.min().min() - 0.05, pairs.max().max() + 0.05)\n",
    "    fig = plt.gcf()\n",
    "    fig.set_figheight(4)\n",
    "    fig.set_figwidth(6)\n",
    "\n",
    "    plt.tight_layout()\n",
    "    plt.show()\n",
    "\n",
    "    short_each = \"paired_seeds\"\n",
    "    fig_name = 'figures/%s/%s_%s_%s' % (kind, name, short_each, str(seed))\n",
    "    path = os.path.expanduser('~/git/dissertation/') + fig_name\n",
    "    plt.savefig(path + \".pdf\", dpi=300)\n",
    "    with open(path + \".tex\", \"wt\") as f:\n",
    "        figlabel = \":\".join([x.lower() for x in [kind, name, short_each]])\n",
    "        f.write(FIG_TEX % (fig_name, rqs[kind][name], kinds[kind], \"all subject systems with $seed=%s$\" % str(seed), figlabel))\n",
    "    plt.close()"
   ]
  },
  {
   "cell_type": "code",
   "execution_count": 16,
   "metadata": {
    "collapsed": false
   },
   "outputs": [],
   "source": [
    "def get_pairs(panels):\n",
    "    for idx, each in enumerate(panels):\n",
    "        cs = list()\n",
    "        sn = list()\n",
    "        for name in each:\n",
    "            cs.append(src.utils.calculate_mrr(each[name]['Changesets']))\n",
    "            sn.append(src.utils.calculate_mrr(each[name]['Snapshot']))\n",
    "\n",
    "        pairs = pandas.DataFrame({'Changesets': cs, 'Snapshot': sn}, index=range(1, 51))\n",
    "        plot_pairs(pairs, name)"
   ]
  },
  {
   "cell_type": "code",
   "execution_count": null,
   "metadata": {
    "collapsed": true
   },
   "outputs": [],
   "source": [
    "# need to unpack one project at a time out of the panels"
   ]
  },
  {
   "cell_type": "code",
   "execution_count": null,
   "metadata": {
    "collapsed": true
   },
   "outputs": [],
   "source": []
  }
 ],
 "metadata": {
  "kernelspec": {
   "display_name": "Python 2",
   "language": "python2",
   "name": "python2"
  },
  "language_info": {
   "codemirror_mode": {
    "name": "ipython",
    "version": 2
   },
   "file_extension": ".py",
   "mimetype": "text/x-python",
   "name": "python",
   "nbconvert_exporter": "python",
   "pygments_lexer": "ipython2",
   "version": "2.7.12"
  }
 },
 "nbformat": 4,
 "nbformat_minor": 0
}
