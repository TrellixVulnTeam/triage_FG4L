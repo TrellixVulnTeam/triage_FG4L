{
 "cells": [
  {
   "cell_type": "code",
   "execution_count": 1,
   "metadata": {
    "collapsed": false
   },
   "outputs": [
    {
     "name": "stdout",
     "output_type": "stream",
     "text": [
      "Populating the interactive namespace from numpy and matplotlib\n"
     ]
    }
   ],
   "source": [
    "%pylab inline\n",
    "from __future__ import print_function\n",
    "\n",
    "import os\n",
    "os.chdir(\"..\")\n"
   ]
  },
  {
   "cell_type": "code",
   "execution_count": 2,
   "metadata": {
    "collapsed": false
   },
   "outputs": [],
   "source": [
    "import pandas\n",
    "import gensim\n",
    "import src.utils\n",
    "import os.path"
   ]
  },
  {
   "cell_type": "code",
   "execution_count": 3,
   "metadata": {
    "collapsed": false
   },
   "outputs": [
    {
     "data": {
      "text/plain": [
       "['data/Kagdi-etal_2011/koffice-2months-18bugs.csv',\n",
       " 'data/Kagdi-etal_2011/koffice-1month-18bugs.csv',\n",
       " 'data/Kagdi-etal_2011/ArgoUML-23bugs-10dev.csv',\n",
       " 'data/Kagdi-etal_2011/koffice-4months-18bugs.csv',\n",
       " 'data/Kagdi-etal_2011/Eclipse3.3.2-14bugs.csv',\n",
       " 'data/Kagdi-etal_2011/Eclipse3.0-14bugs.csv',\n",
       " 'data/Kagdi-etal_2011/ArgoUML-15bugs-5dev.csv',\n",
       " 'data/Kagdi-etal_2011/Eclipse2.0-14bugs.csv',\n",
       " 'data/Kagdi-etal_2011/koffice-17days-18bugs.csv',\n",
       " 'data/Kagdi-etal_2011/koffice-allHistory-18bugs.csv']"
      ]
     },
     "execution_count": 3,
     "metadata": {},
     "output_type": "execute_result"
    }
   ],
   "source": [
    "kagdi = !find data -name \"*bugs*.csv\" | grep Kagdi | grep -v queries\n",
    "kagdi"
   ]
  },
  {
   "cell_type": "code",
   "execution_count": 4,
   "metadata": {
    "collapsed": false
   },
   "outputs": [
    {
     "data": {
      "text/plain": [
       "['data/Linares-Vasquez-etal_2012/argouml_benchmark.xls - ArgoUML.csv',\n",
       " 'data/Linares-Vasquez-etal_2012/jedit_benchmark.xls - JEdit.csv',\n",
       " 'data/Linares-Vasquez-etal_2012/mucommander_benchmark.xls - MuCommander.csv']"
      ]
     },
     "execution_count": 4,
     "metadata": {},
     "output_type": "execute_result"
    }
   ],
   "source": [
    "linares = !find data -name \"*.csv\" | grep \"Linares\" | grep \"benchmark\"\n",
    "linares"
   ]
  },
  {
   "cell_type": "code",
   "execution_count": 12,
   "metadata": {
    "collapsed": false,
    "scrolled": false
   },
   "outputs": [
    {
     "name": "stdout",
     "output_type": "stream",
     "text": [
      "New  koffice\n",
      "Adding to  koffice 18\n",
      "New  argouml\n",
      "Adding to  koffice 18\n",
      "New  eclipse3.3.2\n",
      "New  eclipse3.0\n",
      "Adding to  argouml 15\n",
      "New  eclipse2.0\n",
      "Adding to  koffice 18\n",
      "Adding to  koffice 18\n"
     ]
    }
   ],
   "source": [
    "allp = dict()\n",
    "\n",
    "for each in kagdi:\n",
    "    parts = each.lower().split('/')[-1].split('-')\n",
    "    if len(parts) == 3:\n",
    "        project, period, _ = parts\n",
    "    else:\n",
    "        project, _ = parts\n",
    "        period = 'all'\n",
    "            \n",
    "    data = pandas.read_csv(each)\n",
    "    try:\n",
    "        z = data[[\"BUG #\", \"Developer that fixed the Bug\"]]\n",
    "    except:\n",
    "        z = data[[\"Bug #\", \"Developer that fixed the Bug\"]]\n",
    "    z.columns = [\"id\", \"developer\"]\n",
    "    z = z.drop_duplicates()\n",
    "    if project in allp:\n",
    "        print(\"Adding to \", project, len(z))\n",
    "        allp[project] = allp[project].append(z)\n",
    "    else:\n",
    "        print(\"New \", project)\n",
    "        allp[project] = z"
   ]
  },
  {
   "cell_type": "code",
   "execution_count": 13,
   "metadata": {
    "collapsed": false
   },
   "outputs": [],
   "source": [
    "for each, data in allp.items():\n",
    "\n",
    "    if each == 'argouml':\n",
    "        ver = '0.26.2'\n",
    "    elif each == 'koffice':\n",
    "        ver = '2.0'\n",
    "    elif 'eclipse' in each:\n",
    "        ver = each.split('eclipse')[-1]\n",
    "        each = 'eclipse'\n",
    "    src.utils.mkdir(os.path.join('data', each, 'v' + ver))\n",
    "    data.drop_duplicates().to_csv(os.path.join('data', each, 'v' + ver, 'goldset.csv'), index=False)"
   ]
  },
  {
   "cell_type": "code",
   "execution_count": 14,
   "metadata": {
    "collapsed": false
   },
   "outputs": [
    {
     "name": "stdout",
     "output_type": "stream",
     "text": [
      "New  argouml\n",
      "New  jedit\n",
      "New  mucommander\n"
     ]
    }
   ],
   "source": [
    "allp = dict()\n",
    "\n",
    "for each in linares:\n",
    "    project = each.lower().split('/')[-1].split('-')[1].strip().split('.csv')[0]\n",
    "    data = pandas.read_csv(each)\n",
    "    z = data[[\"Issue Number\", \"Commit Developer ID\"]]\n",
    "    z.columns = [\"id\", \"developer\"]\n",
    "    z = z.drop_duplicates()\n",
    "    if project in allp:\n",
    "        print(\"Adding to \", project, len(z))\n",
    "        allp[project] = allp[project].append(z)\n",
    "    else:\n",
    "        print(\"New \", project)\n",
    "        allp[project] = z"
   ]
  },
  {
   "cell_type": "code",
   "execution_count": 15,
   "metadata": {
    "collapsed": false
   },
   "outputs": [],
   "source": [
    "for each, data in allp.items():\n",
    "    src.utils.mkdir('data/' + each)\n",
    "    if each == 'argouml':\n",
    "        ver = '0.22'\n",
    "    elif each == 'jedit':\n",
    "        ver = '4.3'\n",
    "    elif each == 'mucommander':\n",
    "        ver = '0.8.5'\n",
    "    src.utils.mkdir(os.path.join('data', each, 'v' + ver))\n",
    "    data.drop_duplicates().to_csv(os.path.join('data', each, 'v' + ver, 'goldset.csv'), index=False)"
   ]
  },
  {
   "cell_type": "code",
   "execution_count": null,
   "metadata": {
    "collapsed": false
   },
   "outputs": [],
   "source": [
    "allp['argouml']"
   ]
  },
  {
   "cell_type": "code",
   "execution_count": null,
   "metadata": {
    "collapsed": true
   },
   "outputs": [],
   "source": []
  }
 ],
 "metadata": {
  "kernelspec": {
   "display_name": "Python 2",
   "language": "python",
   "name": "python2"
  },
  "language_info": {
   "codemirror_mode": {
    "name": "ipython",
    "version": 2
   },
   "file_extension": ".py",
   "mimetype": "text/x-python",
   "name": "python",
   "nbconvert_exporter": "python",
   "pygments_lexer": "ipython2",
   "version": "2.7.9"
  }
 },
 "nbformat": 4,
 "nbformat_minor": 0
}
