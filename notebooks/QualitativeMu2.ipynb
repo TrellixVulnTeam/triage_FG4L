{
 "cells": [
  {
   "cell_type": "code",
   "execution_count": 18,
   "metadata": {
    "collapsed": false
   },
   "outputs": [
    {
     "name": "stdout",
     "output_type": "stream",
     "text": [
      "Using matplotlib backend: agg\n",
      "Populating the interactive namespace from numpy and matplotlib\n"
     ]
    }
   ],
   "source": [
    "%pylab\n",
    "from __future__ import print_function\n",
    "\n",
    "%matplotlib inline"
   ]
  },
  {
   "cell_type": "code",
   "execution_count": 19,
   "metadata": {
    "collapsed": true
   },
   "outputs": [],
   "source": [
    "from __future__ import print_function\n",
    "\n",
    "import csv\n",
    "from src import main, utils\n",
    "import sys\n",
    "\n",
    "projects = main.load_projects()\n",
    "interests = ['argouml v0.26.2 method', 'mucommander v0.8.5 method']\n",
    "\n",
    "p = list()\n",
    "for project in projects:\n",
    "    if ' '.join([project.name, project.version, project.level]) not in interests:\n",
    "        continue\n",
    "    p.append(project)"
   ]
  },
  {
   "cell_type": "code",
   "execution_count": 20,
   "metadata": {
    "collapsed": false
   },
   "outputs": [
    {
     "name": "stdout",
     "output_type": "stream",
     "text": [
      "Project(name='mucommander', printable_name='muCommander', version='v0.8.5', level='method', ref='refs/tags/release_0_8_5', alpha=None, eta=None, passes=5, iterations=1000, num_topics=500, src_url='http://trac.mucommander.com/changeset/3794/tags/release_0_8_5?old_path=%2F&format=zip', data_path='data/mucommander/', full_path='data/mucommander/v0.8.5/', src_path='data/mucommander/v0.8.5/src')\n"
     ]
    }
   ],
   "source": [
    "project = p[1]\n",
    "print(project)\n",
    "repos = main.load_repos(project)\n",
    "goldsets = main.load_goldsets(project)\n",
    "\n",
    "queries = main.create_queries(project)\n",
    "snapshot = main.create_release_corpus(project, repos)\n",
    "changesets = main.create_corpus(project, repos, main.ChangesetCorpus, use_level=False)\n",
    "\n",
    "snapshot_lda, _  = main.create_lda_model(project, snapshot, None, \"Release\", use_level=True)\n",
    "changeset_lda, _ = main.create_lda_model(project, changesets, None, \"Changeset\", use_level=False)\n",
    "\n",
    "snapshot_ranks = main.read_ranks(project, \"release\")\n",
    "changeset_ranks = main.read_ranks(project, \"changeset\")\n",
    "snapshot_frms = dict( (y,(x,z)) for x,y,z in main.get_frms(goldsets, snapshot_ranks))\n",
    "changeset_frms = dict( (y,(x,z)) for x,y,z in  main.get_frms(goldsets, changeset_ranks))"
   ]
  },
  {
   "cell_type": "code",
   "execution_count": 21,
   "metadata": {
    "collapsed": false
   },
   "outputs": [],
   "source": [
    "q = dict()\n",
    "for query, topics in main.get_topics(snapshot_lda, queries, by_ids=[\"37\", \"142\"], full=False):\n",
    "    topics = sorted(topics, key=lambda x: x[1], reverse=True)\n",
    "    q[query[0]] = topics\n",
    "\n",
    "qc = dict()\n",
    "for query, topics in main.get_topics(changeset_lda, queries, by_ids=[\"37\", \"142\"], full=False):\n",
    "    topics = sorted(topics, key=lambda x: x[1], reverse=True)\n",
    "    qc[query[0]] = topics\n",
    "    \n",
    "\n",
    "q37 = dict()\n",
    "for query, topics in main.get_topics(snapshot_lda, snapshot, by_ids=[snapshot_frms[37][1]], full=False):\n",
    "    topics = sorted(topics, key=lambda x: x[1], reverse=True)\n",
    "    q37[query[0]] = topics\n",
    "\n",
    "\n",
    "qc37 = dict()\n",
    "for query, topics in main.get_topics(changeset_lda, snapshot, by_ids=[changeset_frms[37][1]], full=False):\n",
    "    topics = sorted(topics, key=lambda x: x[1], reverse=True)\n",
    "    qc37[query[0]] = topics\n",
    "\n",
    "q142 = dict()\n",
    "for query, topics in main.get_topics(snapshot_lda, snapshot, by_ids=[snapshot_frms[142][1]], full=False):\n",
    "    topics = sorted(topics, key=lambda x: x[1], reverse=True)\n",
    "    q142[query[0]] = topics\n",
    "\n",
    "\n",
    "qc142 = dict()\n",
    "for query, topics in main.get_topics(changeset_lda, snapshot, by_ids=[changeset_frms[142][1]], full=False):\n",
    "    topics = sorted(topics, key=lambda x: x[1], reverse=True)\n",
    "    qc142[query[0]] = topics"
   ]
  },
  {
   "cell_type": "code",
   "execution_count": 22,
   "metadata": {
    "collapsed": false
   },
   "outputs": [],
   "source": [
    "def printer(q, model):\n",
    "    for qid, topics in q.items():\n",
    "        print(qid, \"num topics:\", len(topics))\n",
    "        for t in topics:\n",
    "                print(\"    \", t[0], t[1])\n",
    "                for word in model.show_topic(t[0]):\n",
    "                    if word[0]>= 0.05:\n",
    "                        print(\"        {0} {1}\".format(*word))"
   ]
  },
  {
   "cell_type": "markdown",
   "metadata": {},
   "source": [
    "# Ranks"
   ]
  },
  {
   "cell_type": "code",
   "execution_count": 23,
   "metadata": {
    "collapsed": false
   },
   "outputs": [
    {
     "name": "stdout",
     "output_type": "stream",
     "text": [
      "(1, 'com.mucommander.ui.main.menu.MainMenuBar.MainMenuBar(MainFrame)')\n",
      "(303, 'com.mucommander.ui.action.impl.MinimizeWindowAction.performAction()')\n",
      "(536, 'com.mucommander.ui.main.DrivePopupButton.RefreshDriveNamesAndIcons.run()')\n",
      "(1, 'com.mucommander.ui.main.DrivePopupButton.RefreshDriveNamesAndIcons.run()')\n"
     ]
    }
   ],
   "source": [
    "print(snapshot_frms[37])\n",
    "print(changeset_frms[37])\n",
    "print(snapshot_frms[142])\n",
    "print(changeset_frms[142])"
   ]
  },
  {
   "cell_type": "code",
   "execution_count": 28,
   "metadata": {
    "collapsed": false
   },
   "outputs": [
    {
     "name": "stdout",
     "output_type": "stream",
     "text": [
      "com.mucommander.ui.action.impl.MaximizeWindowAction.MaximizeWindowAction(MainFrame,Hashtable)\r\n",
      "com.mucommander.ui.action.impl.MaximizeWindowAction.performAction()\r\n",
      "com.mucommander.ui.action.impl.MinimizeWindowAction.MinimizeWindowAction(MainFrame,Hashtable)\r\n",
      "com.mucommander.ui.action.impl.MinimizeWindowAction.performAction()\r\n",
      "com.mucommander.ui.main.menu.MainMenuBar.MainMenuBar(MainFrame)\r\n"
     ]
    }
   ],
   "source": [
    "!cat data/mucommander/v0.8.5/goldsets/method/37.txt"
   ]
  },
  {
   "cell_type": "code",
   "execution_count": 29,
   "metadata": {
    "collapsed": false
   },
   "outputs": [
    {
     "name": "stdout",
     "output_type": "stream",
     "text": [
      "com.mucommander.ui.main.DrivePopupButton.getPopupMenu()\r\n",
      "com.mucommander.ui.main.DrivePopupButton.RefreshDriveNamesAndIcons.run()\r\n"
     ]
    }
   ],
   "source": [
    "!cat data/mucommander/v0.8.5/goldsets/method/142.txt"
   ]
  },
  {
   "cell_type": "markdown",
   "metadata": {},
   "source": [
    "# Query words (preprocessed)"
   ]
  },
  {
   "cell_type": "code",
   "execution_count": 24,
   "metadata": {
    "collapsed": false
   },
   "outputs": [],
   "source": [
    "### queries.metadata = True\n",
    "qs = list(filter(lambda x: x[1][0] in [\"37\", \"142\"], queries))\n",
    "\n",
    "for query, metadata in qs:\n",
    "    doc = sorted(query, key=lambda x: x[1], reverse=True)\n",
    "    words = [ ( freq, queries.id2word[wid] ) for wid, freq in doc ]\n",
    "    print(metadata[0], \"num words:\", len(words))\n",
    "    for word in words:\n",
    "        print(\"        {1} ({0})\".format(*word))"
   ]
  },
  {
   "cell_type": "markdown",
   "metadata": {},
   "source": [
    "# Query topics"
   ]
  },
  {
   "cell_type": "code",
   "execution_count": 25,
   "metadata": {
    "collapsed": false
   },
   "outputs": [
    {
     "name": "stdout",
     "output_type": "stream",
     "text": [
      "Snapshot\n",
      "142 num topics: 13\n",
      "     486 0.200052424627\n",
      "        0.225407162454 java\n",
      "        0.0667966365939 version\n",
      "     129 0.152348084849\n",
      "        0.0836325698865 drive\n",
      "     197 0.0949708839446\n",
      "        0.335195301674 component\n",
      "        0.151223520535 popup\n",
      "        0.0779508804518 components\n",
      "        0.0601404620095 toolbar\n",
      "        0.0592926573171 visible\n",
      "     433 0.0872638102855\n",
      "        0.0705262831764 folder\n",
      "        0.0665606935383 file\n",
      "     365 0.0868366789345\n",
      "        0.182387091563 names\n",
      "        0.0747587839647 flush\n",
      "        0.0729320850512 col\n",
      "        0.0527956478951 tbl\n",
      "     254 0.0799372199553\n",
      "        0.146340723821 file\n",
      "        0.0801011442289 icons\n",
      "        0.0597020707911 system\n",
      "        0.0544446927419 code\n",
      "     75 0.0684727683493\n",
      "        0.213794985131 main\n",
      "        0.210647551907 frame\n",
      "        0.143999368226 action\n",
      "        0.143530673908 properties\n",
      "        0.0719823945338 object\n",
      "        0.0715686215803 string\n",
      "        0.070676652891 hashtable\n",
      "     397 0.0486127656029\n",
      "        0.24105348728 button\n",
      "     472 0.0467388000592\n",
      "        0.11642986966 com\n",
      "        0.11617010148 mucommander\n",
      "        0.100808034392 file\n",
      "        0.0705926721623 action\n",
      "        0.0540481217409 impl\n",
      "     168 0.0329568419545\n",
      "        0.108815228728 lock\n",
      "        0.0809228134008 locked\n",
      "        0.0610304981422 exception\n",
      "        0.0561012886858 returns\n",
      "     315 0.0315678826248\n",
      "        0.268987406066 thread\n",
      "        0.0687648436667 interrupted\n",
      "        0.0573349765927 flatten\n",
      "     385 0.0247943755324\n",
      "        0.120548772933 archive\n",
      "        0.0825208321572 language\n",
      "     133 0.0216913657193\n",
      "        0.146466639523 run\n",
      "        0.106935582251 root\n",
      "        0.0881405899222 file\n",
      "        0.0584709143142 set\n",
      "37 num topics: 8\n",
      "     280 0.28018723305\n",
      "        0.223045774075 menu\n",
      "        0.0922777930903 item\n",
      "        0.0766523325734 action\n",
      "        0.0556715337321 mnemonic\n",
      "        0.0534673653631 add\n",
      "     21 0.155949417791\n",
      "        0.0887366858441 mac\n",
      "        0.0883327991072 href\n",
      "        0.084118802622 comp\n",
      "        0.0704069827643 data\n",
      "        0.0661999626631 string\n",
      "        0.0655555700563 component\n",
      "        0.0590099396551 length\n",
      "     442 0.141483490874\n",
      "        0.0575465278475 file\n",
      "        0.0504697109713 args\n",
      "     192 0.11032643544\n",
      "        0.0989449484066 command\n",
      "        0.0858638338666 file\n",
      "        0.0571865437272 image\n",
      "        0.0538139100016 zoom\n",
      "     483 0.0943409094178\n",
      "        0.418102915379 window\n",
      "     31 0.0639773027298\n",
      "        0.299975998009 close\n",
      "        0.0924149427924 exception\n",
      "        0.0655813913721 window\n",
      "        0.0563983718872 recall\n",
      "     345 0.0516126355569\n",
      "        0.192667805245 standard\n",
      "        0.0863086947733 code\n",
      "        0.0502528207036 vmsf\n",
      "     492 0.0474559084731\n",
      "        0.405491679193 action\n",
      "        0.0963417533379 descriptor\n",
      "        0.0667780136219 register\n",
      "        0.0570310172299 factory\n",
      "\n",
      "Changeset\n",
      "142 num topics: 6\n",
      "     392 0.554182832766\n",
      "        0.127821431271 popup\n",
      "        0.0687645755657 drive\n",
      "        0.0681926443664 menu\n",
      "        0.0653349157637 volumes\n",
      "        0.056665808695 extended\n",
      "        0.0506841836654 name\n",
      "     498 0.232092916911\n",
      "        0.254498373515 java\n",
      "        0.138406186078 awt\n",
      "        0.123127139731 javax\n",
      "        0.113667460008 swing\n",
      "        0.076517022349 event\n",
      "        0.0573646151563 util\n",
      "     230 0.0657026580669\n",
      "        0.182948589521 button\n",
      "        0.071220824774 icon\n",
      "     265 0.063169742044\n",
      "        0.113010920159 exception\n",
      "        0.104664089314 token\n",
      "        0.0732569416298 read\n",
      "        0.0593919983333 file\n",
      "     342 0.0306960529912\n",
      "        0.13280234228 java\n",
      "        0.0949459257292 jar\n",
      "        0.0651130180385 jcifs\n",
      "        0.0585877136027 stubs\n",
      "        0.0559186799659 osx\n",
      "        0.0535961400055 compiled\n",
      "        0.0531566388022 cifs\n",
      "        0.0526944762231 eawt\n",
      "     400 0.0282187029634\n",
      "        0.242370612448 locale\n",
      "        0.163081303964 string\n",
      "        0.055583693534 equals\n",
      "37 num topics: 9\n",
      "     384 0.239666994697\n",
      "        0.0718084188726 dialog\n",
      "        0.0548479182608 rename\n",
      "        0.0537649172634 batch\n",
      "        0.0511609860499 action\n",
      "     197 0.158004862457\n",
      "        0.308495661939 menu\n",
      "        0.181199801946 item\n",
      "        0.0880851347601 add\n",
      "        0.0603725913346 bookmarks\n",
      "     69 0.146764836686\n",
      "        0.173719160635 version\n",
      "        0.0896130822056 java\n",
      "        0.0841533575052 family\n",
      "        0.0789837995046 mac\n",
      "        0.0636027708019 windows\n",
      "        0.0598492326121 starts\n",
      "     489 0.10379659121\n",
      "        0.189649351607 image\n",
      "        0.119280188387 zoom\n",
      "        0.0699836118552 table\n",
      "        0.0691270331437 factor\n",
      "     76 0.0870177726898\n",
      "        0.150192555606 window\n",
      "        0.135369924693 focus\n",
      "        0.11055842372 frame\n",
      "        0.109025490271 main\n",
      "        0.0561341944788 request\n",
      "     89 0.0576161412711\n",
      "        0.078923839402 application\n",
      "     106 0.0539485935636\n",
      "        0.0883001239405 file\n",
      "        0.0731894320248 code\n",
      "     138 0.0523271327189\n",
      "        0.127466604678 added\n",
      "        0.097290962247 edit\n",
      "     13 0.0491728641793\n",
      "        0.28015154053 output\n",
      "        0.0985202039166 sets\n",
      "        0.0940799075007 standard\n",
      "        0.0833517455525 debug\n",
      "        0.0726743964374 messages\n"
     ]
    }
   ],
   "source": [
    "print(\"Snapshot\")\n",
    "printer(q, snapshot_lda)\n",
    "\n",
    "print()\n",
    "print(\"Changeset\")\n",
    "printer(qc, changeset_lda)"
   ]
  },
  {
   "cell_type": "markdown",
   "metadata": {},
   "source": [
    "# Issue 37 top method topics"
   ]
  },
  {
   "cell_type": "code",
   "execution_count": 26,
   "metadata": {
    "collapsed": false
   },
   "outputs": [
    {
     "name": "stdout",
     "output_type": "stream",
     "text": [
      "Snapshot\n",
      "com.mucommander.ui.main.menu.MainMenuBar.MainMenuBar(MainFrame) num topics: 2\n",
      "     280 0.895544528469\n",
      "        0.223045774075 menu\n",
      "        0.0922777930903 item\n",
      "        0.0766523325734 action\n",
      "        0.0556715337321 mnemonic\n",
      "        0.0534673653631 add\n",
      "     492 0.104051366312\n",
      "        0.405491679193 action\n",
      "        0.0963417533379 descriptor\n",
      "        0.0667780136219 register\n",
      "        0.0570310172299 factory\n",
      "\n",
      "Changeset\n",
      "com.mucommander.ui.action.impl.MinimizeWindowAction.performAction() num topics: 3\n",
      "     76 0.410880046182\n",
      "        0.150192555606 window\n",
      "        0.135369924693 focus\n",
      "        0.11055842372 frame\n",
      "        0.109025490271 main\n",
      "        0.0561341944788 request\n",
      "     472 0.240844841356\n",
      "        0.137835824374 events\n",
      "        0.137234417418 mode\n",
      "        0.121380838756 thread\n",
      "        0.0711481876135 action\n",
      "        0.062647338085 code\n",
      "        0.0575339382588 separate\n",
      "     392 0.237830668017\n",
      "        0.127821431271 popup\n",
      "        0.0687645755657 drive\n",
      "        0.0681926443664 menu\n",
      "        0.0653349157637 volumes\n",
      "        0.056665808695 extended\n",
      "        0.0506841836654 name\n"
     ]
    }
   ],
   "source": [
    "print(\"Snapshot\")\n",
    "printer(q37, snapshot_lda)\n",
    "\n",
    "print()\n",
    "print(\"Changeset\")\n",
    "printer(qc37, changeset_lda)"
   ]
  },
  {
   "cell_type": "markdown",
   "metadata": {},
   "source": [
    "# Issue 142  top method topics"
   ]
  },
  {
   "cell_type": "code",
   "execution_count": 27,
   "metadata": {
    "collapsed": false
   },
   "outputs": [
    {
     "name": "stdout",
     "output_type": "stream",
     "text": [
      "\n",
      "Snapshot\n",
      "com.mucommander.ui.main.DrivePopupButton.RefreshDriveNamesAndIcons.run() num topics: 12\n",
      "     111 0.359103937365\n",
      "        0.392817788721 icon\n",
      "        0.143936260431 file\n",
      "     175 0.115558589428\n",
      "        0.647603479703 name\n",
      "        0.12470674585 string\n",
      "     254 0.101636680774\n",
      "        0.146340723821 file\n",
      "        0.0801011442289 icons\n",
      "        0.0597020707911 system\n",
      "        0.0544446927419 code\n",
      "     235 0.0851824939718\n",
      "     362 0.0807915321745\n",
      "        0.130791849747 focus\n",
      "        0.0797450868169 request\n",
      "        0.067886389463 component\n",
      "        0.0567156286773 swing\n",
      "     479 0.0692591462939\n",
      "        0.194917588524 volumes\n",
      "        0.0928604624774 volume\n",
      "        0.0650423475007 file\n",
      "     280 0.0600650649487\n",
      "        0.223045774075 menu\n",
      "        0.0922777930903 item\n",
      "        0.0766523325734 action\n",
      "        0.0556715337321 mnemonic\n",
      "        0.0534673653631 add\n",
      "     129 0.0521915888343\n",
      "        0.0836325698865 drive\n",
      "     330 0.0169814388655\n",
      "        0.16194433017 items\n",
      "        0.0698979458364 completer\n",
      "        0.0619325162772 field\n",
      "     244 0.0143981536032\n",
      "        0.0577365073415 disk\n",
      "     365 0.0142993914126\n",
      "        0.182387091563 names\n",
      "        0.0747587839647 flush\n",
      "        0.0729320850512 col\n",
      "        0.0527956478951 tbl\n",
      "     270 0.0106937990844\n",
      "        0.112277294282 file\n",
      "        0.100782996539 simple\n",
      "        0.0992534136413 attributes\n",
      "        0.0882915046154 attrs\n",
      "        0.0610759905351 equals\n",
      "\n",
      "Changeset\n",
      "com.mucommander.ui.main.DrivePopupButton.RefreshDriveNamesAndIcons.run() num topics: 3\n",
      "     392 0.910431074559\n",
      "        0.127821431271 popup\n",
      "        0.0687645755657 drive\n",
      "        0.0681926443664 menu\n",
      "        0.0653349157637 volumes\n",
      "        0.056665808695 extended\n",
      "        0.0506841836654 name\n",
      "     7 0.0640272778848\n",
      "        0.402932576847 icon\n",
      "        0.0678853110107 set\n",
      "        0.055033889188 manager\n",
      "        0.0501018197733 file\n",
      "     358 0.0144276249768\n",
      "        0.116535560733 file\n",
      "        0.0976123504672 editor\n",
      "        0.0932814869926 frame\n",
      "        0.0578793202131 viewer\n"
     ]
    }
   ],
   "source": [
    "print()\n",
    "print(\"Snapshot\")\n",
    "printer(q142, snapshot_lda)\n",
    "\n",
    "print()\n",
    "print(\"Changeset\")\n",
    "printer(qc142, changeset_lda)"
   ]
  },
  {
   "cell_type": "code",
   "execution_count": null,
   "metadata": {
    "collapsed": true
   },
   "outputs": [],
   "source": []
  }
 ],
 "metadata": {
  "kernelspec": {
   "display_name": "Python 2",
   "language": "python",
   "name": "python2"
  },
  "language_info": {
   "codemirror_mode": {
    "name": "ipython",
    "version": 2
   },
   "file_extension": ".py",
   "mimetype": "text/x-python",
   "name": "python",
   "nbconvert_exporter": "python",
   "pygments_lexer": "ipython2",
   "version": "2.7.9"
  }
 },
 "nbformat": 4,
 "nbformat_minor": 0
}
