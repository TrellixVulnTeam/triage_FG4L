{
 "cells": [
  {
   "cell_type": "code",
   "execution_count": 1,
   "metadata": {
    "collapsed": false
   },
   "outputs": [
    {
     "name": "stdout",
     "output_type": "stream",
     "text": [
      "Populating the interactive namespace from numpy and matplotlib\n"
     ]
    }
   ],
   "source": [
    "% pylab inline"
   ]
  },
  {
   "cell_type": "code",
   "execution_count": 2,
   "metadata": {
    "collapsed": false
   },
   "outputs": [],
   "source": [
    "from __future__ import print_function\n",
    "import os.path\n",
    "import pandas\n",
    "import src\n",
    "import sklearn\n",
    "import os"
   ]
  },
  {
   "cell_type": "code",
   "execution_count": 3,
   "metadata": {
    "collapsed": true
   },
   "outputs": [],
   "source": [
    "os.chdir('..')"
   ]
  },
  {
   "cell_type": "code",
   "execution_count": 4,
   "metadata": {
    "collapsed": false
   },
   "outputs": [
    {
     "data": {
      "text/plain": [
       "[Project(name='tika', printable_name='Tika v1.8', version='v1.8', ref='refs/tags/1.8', data_path='data/tika/', full_path='data/tika/v1.8/', src_path='data/tika/v1.8/src/', source=['release', 'changeset', 'temporal'], model_config_string=u'batch-0.002-0.5-0.002-1000-1000-500-1.0-1', force=False, level='file', changeset_config_string=u'True-True-False-True', model='lda', model_config={'passes': 1, 'eta': 0.002, 'num_topics': 500, 'iterations': 1000, 'decay': 0.5, 'algorithm': 'batch', 'alpha': 0.002, 'offset': 1.0, 'max_bound_iterations': 1000}, changeset_config={'include_removals': True, 'include_context': True, 'include_message': False, 'include_additions': True}),\n",
       " Project(name='pig', printable_name='Pig v0.14.0', version='v0.14.0', ref='refs/tags/release-0.14.0', data_path='data/pig/', full_path='data/pig/v0.14.0/', src_path='data/pig/v0.14.0/src/', source=['release', 'changeset', 'temporal'], model_config_string=u'batch-0.002-0.5-0.002-1000-1000-500-1.0-1', force=False, level='file', changeset_config_string=u'True-True-False-True', model='lda', model_config={'passes': 1, 'eta': 0.002, 'num_topics': 500, 'iterations': 1000, 'decay': 0.5, 'algorithm': 'batch', 'alpha': 0.002, 'offset': 1.0, 'max_bound_iterations': 1000}, changeset_config={'include_removals': True, 'include_context': True, 'include_message': False, 'include_additions': True}),\n",
       " Project(name='bookkeeper', printable_name='BookKeeper v4.3.0', version='v4.3.0', ref='refs/tags/release-4.3.0', data_path='data/bookkeeper/', full_path='data/bookkeeper/v4.3.0/', src_path='data/bookkeeper/v4.3.0/src/', source=['release', 'changeset', 'temporal'], model_config_string=u'batch-0.002-0.5-0.002-1000-1000-500-1.0-1', force=False, level='file', changeset_config_string=u'True-True-False-True', model='lda', model_config={'passes': 1, 'eta': 0.002, 'num_topics': 500, 'iterations': 1000, 'decay': 0.5, 'algorithm': 'batch', 'alpha': 0.002, 'offset': 1.0, 'max_bound_iterations': 1000}, changeset_config={'include_removals': True, 'include_context': True, 'include_message': False, 'include_additions': True}),\n",
       " Project(name='openjpa', printable_name='OpenJPA v2.3.0', version='v2.3.0', ref='refs/tags/2.3.0', data_path='data/openjpa/', full_path='data/openjpa/v2.3.0/', src_path='data/openjpa/v2.3.0/src/', source=['release', 'changeset', 'temporal'], model_config_string=u'batch-0.002-0.5-0.002-1000-1000-500-1.0-1', force=False, level='file', changeset_config_string=u'True-True-False-True', model='lda', model_config={'passes': 1, 'eta': 0.002, 'num_topics': 500, 'iterations': 1000, 'decay': 0.5, 'algorithm': 'batch', 'alpha': 0.002, 'offset': 1.0, 'max_bound_iterations': 1000}, changeset_config={'include_removals': True, 'include_context': True, 'include_message': False, 'include_additions': True}),\n",
       " Project(name='mahout', printable_name='Mahout v0.10.0', version='v0.10.0', ref='refs/tags/mahout-0.10', data_path='data/mahout/', full_path='data/mahout/v0.10.0/', src_path='data/mahout/v0.10.0/src/', source=['release', 'changeset', 'temporal'], model_config_string=u'batch-0.002-0.5-0.002-1000-1000-500-1.0-1', force=False, level='file', changeset_config_string=u'True-True-False-True', model='lda', model_config={'passes': 1, 'eta': 0.002, 'num_topics': 500, 'iterations': 1000, 'decay': 0.5, 'algorithm': 'batch', 'alpha': 0.002, 'offset': 1.0, 'max_bound_iterations': 1000}, changeset_config={'include_removals': True, 'include_context': True, 'include_message': False, 'include_additions': True}),\n",
       " Project(name='zookeeper', printable_name='ZooKeeper v3.5.0', version='v3.5.0', ref='refs/tags/release-3.5.0', data_path='data/zookeeper/', full_path='data/zookeeper/v3.5.0/', src_path='data/zookeeper/v3.5.0/src/', source=['release', 'changeset', 'temporal'], model_config_string=u'batch-0.002-0.5-0.002-1000-1000-500-1.0-1', force=False, level='file', changeset_config_string=u'True-True-False-True', model='lda', model_config={'passes': 1, 'eta': 0.002, 'num_topics': 500, 'iterations': 1000, 'decay': 0.5, 'algorithm': 'batch', 'alpha': 0.002, 'offset': 1.0, 'max_bound_iterations': 1000}, changeset_config={'include_removals': True, 'include_context': True, 'include_message': False, 'include_additions': True})]"
      ]
     },
     "execution_count": 4,
     "metadata": {},
     "output_type": "execute_result"
    }
   ],
   "source": [
    "args = dict(level='file', force=False, model='lda', source=['release', 'changeset', 'temporal'])\n",
    "\n",
    "model_config, model_config_string = src.main.get_default_model_config(args)\n",
    "args.update({'model_config': model_config, 'model_config_string': model_config_string})\n",
    "\n",
    "changeset_config, changeset_config_string = src.main.get_default_changeset_config()\n",
    "args.update({'changeset_config': changeset_config, 'changeset_config_string': changeset_config_string})\n",
    "\n",
    "projects = src.common.load_projects(args)\n",
    "projects"
   ]
  },
  {
   "cell_type": "code",
   "execution_count": 5,
   "metadata": {
    "collapsed": false
   },
   "outputs": [],
   "source": [
    "data = dict()\n",
    "csvs = dict()\n",
    "for project in projects:\n",
    "    ownership = src.ownership.read_ownership(project)\n",
    "    devs = set()\n",
    "    for v in ownership.values():\n",
    "        devs.update(v.keys())\n",
    "        \n",
    "    goldsets = pandas.read_csv(os.path.join(project.full_path, 'goldset-info.csv'))\n",
    "    changes = pandas.read_csv(os.path.join(project.full_path, 'changeset-info.csv'))\n",
    "    release = pandas.read_csv(os.path.join(project.full_path, 'releasefile-info.csv'))\n",
    "    queries = pandas.read_csv(os.path.join(project.full_path, 'queries-info.csv'))\n",
    "    info = {\"Developers\": len(devs), \"Changesets\": len(changes), \"Files\": len(release), \"Issues\": len(queries)}\n",
    "    data[project.printable_name] = info\n",
    "    \n",
    "    csvs[project.name] = {'g': goldsets, 'c': changes, 'r': release, 'q': queries, 'd': devs, 'o': ownership}\n"
   ]
  },
  {
   "cell_type": "code",
   "execution_count": 6,
   "metadata": {
    "collapsed": false
   },
   "outputs": [],
   "source": [
    "df = pandas.DataFrame(data)"
   ]
  },
  {
   "cell_type": "code",
   "execution_count": 7,
   "metadata": {
    "collapsed": false
   },
   "outputs": [],
   "source": [
    "df['Total'] = df.T.sum()\n",
    "df.columns = df.columns.str.title()"
   ]
  },
  {
   "cell_type": "code",
   "execution_count": 8,
   "metadata": {
    "collapsed": false
   },
   "outputs": [
    {
     "data": {
      "text/html": [
       "<div>\n",
       "<table border=\"1\" class=\"dataframe\">\n",
       "  <thead>\n",
       "    <tr style=\"text-align: right;\">\n",
       "      <th></th>\n",
       "      <th>Changesets</th>\n",
       "      <th>Developers</th>\n",
       "      <th>Files</th>\n",
       "      <th>Issues</th>\n",
       "    </tr>\n",
       "  </thead>\n",
       "  <tbody>\n",
       "    <tr>\n",
       "      <th>Bookkeeper V4.3.0</th>\n",
       "      <td>574</td>\n",
       "      <td>5</td>\n",
       "      <td>843</td>\n",
       "      <td>164</td>\n",
       "    </tr>\n",
       "    <tr>\n",
       "      <th>Mahout V0.10.0</th>\n",
       "      <td>3283</td>\n",
       "      <td>38</td>\n",
       "      <td>1556</td>\n",
       "      <td>133</td>\n",
       "    </tr>\n",
       "    <tr>\n",
       "      <th>Openjpa V2.3.0</th>\n",
       "      <td>4616</td>\n",
       "      <td>26</td>\n",
       "      <td>4968</td>\n",
       "      <td>137</td>\n",
       "    </tr>\n",
       "    <tr>\n",
       "      <th>Pig V0.14.0</th>\n",
       "      <td>2584</td>\n",
       "      <td>28</td>\n",
       "      <td>2098</td>\n",
       "      <td>222</td>\n",
       "    </tr>\n",
       "    <tr>\n",
       "      <th>Tika V1.8</th>\n",
       "      <td>2469</td>\n",
       "      <td>26</td>\n",
       "      <td>954</td>\n",
       "      <td>40</td>\n",
       "    </tr>\n",
       "    <tr>\n",
       "      <th>Zookeeper V3.5.0</th>\n",
       "      <td>1245</td>\n",
       "      <td>16</td>\n",
       "      <td>927</td>\n",
       "      <td>359</td>\n",
       "    </tr>\n",
       "    <tr>\n",
       "      <th>Total</th>\n",
       "      <td>14771</td>\n",
       "      <td>139</td>\n",
       "      <td>11346</td>\n",
       "      <td>1055</td>\n",
       "    </tr>\n",
       "  </tbody>\n",
       "</table>\n",
       "</div>"
      ],
      "text/plain": [
       "                   Changesets  Developers  Files  Issues\n",
       "Bookkeeper V4.3.0         574           5    843     164\n",
       "Mahout V0.10.0           3283          38   1556     133\n",
       "Openjpa V2.3.0           4616          26   4968     137\n",
       "Pig V0.14.0              2584          28   2098     222\n",
       "Tika V1.8                2469          26    954      40\n",
       "Zookeeper V3.5.0         1245          16    927     359\n",
       "Total                   14771         139  11346    1055"
      ]
     },
     "execution_count": 8,
     "metadata": {},
     "output_type": "execute_result"
    }
   ],
   "source": [
    "df.T"
   ]
  },
  {
   "cell_type": "code",
   "execution_count": 9,
   "metadata": {
    "collapsed": false
   },
   "outputs": [],
   "source": [
    "with open('paper/tables/subjects.tex', 'w') as f:\n",
    "    latex = df.T.to_latex(columns=[\"Developers\", \"Files\", \"Changesets\", \"Issues\"]).splitlines()\n",
    "    latex.insert(-3, '\\\\midrule')\n",
    "    f.write('\\n'.join(latex))"
   ]
  },
  {
   "cell_type": "code",
   "execution_count": 10,
   "metadata": {
    "collapsed": false,
    "scrolled": true
   },
   "outputs": [
    {
     "name": "stdout",
     "output_type": "stream",
     "text": [
      "tika q total  72\n",
      "tika q unique 35\n",
      "\n",
      "tika c total  900\n",
      "tika c unique 130\n",
      "\n",
      "tika r total  658\n",
      "tika r unique 187\n",
      "********************\n",
      "pig q total  79\n",
      "pig q unique 28\n",
      "\n",
      "pig c total  3785\n",
      "pig c unique 159\n",
      "\n",
      "pig r total  746\n",
      "pig r unique 117\n",
      "********************\n",
      "bookkeeper q total  42\n",
      "bookkeeper q unique 21\n",
      "\n",
      "bookkeeper c total  4127\n",
      "bookkeeper c unique 206\n",
      "\n",
      "bookkeeper r total  663\n",
      "bookkeeper r unique 122\n",
      "********************\n",
      "openjpa q total  113\n",
      "openjpa q unique 41\n",
      "\n",
      "openjpa c total  1567\n",
      "openjpa c unique 102\n",
      "\n",
      "openjpa r total  402\n",
      "openjpa r unique 96\n",
      "********************\n",
      "mahout q total  54\n",
      "mahout q unique 28\n",
      "\n",
      "mahout c total  2502\n",
      "mahout c unique 142\n",
      "\n",
      "mahout r total  614\n",
      "mahout r unique 114\n",
      "********************\n",
      "zookeeper q total  79\n",
      "zookeeper q unique 33\n",
      "\n",
      "zookeeper c total  2258\n",
      "zookeeper c unique 287\n",
      "\n",
      "zookeeper r total  622\n",
      "zookeeper r unique 139\n",
      "********************\n"
     ]
    }
   ],
   "source": [
    "for project in projects:\n",
    "    print(project.name, 'q total ',  csvs[project.name]['q'].total_words.sum() / len(csvs[project.name]['q']))\n",
    "    print(project.name, 'q unique', csvs[project.name]['q'].unique_words.sum() / len(csvs[project.name]['q']))\n",
    "    print()\n",
    "    print(project.name, 'c total ',  csvs[project.name]['c'].total_words.sum() / len(csvs[project.name]['c']))\n",
    "    print(project.name, 'c unique', csvs[project.name]['c'].unique_words.sum() / len(csvs[project.name]['c']))\n",
    "    print()\n",
    "    print(project.name, 'r total ',  csvs[project.name]['r'].total_words.sum() / len(csvs[project.name]['r']))\n",
    "    print(project.name, 'r unique', csvs[project.name]['r'].unique_words.sum() / len(csvs[project.name]['r']))\n",
    "    print('********************')"
   ]
  },
  {
   "cell_type": "code",
   "execution_count": 11,
   "metadata": {
    "collapsed": false
   },
   "outputs": [],
   "source": [
    "pigo = pandas.DataFrame(csvs['pig']['o'])\n",
    "jpao = pandas.DataFrame(csvs['openjpa']['o'])\n",
    "booko = pandas.DataFrame(csvs['bookkeeper']['o'])"
   ]
  },
  {
   "cell_type": "code",
   "execution_count": 12,
   "metadata": {
    "collapsed": false
   },
   "outputs": [
    {
     "data": {
      "text/plain": [
       "<matplotlib.axes._subplots.AxesSubplot at 0x7f8a6e1eedd0>"
      ]
     },
     "execution_count": 12,
     "metadata": {},
     "output_type": "execute_result"
    },
    {
     "data": {
      "image/png": "[encoded data removed]",
      "text/plain": [
       "<matplotlib.figure.Figure at 0x7f8a7cde9790>"
      ]
     },
     "metadata": {},
     "output_type": "display_data"
    }
   ],
   "source": [
    "pigo.T.describe().T.sort(\"count\")[\"count\"].plot()"
   ]
  },
  {
   "cell_type": "code",
   "execution_count": 13,
   "metadata": {
    "collapsed": false
   },
   "outputs": [
    {
     "data": {
      "text/plain": [
       "<matplotlib.axes._subplots.AxesSubplot at 0x7f8a6c48c3d0>"
      ]
     },
     "execution_count": 13,
     "metadata": {},
     "output_type": "execute_result"
    },
    {
     "data": {
      "image/png": "[encoded data removed]",
      "text/plain": [
       "<matplotlib.figure.Figure at 0x7f8a6c497b90>"
      ]
     },
     "metadata": {},
     "output_type": "display_data"
    }
   ],
   "source": [
    "jpao.T.describe().T.sort(\"count\")[\"count\"].plot()"
   ]
  },
  {
   "cell_type": "code",
   "execution_count": 14,
   "metadata": {
    "collapsed": false
   },
   "outputs": [
    {
     "data": {
      "text/plain": [
       "<matplotlib.axes._subplots.AxesSubplot at 0x7f8a6c544910>"
      ]
     },
     "execution_count": 14,
     "metadata": {},
     "output_type": "execute_result"
    },
    {
     "data": {
      "image/png": "[encoded data removed]",
      "text/plain": [
       "<matplotlib.figure.Figure at 0x7f8a6c2bc850>"
      ]
     },
     "metadata": {},
     "output_type": "display_data"
    }
   ],
   "source": [
    "booko.T.describe().T.sort(\"count\")[\"count\"].plot()"
   ]
  },
  {
   "cell_type": "code",
   "execution_count": 15,
   "metadata": {
    "collapsed": false,
    "scrolled": true
   },
   "outputs": [],
   "source": [
    "def plot_ownership(data):\n",
    "    m = dict()\n",
    "    for each in data:\n",
    "        z = data[each].argmax()\n",
    "        if z not in m:\n",
    "            m[z] = list()\n",
    "        m[z].append(each)\n",
    "\n",
    "    zz = pandas.Series([len(v) for v in m.values()], index=[k for k in m])\n",
    "    zz.sort()\n",
    "    zz.plot()\n",
    "    return zz\n"
   ]
  },
  {
   "cell_type": "code",
   "execution_count": 16,
   "metadata": {
    "collapsed": false
   },
   "outputs": [
    {
     "data": {
      "text/plain": [
       "Uma_Maheswara_Rao_G_<umamahesh@apache.org>    0.000552\n",
       "Flavio_Paiva_Junqueira_<fpj@apache.org>       0.082320\n",
       "Benjamin_Reed_<breed@apache.org>              0.093370\n",
       "Ivan_Brendan_Kelly_<ivank@apache.org>         0.333149\n",
       "Sijie_Guo_<sijie@apache.org>                  0.490608\n",
       "dtype: float64"
      ]
     },
     "execution_count": 16,
     "metadata": {},
     "output_type": "execute_result"
    },
    {
     "data": {
      "image/png": "[encoded data removed]",
      "text/plain": [
       "<matplotlib.figure.Figure at 0x7f8a6c238750>"
      ]
     },
     "metadata": {},
     "output_type": "display_data"
    }
   ],
   "source": [
    "zz = plot_ownership(booko)\n",
    "zz / zz.sum()"
   ]
  },
  {
   "cell_type": "code",
   "execution_count": 17,
   "metadata": {
    "collapsed": false
   },
   "outputs": [
    {
     "data": {
      "text/plain": [
       "Jeff_Zhang_<zjffdu@apache.org>                      0.000293\n",
       "Giridharan_Kesavan_<gkesavan@apache.org>            0.000586\n",
       "Raghu_Angadi_<rangadi@apache.org>                   0.000586\n",
       "Prashant_Kommireddi_<prkommireddi@apache.org>       0.000586\n",
       "Koji_Noguchi_<knoguchi@apache.org>                  0.000879\n",
       "Gianmarco_De_Francisci_Morales_<gdfm@apache.org>    0.000879\n",
       "Xuefu_Zhang_<xuefu@apache.org>                      0.000879\n",
       "Ashutosh_Chauhan_<hashutosh@apache.org>             0.001758\n",
       "William_W._Graham_Jr_<billgraham@apache.org>        0.003223\n",
       "Aniket_Namadeo_Mokashi_<aniket486@apache.org>       0.004981\n",
       "Julien_Le_Dem_<julien@apache.org>                   0.005860\n",
       "Jonathan_Coveney_<jcoveney@apache.org>              0.007618\n",
       "Richard_Ding_<rding@apache.org>                     0.012892\n",
       "Santhosh_Muthur_Srinivasan_<sms@apache.org>         0.016994\n",
       "Pradeep_Kamath_<pradeepkth@apache.org>              0.019045\n",
       "Yan_Zhou_<yanz@apache.org>                          0.024319\n",
       "Dmitriy_V._Ryaboy_<dvryaboy@apache.org>             0.026370\n",
       "Thejas_Madhavan_Nair_<thejas@apache.org>            0.027249\n",
       "Rohini_Palaniswamy_<rohini@apache.org>              0.033109\n",
       "Olga_Natkovich_<olga@apache.org>                    0.034574\n",
       "Cheolsoo_Park_<cheolsoo@apache.org>                 0.128919\n",
       "Jianyong_Dai_<daijy@apache.org>                     0.284207\n",
       "Alan_Gates_<gates@apache.org>                       0.364196\n",
       "dtype: float64"
      ]
     },
     "execution_count": 17,
     "metadata": {},
     "output_type": "execute_result"
    },
    {
     "data": {
      "image/png": "[encoded data removed]",
      "text/plain": [
       "<matplotlib.figure.Figure at 0x7f8a6bb25f50>"
      ]
     },
     "metadata": {},
     "output_type": "display_data"
    }
   ],
   "source": [
    "zz = plot_ownership(pigo)\n",
    "zz / zz.sum()"
   ]
  },
  {
   "cell_type": "code",
   "execution_count": 18,
   "metadata": {
    "collapsed": false
   },
   "outputs": [
    {
     "data": {
      "text/plain": [
       "Tim_McConnell_<mcconne@apache.org>          0.000160\n",
       "Stephen_Kim_<skim@apache.org>               0.000160\n",
       "Geir_Magnusson_Jr_<geirm@apache.org>        0.000160\n",
       "Craig_Russell_<clr@apache.org>              0.001602\n",
       "Jody_Grassel_<jgrassel@apache.org>          0.001762\n",
       "Milosz_Tylenda_<mtylenda@apache.org>        0.002563\n",
       "David_Ezzio_<dezzio@apache.org>             0.002723\n",
       "Heath_Thomann_<hthomann@apache.org>         0.004486\n",
       "David_J._Wisneski_<wisneskid@apache.org>    0.004646\n",
       "Dianne_E._Richards_<dianner@apache.org>     0.006248\n",
       "Kevin_W._Sutter_<kwsutter@apache.org>       0.008010\n",
       "Mark_Struberg_<struberg@apache.org>         0.019225\n",
       "Richard_G._Curtis_<curtisr7@apache.org>     0.021628\n",
       "A._Abram_White_<awhite@apache.org>          0.026113\n",
       "Albert_Lee_<allee8285@apache.org>           0.029157\n",
       "Catalina_Wei_<fancy@apache.org>             0.036687\n",
       "Fay_Wang_<faywang@apache.org>               0.048542\n",
       "Marc_Prud'hommeaux_<mprudhom@apache.org>    0.069369\n",
       "Jeremy_Bauer_<jrbauer@apache.org>           0.077059\n",
       "Donald_Woods_<dwoods@apache.org>            0.081865\n",
       "Pinaki_Poddar_<ppoddar@apache.org>          0.111983\n",
       "Michael_Dick_<mikedd@apache.org>            0.218039\n",
       "Patrick_Linskey_<pcl@apache.org>            0.227812\n",
       "dtype: float64"
      ]
     },
     "execution_count": 18,
     "metadata": {},
     "output_type": "execute_result"
    },
    {
     "data": {
      "image/png": "[encoded data removed]",
      "text/plain": [
       "<matplotlib.figure.Figure at 0x7f8a6ba449d0>"
      ]
     },
     "metadata": {},
     "output_type": "display_data"
    }
   ],
   "source": [
    "zz = plot_ownership(jpao)\n",
    "zz / zz.sum()"
   ]
  },
  {
   "cell_type": "code",
   "execution_count": 19,
   "metadata": {
    "collapsed": false,
    "scrolled": true
   },
   "outputs": [
    {
     "name": "stdout",
     "output_type": "stream",
     "text": [
      "40 40 40\n",
      "222 222 222\n",
      "164 164 164\n",
      "137 137 137\n",
      "133 133 133\n",
      "359 359 359\n"
     ]
    }
   ],
   "source": [
    "datarank = dict()\n",
    "for project in projects:\n",
    "    results = src.triage.run_experiment(project) \n",
    "    x, y = src.common.merge_first_rels(results['changeset'], results['release'], ignore=True)\n",
    "    _, z = src.common.merge_first_rels(results['changeset'], results['temporal'], ignore=True)\n",
    "    print(len(x), len(y), len(z))\n",
    "    datarank[project.printable_name] = {'Activity': pandas.Series(x),\n",
    "                                        'Location': pandas.Series(y),\n",
    "                                        'Temporal': pandas.Series(z)}\n",
    "\n",
    "panel  = pandas.Panel(datarank)"
   ]
  },
  {
   "cell_type": "code",
   "execution_count": 27,
   "metadata": {
    "collapsed": false,
    "scrolled": true
   },
   "outputs": [
    {
     "data": {
      "image/png": "[encoded data removed]",
      "text/plain": [
       "<matplotlib.figure.Figure at 0x7f8a69c2b8d0>"
      ]
     },
     "metadata": {},
     "output_type": "display_data"
    },
    {
     "data": {
      "image/png": "[encoded data removed]",
      "text/plain": [
       "<matplotlib.figure.Figure at 0x7f8a69b8f050>"
      ]
     },
     "metadata": {},
     "output_type": "display_data"
    },
    {
     "data": {
      "image/png": "[encoded data removed]",
      "text/plain": [
       "<matplotlib.figure.Figure at 0x7f8a69b7e750>"
      ]
     },
     "metadata": {},
     "output_type": "display_data"
    },
    {
     "data": {
      "image/png": "[encoded data removed]",
      "text/plain": [
       "<matplotlib.figure.Figure at 0x7f8a6b0686d0>"
      ]
     },
     "metadata": {},
     "output_type": "display_data"
    },
    {
     "data": {
      "image/png": "[encoded data removed]",
      "text/plain": [
       "<matplotlib.figure.Figure at 0x7f8a6999f650>"
      ]
     },
     "metadata": {},
     "output_type": "display_data"
    },
    {
     "data": {
      "image/png": "[encoded data removed]",
      "text/plain": [
       "<matplotlib.figure.Figure at 0x7f8a6b011910>"
      ]
     },
     "metadata": {},
     "output_type": "display_data"
    }
   ],
   "source": [
    "for each in panel:\n",
    "    panel[each].plot(kind='box', title=each)\n",
    "    plt.tight_layout()\n",
    "    plt.savefig('paper/figures/%s.pdf' % each.replace(' ', '_'), dpi=300)"
   ]
  },
  {
   "cell_type": "code",
   "execution_count": 21,
   "metadata": {
    "collapsed": false
   },
   "outputs": [
    {
     "data": {
      "text/plain": [
       "<class 'pandas.core.panel.Panel'>\n",
       "Dimensions: 6 (items) x 359 (major_axis) x 3 (minor_axis)\n",
       "Items axis: BookKeeper v4.3.0 to ZooKeeper v3.5.0\n",
       "Major_axis axis: 0 to 358\n",
       "Minor_axis axis: Activity to Temporal"
      ]
     },
     "execution_count": 21,
     "metadata": {},
     "output_type": "execute_result"
    }
   ],
   "source": [
    "panel"
   ]
  },
  {
   "cell_type": "code",
   "execution_count": 22,
   "metadata": {
    "collapsed": false
   },
   "outputs": [],
   "source": [
    "df2 = pandas.DataFrame(columns=[\"Activity\", \"Location\"])\n",
    "for each in panel:\n",
    "    df2 = df2.append(panel[each], ignore_index=True)"
   ]
  },
  {
   "cell_type": "code",
   "execution_count": 23,
   "metadata": {
    "collapsed": false,
    "scrolled": true
   },
   "outputs": [
    {
     "data": {
      "text/html": [
       "<div>\n",
       "<table border=\"1\" class=\"dataframe\">\n",
       "  <thead>\n",
       "    <tr style=\"text-align: right;\">\n",
       "      <th></th>\n",
       "      <th>Activity</th>\n",
       "      <th>Location</th>\n",
       "      <th>Temporal</th>\n",
       "    </tr>\n",
       "  </thead>\n",
       "  <tbody>\n",
       "    <tr>\n",
       "      <th>0</th>\n",
       "      <td>3</td>\n",
       "      <td>1</td>\n",
       "      <td>2</td>\n",
       "    </tr>\n",
       "    <tr>\n",
       "      <th>1</th>\n",
       "      <td>1</td>\n",
       "      <td>1</td>\n",
       "      <td>1</td>\n",
       "    </tr>\n",
       "    <tr>\n",
       "      <th>2</th>\n",
       "      <td>1</td>\n",
       "      <td>2</td>\n",
       "      <td>1</td>\n",
       "    </tr>\n",
       "    <tr>\n",
       "      <th>3</th>\n",
       "      <td>3</td>\n",
       "      <td>1</td>\n",
       "      <td>3</td>\n",
       "    </tr>\n",
       "    <tr>\n",
       "      <th>4</th>\n",
       "      <td>1</td>\n",
       "      <td>1</td>\n",
       "      <td>1</td>\n",
       "    </tr>\n",
       "    <tr>\n",
       "      <th>5</th>\n",
       "      <td>1</td>\n",
       "      <td>1</td>\n",
       "      <td>2</td>\n",
       "    </tr>\n",
       "    <tr>\n",
       "      <th>6</th>\n",
       "      <td>1</td>\n",
       "      <td>2</td>\n",
       "      <td>1</td>\n",
       "    </tr>\n",
       "    <tr>\n",
       "      <th>7</th>\n",
       "      <td>1</td>\n",
       "      <td>2</td>\n",
       "      <td>1</td>\n",
       "    </tr>\n",
       "    <tr>\n",
       "      <th>8</th>\n",
       "      <td>1</td>\n",
       "      <td>1</td>\n",
       "      <td>2</td>\n",
       "    </tr>\n",
       "    <tr>\n",
       "      <th>9</th>\n",
       "      <td>3</td>\n",
       "      <td>1</td>\n",
       "      <td>3</td>\n",
       "    </tr>\n",
       "    <tr>\n",
       "      <th>10</th>\n",
       "      <td>3</td>\n",
       "      <td>1</td>\n",
       "      <td>1</td>\n",
       "    </tr>\n",
       "    <tr>\n",
       "      <th>11</th>\n",
       "      <td>4</td>\n",
       "      <td>2</td>\n",
       "      <td>2</td>\n",
       "    </tr>\n",
       "    <tr>\n",
       "      <th>12</th>\n",
       "      <td>3</td>\n",
       "      <td>1</td>\n",
       "      <td>3</td>\n",
       "    </tr>\n",
       "    <tr>\n",
       "      <th>13</th>\n",
       "      <td>1</td>\n",
       "      <td>1</td>\n",
       "      <td>1</td>\n",
       "    </tr>\n",
       "    <tr>\n",
       "      <th>14</th>\n",
       "      <td>1</td>\n",
       "      <td>3</td>\n",
       "      <td>1</td>\n",
       "    </tr>\n",
       "    <tr>\n",
       "      <th>15</th>\n",
       "      <td>1</td>\n",
       "      <td>1</td>\n",
       "      <td>1</td>\n",
       "    </tr>\n",
       "    <tr>\n",
       "      <th>16</th>\n",
       "      <td>1</td>\n",
       "      <td>2</td>\n",
       "      <td>1</td>\n",
       "    </tr>\n",
       "    <tr>\n",
       "      <th>17</th>\n",
       "      <td>1</td>\n",
       "      <td>2</td>\n",
       "      <td>1</td>\n",
       "    </tr>\n",
       "    <tr>\n",
       "      <th>18</th>\n",
       "      <td>1</td>\n",
       "      <td>1</td>\n",
       "      <td>3</td>\n",
       "    </tr>\n",
       "    <tr>\n",
       "      <th>19</th>\n",
       "      <td>1</td>\n",
       "      <td>2</td>\n",
       "      <td>4</td>\n",
       "    </tr>\n",
       "    <tr>\n",
       "      <th>20</th>\n",
       "      <td>5</td>\n",
       "      <td>2</td>\n",
       "      <td>1</td>\n",
       "    </tr>\n",
       "    <tr>\n",
       "      <th>21</th>\n",
       "      <td>1</td>\n",
       "      <td>2</td>\n",
       "      <td>2</td>\n",
       "    </tr>\n",
       "    <tr>\n",
       "      <th>22</th>\n",
       "      <td>2</td>\n",
       "      <td>1</td>\n",
       "      <td>3</td>\n",
       "    </tr>\n",
       "    <tr>\n",
       "      <th>23</th>\n",
       "      <td>1</td>\n",
       "      <td>2</td>\n",
       "      <td>2</td>\n",
       "    </tr>\n",
       "    <tr>\n",
       "      <th>24</th>\n",
       "      <td>3</td>\n",
       "      <td>1</td>\n",
       "      <td>3</td>\n",
       "    </tr>\n",
       "    <tr>\n",
       "      <th>25</th>\n",
       "      <td>4</td>\n",
       "      <td>1</td>\n",
       "      <td>3</td>\n",
       "    </tr>\n",
       "    <tr>\n",
       "      <th>26</th>\n",
       "      <td>3</td>\n",
       "      <td>3</td>\n",
       "      <td>3</td>\n",
       "    </tr>\n",
       "    <tr>\n",
       "      <th>27</th>\n",
       "      <td>1</td>\n",
       "      <td>1</td>\n",
       "      <td>1</td>\n",
       "    </tr>\n",
       "    <tr>\n",
       "      <th>28</th>\n",
       "      <td>3</td>\n",
       "      <td>1</td>\n",
       "      <td>2</td>\n",
       "    </tr>\n",
       "    <tr>\n",
       "      <th>29</th>\n",
       "      <td>4</td>\n",
       "      <td>2</td>\n",
       "      <td>3</td>\n",
       "    </tr>\n",
       "    <tr>\n",
       "      <th>...</th>\n",
       "      <td>...</td>\n",
       "      <td>...</td>\n",
       "      <td>...</td>\n",
       "    </tr>\n",
       "    <tr>\n",
       "      <th>2124</th>\n",
       "      <td>3</td>\n",
       "      <td>1</td>\n",
       "      <td>3</td>\n",
       "    </tr>\n",
       "    <tr>\n",
       "      <th>2125</th>\n",
       "      <td>7</td>\n",
       "      <td>3</td>\n",
       "      <td>3</td>\n",
       "    </tr>\n",
       "    <tr>\n",
       "      <th>2126</th>\n",
       "      <td>1</td>\n",
       "      <td>1</td>\n",
       "      <td>2</td>\n",
       "    </tr>\n",
       "    <tr>\n",
       "      <th>2127</th>\n",
       "      <td>7</td>\n",
       "      <td>3</td>\n",
       "      <td>6</td>\n",
       "    </tr>\n",
       "    <tr>\n",
       "      <th>2128</th>\n",
       "      <td>2</td>\n",
       "      <td>1</td>\n",
       "      <td>1</td>\n",
       "    </tr>\n",
       "    <tr>\n",
       "      <th>2129</th>\n",
       "      <td>2</td>\n",
       "      <td>2</td>\n",
       "      <td>4</td>\n",
       "    </tr>\n",
       "    <tr>\n",
       "      <th>2130</th>\n",
       "      <td>10</td>\n",
       "      <td>6</td>\n",
       "      <td>5</td>\n",
       "    </tr>\n",
       "    <tr>\n",
       "      <th>2131</th>\n",
       "      <td>7</td>\n",
       "      <td>2</td>\n",
       "      <td>5</td>\n",
       "    </tr>\n",
       "    <tr>\n",
       "      <th>2132</th>\n",
       "      <td>4</td>\n",
       "      <td>7</td>\n",
       "      <td>7</td>\n",
       "    </tr>\n",
       "    <tr>\n",
       "      <th>2133</th>\n",
       "      <td>4</td>\n",
       "      <td>4</td>\n",
       "      <td>4</td>\n",
       "    </tr>\n",
       "    <tr>\n",
       "      <th>2134</th>\n",
       "      <td>7</td>\n",
       "      <td>2</td>\n",
       "      <td>3</td>\n",
       "    </tr>\n",
       "    <tr>\n",
       "      <th>2135</th>\n",
       "      <td>2</td>\n",
       "      <td>1</td>\n",
       "      <td>1</td>\n",
       "    </tr>\n",
       "    <tr>\n",
       "      <th>2136</th>\n",
       "      <td>7</td>\n",
       "      <td>4</td>\n",
       "      <td>1</td>\n",
       "    </tr>\n",
       "    <tr>\n",
       "      <th>2137</th>\n",
       "      <td>4</td>\n",
       "      <td>2</td>\n",
       "      <td>8</td>\n",
       "    </tr>\n",
       "    <tr>\n",
       "      <th>2138</th>\n",
       "      <td>9</td>\n",
       "      <td>11</td>\n",
       "      <td>7</td>\n",
       "    </tr>\n",
       "    <tr>\n",
       "      <th>2139</th>\n",
       "      <td>4</td>\n",
       "      <td>8</td>\n",
       "      <td>1</td>\n",
       "    </tr>\n",
       "    <tr>\n",
       "      <th>2140</th>\n",
       "      <td>3</td>\n",
       "      <td>5</td>\n",
       "      <td>3</td>\n",
       "    </tr>\n",
       "    <tr>\n",
       "      <th>2141</th>\n",
       "      <td>4</td>\n",
       "      <td>11</td>\n",
       "      <td>12</td>\n",
       "    </tr>\n",
       "    <tr>\n",
       "      <th>2142</th>\n",
       "      <td>2</td>\n",
       "      <td>6</td>\n",
       "      <td>6</td>\n",
       "    </tr>\n",
       "    <tr>\n",
       "      <th>2143</th>\n",
       "      <td>6</td>\n",
       "      <td>1</td>\n",
       "      <td>5</td>\n",
       "    </tr>\n",
       "    <tr>\n",
       "      <th>2144</th>\n",
       "      <td>6</td>\n",
       "      <td>2</td>\n",
       "      <td>4</td>\n",
       "    </tr>\n",
       "    <tr>\n",
       "      <th>2145</th>\n",
       "      <td>7</td>\n",
       "      <td>1</td>\n",
       "      <td>6</td>\n",
       "    </tr>\n",
       "    <tr>\n",
       "      <th>2146</th>\n",
       "      <td>2</td>\n",
       "      <td>1</td>\n",
       "      <td>1</td>\n",
       "    </tr>\n",
       "    <tr>\n",
       "      <th>2147</th>\n",
       "      <td>2</td>\n",
       "      <td>3</td>\n",
       "      <td>3</td>\n",
       "    </tr>\n",
       "    <tr>\n",
       "      <th>2148</th>\n",
       "      <td>9</td>\n",
       "      <td>3</td>\n",
       "      <td>5</td>\n",
       "    </tr>\n",
       "    <tr>\n",
       "      <th>2149</th>\n",
       "      <td>1</td>\n",
       "      <td>1</td>\n",
       "      <td>1</td>\n",
       "    </tr>\n",
       "    <tr>\n",
       "      <th>2150</th>\n",
       "      <td>6</td>\n",
       "      <td>9</td>\n",
       "      <td>11</td>\n",
       "    </tr>\n",
       "    <tr>\n",
       "      <th>2151</th>\n",
       "      <td>8</td>\n",
       "      <td>4</td>\n",
       "      <td>8</td>\n",
       "    </tr>\n",
       "    <tr>\n",
       "      <th>2152</th>\n",
       "      <td>1</td>\n",
       "      <td>2</td>\n",
       "      <td>2</td>\n",
       "    </tr>\n",
       "    <tr>\n",
       "      <th>2153</th>\n",
       "      <td>1</td>\n",
       "      <td>5</td>\n",
       "      <td>1</td>\n",
       "    </tr>\n",
       "  </tbody>\n",
       "</table>\n",
       "<p>2154 rows × 3 columns</p>\n",
       "</div>"
      ],
      "text/plain": [
       "      Activity  Location  Temporal\n",
       "0            3         1         2\n",
       "1            1         1         1\n",
       "2            1         2         1\n",
       "3            3         1         3\n",
       "4            1         1         1\n",
       "5            1         1         2\n",
       "6            1         2         1\n",
       "7            1         2         1\n",
       "8            1         1         2\n",
       "9            3         1         3\n",
       "10           3         1         1\n",
       "11           4         2         2\n",
       "12           3         1         3\n",
       "13           1         1         1\n",
       "14           1         3         1\n",
       "15           1         1         1\n",
       "16           1         2         1\n",
       "17           1         2         1\n",
       "18           1         1         3\n",
       "19           1         2         4\n",
       "20           5         2         1\n",
       "21           1         2         2\n",
       "22           2         1         3\n",
       "23           1         2         2\n",
       "24           3         1         3\n",
       "25           4         1         3\n",
       "26           3         3         3\n",
       "27           1         1         1\n",
       "28           3         1         2\n",
       "29           4         2         3\n",
       "...        ...       ...       ...\n",
       "2124         3         1         3\n",
       "2125         7         3         3\n",
       "2126         1         1         2\n",
       "2127         7         3         6\n",
       "2128         2         1         1\n",
       "2129         2         2         4\n",
       "2130        10         6         5\n",
       "2131         7         2         5\n",
       "2132         4         7         7\n",
       "2133         4         4         4\n",
       "2134         7         2         3\n",
       "2135         2         1         1\n",
       "2136         7         4         1\n",
       "2137         4         2         8\n",
       "2138         9        11         7\n",
       "2139         4         8         1\n",
       "2140         3         5         3\n",
       "2141         4        11        12\n",
       "2142         2         6         6\n",
       "2143         6         1         5\n",
       "2144         6         2         4\n",
       "2145         7         1         6\n",
       "2146         2         1         1\n",
       "2147         2         3         3\n",
       "2148         9         3         5\n",
       "2149         1         1         1\n",
       "2150         6         9        11\n",
       "2151         8         4         8\n",
       "2152         1         2         2\n",
       "2153         1         5         1\n",
       "\n",
       "[2154 rows x 3 columns]"
      ]
     },
     "execution_count": 23,
     "metadata": {},
     "output_type": "execute_result"
    }
   ],
   "source": [
    "df2"
   ]
  },
  {
   "cell_type": "code",
   "execution_count": 26,
   "metadata": {
    "collapsed": false
   },
   "outputs": [
    {
     "data": {
      "image/png": "[encoded data removed]",
      "text/plain": [
       "<matplotlib.figure.Figure at 0x7f8a69a88250>"
      ]
     },
     "metadata": {},
     "output_type": "display_data"
    }
   ],
   "source": [
    "df2.plot(kind='box', figsize=(4,1.5), grid=False, vert=False)\n",
    "plt.tight_layout()\n",
    "plt.savefig('paper/figures/all_em.pdf', dpi=300)"
   ]
  },
  {
   "cell_type": "code",
   "execution_count": null,
   "metadata": {
    "collapsed": true
   },
   "outputs": [],
   "source": []
  },
  {
   "cell_type": "code",
   "execution_count": null,
   "metadata": {
    "collapsed": true
   },
   "outputs": [],
   "source": []
  }
 ],
 "metadata": {
  "kernelspec": {
   "display_name": "Python 2",
   "language": "python2",
   "name": "python2"
  },
  "language_info": {
   "codemirror_mode": {
    "name": "ipython",
    "version": 2
   },
   "file_extension": ".py",
   "mimetype": "text/x-python",
   "name": "python",
   "nbconvert_exporter": "python",
   "pygments_lexer": "ipython2",
   "version": "2.7.11"
  }
 },
 "nbformat": 4,
 "nbformat_minor": 0
}
