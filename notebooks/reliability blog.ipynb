{
 "cells": [
  {
   "cell_type": "code",
   "execution_count": 1,
   "metadata": {
    "collapsed": false
   },
   "outputs": [
    {
     "name": "stdout",
     "output_type": "stream",
     "text": [
      "Populating the interactive namespace from numpy and matplotlib\n"
     ]
    }
   ],
   "source": [
    "%pylab inline\n",
    "import logging\n",
    "logging.disable(logging.CRITICAL) # hush some notebook warnings"
   ]
  },
  {
   "cell_type": "markdown",
   "metadata": {},
   "source": [
    "# LDA, MRR, & YOU\n",
    "\n",
    "[Mean reciprocol rank][MRR] is a common way in which we evaluate search-based tools. It's fairly straightforward:\n",
    "\n",
    "$$\\text{MRR} = \\frac{1}{|Q|} \\sum_{i=1}^{|Q|} \\frac{1}{\\text{rank}_i}.$$\n",
    "\n",
    "Where $Q$ is the test query set and $rank_i$ the rank of the first relevant result. In the end, an MRR of 1.0 is perfect (i.e., the correct answer is always returned top of the list), and 0.0 a very hard thing to achieve (i.e., you would need to be returning an infinitely long list).\n",
    "\n",
    "[MRR]: https://en.wikipedia.org/wiki/Mean_reciprocal_rank\n",
    "\n",
    "Here's an MRR in Python:"
   ]
  },
  {
   "cell_type": "code",
   "execution_count": 2,
   "metadata": {
    "collapsed": true
   },
   "outputs": [],
   "source": [
    "import numpy\n",
    "\n",
    "def calculate_mrr(p):\n",
    "    return numpy.mean( 1.0/ numpy.array(p) )"
   ]
  },
  {
   "cell_type": "markdown",
   "metadata": {},
   "source": [
    "In general, this thing works fine for information retrieval (IR) tasks because $Q$ is sufficiently large or the IR technique is deterministic. However, when using a stochastic-based model, such as [latent Dirichlet allocation][LDA] (LDA), this is no longer as useful if $Q$ isn't large. \n",
    "\n",
    "In software engineering research, this is especially true: we typically have a small goldset to test on per software system. However, we also have a deeper, secondary problem when using LDA: we use a software system's artifacts (i.e., source code files). This means we are giving LDA a low number of documents.\n",
    "\n",
    "What I am to show you here is how to design better experiments that rely on LDA. Let's get started, shall we?\n",
    "\n",
    "[LDA]: https://en.wikipedia.org/wiki/Latent_Dirichlet_allocation"
   ]
  },
  {
   "cell_type": "code",
   "execution_count": 3,
   "metadata": {
    "collapsed": false
   },
   "outputs": [],
   "source": [
    "import pandas\n",
    "from gensim.corpora import MalletCorpus, Dictionary\n",
    "from gensim.models import LdaModel\n",
    "from gensim.similarities import MatrixSimilarity\n",
    "from gensim.matutils import cossim\n",
    "import src\n",
    "from operator import itemgetter\n",
    "import pickle"
   ]
  },
  {
   "cell_type": "markdown",
   "metadata": {},
   "source": [
    "First, let's load up some test data. I've already prepared the data necessary:"
   ]
  },
  {
   "cell_type": "code",
   "execution_count": 6,
   "metadata": {
    "collapsed": false
   },
   "outputs": [],
   "source": [
    "dictionary = Dictionary.load('data/tika/v1.8/SnapshotCorpus-file.dict.gz')\n",
    "corpus = MalletCorpus('data/tika/v1.8/SnapshotCorpus-file.mallet.gz', id2word=dictionary)\n",
    "queries = MalletCorpus('data/tika/v1.8/Queries.mallet.gz', id2word=dictionary)"
   ]
  },
  {
   "cell_type": "code",
   "execution_count": 7,
   "metadata": {
    "collapsed": false
   },
   "outputs": [
    {
     "data": {
      "text/plain": [
       "(54116, 954, 40)"
      ]
     },
     "execution_count": 7,
     "metadata": {},
     "output_type": "execute_result"
    }
   ],
   "source": [
    "len(dictionary), len(corpus), len(queries)"
   ]
  },
  {
   "cell_type": "markdown",
   "metadata": {},
   "source": [
    "So, my chosen subject system, Tika v1.8, has 54116 words in it's corpus of 954 files and I'd like to test it's feature location performance over 40 queries. Let's create an LDA model of this:"
   ]
  },
  {
   "cell_type": "code",
   "execution_count": 10,
   "metadata": {
    "collapsed": false
   },
   "outputs": [],
   "source": [
    "model = LdaModel(corpus=corpus, \n",
    "                 id2word=dictionary, \n",
    "                 decay=0,  # Kappa\n",
    "                 chunksize=len(corpus), # S\n",
    "                )\n",
    "                 #max_bound_iterations=100) # upper limit on batch VB algo"
   ]
  },
  {
   "cell_type": "markdown",
   "metadata": {},
   "source": [
    "And now, get an index for each document's topic distribution:"
   ]
  },
  {
   "cell_type": "code",
   "execution_count": 11,
   "metadata": {
    "collapsed": false
   },
   "outputs": [],
   "source": [
    "corpus_topics = model[corpus]\n",
    "sims = MatrixSimilarity(corpus_topics, num_features=model.num_topics)"
   ]
  },
  {
   "cell_type": "code",
   "execution_count": 21,
   "metadata": {
    "collapsed": false
   },
   "outputs": [
    {
     "data": {
      "text/plain": [
       "[(15, 0.65554831952887471), (93, 0.32267390269334517)]"
      ]
     },
     "execution_count": 21,
     "metadata": {},
     "output_type": "execute_result"
    }
   ],
   "source": [
    "corpus_topics[0]"
   ]
  },
  {
   "cell_type": "markdown",
   "metadata": {},
   "source": [
    "And the queries:"
   ]
  },
  {
   "cell_type": "code",
   "execution_count": 12,
   "metadata": {
    "collapsed": false
   },
   "outputs": [],
   "source": [
    "query_topics = model[queries]"
   ]
  },
  {
   "cell_type": "markdown",
   "metadata": {},
   "source": [
    "Next in our quest, we want to find out which documents are most similar to a query, say query #0:"
   ]
  },
  {
   "cell_type": "code",
   "execution_count": 13,
   "metadata": {
    "collapsed": false,
    "scrolled": true
   },
   "outputs": [
    {
     "data": {
      "text/plain": [
       "array([ 0.        ,  0.        ,  0.12220822,  0.        ,  0.        ,\n",
       "        0.00182169,  0.08989681,  0.00398154,  0.        ,  0.13306949,\n",
       "        0.12829663,  0.        ,  0.09444789,  0.        ,  0.6801942 ,\n",
       "        0.23366705,  0.01532279,  0.        ,  0.        ,  0.03612027,\n",
       "        0.        ,  0.        ,  0.48004574,  0.19207229,  0.        ,\n",
       "        0.        ,  0.        ,  0.        ,  0.        ,  0.        ,\n",
       "        0.        ,  0.59166849,  0.        ,  0.        ,  0.00761924,\n",
       "        0.        ,  0.01798488,  0.13820371,  0.28818786,  0.        ,\n",
       "        0.        ,  0.        ,  0.        ,  0.13872808,  0.        ,\n",
       "        0.        ,  0.        ,  0.20053922,  0.        ,  0.        ,\n",
       "        0.        ,  0.02372311,  0.00553298,  0.        ,  0.20953514,\n",
       "        0.2017334 ,  0.03606002,  0.        ,  0.23998713,  0.        ,\n",
       "        0.        ,  0.        ,  0.        ,  0.54270321,  0.68814778,\n",
       "        0.1936769 ,  0.        ,  0.        ,  0.06338858,  0.47939831,\n",
       "        0.1390838 ,  0.        ,  0.        ,  0.02471683,  0.68655568,\n",
       "        0.        ,  0.11263723,  0.28692552,  0.46165588,  0.        ,\n",
       "        0.66894412,  0.        ,  0.12230781,  0.        ,  0.        ,\n",
       "        0.33507851,  0.        ,  0.        ,  0.02855261,  0.        ,\n",
       "        0.        ,  0.08064795,  0.        ,  0.05549009,  0.04749855,\n",
       "        0.387923  ,  0.        ,  0.        ,  0.        ,  0.        ,\n",
       "        0.        ,  0.        ,  0.        ,  0.        ,  0.        ,\n",
       "        0.        ,  0.        ,  0.        ,  0.        ,  0.        ,\n",
       "        0.        ,  0.        ,  0.        ,  0.        ,  0.        ,\n",
       "        0.17456993,  0.        ,  0.        ,  0.        ,  0.        ,\n",
       "        0.        ,  0.        ,  0.        ,  0.        ,  0.        ,\n",
       "        0.        ,  0.        ,  0.        ,  0.        ,  0.        ,\n",
       "        0.        ,  0.        ,  0.08070809,  0.        ,  0.68814778,\n",
       "        0.05694531,  0.06447135,  0.        ,  0.        ,  0.606336  ,\n",
       "        0.68814778,  0.68528682,  0.65766847,  0.00635776,  0.33379367,\n",
       "        0.68079102,  0.68814778,  0.1048799 ,  0.6783967 ,  0.07852283,\n",
       "        0.        ,  0.        ,  0.13965079,  0.66277277,  0.08406962,\n",
       "        0.49308041,  0.06399139,  0.        ,  0.        ,  0.04749927,\n",
       "        0.        ,  0.        ,  0.        ,  0.08293983,  0.        ,\n",
       "        0.10442714,  0.68115419,  0.2616415 ,  0.        ,  0.        ,\n",
       "        0.        ,  0.01167352,  0.        ,  0.        ,  0.        ,\n",
       "        0.        ,  0.57483858,  0.        ,  0.        ,  0.        ,\n",
       "        0.        ,  0.        ,  0.        ,  0.13939928,  0.20408723,\n",
       "        0.07677855,  0.        ,  0.        ,  0.        ,  0.0172481 ,\n",
       "        0.61666459,  0.        ,  0.        ,  0.20403631,  0.        ,\n",
       "        0.00462507,  0.        ,  0.        ,  0.        ,  0.21381834,\n",
       "        0.        ,  0.        ,  0.13939928,  0.01985971,  0.        ,\n",
       "        0.0770433 ,  0.        ,  0.        ,  0.13899861,  0.        ,\n",
       "        0.        ,  0.67568666,  0.        ,  0.        ,  0.68609554,\n",
       "        0.15308429,  0.        ,  0.        ,  0.        ,  0.        ,\n",
       "        0.04486641,  0.        ,  0.        ,  0.        ,  0.        ,\n",
       "        0.        ,  0.        ,  0.20590758,  0.        ,  0.00556545,\n",
       "        0.        ,  0.        ,  0.07122753,  0.        ,  0.        ,\n",
       "        0.52271128,  0.        ,  0.        ,  0.3875784 ,  0.        ,\n",
       "        0.01654366,  0.15084139,  0.56414139,  0.41901863,  0.        ,\n",
       "        0.67089218,  0.64999723,  0.        ,  0.        ,  0.        ,\n",
       "        0.        ,  0.        ,  0.78463882,  0.02821896,  0.64832264,\n",
       "        0.46664953,  0.        ,  0.        ,  0.        ,  0.39136171,\n",
       "        0.68750685,  0.57586414,  0.        ,  0.68686455,  0.60264754,\n",
       "        0.64735568,  0.68814778,  0.        ,  0.50052911,  0.01943922,\n",
       "        0.68814778,  0.56001365,  0.10581874,  0.        ,  0.58696425,\n",
       "        0.69452494,  0.        ,  0.        ,  0.66074437,  0.68814778,\n",
       "        0.        ,  0.        ,  0.51249993,  0.476726  ,  0.12585035,\n",
       "        0.        ,  0.23314238,  0.        ,  0.        ,  0.58027518,\n",
       "        0.61501694,  0.02471186,  0.68578082,  0.15230896,  0.67653471,\n",
       "        0.01108848,  0.        ,  0.        ,  0.        ,  0.09197936,\n",
       "        0.        ,  0.23463348,  0.        ,  0.54583246,  0.        ,\n",
       "        0.20325033,  0.        ,  0.        ,  0.        ,  0.        ,\n",
       "        0.        ,  0.        ,  0.        ,  0.        ,  0.        ,\n",
       "        0.        ,  0.        ,  0.        ,  0.        ,  0.02408957,\n",
       "        0.0676986 ,  0.        ,  0.        ,  0.        ,  0.69359869,\n",
       "        0.        ,  0.        ,  0.        ,  0.        ,  0.        ,\n",
       "        0.        ,  0.        ,  0.        ,  0.        ,  0.        ,\n",
       "        0.        ,  0.        ,  0.        ,  0.        ,  0.        ,\n",
       "        0.        ,  0.        ,  0.        ,  0.30242985,  0.        ,\n",
       "        0.        ,  0.        ,  0.        ,  0.        ,  0.        ,\n",
       "        0.        ,  0.        ,  0.        ,  0.        ,  0.        ,\n",
       "        0.        ,  0.        ,  0.69923127,  0.13939928,  0.        ,\n",
       "        0.        ,  0.68749899,  0.68814778,  0.        ,  0.06788923,\n",
       "        0.58968455,  0.15999496,  0.14199889,  0.43998599,  0.26809913,\n",
       "        0.        ,  0.        ,  0.        ,  0.        ,  0.12518711,\n",
       "        0.15191542,  0.        ,  0.13939928,  0.        ,  0.        ,\n",
       "        0.3450453 ,  0.        ,  0.        ,  0.16031212,  0.        ,\n",
       "        0.        ,  0.09043351,  0.49208   ,  0.        ,  0.41162103,\n",
       "        0.13698387,  0.67976248,  0.39644685,  0.6538198 ,  0.        ,\n",
       "        0.        ,  0.47839323,  0.        ,  0.        ,  0.        ,\n",
       "        0.        ,  0.823596  ,  0.        ,  0.10481295,  0.01287913,\n",
       "        0.        ,  0.        ,  0.        ,  0.        ,  0.00182108,\n",
       "        0.        ,  0.        ,  0.        ,  0.        ,  0.        ,\n",
       "        0.        ,  0.        ,  0.        ,  0.        ,  0.        ,\n",
       "        0.        ,  0.        ,  0.        ,  0.66080379,  0.4466902 ,\n",
       "        0.        ,  0.        ,  0.        ,  0.        ,  0.        ,\n",
       "        0.        ,  0.        ,  0.        ,  0.28725028,  0.        ,\n",
       "        0.        ,  0.        ,  0.58864194,  0.        ,  0.        ,\n",
       "        0.34808078,  0.60873586,  0.        ,  0.        ,  0.        ,\n",
       "        0.00653659,  0.67915982,  0.        ,  0.        ,  0.        ,\n",
       "        0.01388575,  0.74002904,  0.08385108,  0.68814778,  0.66351265,\n",
       "        0.        ,  0.07743137,  0.00370257,  0.        ,  0.67233807,\n",
       "        0.01213332,  0.07709391,  0.        ,  0.65658188,  0.38330016,\n",
       "        0.        ,  0.        ,  0.        ,  0.        ,  0.        ,\n",
       "        0.5796029 ,  0.31105804,  0.55898207,  0.11084091,  0.1897414 ,\n",
       "        0.        ,  0.        ,  0.0416953 ,  0.26401967,  0.        ,\n",
       "        0.        ,  0.        ,  0.17399763,  0.08998705,  0.22969997,\n",
       "        0.        ,  0.04463255,  0.66580337,  0.41746521,  0.        ,\n",
       "        0.        ,  0.        ,  0.        ,  0.07316016,  0.        ,\n",
       "        0.68521959,  0.68787807,  0.01404674,  0.11826853,  0.0676035 ,\n",
       "        0.        ,  0.25160906,  0.66594964,  0.26117715,  0.        ,\n",
       "        0.        ,  0.        ,  0.        ,  0.        ,  0.03614682,\n",
       "        0.29683903,  0.33490631,  0.60453266,  0.47803804,  0.68814778,\n",
       "        0.        ,  0.10424984,  0.        ,  0.        ,  0.        ,\n",
       "        0.        ,  0.        ,  0.        ,  0.        ,  0.        ,\n",
       "        0.        ,  0.37522569,  0.        ,  0.19984439,  0.01906634,\n",
       "        0.68585527,  0.59358865,  0.        ,  0.        ,  0.10379326,\n",
       "        0.18454269,  0.02823887,  0.0199672 ,  0.15447856,  0.14774798,\n",
       "        0.        ,  0.        ,  0.        ,  0.20401092,  0.        ,\n",
       "        0.        ,  0.02897394,  0.00782652,  0.10772756,  0.        ,\n",
       "        0.        ,  0.04538747,  0.05818662,  0.1888781 ,  0.36903954,\n",
       "        0.12585035,  0.001884  ,  0.12585035,  0.        ,  0.31271082,\n",
       "        0.12585035,  0.68534565,  0.49420571,  0.62411088,  0.60713297,\n",
       "        0.        ,  0.11193132,  0.        ,  0.03195878,  0.        ,\n",
       "        0.        ,  0.        ,  0.68617386,  0.        ,  0.06289122,\n",
       "        0.        ,  0.01088698,  0.42871913,  0.01186361,  0.42170626,\n",
       "        0.        ,  0.        ,  0.        ,  0.01899957,  0.        ,\n",
       "        0.        ,  0.        ,  0.15494123,  0.01810088,  0.        ,\n",
       "        0.09963641,  0.01073414,  0.        ,  0.        ,  0.36951149,\n",
       "        0.        ,  0.65763068,  0.        ,  0.        ,  0.        ,\n",
       "        0.        ,  0.        ,  0.        ,  0.        ,  0.        ,\n",
       "        0.        ,  0.01375531,  0.        ,  0.        ,  0.01762066,\n",
       "        0.27730435,  0.        ,  0.        ,  0.        ,  0.        ,\n",
       "        0.        ,  0.        ,  0.21421771,  0.        ,  0.07688666,\n",
       "        0.        ,  0.02103809,  0.25918847,  0.20575863,  0.68277973,\n",
       "        0.02692255,  0.        ,  0.        ,  0.03099645,  0.        ,\n",
       "        0.50665724,  0.        ,  0.        ,  0.        ,  0.        ,\n",
       "        0.        ,  0.11784911,  0.0666151 ,  0.        ,  0.5995149 ,\n",
       "        0.        ,  0.07530601,  0.14319807,  0.68805563,  0.68814778,\n",
       "        0.53836268,  0.45169252,  0.33502054,  0.15642114,  0.0876033 ,\n",
       "        0.61448967,  0.48340461,  0.68814778,  0.66067946,  0.22500026,\n",
       "        0.21897039,  0.        ,  0.41431323,  0.48748693,  0.        ,\n",
       "        0.        ,  0.        ,  0.62605351,  0.        ,  0.68778771,\n",
       "        0.05567738,  0.        ,  0.64399904,  0.        ,  0.        ,\n",
       "        0.        ,  0.        ,  0.        ,  0.09674475,  0.        ,\n",
       "        0.        ,  0.00182157,  0.        ,  0.        ,  0.        ,\n",
       "        0.        ,  0.        ,  0.64403278,  0.        ,  0.54465449,\n",
       "        0.        ,  0.        ,  0.3094323 ,  0.        ,  0.05520049,\n",
       "        0.        ,  0.        ,  0.        ,  0.48496673,  0.11599752,\n",
       "        0.        ,  0.        ,  0.10769542,  0.        ,  0.        ,\n",
       "        0.        ,  0.        ,  0.        ,  0.        ,  0.36892977,\n",
       "        0.        ,  0.        ,  0.        ,  0.        ,  0.        ,\n",
       "        0.64890897,  0.20357738,  0.06820985,  0.01521707,  0.        ,\n",
       "        0.        ,  0.        ,  0.04426334,  0.        ,  0.        ,\n",
       "        0.        ,  0.        ,  0.        ,  0.        ,  0.        ,\n",
       "        0.67893696,  0.        ,  0.        ,  0.        ,  0.        ,\n",
       "        0.08004425,  0.42296973,  0.        ,  0.        ,  0.64289814,\n",
       "        0.24385457,  0.        ,  0.        ,  0.        ,  0.        ,\n",
       "        0.        ,  0.        ,  0.        ,  0.12585035,  0.        ,\n",
       "        0.        ,  0.02341819,  0.03650118,  0.        ,  0.        ,\n",
       "        0.        ,  0.        ,  0.        ,  0.        ,  0.        ,\n",
       "        0.        ,  0.        ,  0.11333378,  0.        ,  0.        ,\n",
       "        0.        ,  0.68814778,  0.        ,  0.        ,  0.        ,\n",
       "        0.        ,  0.        ,  0.        ,  0.11284865,  0.        ,\n",
       "        0.        ,  0.        ,  0.        ,  0.        ,  0.12922357,\n",
       "        0.        ,  0.        ,  0.12514716,  0.        ,  0.        ,\n",
       "        0.13783583,  0.        ,  0.        ,  0.0944934 ,  0.        ,\n",
       "        0.        ,  0.        ,  0.        ,  0.        ,  0.        ,\n",
       "        0.        ,  0.        ,  0.12367895,  0.        ,  0.03806364,\n",
       "        0.14302139,  0.14302139,  0.        ,  0.68609554,  0.        ,\n",
       "        0.        ,  0.00643972,  0.        ,  0.        ,  0.        ,\n",
       "        0.        ,  0.        ,  0.        ,  0.        ,  0.        ,\n",
       "        0.        ,  0.124901  ,  0.        ,  0.01214356,  0.        ,\n",
       "        0.        ,  0.        ,  0.        ,  0.        ,  0.        ,\n",
       "        0.        ,  0.        ,  0.11661787,  0.06944485,  0.        ,\n",
       "        0.        ,  0.        ,  0.        ,  0.        ,  0.03838783,\n",
       "        0.14302139,  0.        ,  0.        ,  0.        ,  0.        ,\n",
       "        0.        ,  0.        ,  0.08103272,  0.        ,  0.        ,\n",
       "        0.        ,  0.        ,  0.        ,  0.12052791,  0.        ,\n",
       "        0.        ,  0.14073494,  0.01474104,  0.        ,  0.        ,\n",
       "        0.        ,  0.        ,  0.        ,  0.01952166,  0.09330945,\n",
       "        0.08832498,  0.        ,  0.        ,  0.        ,  0.        ,\n",
       "        0.        ,  0.        ,  0.        ,  0.        ,  0.        ,\n",
       "        0.        ,  0.        ,  0.        ,  0.        ,  0.        ,\n",
       "        0.        ,  0.        ,  0.        ,  0.49096307,  0.15910286,\n",
       "        0.        ,  0.        ,  0.00275831,  0.18581685,  0.62470138,\n",
       "        0.        ,  0.        ,  0.48220319,  0.6864391 ,  0.54309094,\n",
       "        0.04052613,  0.62636036,  0.02310485,  0.24536653,  0.33429188,\n",
       "        0.        ,  0.        ,  0.01076352,  0.46572542,  0.4911356 ,\n",
       "        0.15451781,  0.19189773,  0.10333683,  0.18121481,  0.        ,\n",
       "        0.        ,  0.32528627,  0.        ,  0.        ,  0.        ,\n",
       "        0.        ,  0.32061443,  0.87267137,  0.42522466,  0.6811325 ,\n",
       "        0.73245907,  0.72972631,  0.65245605,  0.46502641,  0.58350903,\n",
       "        0.25680304,  0.97012758,  0.89125001,  0.        ,  0.        ,\n",
       "        0.07638451,  0.        ,  0.09522145,  0.        ,  0.0301858 ,\n",
       "        0.        ,  0.13939928,  0.13763113,  0.13939928,  0.03646897,\n",
       "        0.05481404,  0.        ,  0.        ,  0.04532535,  0.        ,\n",
       "        0.        ,  0.        ,  0.        ,  0.        ,  0.        ,\n",
       "        0.        ,  0.        ,  0.        ,  0.        ,  0.        ,\n",
       "        0.39142349,  0.        ,  0.        ,  0.        ,  0.        ,\n",
       "        0.        ,  0.        ,  0.        ,  0.        ], dtype=float32)"
      ]
     },
     "execution_count": 13,
     "metadata": {},
     "output_type": "execute_result"
    }
   ],
   "source": [
    "sims[query_topics[0]]"
   ]
  },
  {
   "cell_type": "markdown",
   "metadata": {},
   "source": [
    "Well, that's certainly *unreadable*."
   ]
  },
  {
   "cell_type": "code",
   "execution_count": 14,
   "metadata": {
    "collapsed": false,
    "scrolled": true
   },
   "outputs": [
    {
     "data": {
      "text/plain": [
       "[(214, 0.85729897),\n",
       " (798, 0.85729897),\n",
       " (292, 0.85690576),\n",
       " (561, 0.85636199),\n",
       " (324, 0.85628319),\n",
       " (252, 0.84514654),\n",
       " (245, 0.83830184),\n",
       " (80, 0.8358677),\n",
       " (153, 0.82815647),\n",
       " (423, 0.82569611),\n",
       " (278, 0.8256219),\n",
       " (596, 0.82173121),\n",
       " (393, 0.81696939),\n",
       " (190, 0.81657869),\n",
       " (254, 0.8101005)]"
      ]
     },
     "execution_count": 14,
     "metadata": {},
     "output_type": "execute_result"
    }
   ],
   "source": [
    "sorted(enumerate(sims[query_topics[0]]), key=itemgetter(1), reverse=True)[:15]"
   ]
  },
  {
   "cell_type": "markdown",
   "metadata": {},
   "source": [
    "Much better. So document #559 of the corpus is the one most similar to query #0. Neat.\n",
    "\n",
    "Here, if #559 was the correct document for query #0, it would have an $MRR=1.0$, because it is rank 1. However, if it were that #917 most related to the query, it would be $1/9$ because #917 is the 9th rank."
   ]
  },
  {
   "cell_type": "code",
   "execution_count": 15,
   "metadata": {
    "collapsed": false
   },
   "outputs": [],
   "source": [
    "with open('pickles/tikav1.8.pkl', 'rb') as f:\n",
    "    goldsets = pickle.load(f)"
   ]
  },
  {
   "cell_type": "code",
   "execution_count": 33,
   "metadata": {
    "collapsed": false
   },
   "outputs": [
    {
     "data": {
      "text/plain": [
       "{2, 917}"
      ]
     },
     "execution_count": 33,
     "metadata": {},
     "output_type": "execute_result"
    }
   ],
   "source": [
    "goldsets[0]"
   ]
  },
  {
   "cell_type": "code",
   "execution_count": 17,
   "metadata": {
    "collapsed": false
   },
   "outputs": [],
   "source": [
    "all_ranks = dict()\n",
    "for query_id, goldset in goldsets.items():\n",
    "    results = sims[query_topics[query_id]]\n",
    "    ranks = list()\n",
    "    for doc_id in goldset:\n",
    "        rank = sum(1 for x in results if x >= results[doc_id])\n",
    "        ranks.append((rank, doc_id, results[doc_id]))\n",
    "    all_ranks[query_id] = sorted(ranks)"
   ]
  },
  {
   "cell_type": "code",
   "execution_count": 18,
   "metadata": {
    "collapsed": false
   },
   "outputs": [
    {
     "data": {
      "text/plain": [
       "[(2, 917, 0.8891989), (250, 2, 0.12267691)]"
      ]
     },
     "execution_count": 18,
     "metadata": {},
     "output_type": "execute_result"
    }
   ],
   "source": [
    "all_ranks[0]"
   ]
  },
  {
   "cell_type": "code",
   "execution_count": 37,
   "metadata": {
    "collapsed": false
   },
   "outputs": [
    {
     "data": {
      "text/plain": [
       "[2,\n",
       " 20,\n",
       " 47,\n",
       " 1,\n",
       " 54,\n",
       " 2,\n",
       " 19,\n",
       " 20,\n",
       " 1,\n",
       " 9,\n",
       " 73,\n",
       " 35,\n",
       " 42,\n",
       " 954,\n",
       " 284,\n",
       " 250,\n",
       " 135,\n",
       " 954,\n",
       " 10,\n",
       " 135,\n",
       " 136,\n",
       " 142,\n",
       " 16,\n",
       " 83,\n",
       " 30,\n",
       " 3,\n",
       " 16,\n",
       " 84,\n",
       " 60,\n",
       " 29,\n",
       " 7,\n",
       " 2,\n",
       " 22,\n",
       " 14,\n",
       " 382,\n",
       " 65,\n",
       " 361,\n",
       " 118,\n",
       " 954,\n",
       " 195]"
      ]
     },
     "execution_count": 37,
     "metadata": {},
     "output_type": "execute_result"
    }
   ],
   "source": [
    "first_relevant = [r for r, _, _ in [min(ranks) for ranks in all_ranks.values()]]\n",
    "first_relevant"
   ]
  },
  {
   "cell_type": "code",
   "execution_count": 20,
   "metadata": {
    "collapsed": false
   },
   "outputs": [
    {
     "data": {
      "text/plain": [
       "0.12175944411260979"
      ]
     },
     "execution_count": 20,
     "metadata": {},
     "output_type": "execute_result"
    }
   ],
   "source": [
    "calculate_mrr([rank for rank, _, _ in first_relevant])"
   ]
  },
  {
   "cell_type": "markdown",
   "metadata": {},
   "source": [
    "# So what? Get to the point.\n",
    "\n",
    "The point is the following. Let's say we have a model built, like we do above. Each time we query it, we can potentially get different results:\n",
    "\n"
   ]
  },
  {
   "cell_type": "code",
   "execution_count": 22,
   "metadata": {
    "collapsed": true
   },
   "outputs": [],
   "source": [
    "def get_mrr(model, sims, queries, goldsets):\n",
    "    query_topics = model[queries]\n",
    "    all_ranks = dict()\n",
    "    for query_id, goldset in goldsets.items():\n",
    "        results = sims[query_topics[query_id]]\n",
    "        ranks = list()\n",
    "        for doc_id in goldset:\n",
    "            rank = sum(1 for x in results if x >= results[doc_id])\n",
    "            ranks.append((rank, doc_id, results[doc_id]))\n",
    "        all_ranks[query_id] = sorted(ranks)\n",
    "    first_relevant = [min(ranks) for ranks in all_ranks.values()]\n",
    "    return calculate_mrr([rank for rank, _, _ in first_relevant])"
   ]
  },
  {
   "cell_type": "code",
   "execution_count": 31,
   "metadata": {
    "collapsed": false
   },
   "outputs": [
    {
     "data": {
      "text/plain": [
       "0.12072114189621612"
      ]
     },
     "execution_count": 31,
     "metadata": {},
     "output_type": "execute_result"
    }
   ],
   "source": [
    "get_mrr(model, sims, queries, goldsets)"
   ]
  },
  {
   "cell_type": "code",
   "execution_count": 24,
   "metadata": {
    "collapsed": false
   },
   "outputs": [
    {
     "name": "stdout",
     "output_type": "stream",
     "text": [
      "count    100.000000\n",
      "mean       0.117222\n",
      "std        0.009489\n",
      "min        0.090311\n",
      "25%        0.110917\n",
      "50%        0.120743\n",
      "75%        0.122682\n",
      "max        0.147086\n",
      "dtype: float64\n"
     ]
    },
    {
     "data": {
      "text/plain": [
       "<matplotlib.axes._subplots.AxesSubplot at 0x7fb2525791d0>"
      ]
     },
     "execution_count": 24,
     "metadata": {},
     "output_type": "execute_result"
    },
    {
     "data": {
      "image/png": "[encoded data removed]",
      "text/plain": [
       "<matplotlib.figure.Figure at 0x7fb252554690>"
      ]
     },
     "metadata": {},
     "output_type": "display_data"
    }
   ],
   "source": [
    "s1 = pandas.Series(get_mrr(model, sims, queries, goldsets) for _ in range(100))\n",
    "print(s1.describe())\n",
    "s1.plot(kind='box')"
   ]
  },
  {
   "cell_type": "markdown",
   "metadata": {},
   "source": [
    "# 40 queries is not enough to accurately judge something\n",
    "\n",
    "So, what do we do? Run LDA 1000 times, take some average of all the MRRs? Well, that would certainly take a lot of time.\n",
    "\n",
    "How about we try to artificially increase the number queries by just doing the query phase multiple times?"
   ]
  },
  {
   "cell_type": "code",
   "execution_count": 115,
   "metadata": {
    "collapsed": false
   },
   "outputs": [],
   "source": [
    "def get_mrr(runs, model, sims, queries, goldsets):\n",
    "    first_relevant = list()\n",
    "    for run in range(runs):\n",
    "        query_topics = model[queries]\n",
    "        all_ranks = dict()\n",
    "        for query_id, goldset in goldsets.items():\n",
    "            results = sims[query_topics[query_id]]\n",
    "            ranks = list()\n",
    "            for doc_id in goldset:\n",
    "                rank = sum(1 for x in results if x >= results[doc_id])\n",
    "                ranks.append((rank, doc_id, results[doc_id]))\n",
    "            all_ranks[query_id] = sorted(ranks)\n",
    "        first_relevant.extend(min(ranks) for ranks in all_ranks.values())\n",
    "    return calculate_mrr([rank for rank, _, _ in first_relevant])"
   ]
  },
  {
   "cell_type": "code",
   "execution_count": null,
   "metadata": {
    "collapsed": false
   },
   "outputs": [
    {
     "data": {
      "text/plain": [
       "<matplotlib.axes._subplots.AxesSubplot at 0x7fd5168d78d0>"
      ]
     },
     "execution_count": 116,
     "metadata": {},
     "output_type": "execute_result"
    },
    {
     "data": {
      "image/png": "[encoded data removed]",
      "text/plain": [
       "<matplotlib.figure.Figure at 0x7fd515a99f50>"
      ]
     },
     "metadata": {},
     "output_type": "display_data"
    }
   ],
   "source": [
    "s5 = pandas.Series(get_mrr(5, model, sims, queries, goldsets) for _ in range(100))\n",
    "s5.plot(kind='box')"
   ]
  },
  {
   "cell_type": "code",
   "execution_count": null,
   "metadata": {
    "collapsed": false
   },
   "outputs": [],
   "source": [
    "s10 = pandas.Series(get_mrr(10, model, sims, queries, goldsets) for _ in range(100))\n",
    "s50 = pandas.Series(get_mrr(50, model, sims, queries, goldsets) for _ in range(100))\n",
    "s100 = pandas.Series(get_mrr(100, model, sims, queries, goldsets) for _ in range(100))"
   ]
  },
  {
   "cell_type": "code",
   "execution_count": null,
   "metadata": {
    "collapsed": false
   },
   "outputs": [],
   "source": [
    "df = pandas.DataFrame({1: s1, 5: s5, 10: s10, 50: s50, 100: s100})\n",
    "df.plot(kind='box')"
   ]
  },
  {
   "cell_type": "code",
   "execution_count": null,
   "metadata": {
    "collapsed": true
   },
   "outputs": [],
   "source": [
    "def run_itttttt(name, version, runs):\n",
    "    dictionary = Dictionary.load('data/%s/%s/SnapshotCorpusfile.dict.gz' % (name, version))\n",
    "    corpus = MalletCorpus('data/%s/%s/SnapshotCorpusfile.mallet.gz' % (name, version), id2word=dictionary)\n",
    "    queries = MalletCorpus('data/%s/%s/Queries.mallet.gz' % (name, version), id2word=dictionary)\n",
    "    print(\"Dictionary:\", len(dictionary))\n",
    "    print(\"Corpus:\", len(corpus))\n",
    "    print(\"Queries:\", len(queries))\n",
    "\n",
    "    with open('pickles/'+name+version+'.pkl', 'rb') as f:\n",
    "        goldsets = pickle.load(f)\n",
    "    \n",
    "    df = pandas.DataFrame()\n",
    "    for i in range(runs):\n",
    "        model = LdaModel(corpus=corpus, \n",
    "                 id2word=dictionary, \n",
    "                 decay=0,  # Kappa\n",
    "                 chunksize=len(corpus), # S\n",
    "                 max_em_iterations=100) # upper limit on batch VB algo\n",
    "        corpus_topics = model[corpus]\n",
    "        sims = MatrixSimilarity(corpus_topics, num_features=model.num_topics)\n",
    "\n",
    "        df[i] = pandas.Series(get_mrr(1, model, sims, queries, goldsets) for _ in range(100))\n",
    "        \n",
    "    print(df.describe())\n",
    "    df.plot(kind='box')"
   ]
  },
  {
   "cell_type": "code",
   "execution_count": 212,
   "metadata": {
    "collapsed": false
   },
   "outputs": [
    {
     "name": "stderr",
     "output_type": "stream",
     "text": [
      "WARNING:gensim.models.ldamodel:too few updates, training might not converge; consider increasing the number of passes or iterations to improve accuracy\n",
      "WARNING:gensim.models.ldamodel:too few updates, training might not converge; consider increasing the number of passes or iterations to improve accuracy\n",
      "WARNING:gensim.models.ldamodel:too few updates, training might not converge; consider increasing the number of passes or iterations to improve accuracy\n",
      "WARNING:gensim.models.ldamodel:too few updates, training might not converge; consider increasing the number of passes or iterations to improve accuracy\n",
      "WARNING:gensim.models.ldamodel:too few updates, training might not converge; consider increasing the number of passes or iterations to improve accuracy\n"
     ]
    },
    {
     "name": "stdout",
     "output_type": "stream",
     "text": [
      "('Dictionary:', 54116)\n",
      "('Corpus:', 954)\n",
      "('Queries:', 40)\n",
      "                0           1           2           3           4\n",
      "count  100.000000  100.000000  100.000000  100.000000  100.000000\n",
      "mean     0.133500    0.124329    0.143798    0.191651    0.218325\n",
      "std      0.007010    0.013122    0.013689    0.004914    0.010094\n",
      "min      0.102039    0.099302    0.112044    0.173926    0.193445\n",
      "25%      0.133274    0.110629    0.138045    0.188635    0.211156\n",
      "50%      0.134700    0.128379    0.139391    0.192613    0.221111\n",
      "75%      0.136650    0.133565    0.158670    0.194645    0.223341\n",
      "max      0.158957    0.148885    0.167122    0.203129    0.246125\n"
     ]
    },
    {
     "data": {
      "image/png": "[encoded data removed]",
      "text/plain": [
       "<matplotlib.figure.Figure at 0x7f1bba1066d0>"
      ]
     },
     "metadata": {},
     "output_type": "display_data"
    }
   ],
   "source": [
    "run_itttttt('tika', 'v1.8', 5)"
   ]
  },
  {
   "cell_type": "code",
   "execution_count": 213,
   "metadata": {
    "collapsed": false
   },
   "outputs": [
    {
     "name": "stderr",
     "output_type": "stream",
     "text": [
      "WARNING:gensim.models.ldamodel:too few updates, training might not converge; consider increasing the number of passes or iterations to improve accuracy\n",
      "WARNING:gensim.models.ldamodel:too few updates, training might not converge; consider increasing the number of passes or iterations to improve accuracy\n",
      "WARNING:gensim.models.ldamodel:too few updates, training might not converge; consider increasing the number of passes or iterations to improve accuracy\n",
      "WARNING:gensim.models.ldamodel:too few updates, training might not converge; consider increasing the number of passes or iterations to improve accuracy\n",
      "WARNING:gensim.models.ldamodel:too few updates, training might not converge; consider increasing the number of passes or iterations to improve accuracy\n"
     ]
    },
    {
     "name": "stdout",
     "output_type": "stream",
     "text": [
      "('Dictionary:', 14553)\n",
      "('Corpus:', 2098)\n",
      "('Queries:', 222)\n",
      "                0           1           2           3           4\n",
      "count  100.000000  100.000000  100.000000  100.000000  100.000000\n",
      "mean     0.111949    0.117205    0.092590    0.110905    0.206711\n",
      "std      0.004432    0.004380    0.005675    0.002845    0.004313\n",
      "min      0.101173    0.109594    0.081192    0.104019    0.196130\n",
      "25%      0.108398    0.113426    0.088496    0.108529    0.203888\n",
      "50%      0.112094    0.116854    0.093035    0.110731    0.207090\n",
      "75%      0.114848    0.119762    0.095679    0.112901    0.209598\n",
      "max      0.125677    0.128380    0.108906    0.118552    0.217216\n"
     ]
    },
    {
     "data": {
      "image/png": "[encoded data removed]",
      "text/plain": [
       "<matplotlib.figure.Figure at 0x7f1bb9f81390>"
      ]
     },
     "metadata": {},
     "output_type": "display_data"
    }
   ],
   "source": [
    "run_itttttt('pig', 'v0.14.0', 5)"
   ]
  },
  {
   "cell_type": "code",
   "execution_count": 214,
   "metadata": {
    "collapsed": false
   },
   "outputs": [
    {
     "name": "stderr",
     "output_type": "stream",
     "text": [
      "WARNING:gensim.models.ldamodel:too few updates, training might not converge; consider increasing the number of passes or iterations to improve accuracy\n",
      "WARNING:gensim.models.ldamodel:too few updates, training might not converge; consider increasing the number of passes or iterations to improve accuracy\n",
      "WARNING:gensim.models.ldamodel:too few updates, training might not converge; consider increasing the number of passes or iterations to improve accuracy\n",
      "WARNING:gensim.models.ldamodel:too few updates, training might not converge; consider increasing the number of passes or iterations to improve accuracy\n",
      "WARNING:gensim.models.ldamodel:too few updates, training might not converge; consider increasing the number of passes or iterations to improve accuracy\n"
     ]
    },
    {
     "name": "stdout",
     "output_type": "stream",
     "text": [
      "('Dictionary:', 6003)\n",
      "('Corpus:', 843)\n",
      "('Queries:', 164)\n",
      "                0           1           2           3           4\n",
      "count  100.000000  100.000000  100.000000  100.000000  100.000000\n",
      "mean     0.203606    0.197098    0.224751    0.188762    0.230394\n",
      "std      0.005646    0.007751    0.009850    0.005243    0.006357\n",
      "min      0.187533    0.175519    0.204545    0.175430    0.214569\n",
      "25%      0.200254    0.191570    0.218442    0.185314    0.226513\n",
      "50%      0.202610    0.197932    0.224588    0.189185    0.230061\n",
      "75%      0.207011    0.202072    0.230950    0.191680    0.234195\n",
      "max      0.217414    0.214740    0.248735    0.204630    0.245217\n"
     ]
    },
    {
     "data": {
      "image/png": "[encoded data removed]",
      "text/plain": [
       "<matplotlib.figure.Figure at 0x7f1bba010450>"
      ]
     },
     "metadata": {},
     "output_type": "display_data"
    }
   ],
   "source": [
    "run_itttttt('bookkeeper', 'v4.3.0', 5)"
   ]
  },
  {
   "cell_type": "code",
   "execution_count": 215,
   "metadata": {
    "collapsed": false
   },
   "outputs": [
    {
     "name": "stderr",
     "output_type": "stream",
     "text": [
      "WARNING:gensim.models.ldamodel:too few updates, training might not converge; consider increasing the number of passes or iterations to improve accuracy\n",
      "WARNING:gensim.models.ldamodel:too few updates, training might not converge; consider increasing the number of passes or iterations to improve accuracy\n",
      "WARNING:gensim.models.ldamodel:too few updates, training might not converge; consider increasing the number of passes or iterations to improve accuracy\n",
      "WARNING:gensim.models.ldamodel:too few updates, training might not converge; consider increasing the number of passes or iterations to improve accuracy\n",
      "WARNING:gensim.models.ldamodel:too few updates, training might not converge; consider increasing the number of passes or iterations to improve accuracy\n"
     ]
    },
    {
     "name": "stdout",
     "output_type": "stream",
     "text": [
      "('Dictionary:', 20508)\n",
      "('Corpus:', 1573)\n",
      "('Queries:', 133)\n",
      "                0           1           2           3           4\n",
      "count  100.000000  100.000000  100.000000  100.000000  100.000000\n",
      "mean     0.254512    0.079902    0.132039    0.129619    0.113957\n",
      "std      0.008982    0.005646    0.006031    0.003529    0.009187\n",
      "min      0.234477    0.068351    0.114785    0.120039    0.088228\n",
      "25%      0.249304    0.075328    0.127867    0.127524    0.107322\n",
      "50%      0.254619    0.080456    0.131132    0.129955    0.114176\n",
      "75%      0.260752    0.083153    0.136401    0.131930    0.120668\n",
      "max      0.279684    0.093774    0.146440    0.140861    0.133135\n"
     ]
    },
    {
     "data": {
      "image/png": "[encoded data removed]",
      "text/plain": [
       "<matplotlib.figure.Figure at 0x7f1bba49bbd0>"
      ]
     },
     "metadata": {},
     "output_type": "display_data"
    }
   ],
   "source": [
    "run_itttttt('mahout', 'v0.10.0', 5)"
   ]
  },
  {
   "cell_type": "code",
   "execution_count": 216,
   "metadata": {
    "collapsed": false
   },
   "outputs": [
    {
     "name": "stderr",
     "output_type": "stream",
     "text": [
      "WARNING:gensim.models.ldamodel:too few updates, training might not converge; consider increasing the number of passes or iterations to improve accuracy\n"
     ]
    },
    {
     "name": "stdout",
     "output_type": "stream",
     "text": [
      "('Dictionary:', 36951)\n",
      "('Corpus:', 4344)\n",
      "('Queries:', 308)\n"
     ]
    },
    {
     "ename": "KeyboardInterrupt",
     "evalue": "",
     "output_type": "error",
     "traceback": [
      "\u001b[1;31m---------------------------------------------------------------------------\u001b[0m",
      "\u001b[1;31mKeyboardInterrupt\u001b[0m                         Traceback (most recent call last)",
      "\u001b[1;32m<ipython-input-216-bf818cd551be>\u001b[0m in \u001b[0;36m<module>\u001b[1;34m()\u001b[0m\n\u001b[1;32m----> 1\u001b[1;33m \u001b[0mrun_itttttt\u001b[0m\u001b[1;33m(\u001b[0m\u001b[1;34m'derby'\u001b[0m\u001b[1;33m,\u001b[0m \u001b[1;34m'v10.11.1.1'\u001b[0m\u001b[1;33m,\u001b[0m \u001b[1;36m5\u001b[0m\u001b[1;33m)\u001b[0m\u001b[1;33m\u001b[0m\u001b[0m\n\u001b[0m",
      "\u001b[1;32m<ipython-input-211-f9a242fd5bd9>\u001b[0m in \u001b[0;36mrun_itttttt\u001b[1;34m(name, version, runs)\u001b[0m\n\u001b[0;32m     26\u001b[0m         \u001b[0mmodel\u001b[0m \u001b[1;33m=\u001b[0m \u001b[0mLdaModel\u001b[0m\u001b[1;33m(\u001b[0m\u001b[0mcorpus\u001b[0m\u001b[1;33m=\u001b[0m\u001b[0mcorpus\u001b[0m\u001b[1;33m,\u001b[0m \u001b[0mid2word\u001b[0m\u001b[1;33m=\u001b[0m\u001b[0mdictionary\u001b[0m\u001b[1;33m)\u001b[0m\u001b[1;33m\u001b[0m\u001b[0m\n\u001b[0;32m     27\u001b[0m         \u001b[0mcorpus_topics\u001b[0m \u001b[1;33m=\u001b[0m \u001b[0mmodel\u001b[0m\u001b[1;33m[\u001b[0m\u001b[0mcorpus\u001b[0m\u001b[1;33m]\u001b[0m\u001b[1;33m\u001b[0m\u001b[0m\n\u001b[1;32m---> 28\u001b[1;33m         \u001b[0msims\u001b[0m \u001b[1;33m=\u001b[0m \u001b[0mMatrixSimilarity\u001b[0m\u001b[1;33m(\u001b[0m\u001b[0mcorpus_topics\u001b[0m\u001b[1;33m,\u001b[0m \u001b[0mnum_features\u001b[0m\u001b[1;33m=\u001b[0m\u001b[0mmodel\u001b[0m\u001b[1;33m.\u001b[0m\u001b[0mnum_topics\u001b[0m\u001b[1;33m)\u001b[0m\u001b[1;33m\u001b[0m\u001b[0m\n\u001b[0m\u001b[0;32m     29\u001b[0m \u001b[1;33m\u001b[0m\u001b[0m\n\u001b[0;32m     30\u001b[0m         \u001b[0mdf\u001b[0m\u001b[1;33m[\u001b[0m\u001b[0mi\u001b[0m\u001b[1;33m]\u001b[0m \u001b[1;33m=\u001b[0m \u001b[0mpandas\u001b[0m\u001b[1;33m.\u001b[0m\u001b[0mSeries\u001b[0m\u001b[1;33m(\u001b[0m\u001b[0mget_mrr_quick\u001b[0m\u001b[1;33m(\u001b[0m\u001b[1;36m1\u001b[0m\u001b[1;33m,\u001b[0m \u001b[0mmodel\u001b[0m\u001b[1;33m,\u001b[0m \u001b[0msims\u001b[0m\u001b[1;33m,\u001b[0m \u001b[0mqueries\u001b[0m\u001b[1;33m,\u001b[0m \u001b[0mgoldsets\u001b[0m\u001b[1;33m)\u001b[0m \u001b[1;32mfor\u001b[0m \u001b[0m_\u001b[0m \u001b[1;32min\u001b[0m \u001b[0mrange\u001b[0m\u001b[1;33m(\u001b[0m\u001b[1;36m100\u001b[0m\u001b[1;33m)\u001b[0m\u001b[1;33m)\u001b[0m\u001b[1;33m\u001b[0m\u001b[0m\n",
      "\u001b[1;32m/home/cscorley/git/eta-gensim/gensim/similarities/docsim.pyc\u001b[0m in \u001b[0;36m__init__\u001b[1;34m(self, corpus, num_best, dtype, num_features, chunksize, corpus_len)\u001b[0m\n\u001b[0;32m    516\u001b[0m             \u001b[1;31m# iterate over corpus, populating the numpy index matrix with (normalized)\u001b[0m\u001b[1;33m\u001b[0m\u001b[1;33m\u001b[0m\u001b[0m\n\u001b[0;32m    517\u001b[0m             \u001b[1;31m# document vectors\u001b[0m\u001b[1;33m\u001b[0m\u001b[1;33m\u001b[0m\u001b[0m\n\u001b[1;32m--> 518\u001b[1;33m             \u001b[1;32mfor\u001b[0m \u001b[0mdocno\u001b[0m\u001b[1;33m,\u001b[0m \u001b[0mvector\u001b[0m \u001b[1;32min\u001b[0m \u001b[0menumerate\u001b[0m\u001b[1;33m(\u001b[0m\u001b[0mcorpus\u001b[0m\u001b[1;33m)\u001b[0m\u001b[1;33m:\u001b[0m\u001b[1;33m\u001b[0m\u001b[0m\n\u001b[0m\u001b[0;32m    519\u001b[0m                 \u001b[1;32mif\u001b[0m \u001b[0mdocno\u001b[0m \u001b[1;33m%\u001b[0m \u001b[1;36m1000\u001b[0m \u001b[1;33m==\u001b[0m \u001b[1;36m0\u001b[0m\u001b[1;33m:\u001b[0m\u001b[1;33m\u001b[0m\u001b[0m\n\u001b[0;32m    520\u001b[0m                     \u001b[0mlogger\u001b[0m\u001b[1;33m.\u001b[0m\u001b[0mdebug\u001b[0m\u001b[1;33m(\u001b[0m\u001b[1;34m\"PROGRESS: at document #%i/%i\"\u001b[0m\u001b[1;33m,\u001b[0m \u001b[0mdocno\u001b[0m\u001b[1;33m,\u001b[0m \u001b[0mcorpus_len\u001b[0m\u001b[1;33m)\u001b[0m\u001b[1;33m\u001b[0m\u001b[0m\n",
      "\u001b[1;32m/home/cscorley/git/eta-gensim/gensim/interfaces.pyc\u001b[0m in \u001b[0;36m__iter__\u001b[1;34m(self)\u001b[0m\n\u001b[0;32m    120\u001b[0m         \u001b[1;32melse\u001b[0m\u001b[1;33m:\u001b[0m\u001b[1;33m\u001b[0m\u001b[0m\n\u001b[0;32m    121\u001b[0m             \u001b[1;32mfor\u001b[0m \u001b[0mdoc\u001b[0m \u001b[1;32min\u001b[0m \u001b[0mself\u001b[0m\u001b[1;33m.\u001b[0m\u001b[0mcorpus\u001b[0m\u001b[1;33m:\u001b[0m\u001b[1;33m\u001b[0m\u001b[0m\n\u001b[1;32m--> 122\u001b[1;33m                 \u001b[1;32myield\u001b[0m \u001b[0mself\u001b[0m\u001b[1;33m.\u001b[0m\u001b[0mobj\u001b[0m\u001b[1;33m[\u001b[0m\u001b[0mdoc\u001b[0m\u001b[1;33m]\u001b[0m\u001b[1;33m\u001b[0m\u001b[0m\n\u001b[0m\u001b[0;32m    123\u001b[0m \u001b[1;33m\u001b[0m\u001b[0m\n\u001b[0;32m    124\u001b[0m     \u001b[1;32mdef\u001b[0m \u001b[0m__getitem__\u001b[0m\u001b[1;33m(\u001b[0m\u001b[0mself\u001b[0m\u001b[1;33m,\u001b[0m \u001b[0mdocno\u001b[0m\u001b[1;33m)\u001b[0m\u001b[1;33m:\u001b[0m\u001b[1;33m\u001b[0m\u001b[0m\n",
      "\u001b[1;32m/home/cscorley/git/eta-gensim/gensim/models/ldamodel.pyc\u001b[0m in \u001b[0;36m__getitem__\u001b[1;34m(self, bow, eps)\u001b[0m\n\u001b[0;32m    901\u001b[0m \u001b[1;33m\u001b[0m\u001b[0m\n\u001b[0;32m    902\u001b[0m         \"\"\"\n\u001b[1;32m--> 903\u001b[1;33m         \u001b[1;32mreturn\u001b[0m \u001b[0mself\u001b[0m\u001b[1;33m.\u001b[0m\u001b[0mget_document_topics\u001b[0m\u001b[1;33m(\u001b[0m\u001b[0mbow\u001b[0m\u001b[1;33m,\u001b[0m \u001b[0meps\u001b[0m\u001b[1;33m)\u001b[0m\u001b[1;33m\u001b[0m\u001b[0m\n\u001b[0m\u001b[0;32m    904\u001b[0m \u001b[1;33m\u001b[0m\u001b[0m\n\u001b[0;32m    905\u001b[0m     \u001b[1;32mdef\u001b[0m \u001b[0msave\u001b[0m\u001b[1;33m(\u001b[0m\u001b[0mself\u001b[0m\u001b[1;33m,\u001b[0m \u001b[0mfname\u001b[0m\u001b[1;33m,\u001b[0m \u001b[0mignore\u001b[0m\u001b[1;33m=\u001b[0m\u001b[1;33m[\u001b[0m\u001b[1;34m'state'\u001b[0m\u001b[1;33m,\u001b[0m \u001b[1;34m'dispatcher'\u001b[0m\u001b[1;33m]\u001b[0m\u001b[1;33m,\u001b[0m \u001b[1;33m*\u001b[0m\u001b[0margs\u001b[0m\u001b[1;33m,\u001b[0m \u001b[1;33m**\u001b[0m\u001b[0mkwargs\u001b[0m\u001b[1;33m)\u001b[0m\u001b[1;33m:\u001b[0m\u001b[1;33m\u001b[0m\u001b[0m\n",
      "\u001b[1;32m/home/cscorley/git/eta-gensim/gensim/models/ldamodel.pyc\u001b[0m in \u001b[0;36mget_document_topics\u001b[1;34m(self, bow, minimum_probability)\u001b[0m\n\u001b[0;32m    888\u001b[0m             \u001b[1;32mreturn\u001b[0m \u001b[0mself\u001b[0m\u001b[1;33m.\u001b[0m\u001b[0m_apply\u001b[0m\u001b[1;33m(\u001b[0m\u001b[0mcorpus\u001b[0m\u001b[1;33m)\u001b[0m\u001b[1;33m\u001b[0m\u001b[0m\n\u001b[0;32m    889\u001b[0m \u001b[1;33m\u001b[0m\u001b[0m\n\u001b[1;32m--> 890\u001b[1;33m         \u001b[0mgamma\u001b[0m\u001b[1;33m,\u001b[0m \u001b[0m_\u001b[0m \u001b[1;33m=\u001b[0m \u001b[0mself\u001b[0m\u001b[1;33m.\u001b[0m\u001b[0minference\u001b[0m\u001b[1;33m(\u001b[0m\u001b[1;33m[\u001b[0m\u001b[0mbow\u001b[0m\u001b[1;33m]\u001b[0m\u001b[1;33m)\u001b[0m\u001b[1;33m\u001b[0m\u001b[0m\n\u001b[0m\u001b[0;32m    891\u001b[0m         \u001b[0mtopic_dist\u001b[0m \u001b[1;33m=\u001b[0m \u001b[0mgamma\u001b[0m\u001b[1;33m[\u001b[0m\u001b[1;36m0\u001b[0m\u001b[1;33m]\u001b[0m \u001b[1;33m/\u001b[0m \u001b[0msum\u001b[0m\u001b[1;33m(\u001b[0m\u001b[0mgamma\u001b[0m\u001b[1;33m[\u001b[0m\u001b[1;36m0\u001b[0m\u001b[1;33m]\u001b[0m\u001b[1;33m)\u001b[0m  \u001b[1;31m# normalize distribution\u001b[0m\u001b[1;33m\u001b[0m\u001b[0m\n\u001b[0;32m    892\u001b[0m         return [(topicid, topicvalue) for topicid, topicvalue in enumerate(topic_dist)\n",
      "\u001b[1;32m/home/cscorley/git/eta-gensim/gensim/models/ldamodel.pyc\u001b[0m in \u001b[0;36minference\u001b[1;34m(self, chunk, collect_sstats)\u001b[0m\n\u001b[0;32m    400\u001b[0m                 \u001b[0mphinorm\u001b[0m \u001b[1;33m=\u001b[0m \u001b[0mnumpy\u001b[0m\u001b[1;33m.\u001b[0m\u001b[0mdot\u001b[0m\u001b[1;33m(\u001b[0m\u001b[0mexpElogthetad\u001b[0m\u001b[1;33m,\u001b[0m \u001b[0mexpElogbetad\u001b[0m\u001b[1;33m)\u001b[0m \u001b[1;33m+\u001b[0m \u001b[1;36m1e-100\u001b[0m\u001b[1;33m\u001b[0m\u001b[0m\n\u001b[0;32m    401\u001b[0m                 \u001b[1;31m# If gamma hasn't changed much, we're done.\u001b[0m\u001b[1;33m\u001b[0m\u001b[1;33m\u001b[0m\u001b[0m\n\u001b[1;32m--> 402\u001b[1;33m                 \u001b[0mmeanchange\u001b[0m \u001b[1;33m=\u001b[0m \u001b[0mnumpy\u001b[0m\u001b[1;33m.\u001b[0m\u001b[0mmean\u001b[0m\u001b[1;33m(\u001b[0m\u001b[0mabs\u001b[0m\u001b[1;33m(\u001b[0m\u001b[0mgammad\u001b[0m \u001b[1;33m-\u001b[0m \u001b[0mlastgamma\u001b[0m\u001b[1;33m)\u001b[0m\u001b[1;33m)\u001b[0m\u001b[1;33m\u001b[0m\u001b[0m\n\u001b[0m\u001b[0;32m    403\u001b[0m                 \u001b[1;32mif\u001b[0m \u001b[1;33m(\u001b[0m\u001b[0mmeanchange\u001b[0m \u001b[1;33m<\u001b[0m \u001b[0mself\u001b[0m\u001b[1;33m.\u001b[0m\u001b[0mgamma_threshold\u001b[0m\u001b[1;33m)\u001b[0m\u001b[1;33m:\u001b[0m\u001b[1;33m\u001b[0m\u001b[0m\n\u001b[0;32m    404\u001b[0m                     \u001b[0mconverged\u001b[0m \u001b[1;33m+=\u001b[0m \u001b[1;36m1\u001b[0m\u001b[1;33m\u001b[0m\u001b[0m\n",
      "\u001b[1;32m/home/cscorley/envs/triage/lib/python2.7/site-packages/numpy/core/fromnumeric.pyc\u001b[0m in \u001b[0;36mmean\u001b[1;34m(a, axis, dtype, out, keepdims)\u001b[0m\n\u001b[0;32m   2733\u001b[0m \u001b[1;33m\u001b[0m\u001b[0m\n\u001b[0;32m   2734\u001b[0m     return _methods._mean(a, axis=axis, dtype=dtype,\n\u001b[1;32m-> 2735\u001b[1;33m                             out=out, keepdims=keepdims)\n\u001b[0m\u001b[0;32m   2736\u001b[0m \u001b[1;33m\u001b[0m\u001b[0m\n\u001b[0;32m   2737\u001b[0m \u001b[1;32mdef\u001b[0m \u001b[0mstd\u001b[0m\u001b[1;33m(\u001b[0m\u001b[0ma\u001b[0m\u001b[1;33m,\u001b[0m \u001b[0maxis\u001b[0m\u001b[1;33m=\u001b[0m\u001b[0mNone\u001b[0m\u001b[1;33m,\u001b[0m \u001b[0mdtype\u001b[0m\u001b[1;33m=\u001b[0m\u001b[0mNone\u001b[0m\u001b[1;33m,\u001b[0m \u001b[0mout\u001b[0m\u001b[1;33m=\u001b[0m\u001b[0mNone\u001b[0m\u001b[1;33m,\u001b[0m \u001b[0mddof\u001b[0m\u001b[1;33m=\u001b[0m\u001b[1;36m0\u001b[0m\u001b[1;33m,\u001b[0m \u001b[0mkeepdims\u001b[0m\u001b[1;33m=\u001b[0m\u001b[0mFalse\u001b[0m\u001b[1;33m)\u001b[0m\u001b[1;33m:\u001b[0m\u001b[1;33m\u001b[0m\u001b[0m\n",
      "\u001b[1;31mKeyboardInterrupt\u001b[0m: "
     ]
    }
   ],
   "source": [
    "run_itttttt('derby', 'v10.11.1.1', 5)"
   ]
  },
  {
   "cell_type": "markdown",
   "metadata": {},
   "source": [
    "# So, MRR must be pretty bad, huh. Guess we should be using *< insert my favorite measurement >*, afterall.\n",
    "\n",
    "No, not necessarily. MRR is a pretty good metric. What we have here is a problem that spawns from two things:\n",
    "\n",
    "1. Small goldsets\n",
    "2. Small datasets\n",
    "\n",
    "The small goldsets means that we do not accurately capture the real MRR. We can try to fix this by artificially increasing the goldset size by some arbitrary number.\n",
    "\n",
    "However, the problem is worse: because of the small dataset (i.e., low number of documents), LDA gets \"stuck\". And, across multiple runs, it can get stuck in different places (as just previously shown). This will lead to it recommending very different ranked lists for each query. Hence, using LDA means that ***any ranked-based measurement will inheritly be inaccurate without multiple trials***.\n",
    "\n",
    "So, it seems like our best option here is to run the entire experiment multiple times. I think it's safe to assume that *any* software engineering results you see using LDA without multiple runs henceforth has been directly influenced by the authors re-running the experiment until it works out in their favor. Full disclosure: I've done it, and discovering that I could do it is why I decided to write this blog post."
   ]
  },
  {
   "cell_type": "code",
   "execution_count": null,
   "metadata": {
    "collapsed": true
   },
   "outputs": [],
   "source": [
    "\"\"\"\n",
    "    queries.metadata = True\n",
    "    corpus.metadata = True\n",
    "    q2id = dict([(x[1][0], i) for i, x in enumerate(queries)])\n",
    "    c2id = dict([(x[1][0], i) for i, x in enumerate(corpus)])\n",
    "    p = [x for x in src.common.load_projects({'level': 'file'}) if x.name == name and x.version == version][0]\n",
    "    goldsets_full = src.feature_location.create_goldsets(p)\n",
    "    goldsets = dict()\n",
    "    for qid, gs in goldsets_full.items():\n",
    "        goldsets[q2id[qid]] = set(c2id[x] for x in gs if x in c2id)\n",
    "    queries.metadata = False\n",
    "    corpus.metadata = False\n",
    "    with open('pickles/'+name+version+'.pkl', 'wb') as f:\n",
    "        pickle.dump(goldsets, f)\n",
    "\"\"\""
   ]
  }
 ],
 "metadata": {
  "kernelspec": {
   "display_name": "Python 2",
   "language": "python",
   "name": "python2"
  },
  "language_info": {
   "codemirror_mode": {
    "name": "ipython",
    "version": 2
   },
   "file_extension": ".py",
   "mimetype": "text/x-python",
   "name": "python",
   "nbconvert_exporter": "python",
   "pygments_lexer": "ipython2",
   "version": "2.7.10"
  }
 },
 "nbformat": 4,
 "nbformat_minor": 0
}
