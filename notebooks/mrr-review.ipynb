{
 "cells": [
  {
   "cell_type": "code",
   "execution_count": 1,
   "metadata": {
    "collapsed": false,
    "scrolled": true
   },
   "outputs": [],
   "source": [
    "%matplotlib inline"
   ]
  },
  {
   "cell_type": "code",
   "execution_count": 20,
   "metadata": {
    "collapsed": false
   },
   "outputs": [],
   "source": [
    "import pandas\n",
    "import src\n",
    "import gensim\n",
    "import os\n",
    "import os.path\n",
    "import csv"
   ]
  },
  {
   "cell_type": "code",
   "execution_count": 66,
   "metadata": {
    "collapsed": false
   },
   "outputs": [],
   "source": [
    "rankfiles = dict()\n",
    "for dirpath, dirname, filenames in os.walk('runs'):\n",
    "    for filename in filenames:\n",
    "        if filename.endswith(\"-ranks.csv.gz\"):\n",
    "            _, num, _, name, version = dirpath.split('/')\n",
    "            if name not in rankfiles:\n",
    "                rankfiles[name] = {'changeset': {'feature_location': list(),\n",
    "                                                 'triage': list()},\n",
    "                                   'release': {'feature_location': list(),\n",
    "                                               'triage': list()},\n",
    "                                  }\n",
    "                \n",
    "            parts = filename.split('-')\n",
    "            rankfiles[name][parts[0]][parts[1]].append(os.path.join(dirpath, filename))"
   ]
  },
  {
   "cell_type": "code",
   "execution_count": 67,
   "metadata": {
    "collapsed": false
   },
   "outputs": [],
   "source": [
    "    path = rankfiles['bookkeeper']['release']['triage'][0]\n",
    "    ranks = dict()\n",
    "    with gensim.utils.smart_open(path) as f:\n",
    "        reader = csv.reader(f)\n",
    "        next(reader)  # skip header\n",
    "        for g_id, idx, dist, d_name in reader:\n",
    "            if g_id not in ranks:\n",
    "                ranks[g_id] = list()\n",
    "\n",
    "            ranks[g_id].append((int(idx), float(dist), gensim.utils.to_unicode(d_name)))"
   ]
  },
  {
   "cell_type": "code",
   "execution_count": 68,
   "metadata": {
    "collapsed": false
   },
   "outputs": [
    {
     "name": "stderr",
     "output_type": "stream",
     "text": [
      "2015-12-06 18:18:15 bocmaxima common[2471] INFO Loading goldsets for project: Project(name='bookkeeper', printable_name='bookkeeper v4.3.0', version='v4.3.0', ref='refs/tags/release-4.3.0', data_path='data/bookkeeper/', full_path='data/bookkeeper/v4.3.0/', src_path='data/bookkeeper/v4.3.0/src/', level='file')\n",
      "2015-12-06 18:18:15 bocmaxima common[2471] INFO Loading issue2git.csv\n",
      "2015-12-06 18:18:15 bocmaxima common[2471] INFO Loaded issue2git with 572 entries\n",
      "2015-12-06 18:18:15 bocmaxima common[2471] INFO Returning issue2git with len 572 and git2issue with len 730\n",
      "2015-12-06 18:18:16 bocmaxima common[2471] INFO Returning 164 goldsets\n"
     ]
    }
   ],
   "source": [
    "gs = src.triage.create_goldsets(bk)"
   ]
  },
  {
   "cell_type": "code",
   "execution_count": 69,
   "metadata": {
    "collapsed": false,
    "scrolled": false
   },
   "outputs": [
    {
     "name": "stderr",
     "output_type": "stream",
     "text": [
      "2015-12-06 18:18:18 bocmaxima common[2471] INFO Getting FRMS for 164 ranks\n",
      "2015-12-06 18:18:18 bocmaxima common[2471] INFO Returning 164 FRMS\n"
     ]
    },
    {
     "data": {
      "text/plain": [
       "0.67164634146341451"
      ]
     },
     "execution_count": 69,
     "metadata": {},
     "output_type": "execute_result"
    }
   ],
   "source": [
    "src.utils.calculate_mrr([x for x, y,z in src.common.get_frms(ranks, gs)])"
   ]
  },
  {
   "cell_type": "code",
   "execution_count": 113,
   "metadata": {
    "collapsed": false,
    "scrolled": false
   },
   "outputs": [],
   "source": [
    "df = pandas.DataFrame()\n",
    "for name, source in rankfiles.items():\n",
    "    for source, exps in source.items():\n",
    "        for exp, filenames in exps.items():\n",
    "            mrr = list()\n",
    "            for each in filenames:\n",
    "                data = pandas.read_csv(each)\n",
    "                mrr.append(src.utils.calculate_mrr(list(data.groupby(\"id\")[\"rank\"].min())))\n",
    "        \n",
    "            mrr = pandas.Series(mrr)\n",
    "            if mrr.std() != 0.0:\n",
    "                df = df.append(\n",
    "                  {'name': name, \n",
    "                   'source': source,\n",
    "                   'experiment': exp,\n",
    "                   'std': mrr.std(),\n",
    "                   'max-min': mrr.max() - mrr.min(),\n",
    "                   'max': mrr.max(),\n",
    "                   'min': mrr.min(),\n",
    "                   'count': mrr.count(),\n",
    "                   'raw': mrr\n",
    "                  }, ignore_index=True)"
   ]
  },
  {
   "cell_type": "code",
   "execution_count": 114,
   "metadata": {
    "collapsed": false
   },
   "outputs": [
    {
     "data": {
      "text/html": [
       "<div>\n",
       "<table border=\"1\" class=\"dataframe\">\n",
       "  <thead>\n",
       "    <tr style=\"text-align: right;\">\n",
       "      <th></th>\n",
       "      <th>count</th>\n",
       "      <th>experiment</th>\n",
       "      <th>max</th>\n",
       "      <th>max-min</th>\n",
       "      <th>min</th>\n",
       "      <th>name</th>\n",
       "      <th>raw</th>\n",
       "      <th>source</th>\n",
       "      <th>std</th>\n",
       "    </tr>\n",
       "  </thead>\n",
       "  <tbody>\n",
       "    <tr>\n",
       "      <th>0</th>\n",
       "      <td>25</td>\n",
       "      <td>feature_location</td>\n",
       "      <td>0.231256</td>\n",
       "      <td>0.075217</td>\n",
       "      <td>0.156039</td>\n",
       "      <td>openjpa</td>\n",
       "      <td>0     0.188347\n",
       "1     0.193732\n",
       "2     0.189910\n",
       "3...</td>\n",
       "      <td>release</td>\n",
       "      <td>0.017172</td>\n",
       "    </tr>\n",
       "    <tr>\n",
       "      <th>3</th>\n",
       "      <td>36</td>\n",
       "      <td>feature_location</td>\n",
       "      <td>0.433985</td>\n",
       "      <td>0.083861</td>\n",
       "      <td>0.350124</td>\n",
       "      <td>zookeeper</td>\n",
       "      <td>0     0.370326\n",
       "1     0.396219\n",
       "2     0.384131\n",
       "3...</td>\n",
       "      <td>release</td>\n",
       "      <td>0.016100</td>\n",
       "    </tr>\n",
       "    <tr>\n",
       "      <th>15</th>\n",
       "      <td>74</td>\n",
       "      <td>feature_location</td>\n",
       "      <td>0.559250</td>\n",
       "      <td>0.086100</td>\n",
       "      <td>0.473149</td>\n",
       "      <td>bookkeeper</td>\n",
       "      <td>0     0.559009\n",
       "1     0.495146\n",
       "2     0.517076\n",
       "3...</td>\n",
       "      <td>release</td>\n",
       "      <td>0.021126</td>\n",
       "    </tr>\n",
       "    <tr>\n",
       "      <th>6</th>\n",
       "      <td>23</td>\n",
       "      <td>feature_location</td>\n",
       "      <td>0.385316</td>\n",
       "      <td>0.105743</td>\n",
       "      <td>0.279573</td>\n",
       "      <td>pig</td>\n",
       "      <td>0     0.335448\n",
       "1     0.346491\n",
       "2     0.279573\n",
       "3...</td>\n",
       "      <td>release</td>\n",
       "      <td>0.024304</td>\n",
       "    </tr>\n",
       "    <tr>\n",
       "      <th>9</th>\n",
       "      <td>26</td>\n",
       "      <td>feature_location</td>\n",
       "      <td>0.318799</td>\n",
       "      <td>0.116797</td>\n",
       "      <td>0.202002</td>\n",
       "      <td>mahout</td>\n",
       "      <td>0     0.309602\n",
       "1     0.284767\n",
       "2     0.318799\n",
       "3...</td>\n",
       "      <td>release</td>\n",
       "      <td>0.031074</td>\n",
       "    </tr>\n",
       "    <tr>\n",
       "      <th>12</th>\n",
       "      <td>39</td>\n",
       "      <td>feature_location</td>\n",
       "      <td>0.448330</td>\n",
       "      <td>0.214335</td>\n",
       "      <td>0.233995</td>\n",
       "      <td>tika</td>\n",
       "      <td>0     0.328147\n",
       "1     0.301087\n",
       "2     0.348143\n",
       "3...</td>\n",
       "      <td>release</td>\n",
       "      <td>0.048770</td>\n",
       "    </tr>\n",
       "  </tbody>\n",
       "</table>\n",
       "</div>"
      ],
      "text/plain": [
       "    count        experiment       max   max-min       min        name  \\\n",
       "0      25  feature_location  0.231256  0.075217  0.156039     openjpa   \n",
       "3      36  feature_location  0.433985  0.083861  0.350124   zookeeper   \n",
       "15     74  feature_location  0.559250  0.086100  0.473149  bookkeeper   \n",
       "6      23  feature_location  0.385316  0.105743  0.279573         pig   \n",
       "9      26  feature_location  0.318799  0.116797  0.202002      mahout   \n",
       "12     39  feature_location  0.448330  0.214335  0.233995        tika   \n",
       "\n",
       "                                                  raw   source       std  \n",
       "0   0     0.188347\n",
       "1     0.193732\n",
       "2     0.189910\n",
       "3...  release  0.017172  \n",
       "3   0     0.370326\n",
       "1     0.396219\n",
       "2     0.384131\n",
       "3...  release  0.016100  \n",
       "15  0     0.559009\n",
       "1     0.495146\n",
       "2     0.517076\n",
       "3...  release  0.021126  \n",
       "6   0     0.335448\n",
       "1     0.346491\n",
       "2     0.279573\n",
       "3...  release  0.024304  \n",
       "9   0     0.309602\n",
       "1     0.284767\n",
       "2     0.318799\n",
       "3...  release  0.031074  \n",
       "12  0     0.328147\n",
       "1     0.301087\n",
       "2     0.348143\n",
       "3...  release  0.048770  "
      ]
     },
     "execution_count": 114,
     "metadata": {},
     "output_type": "execute_result"
    }
   ],
   "source": [
    "df.where((df.experiment == 'feature_location') & (df.source == 'release')).sort_values(by=['max-min', 'std']).dropna()"
   ]
  },
  {
   "cell_type": "code",
   "execution_count": null,
   "metadata": {
    "collapsed": true
   },
   "outputs": [],
   "source": []
  }
 ],
 "metadata": {
  "kernelspec": {
   "display_name": "Python 2",
   "language": "python",
   "name": "python2"
  },
  "language_info": {
   "codemirror_mode": {
    "name": "ipython",
    "version": 2
   },
   "file_extension": ".py",
   "mimetype": "text/x-python",
   "name": "python",
   "nbconvert_exporter": "python",
   "pygments_lexer": "ipython2",
   "version": "2.7.10"
  }
 },
 "nbformat": 4,
 "nbformat_minor": 0
}
