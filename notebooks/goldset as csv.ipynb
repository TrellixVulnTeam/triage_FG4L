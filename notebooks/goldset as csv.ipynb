{
 "cells": [
  {
   "cell_type": "code",
   "execution_count": 20,
   "metadata": {},
   "outputs": [
    {
     "name": "stdout",
     "output_type": "stream",
     "text": [
      "Populating the interactive namespace from numpy and matplotlib\n"
     ]
    },
    {
     "name": "stderr",
     "output_type": "stream",
     "text": [
      "/home/cscorley/envs/triage/lib/python2.7/site-packages/IPython/core/magics/pylab.py:161: UserWarning: pylab import has clobbered these variables: ['f']\n",
      "`%matplotlib` prevents importing * from pylab and numpy\n",
      "  \"\\n`%matplotlib` prevents importing * from pylab and numpy\"\n"
     ]
    }
   ],
   "source": [
    "% pylab inline"
   ]
  },
  {
   "cell_type": "code",
   "execution_count": 21,
   "metadata": {
    "collapsed": true
   },
   "outputs": [],
   "source": [
    "from __future__ import print_function\n",
    "import os.path\n",
    "import pandas\n",
    "import src\n",
    "import sklearn\n",
    "import os\n",
    "import scipy\n",
    "import scipy.stats\n",
    "import csv"
   ]
  },
  {
   "cell_type": "code",
   "execution_count": 22,
   "metadata": {
    "collapsed": true
   },
   "outputs": [],
   "source": [
    "def fake(*args, **kwargs):\n",
    "    print('Fake called with', str(args), str(kwargs))\n",
    "    sys.exit(1)\n",
    "\n",
    "# fake out the create_model so we don't accidentally attempt to create data\n",
    "src.common.create_model = fake"
   ]
  },
  {
   "cell_type": "code",
   "execution_count": 23,
   "metadata": {},
   "outputs": [
    {
     "name": "stdout",
     "output_type": "stream",
     "text": [
      "/home/cscorley/git/triage\n",
      "/home/cscorley/git/triage\n"
     ]
    }
   ],
   "source": [
    "print(os.getcwd())\n",
    "if os.getcwd().endswith('notebooks'):\n",
    "    os.chdir('..')\n",
    "print(os.getcwd())"
   ]
  },
  {
   "cell_type": "code",
   "execution_count": 24,
   "metadata": {},
   "outputs": [
    {
     "data": {
      "text/plain": [
       "[Project(name='tika', printable_name='Tika v1.8', version='v1.8', ref='refs/tags/1.8', data_path='data/tika/', full_path='data/tika/v1.8/', src_path='data/tika/v1.8/src/', changeset_config_string=u'True-True-False-True', source=['release', 'changeset', 'temporal'], model_config_string=u'seed1-batch-0.002-0.5-0.002-1000-1000-500-1.0-1', force=False, level='file', model_config={'passes': 1, 'eta': 0.002, 'num_topics': 500, 'iterations': 1000, 'decay': 0.5, 'algorithm': 'batch', 'alpha': 0.002, 'offset': 1.0, 'max_bound_iterations': 1000}, model='lda', random_seed_value=1, changeset_config={'include_removals': True, 'include_context': True, 'include_message': False, 'include_additions': True}),\n",
       " Project(name='pig', printable_name='Pig v0.14.0', version='v0.14.0', ref='refs/tags/release-0.14.0', data_path='data/pig/', full_path='data/pig/v0.14.0/', src_path='data/pig/v0.14.0/src/', changeset_config_string=u'True-True-False-True', source=['release', 'changeset', 'temporal'], model_config_string=u'seed1-batch-0.002-0.5-0.002-1000-1000-500-1.0-1', force=False, level='file', model_config={'passes': 1, 'eta': 0.002, 'num_topics': 500, 'iterations': 1000, 'decay': 0.5, 'algorithm': 'batch', 'alpha': 0.002, 'offset': 1.0, 'max_bound_iterations': 1000}, model='lda', random_seed_value=1, changeset_config={'include_removals': True, 'include_context': True, 'include_message': False, 'include_additions': True}),\n",
       " Project(name='bookkeeper', printable_name='BookKeeper v4.3.0', version='v4.3.0', ref='refs/tags/release-4.3.0', data_path='data/bookkeeper/', full_path='data/bookkeeper/v4.3.0/', src_path='data/bookkeeper/v4.3.0/src/', changeset_config_string=u'True-True-False-True', source=['release', 'changeset', 'temporal'], model_config_string=u'seed1-batch-0.002-0.5-0.002-1000-1000-500-1.0-1', force=False, level='file', model_config={'passes': 1, 'eta': 0.002, 'num_topics': 500, 'iterations': 1000, 'decay': 0.5, 'algorithm': 'batch', 'alpha': 0.002, 'offset': 1.0, 'max_bound_iterations': 1000}, model='lda', random_seed_value=1, changeset_config={'include_removals': True, 'include_context': True, 'include_message': False, 'include_additions': True}),\n",
       " Project(name='openjpa', printable_name='OpenJPA v2.3.0', version='v2.3.0', ref='refs/tags/2.3.0', data_path='data/openjpa/', full_path='data/openjpa/v2.3.0/', src_path='data/openjpa/v2.3.0/src/', changeset_config_string=u'True-True-False-True', source=['release', 'changeset', 'temporal'], model_config_string=u'seed1-batch-0.002-0.5-0.002-1000-1000-500-1.0-1', force=False, level='file', model_config={'passes': 1, 'eta': 0.002, 'num_topics': 500, 'iterations': 1000, 'decay': 0.5, 'algorithm': 'batch', 'alpha': 0.002, 'offset': 1.0, 'max_bound_iterations': 1000}, model='lda', random_seed_value=1, changeset_config={'include_removals': True, 'include_context': True, 'include_message': False, 'include_additions': True}),\n",
       " Project(name='mahout', printable_name='Mahout v0.10.0', version='v0.10.0', ref='refs/tags/mahout-0.10', data_path='data/mahout/', full_path='data/mahout/v0.10.0/', src_path='data/mahout/v0.10.0/src/', changeset_config_string=u'True-True-False-True', source=['release', 'changeset', 'temporal'], model_config_string=u'seed1-batch-0.002-0.5-0.002-1000-1000-500-1.0-1', force=False, level='file', model_config={'passes': 1, 'eta': 0.002, 'num_topics': 500, 'iterations': 1000, 'decay': 0.5, 'algorithm': 'batch', 'alpha': 0.002, 'offset': 1.0, 'max_bound_iterations': 1000}, model='lda', random_seed_value=1, changeset_config={'include_removals': True, 'include_context': True, 'include_message': False, 'include_additions': True}),\n",
       " Project(name='zookeeper', printable_name='ZooKeeper v3.5.0', version='v3.5.0', ref='refs/tags/release-3.5.0', data_path='data/zookeeper/', full_path='data/zookeeper/v3.5.0/', src_path='data/zookeeper/v3.5.0/src/', changeset_config_string=u'True-True-False-True', source=['release', 'changeset', 'temporal'], model_config_string=u'seed1-batch-0.002-0.5-0.002-1000-1000-500-1.0-1', force=False, level='file', model_config={'passes': 1, 'eta': 0.002, 'num_topics': 500, 'iterations': 1000, 'decay': 0.5, 'algorithm': 'batch', 'alpha': 0.002, 'offset': 1.0, 'max_bound_iterations': 1000}, model='lda', random_seed_value=1, changeset_config={'include_removals': True, 'include_context': True, 'include_message': False, 'include_additions': True})]"
      ]
     },
     "execution_count": 24,
     "metadata": {},
     "output_type": "execute_result"
    }
   ],
   "source": [
    "args = dict(level='file', force=False, model='lda', source=['release', 'changeset', 'temporal'], random_seed_value=1)\n",
    "\n",
    "model_config, model_config_string = src.main.get_default_model_config(args)\n",
    "args.update({'model_config': model_config, 'model_config_string': model_config_string})\n",
    "\n",
    "changeset_config, changeset_config_string = src.main.get_default_changeset_config()\n",
    "args.update({'changeset_config': changeset_config, 'changeset_config_string': changeset_config_string})\n",
    "\n",
    "projects = src.common.load_projects(args)\n",
    "projects"
   ]
  },
  {
   "cell_type": "code",
   "execution_count": 30,
   "metadata": {},
   "outputs": [],
   "source": [
    "for project in projects:\n",
    "    ids = src.common.load_ids(project)\n",
    "    issue2git, git2issue = src.common.load_issue2git(project, ids, filter_ids=True)\n",
    "    assert len(issue2git.keys()) == len(ids), \"%d vs %d\" % (len(issue2git.keys()), len(ids))\n",
    "    goldset = src.goldsets.load_goldset(project)\n",
    "    \n",
    "    with open(os.path.join(project.full_path, 'changes-file-goldset.csv'), 'w') as f:\n",
    "        w =  csv.writer(f)\n",
    "        w.writerow(['sha', 'issues', 'change_type', 'name'])\n",
    "        for sha, changes in goldset.items():\n",
    "            commit, change_list = changes\n",
    "            for change_type, name in change_list:\n",
    "                if sha in git2issue:\n",
    "                    issues = set(git2issue[sha])\n",
    "                    w.writerow([sha, ';'.join(issues), change_type, name])\n",
    "                    \n",
    "for project in projects:\n",
    "    ids = src.common.load_ids(project)\n",
    "    issue2git, git2issue = src.common.load_issue2git(project, ids)\n",
    "    assert len(issue2git.keys()) == len(ids), \"%d vs %d\" % (len(issue2git.keys()), len(ids))\n",
    "    goldset = src.goldsets.load_goldset(project)\n",
    "    \n",
    "    with open(os.path.join(project.full_path, 'changes-file-goldset.csv'), 'w') as f:\n",
    "        w =  csv.writer(f)\n",
    "        w.writerow(['sha', 'issues', 'change_type', 'name'])\n",
    "        for sha, changes in goldset.items():\n",
    "            commit, change_list = changes\n",
    "            for change_type, name in change_list:\n",
    "                if sha in git2issue:\n",
    "                    issues = set(git2issue[sha])\n",
    "                    w.writerow([sha, ';'.join(issues), change_type, name])"
   ]
  },
  {
   "cell_type": "code",
   "execution_count": 26,
   "metadata": {
    "collapsed": true
   },
   "outputs": [],
   "source": [
    "for project in projects:\n",
    "    goldset = src.goldsets.load_goldset(project)\n",
    "    \n",
    "    with open(os.path.join(project.data_path, 'changes-file-full.csv'), 'w') as f:\n",
    "        w =  csv.writer(f)\n",
    "        w.writerow(['sha', 'change_type', 'name'])\n",
    "        for sha, changes in goldset.items():\n",
    "            commit, change_list = changes\n",
    "            for change_type, name in change_list:\n",
    "                w.writerow([sha, change_type, name])"
   ]
  },
  {
   "cell_type": "code",
   "execution_count": null,
   "metadata": {
    "collapsed": true
   },
   "outputs": [],
   "source": []
  }
 ],
 "metadata": {
  "kernelspec": {
   "display_name": "Python 2",
   "language": "python",
   "name": "python2"
  },
  "language_info": {
   "codemirror_mode": {
    "name": "ipython",
    "version": 2
   },
   "file_extension": ".py",
   "mimetype": "text/x-python",
   "name": "python",
   "nbconvert_exporter": "python",
   "pygments_lexer": "ipython2",
   "version": "2.7.14"
  }
 },
 "nbformat": 4,
 "nbformat_minor": 2
}
