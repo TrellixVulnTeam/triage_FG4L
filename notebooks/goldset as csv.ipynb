{
 "cells": [
  {
   "cell_type": "code",
   "execution_count": 43,
   "metadata": {},
   "outputs": [
    {
     "name": "stdout",
     "output_type": "stream",
     "text": [
      "Populating the interactive namespace from numpy and matplotlib\n"
     ]
    },
    {
     "name": "stderr",
     "output_type": "stream",
     "text": [
      "/home/cscorley/envs/triage/lib/python2.7/site-packages/IPython/core/magics/pylab.py:161: UserWarning: pylab import has clobbered these variables: ['f', 'info']\n",
      "`%matplotlib` prevents importing * from pylab and numpy\n",
      "  \"\\n`%matplotlib` prevents importing * from pylab and numpy\"\n"
     ]
    }
   ],
   "source": [
    "% pylab inline"
   ]
  },
  {
   "cell_type": "code",
   "execution_count": 2,
   "metadata": {
    "collapsed": true
   },
   "outputs": [],
   "source": [
    "from __future__ import print_function\n",
    "import os.path\n",
    "import pandas\n",
    "import src\n",
    "import sklearn\n",
    "import os\n",
    "import scipy\n",
    "import scipy.stats\n",
    "import csv"
   ]
  },
  {
   "cell_type": "code",
   "execution_count": 3,
   "metadata": {
    "collapsed": true
   },
   "outputs": [],
   "source": [
    "def fake(*args, **kwargs):\n",
    "    print('Fake called with', str(args), str(kwargs))\n",
    "    sys.exit(1)\n",
    "\n",
    "# fake out the create_model so we don't accidentally attempt to create data\n",
    "src.common.create_model = fake"
   ]
  },
  {
   "cell_type": "code",
   "execution_count": 4,
   "metadata": {},
   "outputs": [
    {
     "name": "stdout",
     "output_type": "stream",
     "text": [
      "/home/cscorley/git/triage/notebooks\n",
      "/home/cscorley/git/triage\n"
     ]
    }
   ],
   "source": [
    "print(os.getcwd())\n",
    "if os.getcwd().endswith('notebooks'):\n",
    "    os.chdir('..')\n",
    "print(os.getcwd())"
   ]
  },
  {
   "cell_type": "code",
   "execution_count": 5,
   "metadata": {},
   "outputs": [
    {
     "data": {
      "text/plain": [
       "[Project(name='tika', printable_name='Tika v1.8', version='v1.8', ref='refs/tags/1.8', data_path='data/tika/', full_path='data/tika/v1.8/', src_path='data/tika/v1.8/src/', changeset_config_string=u'True-True-False-True', source=['release', 'changeset', 'temporal'], model_config_string=u'seed1-batch-0.002-0.5-0.002-1000-1000-500-1.0-1', force=False, level='file', model_config={'passes': 1, 'eta': 0.002, 'num_topics': 500, 'iterations': 1000, 'decay': 0.5, 'algorithm': 'batch', 'alpha': 0.002, 'offset': 1.0, 'max_bound_iterations': 1000}, model='lda', random_seed_value=1, changeset_config={'include_removals': True, 'include_context': True, 'include_message': False, 'include_additions': True}),\n",
       " Project(name='pig', printable_name='Pig v0.14.0', version='v0.14.0', ref='refs/tags/release-0.14.0', data_path='data/pig/', full_path='data/pig/v0.14.0/', src_path='data/pig/v0.14.0/src/', changeset_config_string=u'True-True-False-True', source=['release', 'changeset', 'temporal'], model_config_string=u'seed1-batch-0.002-0.5-0.002-1000-1000-500-1.0-1', force=False, level='file', model_config={'passes': 1, 'eta': 0.002, 'num_topics': 500, 'iterations': 1000, 'decay': 0.5, 'algorithm': 'batch', 'alpha': 0.002, 'offset': 1.0, 'max_bound_iterations': 1000}, model='lda', random_seed_value=1, changeset_config={'include_removals': True, 'include_context': True, 'include_message': False, 'include_additions': True}),\n",
       " Project(name='bookkeeper', printable_name='BookKeeper v4.3.0', version='v4.3.0', ref='refs/tags/release-4.3.0', data_path='data/bookkeeper/', full_path='data/bookkeeper/v4.3.0/', src_path='data/bookkeeper/v4.3.0/src/', changeset_config_string=u'True-True-False-True', source=['release', 'changeset', 'temporal'], model_config_string=u'seed1-batch-0.002-0.5-0.002-1000-1000-500-1.0-1', force=False, level='file', model_config={'passes': 1, 'eta': 0.002, 'num_topics': 500, 'iterations': 1000, 'decay': 0.5, 'algorithm': 'batch', 'alpha': 0.002, 'offset': 1.0, 'max_bound_iterations': 1000}, model='lda', random_seed_value=1, changeset_config={'include_removals': True, 'include_context': True, 'include_message': False, 'include_additions': True}),\n",
       " Project(name='openjpa', printable_name='OpenJPA v2.3.0', version='v2.3.0', ref='refs/tags/2.3.0', data_path='data/openjpa/', full_path='data/openjpa/v2.3.0/', src_path='data/openjpa/v2.3.0/src/', changeset_config_string=u'True-True-False-True', source=['release', 'changeset', 'temporal'], model_config_string=u'seed1-batch-0.002-0.5-0.002-1000-1000-500-1.0-1', force=False, level='file', model_config={'passes': 1, 'eta': 0.002, 'num_topics': 500, 'iterations': 1000, 'decay': 0.5, 'algorithm': 'batch', 'alpha': 0.002, 'offset': 1.0, 'max_bound_iterations': 1000}, model='lda', random_seed_value=1, changeset_config={'include_removals': True, 'include_context': True, 'include_message': False, 'include_additions': True}),\n",
       " Project(name='mahout', printable_name='Mahout v0.10.0', version='v0.10.0', ref='refs/tags/mahout-0.10', data_path='data/mahout/', full_path='data/mahout/v0.10.0/', src_path='data/mahout/v0.10.0/src/', changeset_config_string=u'True-True-False-True', source=['release', 'changeset', 'temporal'], model_config_string=u'seed1-batch-0.002-0.5-0.002-1000-1000-500-1.0-1', force=False, level='file', model_config={'passes': 1, 'eta': 0.002, 'num_topics': 500, 'iterations': 1000, 'decay': 0.5, 'algorithm': 'batch', 'alpha': 0.002, 'offset': 1.0, 'max_bound_iterations': 1000}, model='lda', random_seed_value=1, changeset_config={'include_removals': True, 'include_context': True, 'include_message': False, 'include_additions': True}),\n",
       " Project(name='zookeeper', printable_name='ZooKeeper v3.5.0', version='v3.5.0', ref='refs/tags/release-3.5.0', data_path='data/zookeeper/', full_path='data/zookeeper/v3.5.0/', src_path='data/zookeeper/v3.5.0/src/', changeset_config_string=u'True-True-False-True', source=['release', 'changeset', 'temporal'], model_config_string=u'seed1-batch-0.002-0.5-0.002-1000-1000-500-1.0-1', force=False, level='file', model_config={'passes': 1, 'eta': 0.002, 'num_topics': 500, 'iterations': 1000, 'decay': 0.5, 'algorithm': 'batch', 'alpha': 0.002, 'offset': 1.0, 'max_bound_iterations': 1000}, model='lda', random_seed_value=1, changeset_config={'include_removals': True, 'include_context': True, 'include_message': False, 'include_additions': True})]"
      ]
     },
     "execution_count": 5,
     "metadata": {},
     "output_type": "execute_result"
    }
   ],
   "source": [
    "args = dict(level='file', force=False, model='lda', source=['release', 'changeset', 'temporal'], random_seed_value=1)\n",
    "\n",
    "model_config, model_config_string = src.main.get_default_model_config(args)\n",
    "args.update({'model_config': model_config, 'model_config_string': model_config_string})\n",
    "\n",
    "changeset_config, changeset_config_string = src.main.get_default_changeset_config()\n",
    "args.update({'changeset_config': changeset_config, 'changeset_config_string': changeset_config_string})\n",
    "\n",
    "projects = src.common.load_projects(args)\n",
    "projects"
   ]
  },
  {
   "cell_type": "code",
   "execution_count": 6,
   "metadata": {
    "collapsed": true
   },
   "outputs": [],
   "source": [
    "import dulwich\n",
    "import dulwich.patch\n",
    "import io\n",
    "from StringIO import StringIO"
   ]
  },
  {
   "cell_type": "code",
   "execution_count": 65,
   "metadata": {
    "collapsed": true
   },
   "outputs": [],
   "source": [
    "def get_diff(repo, changeset):\n",
    "    \"\"\" Return a text representing a `git diff` for the files in the\n",
    "    changeset.\n",
    "\n",
    "    \"\"\"\n",
    "    patch_file = StringIO()\n",
    "    dulwich.patch.write_object_diff(patch_file,\n",
    "                                    repo.object_store,\n",
    "                                    changeset.old, changeset.new)\n",
    "    return patch_file.getvalue()\n",
    "\n",
    "def walk_changes(repo):\n",
    "    \"\"\" Returns one file change at a time, not the entire diff.\n",
    "\n",
    "    \"\"\"\n",
    "\n",
    "    for walk_entry in repo.get_walker(reverse=True):\n",
    "        commit = walk_entry.commit\n",
    "        \n",
    "        for change in get_changes(repo, commit):\n",
    "            yield change\n",
    "\n",
    "def get_changes(repo, commit):\n",
    "        # initial revision, has no parent\n",
    "        if len(commit.parents) == 0:\n",
    "            for changes in dulwich.diff_tree.tree_changes(\n",
    "                    repo.object_store, None, commit.tree\n",
    "            ):\n",
    "                diff = get_diff(repo, changes)\n",
    "\n",
    "                yield commit, None, diff, get_path(changes)\n",
    "\n",
    "        for parent in commit.parents:\n",
    "            # do I need to know the parent id?\n",
    "            try:\n",
    "                for changes in dulwich.diff_tree.tree_changes(\n",
    "                    repo.object_store, repo[parent].tree, commit.tree, want_unchanged=False\n",
    "                ):\n",
    "                    diff = get_diff(repo, changes)\n",
    "                    yield commit, parent, diff, get_path(changes)\n",
    "            except KeyError as e:\n",
    "                print(\"skipping commit:\", commit, \", parent:\", parent, \", exception:\", e)\n",
    "        \n",
    "\n",
    "def get_path(change):\n",
    "    path = '/dev/null'\n",
    "    if change.old.path and change.new.path:\n",
    "        path = change.new.path\n",
    "    elif change.old.path:\n",
    "        path = change.old.path\n",
    "    elif change.new.path:\n",
    "        path = change.new.path\n",
    "    return path\n"
   ]
  },
  {
   "cell_type": "code",
   "execution_count": 52,
   "metadata": {
    "collapsed": true
   },
   "outputs": [],
   "source": [
    "import re"
   ]
  },
  {
   "cell_type": "code",
   "execution_count": 53,
   "metadata": {
    "collapsed": true
   },
   "outputs": [],
   "source": [
    "unified = re.compile(r'^[+ -].*')\n",
    "context = re.compile(r'^ .*')\n",
    "addition = re.compile(r'^\\+.*')\n",
    "removal = re.compile(r'^-.*')"
   ]
  },
  {
   "cell_type": "code",
   "execution_count": 54,
   "metadata": {
    "collapsed": true,
    "scrolled": true
   },
   "outputs": [],
   "source": [
    "def get_commit_info(project):\n",
    "    commit2linecount = dict()\n",
    "    for commit, p, d, fname in walk_changes(src.common.load_repos(project)[0]):\n",
    "\n",
    "        diff_lines = filter(lambda x: unified.match(x),\n",
    "                                    d.splitlines())\n",
    "        if len(diff_lines) < 2:\n",
    "            # useful for not worrying with binary files\n",
    "            a, r, c = 0, 0, 0\n",
    "        else:\n",
    "            # sanity?\n",
    "            assert diff_lines[0].startswith('--- '), diff_lines[0]\n",
    "            assert diff_lines[1].startswith('+++ '), diff_lines[1]\n",
    "            # parent_fn = diff_lines[0][4:]\n",
    "            # commit_fn = diff_lines[1][4:]\n",
    "\n",
    "            lines = diff_lines[2:]  # chop off file names hashtag rebel\n",
    "            a = len(filter(lambda x: addition.match(x), lines))\n",
    "            r = len(filter(lambda x: removal.match(x), lines))\n",
    "            c = len(filter(lambda x: context.match(x), lines))\n",
    "        m = len(commit.message.splitlines())\n",
    "\n",
    "        if commit.id not in commit2linecount:\n",
    "            commit2linecount[commit.id] = dict()\n",
    "\n",
    "        commit2linecount[commit.id][fname] = (a, r, c, m)\n",
    "    return commit2linecount"
   ]
  },
  {
   "cell_type": "code",
   "execution_count": 55,
   "metadata": {
    "collapsed": true
   },
   "outputs": [],
   "source": [
    "def get_commit_info1(repo, commit):\n",
    "    commit2linecount = dict()\n",
    "    for commit, p, d, fname in get_changes(repo, commit):\n",
    "\n",
    "        diff_lines = filter(lambda x: unified.match(x),\n",
    "                                    d.splitlines())\n",
    "        if len(diff_lines) < 2:\n",
    "            # useful for not worrying with binary files\n",
    "            a, r, c = 0, 0, 0\n",
    "        else:\n",
    "            # sanity?\n",
    "            assert diff_lines[0].startswith('--- '), diff_lines[0]\n",
    "            assert diff_lines[1].startswith('+++ '), diff_lines[1]\n",
    "            # parent_fn = diff_lines[0][4:]\n",
    "            # commit_fn = diff_lines[1][4:]\n",
    "\n",
    "            lines = diff_lines[2:]  # chop off file names hashtag rebel\n",
    "            a = len(filter(lambda x: addition.match(x), lines))\n",
    "            r = len(filter(lambda x: removal.match(x), lines))\n",
    "            c = len(filter(lambda x: context.match(x), lines))\n",
    "        m = len(commit.message.splitlines())\n",
    "\n",
    "        commit2linecount[fname] = (a, r, c, m)\n",
    "    return commit2linecount"
   ]
  },
  {
   "cell_type": "code",
   "execution_count": 72,
   "metadata": {},
   "outputs": [
    {
     "name": "stdout",
     "output_type": "stream",
     "text": [
      "skipping commit: commit b830f4e88c991d67a84ed883c6136989a54c2556\n",
      "tree dac06a675491b4f71805a4384c22e3456632122d\n",
      "parent d17c46fc79da130e3738baaa74af9c99f1e234f2\n",
      "author Sijie Guo <sijie@apache.org> 1423818911 -0800\n",
      "committer Sijie Guo <sijie@apache.org> 1423818911 -0800\n",
      "\n",
      "    BookKeeper Release 4.3.1\n",
      "\n",
      " , parent: d17c46fc79da130e3738baaa74af9c99f1e234f2 , exception: 'dac06a675491b4f71805a4384c22e3456632122d'\n",
      "skipping commit: commit b830f4e88c991d67a84ed883c6136989a54c2556\n",
      "tree dac06a675491b4f71805a4384c22e3456632122d\n",
      "parent d17c46fc79da130e3738baaa74af9c99f1e234f2\n",
      "author Sijie Guo <sijie@apache.org> 1423818911 -0800\n",
      "committer Sijie Guo <sijie@apache.org> 1423818911 -0800\n",
      "\n",
      "    BookKeeper Release 4.3.1\n",
      "\n",
      " , parent: d17c46fc79da130e3738baaa74af9c99f1e234f2 , exception: 'dac06a675491b4f71805a4384c22e3456632122d'\n",
      "skipping commit: commit b830f4e88c991d67a84ed883c6136989a54c2556\n",
      "tree dac06a675491b4f71805a4384c22e3456632122d\n",
      "parent d17c46fc79da130e3738baaa74af9c99f1e234f2\n",
      "author Sijie Guo <sijie@apache.org> 1423818911 -0800\n",
      "committer Sijie Guo <sijie@apache.org> 1423818911 -0800\n",
      "\n",
      "    BookKeeper Release 4.3.1\n",
      "\n",
      " , parent: d17c46fc79da130e3738baaa74af9c99f1e234f2 , exception: 'dac06a675491b4f71805a4384c22e3456632122d'\n",
      "skipping commit: commit b830f4e88c991d67a84ed883c6136989a54c2556\n",
      "tree dac06a675491b4f71805a4384c22e3456632122d\n",
      "parent d17c46fc79da130e3738baaa74af9c99f1e234f2\n",
      "author Sijie Guo <sijie@apache.org> 1423818911 -0800\n",
      "committer Sijie Guo <sijie@apache.org> 1423818911 -0800\n",
      "\n",
      "    BookKeeper Release 4.3.1\n",
      "\n",
      " , name: bookkeeper-benchmark/pom.xml , exception: 'bookkeeper-benchmark/pom.xml'\n",
      "skipping commit: commit b830f4e88c991d67a84ed883c6136989a54c2556\n",
      "tree dac06a675491b4f71805a4384c22e3456632122d\n",
      "parent d17c46fc79da130e3738baaa74af9c99f1e234f2\n",
      "author Sijie Guo <sijie@apache.org> 1423818911 -0800\n",
      "committer Sijie Guo <sijie@apache.org> 1423818911 -0800\n",
      "\n",
      "    BookKeeper Release 4.3.1\n",
      "\n",
      " , name: bookkeeper-server/pom.xml , exception: 'bookkeeper-server/pom.xml'\n",
      "skipping commit: commit b830f4e88c991d67a84ed883c6136989a54c2556\n",
      "tree dac06a675491b4f71805a4384c22e3456632122d\n",
      "parent d17c46fc79da130e3738baaa74af9c99f1e234f2\n",
      "author Sijie Guo <sijie@apache.org> 1423818911 -0800\n",
      "committer Sijie Guo <sijie@apache.org> 1423818911 -0800\n",
      "\n",
      "    BookKeeper Release 4.3.1\n",
      "\n",
      " , name: bookkeeper-stats/pom.xml , exception: 'bookkeeper-stats/pom.xml'\n",
      "skipping commit: commit b830f4e88c991d67a84ed883c6136989a54c2556\n",
      "tree dac06a675491b4f71805a4384c22e3456632122d\n",
      "parent d17c46fc79da130e3738baaa74af9c99f1e234f2\n",
      "author Sijie Guo <sijie@apache.org> 1423818911 -0800\n",
      "committer Sijie Guo <sijie@apache.org> 1423818911 -0800\n",
      "\n",
      "    BookKeeper Release 4.3.1\n",
      "\n",
      " , name: bookkeeper-stats-providers/codahale-metrics-provider/pom.xml , exception: 'bookkeeper-stats-providers/codahale-metrics-provider/pom.xml'\n",
      "skipping commit: commit b830f4e88c991d67a84ed883c6136989a54c2556\n",
      "tree dac06a675491b4f71805a4384c22e3456632122d\n",
      "parent d17c46fc79da130e3738baaa74af9c99f1e234f2\n",
      "author Sijie Guo <sijie@apache.org> 1423818911 -0800\n",
      "committer Sijie Guo <sijie@apache.org> 1423818911 -0800\n",
      "\n",
      "    BookKeeper Release 4.3.1\n",
      "\n",
      " , name: bookkeeper-stats-providers/pom.xml , exception: 'bookkeeper-stats-providers/pom.xml'\n",
      "skipping commit: commit b830f4e88c991d67a84ed883c6136989a54c2556\n",
      "tree dac06a675491b4f71805a4384c22e3456632122d\n",
      "parent d17c46fc79da130e3738baaa74af9c99f1e234f2\n",
      "author Sijie Guo <sijie@apache.org> 1423818911 -0800\n",
      "committer Sijie Guo <sijie@apache.org> 1423818911 -0800\n",
      "\n",
      "    BookKeeper Release 4.3.1\n",
      "\n",
      " , name: bookkeeper-stats-providers/twitter-ostrich-provider/pom.xml , exception: 'bookkeeper-stats-providers/twitter-ostrich-provider/pom.xml'\n",
      "skipping commit: commit b830f4e88c991d67a84ed883c6136989a54c2556\n",
      "tree dac06a675491b4f71805a4384c22e3456632122d\n",
      "parent d17c46fc79da130e3738baaa74af9c99f1e234f2\n",
      "author Sijie Guo <sijie@apache.org> 1423818911 -0800\n",
      "committer Sijie Guo <sijie@apache.org> 1423818911 -0800\n",
      "\n",
      "    BookKeeper Release 4.3.1\n",
      "\n",
      " , name: bookkeeper-stats-providers/twitter-science-provider/pom.xml , exception: 'bookkeeper-stats-providers/twitter-science-provider/pom.xml'\n",
      "skipping commit: commit b830f4e88c991d67a84ed883c6136989a54c2556\n",
      "tree dac06a675491b4f71805a4384c22e3456632122d\n",
      "parent d17c46fc79da130e3738baaa74af9c99f1e234f2\n",
      "author Sijie Guo <sijie@apache.org> 1423818911 -0800\n",
      "committer Sijie Guo <sijie@apache.org> 1423818911 -0800\n",
      "\n",
      "    BookKeeper Release 4.3.1\n",
      "\n",
      " , name: compat-deps/bookkeeper-server-compat-4.0.0/pom.xml , exception: 'compat-deps/bookkeeper-server-compat-4.0.0/pom.xml'\n",
      "skipping commit: commit b830f4e88c991d67a84ed883c6136989a54c2556\n",
      "tree dac06a675491b4f71805a4384c22e3456632122d\n",
      "parent d17c46fc79da130e3738baaa74af9c99f1e234f2\n",
      "author Sijie Guo <sijie@apache.org> 1423818911 -0800\n",
      "committer Sijie Guo <sijie@apache.org> 1423818911 -0800\n",
      "\n",
      "    BookKeeper Release 4.3.1\n",
      "\n",
      " , name: compat-deps/bookkeeper-server-compat-4.1.0/pom.xml , exception: 'compat-deps/bookkeeper-server-compat-4.1.0/pom.xml'\n",
      "skipping commit: commit b830f4e88c991d67a84ed883c6136989a54c2556\n",
      "tree dac06a675491b4f71805a4384c22e3456632122d\n",
      "parent d17c46fc79da130e3738baaa74af9c99f1e234f2\n",
      "author Sijie Guo <sijie@apache.org> 1423818911 -0800\n",
      "committer Sijie Guo <sijie@apache.org> 1423818911 -0800\n",
      "\n",
      "    BookKeeper Release 4.3.1\n",
      "\n",
      " , name: compat-deps/bookkeeper-server-compat-4.2.0/pom.xml , exception: 'compat-deps/bookkeeper-server-compat-4.2.0/pom.xml'\n",
      "skipping commit: commit b830f4e88c991d67a84ed883c6136989a54c2556\n",
      "tree dac06a675491b4f71805a4384c22e3456632122d\n",
      "parent d17c46fc79da130e3738baaa74af9c99f1e234f2\n",
      "author Sijie Guo <sijie@apache.org> 1423818911 -0800\n",
      "committer Sijie Guo <sijie@apache.org> 1423818911 -0800\n",
      "\n",
      "    BookKeeper Release 4.3.1\n",
      "\n",
      " , name: compat-deps/hedwig-server-compat-4.0.0/pom.xml , exception: 'compat-deps/hedwig-server-compat-4.0.0/pom.xml'\n",
      "skipping commit: commit b830f4e88c991d67a84ed883c6136989a54c2556\n",
      "tree dac06a675491b4f71805a4384c22e3456632122d\n",
      "parent d17c46fc79da130e3738baaa74af9c99f1e234f2\n",
      "author Sijie Guo <sijie@apache.org> 1423818911 -0800\n",
      "committer Sijie Guo <sijie@apache.org> 1423818911 -0800\n",
      "\n",
      "    BookKeeper Release 4.3.1\n",
      "\n",
      " , name: compat-deps/hedwig-server-compat-4.1.0/pom.xml , exception: 'compat-deps/hedwig-server-compat-4.1.0/pom.xml'\n",
      "skipping commit: commit b830f4e88c991d67a84ed883c6136989a54c2556\n",
      "tree dac06a675491b4f71805a4384c22e3456632122d\n",
      "parent d17c46fc79da130e3738baaa74af9c99f1e234f2\n",
      "author Sijie Guo <sijie@apache.org> 1423818911 -0800\n",
      "committer Sijie Guo <sijie@apache.org> 1423818911 -0800\n",
      "\n",
      "    BookKeeper Release 4.3.1\n",
      "\n",
      " , name: compat-deps/hedwig-server-compat-4.2.0/pom.xml , exception: 'compat-deps/hedwig-server-compat-4.2.0/pom.xml'\n",
      "skipping commit: commit b830f4e88c991d67a84ed883c6136989a54c2556\n",
      "tree dac06a675491b4f71805a4384c22e3456632122d\n",
      "parent d17c46fc79da130e3738baaa74af9c99f1e234f2\n",
      "author Sijie Guo <sijie@apache.org> 1423818911 -0800\n",
      "committer Sijie Guo <sijie@apache.org> 1423818911 -0800\n",
      "\n",
      "    BookKeeper Release 4.3.1\n",
      "\n",
      " , name: compat-deps/pom.xml , exception: 'compat-deps/pom.xml'\n",
      "skipping commit: commit b830f4e88c991d67a84ed883c6136989a54c2556\n",
      "tree dac06a675491b4f71805a4384c22e3456632122d\n",
      "parent d17c46fc79da130e3738baaa74af9c99f1e234f2\n",
      "author Sijie Guo <sijie@apache.org> 1423818911 -0800\n",
      "committer Sijie Guo <sijie@apache.org> 1423818911 -0800\n",
      "\n",
      "    BookKeeper Release 4.3.1\n",
      "\n",
      " , name: hedwig-client/pom.xml , exception: 'hedwig-client/pom.xml'\n",
      "skipping commit: commit b830f4e88c991d67a84ed883c6136989a54c2556\n",
      "tree dac06a675491b4f71805a4384c22e3456632122d\n",
      "parent d17c46fc79da130e3738baaa74af9c99f1e234f2\n",
      "author Sijie Guo <sijie@apache.org> 1423818911 -0800\n",
      "committer Sijie Guo <sijie@apache.org> 1423818911 -0800\n",
      "\n",
      "    BookKeeper Release 4.3.1\n",
      "\n",
      " , name: hedwig-client-jms/pom.xml , exception: 'hedwig-client-jms/pom.xml'\n",
      "skipping commit: commit b830f4e88c991d67a84ed883c6136989a54c2556\n",
      "tree dac06a675491b4f71805a4384c22e3456632122d\n",
      "parent d17c46fc79da130e3738baaa74af9c99f1e234f2\n",
      "author Sijie Guo <sijie@apache.org> 1423818911 -0800\n",
      "committer Sijie Guo <sijie@apache.org> 1423818911 -0800\n",
      "\n",
      "    BookKeeper Release 4.3.1\n",
      "\n",
      " , name: hedwig-protocol/pom.xml , exception: 'hedwig-protocol/pom.xml'\n",
      "skipping commit: commit b830f4e88c991d67a84ed883c6136989a54c2556\n",
      "tree dac06a675491b4f71805a4384c22e3456632122d\n",
      "parent d17c46fc79da130e3738baaa74af9c99f1e234f2\n",
      "author Sijie Guo <sijie@apache.org> 1423818911 -0800\n",
      "committer Sijie Guo <sijie@apache.org> 1423818911 -0800\n",
      "\n",
      "    BookKeeper Release 4.3.1\n",
      "\n",
      " , name: hedwig-server/pom.xml , exception: 'hedwig-server/pom.xml'\n",
      "skipping commit: commit b830f4e88c991d67a84ed883c6136989a54c2556\n",
      "tree dac06a675491b4f71805a4384c22e3456632122d\n",
      "parent d17c46fc79da130e3738baaa74af9c99f1e234f2\n",
      "author Sijie Guo <sijie@apache.org> 1423818911 -0800\n",
      "committer Sijie Guo <sijie@apache.org> 1423818911 -0800\n",
      "\n",
      "    BookKeeper Release 4.3.1\n",
      "\n",
      " , name: pom.xml , exception: 'pom.xml'\n"
     ]
    }
   ],
   "source": [
    "for project in projects:\n",
    "    ids = src.common.load_ids(project)\n",
    "    issue2git, git2issue = src.common.load_issue2git(project, ids, filter_ids=True)\n",
    "    goldset = src.goldsets.load_goldset(project)\n",
    "    #commit2linecount = get_commit_info(project)\n",
    "    repo = src.common.load_repos(project)[0]\n",
    "    \n",
    "    with open(os.path.join(project.full_path, 'changes-file-goldset.csv'), 'w') as f:\n",
    "        w =  csv.writer(f)\n",
    "        w.writerow(['sha', 'issues', 'change_type', 'name', 'additions', 'removals', 'context', 'message'])\n",
    "        for sha, changes in goldset.items():\n",
    "            commit, change_list = changes\n",
    "            info = get_commit_info1(repo, commit)\n",
    "            for change_type, name in change_list:\n",
    "                if sha in git2issue:\n",
    "                    issues = set(git2issue[sha])\n",
    "                    w.writerow([sha, ';'.join(issues), change_type, name] + list(info[name]))\n",
    "\n",
    "    issue2git, git2issue = src.common.load_issue2git(project, ids, filter_ids=False)\n",
    "    \n",
    "    with open(os.path.join(project.data_path, 'changes-file-issues.csv'), 'w') as f:\n",
    "        w =  csv.writer(f)\n",
    "        w.writerow(['sha', 'issues', 'change_type', 'name', 'additions', 'removals', 'context', 'message'])\n",
    "        for sha, changes in goldset.items():\n",
    "            commit, change_list = changes\n",
    "            info = get_commit_info1(repo, commit)\n",
    "            for change_type, name in change_list:\n",
    "                if sha in git2issue:\n",
    "                    issues = set(git2issue[sha])\n",
    "                    w.writerow([sha, ';'.join(issues), change_type, name]+ list(info[name]))\n",
    "                    \n",
    "                        \n",
    "    with open(os.path.join(project.data_path, 'changes-file-full.csv'), 'w') as f:\n",
    "        w =  csv.writer(f)\n",
    "        w.writerow(['sha', 'change_type', 'name', 'additions', 'removals', 'context', 'message'])\n",
    "        for sha, changes in goldset.items():\n",
    "            commit, change_list = changes\n",
    "            info = get_commit_info1(repo, commit)\n",
    "            for change_type, name in change_list:\n",
    "                try:\n",
    "                    w.writerow([sha, change_type, name]  + list(info[name]))\n",
    "                except KeyError as e:\n",
    "                    print(\"skipping commit:\", commit, \", name:\", name, \", exception:\", e)\n",
    "                    "
   ]
  },
  {
   "cell_type": "code",
   "execution_count": 46,
   "metadata": {},
   "outputs": [
    {
     "data": {
      "text/plain": [
       "('b830f4e88c991d67a84ed883c6136989a54c2556',\n",
       " Project(name='bookkeeper', printable_name='BookKeeper v4.3.0', version='v4.3.0', ref='refs/tags/release-4.3.0', data_path='data/bookkeeper/', full_path='data/bookkeeper/v4.3.0/', src_path='data/bookkeeper/v4.3.0/src/', changeset_config_string=u'True-True-False-True', source=['release', 'changeset', 'temporal'], model_config_string=u'seed1-batch-0.002-0.5-0.002-1000-1000-500-1.0-1', force=False, level='file', model_config={'passes': 1, 'eta': 0.002, 'num_topics': 500, 'iterations': 1000, 'decay': 0.5, 'algorithm': 'batch', 'alpha': 0.002, 'offset': 1.0, 'max_bound_iterations': 1000}, model='lda', random_seed_value=1, changeset_config={'include_removals': True, 'include_context': True, 'include_message': False, 'include_additions': True}))"
      ]
     },
     "execution_count": 46,
     "metadata": {},
     "output_type": "execute_result"
    }
   ],
   "source": [
    "sha, project"
   ]
  },
  {
   "cell_type": "code",
   "execution_count": 47,
   "metadata": {},
   "outputs": [
    {
     "data": {
      "text/plain": [
       "<Commit b830f4e88c991d67a84ed883c6136989a54c2556>"
      ]
     },
     "execution_count": 47,
     "metadata": {},
     "output_type": "execute_result"
    }
   ],
   "source": [
    "commit"
   ]
  },
  {
   "cell_type": "code",
   "execution_count": 48,
   "metadata": {},
   "outputs": [
    {
     "data": {
      "text/plain": [
       "'pom.xml'"
      ]
     },
     "execution_count": 48,
     "metadata": {},
     "output_type": "execute_result"
    }
   ],
   "source": [
    "name"
   ]
  },
  {
   "cell_type": "code",
   "execution_count": 49,
   "metadata": {},
   "outputs": [
    {
     "data": {
      "text/plain": [
       "(<Commit b830f4e88c991d67a84ed883c6136989a54c2556>,\n",
       " [['M', 'bookkeeper-benchmark/pom.xml'],\n",
       "  ['M', 'bookkeeper-server/pom.xml'],\n",
       "  ['M', 'bookkeeper-stats/pom.xml'],\n",
       "  ['M', 'bookkeeper-stats-providers/codahale-metrics-provider/pom.xml'],\n",
       "  ['M', 'bookkeeper-stats-providers/pom.xml'],\n",
       "  ['M', 'bookkeeper-stats-providers/twitter-ostrich-provider/pom.xml'],\n",
       "  ['M', 'bookkeeper-stats-providers/twitter-science-provider/pom.xml'],\n",
       "  ['M', 'compat-deps/bookkeeper-server-compat-4.0.0/pom.xml'],\n",
       "  ['M', 'compat-deps/bookkeeper-server-compat-4.1.0/pom.xml'],\n",
       "  ['M', 'compat-deps/bookkeeper-server-compat-4.2.0/pom.xml'],\n",
       "  ['M', 'compat-deps/hedwig-server-compat-4.0.0/pom.xml'],\n",
       "  ['M', 'compat-deps/hedwig-server-compat-4.1.0/pom.xml'],\n",
       "  ['M', 'compat-deps/hedwig-server-compat-4.2.0/pom.xml'],\n",
       "  ['M', 'compat-deps/pom.xml'],\n",
       "  ['M', 'hedwig-client/pom.xml'],\n",
       "  ['M', 'hedwig-client-jms/pom.xml'],\n",
       "  ['M', 'hedwig-protocol/pom.xml'],\n",
       "  ['M', 'hedwig-server/pom.xml'],\n",
       "  ['M', 'pom.xml']])"
      ]
     },
     "execution_count": 49,
     "metadata": {},
     "output_type": "execute_result"
    }
   ],
   "source": [
    "changes"
   ]
  },
  {
   "cell_type": "code",
   "execution_count": 50,
   "metadata": {},
   "outputs": [
    {
     "data": {
      "text/plain": [
       "{'CHANGES.txt': (1, 1, 3, 4),\n",
       " 'bookkeeper-benchmark/pom.xml': (1, 1, 6, 4),\n",
       " 'bookkeeper-server/pom.xml': (1, 1, 6, 4),\n",
       " 'compat-deps/bookkeeper-server-compat-4.0.0/pom.xml': (1, 1, 6, 4),\n",
       " 'compat-deps/bookkeeper-server-compat-4.1.0/pom.xml': (1, 1, 6, 4),\n",
       " 'compat-deps/hedwig-server-compat-4.0.0/pom.xml': (1, 1, 6, 4),\n",
       " 'compat-deps/hedwig-server-compat-4.1.0/pom.xml': (1, 1, 6, 4),\n",
       " 'compat-deps/pom.xml': (2, 2, 9, 4),\n",
       " 'hedwig-client/pom.xml': (1, 1, 6, 4),\n",
       " 'hedwig-protocol/pom.xml': (1, 1, 6, 4),\n",
       " 'hedwig-server/pom.xml': (1, 1, 6, 4),\n",
       " 'pom.xml': (1, 1, 6, 4)}"
      ]
     },
     "execution_count": 50,
     "metadata": {},
     "output_type": "execute_result"
    }
   ],
   "source": [
    "info"
   ]
  },
  {
   "cell_type": "code",
   "execution_count": 66,
   "metadata": {},
   "outputs": [
    {
     "name": "stdout",
     "output_type": "stream",
     "text": [
      "skipping commit: commit b830f4e88c991d67a84ed883c6136989a54c2556\n",
      "tree dac06a675491b4f71805a4384c22e3456632122d\n",
      "parent d17c46fc79da130e3738baaa74af9c99f1e234f2\n",
      "author Sijie Guo <sijie@apache.org> 1423818911 -0800\n",
      "committer Sijie Guo <sijie@apache.org> 1423818911 -0800\n",
      "\n",
      "    BookKeeper Release 4.3.1\n",
      "\n",
      " , parent: d17c46fc79da130e3738baaa74af9c99f1e234f2 , exception: 'dac06a675491b4f71805a4384c22e3456632122d'\n"
     ]
    },
    {
     "data": {
      "text/plain": [
       "{}"
      ]
     },
     "execution_count": 66,
     "metadata": {},
     "output_type": "execute_result"
    }
   ],
   "source": [
    "get_commit_info1(repo, commit)"
   ]
  },
  {
   "cell_type": "code",
   "execution_count": null,
   "metadata": {
    "collapsed": true
   },
   "outputs": [],
   "source": []
  }
 ],
 "metadata": {
  "kernelspec": {
   "display_name": "Python 2",
   "language": "python",
   "name": "python2"
  },
  "language_info": {
   "codemirror_mode": {
    "name": "ipython",
    "version": 2
   },
   "file_extension": ".py",
   "mimetype": "text/x-python",
   "name": "python",
   "nbconvert_exporter": "python",
   "pygments_lexer": "ipython2",
   "version": "2.7.14"
  }
 },
 "nbformat": 4,
 "nbformat_minor": 2
}
