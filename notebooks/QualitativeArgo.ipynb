{
 "cells": [
  {
   "cell_type": "code",
   "execution_count": 25,
   "metadata": {
    "collapsed": false
   },
   "outputs": [
    {
     "name": "stdout",
     "output_type": "stream",
     "text": [
      "Using matplotlib backend: agg\n",
      "Populating the interactive namespace from numpy and matplotlib\n"
     ]
    }
   ],
   "source": [
    "%pylab\n",
    "from __future__ import print_function\n",
    "\n",
    "%matplotlib inline"
   ]
  },
  {
   "cell_type": "code",
   "execution_count": 26,
   "metadata": {
    "collapsed": true
   },
   "outputs": [],
   "source": [
    "from __future__ import print_function\n",
    "\n",
    "import csv\n",
    "from src import main, utils\n",
    "import sys\n",
    "\n",
    "projects = main.load_projects()\n",
    "interests = ['argouml v0.26.2 method', 'mucommander v0.8.5 method']\n",
    "\n",
    "p = list()\n",
    "for project in projects:\n",
    "    if ' '.join([project.name, project.version, project.level]) not in interests:\n",
    "        continue\n",
    "    p.append(project)"
   ]
  },
  {
   "cell_type": "code",
   "execution_count": 27,
   "metadata": {
    "collapsed": false
   },
   "outputs": [
    {
     "name": "stdout",
     "output_type": "stream",
     "text": [
      "Project(name='argouml', printable_name='ArgoUML', version='v0.26.2', level='method', ref='refs/tags/VERSION_0_26_2', alpha=None, eta=None, passes=5, iterations=1000, num_topics=500, src_url='http://argouml-downloads.tigris.org/nonav/argouml-0.26.2/ArgoUML-0.26.2-src.zip', data_path='data/argouml/', full_path='data/argouml/v0.26.2/', src_path='data/argouml/v0.26.2/src')\n"
     ]
    }
   ],
   "source": [
    "project = p[0]\n",
    "print(project)\n",
    "repos = main.load_repos(project)\n",
    "goldsets = main.load_goldsets(project)\n",
    "\n",
    "queries = main.create_queries(project)\n",
    "snapshot = main.create_release_corpus(project, repos)\n",
    "changesets = main.create_corpus(project, repos, main.ChangesetCorpus, use_level=False)\n",
    "\n",
    "snapshot_lda, _  = main.create_lda_model(project, snapshot, None, \"Release\", use_level=True)\n",
    "changeset_lda, _ = main.create_lda_model(project, changesets, None, \"Changeset\", use_level=False)\n",
    "\n",
    "snapshot_ranks = main.read_ranks(project, \"release\")\n",
    "changeset_ranks = main.read_ranks(project, \"changeset\")\n",
    "snapshot_frms = dict( (y,(x,z)) for x,y,z in main.get_frms(goldsets, snapshot_ranks))\n",
    "changeset_frms = dict( (y,(x,z)) for x,y,z in  main.get_frms(goldsets, changeset_ranks))"
   ]
  },
  {
   "cell_type": "code",
   "execution_count": 28,
   "metadata": {
    "collapsed": false
   },
   "outputs": [],
   "source": [
    "q = dict()\n",
    "for query, topics in main.get_topics(snapshot_lda, queries, by_ids=[\"5258\", \"5088\"], full=False):\n",
    "    topics = sorted(topics, key=lambda x: x[1], reverse=True)\n",
    "    q[query[0]] = topics\n",
    "\n",
    "qc = dict()\n",
    "for query, topics in main.get_topics(changeset_lda, queries, by_ids=[\"5258\", \"5088\"], full=False):\n",
    "    topics = sorted(topics, key=lambda x: x[1], reverse=True)\n",
    "    qc[query[0]] = topics\n",
    "\n",
    "q5258 = dict()\n",
    "for query, topics in main.get_topics(snapshot_lda, snapshot, by_ids=[snapshot_frms[5258][1]], full=False):\n",
    "    topics = sorted(topics, key=lambda x: x[1], reverse=True)\n",
    "    q5258[query[0]] = topics\n",
    "#print(q5258)\n",
    "\n",
    "qc5258 = dict()\n",
    "for query, topics in main.get_topics(changeset_lda, snapshot, by_ids=[changeset_frms[5258][1]], full=False):\n",
    "    topics = sorted(topics, key=lambda x: x[1], reverse=True)\n",
    "    qc5258[query[0]] = topics\n",
    "#print(q5258)\n",
    "\n",
    "q5088 = dict()\n",
    "for query, topics in main.get_topics(snapshot_lda, snapshot, by_ids=[snapshot_frms[5088][1]], full=False):\n",
    "    topics = sorted(topics, key=lambda x: x[1], reverse=True)\n",
    "    q5088[query[0]] = topics\n",
    "#print(q5088)\n",
    "\n",
    "qc5088 = dict()\n",
    "for query, topics in main.get_topics(changeset_lda, snapshot, by_ids=[changeset_frms[5088][1]], full=False):\n",
    "    topics = sorted(topics, key=lambda x: x[1], reverse=True)\n",
    "    qc5088[query[0]] = topics\n",
    "#print(qc5088)"
   ]
  },
  {
   "cell_type": "code",
   "execution_count": 29,
   "metadata": {
    "collapsed": false
   },
   "outputs": [],
   "source": [
    "def printer(q, model):\n",
    "    for qid, topics in q.items():\n",
    "        print(qid, \"num topics:\", len(topics))\n",
    "        for t in topics:\n",
    "                print(\"    \", t[0], t[1])\n",
    "                for word in model.show_topic(t[0]):\n",
    "                    if word[0]>= 0.05:\n",
    "                        print(\"        {0} {1}\".format(*word))"
   ]
  },
  {
   "cell_type": "markdown",
   "metadata": {},
   "source": [
    "# Ranks"
   ]
  },
  {
   "cell_type": "code",
   "execution_count": 30,
   "metadata": {
    "collapsed": false
   },
   "outputs": [
    {
     "name": "stdout",
     "output_type": "stream",
     "text": [
      "(1, 'org.argouml.ui.explorer.rules.GoClassifierToInstance.getRuleName()')\n",
      "(8138, 'org.argouml.ui.explorer.rules.GoClassifierToInstance.getRuleName()')\n",
      "(124, 'org.argouml.model.mdr.XmiWriterMDRImpl.write()')\n",
      "(1, 'org.argouml.persistence.TestProfileConfigurationFilePersister.testWritePreviouslyLoadedProfile()')\n"
     ]
    }
   ],
   "source": [
    "print(snapshot_frms[5258])\n",
    "print(changeset_frms[5258])\n",
    "print(snapshot_frms[5088])\n",
    "print(changeset_frms[5088])"
   ]
  },
  {
   "cell_type": "code",
   "execution_count": 31,
   "metadata": {
    "collapsed": false
   },
   "outputs": [
    {
     "name": "stdout",
     "output_type": "stream",
     "text": [
      "org.argouml.ui.explorer.rules.GoClassifierToInstance.getRuleName()\r",
      "\r\n"
     ]
    }
   ],
   "source": [
    "!cat data/argouml/v0.26.2/goldsets/method/5258.txt"
   ]
  },
  {
   "cell_type": "code",
   "execution_count": 32,
   "metadata": {
    "collapsed": false
   },
   "outputs": [
    {
     "name": "stdout",
     "output_type": "stream",
     "text": [
      "org.argouml.persistence.TestProfileConfigurationFilePersister.setUp()\r",
      "\r\n",
      "org.argouml.persistence.TestProfileConfigurationFilePersister.testWritePreviouslyLoadedProfile()\r",
      "\r\n",
      "org.argouml.model.mdr.XmiReferenceProviderImpl.getReference(RefObject)\r",
      "\r\n",
      "org.argouml.model.mdr.XmiWriterMDRImpl.write()\r",
      "\r\n"
     ]
    }
   ],
   "source": [
    "!cat data/argouml/v0.26.2/goldsets/method/5088.txt"
   ]
  },
  {
   "cell_type": "markdown",
   "metadata": {},
   "source": [
    "# Query words (preprocessed)"
   ]
  },
  {
   "cell_type": "code",
   "execution_count": 33,
   "metadata": {
    "collapsed": false
   },
   "outputs": [
    {
     "name": "stdout",
     "output_type": "stream",
     "text": [
      "5088 num words: 49\n",
      "        profiles (4)\n",
      "        xmi (3)\n",
      "        user (3)\n",
      "        profile (3)\n",
      "        write (3)\n",
      "        save (2)\n",
      "        files (2)\n",
      "        defined (2)\n",
      "        loaded (2)\n",
      "        impl (2)\n",
      "        mdr (2)\n",
      "        writer (2)\n",
      "        models (2)\n",
      "        able (1)\n",
      "        available (1)\n",
      "        implemented (1)\n",
      "        file (1)\n",
      "        model (1)\n",
      "        issue (1)\n",
      "        release (1)\n",
      "        aren (1)\n",
      "        using (1)\n",
      "        isn (1)\n",
      "        zargo (1)\n",
      "        creating (1)\n",
      "        removed (1)\n",
      "        configuration (1)\n",
      "        removing (1)\n",
      "        empty (1)\n",
      "        won (1)\n",
      "        seams (1)\n",
      "        persister (1)\n",
      "        usage (1)\n",
      "        simply (1)\n",
      "        written (1)\n",
      "        depend (1)\n",
      "        due (1)\n",
      "        configured (1)\n",
      "        deeper (1)\n",
      "        directories (1)\n",
      "        experimentally (1)\n",
      "        flag (1)\n",
      "        functionality (1)\n",
      "        persist (1)\n",
      "        prevents (1)\n",
      "        tackle (1)\n",
      "        unassigned (1)\n",
      "        wasn (1)\n",
      "        writing (1)\n",
      "5258 num words: 6\n",
      "        name (2)\n",
      "        classifier (2)\n",
      "        perspective (2)\n",
      "        collaboration (2)\n",
      "        rules (2)\n",
      "        explorer (1)\n"
     ]
    }
   ],
   "source": [
    "queries.metadata = True\n",
    "qs = list(filter(lambda x: x[1][0] in [\"5258\", \"5088\"], queries))\n",
    "\n",
    "for query, metadata in qs:\n",
    "    doc = sorted(query, key=lambda x: x[1], reverse=True)\n",
    "    words = [ ( freq, queries.id2word[wid] ) for wid, freq in doc ]\n",
    "    print(metadata[0], \"num words:\", len(words))\n",
    "    for word in words:\n",
    "        print(\"        {1} ({0})\".format(*word))"
   ]
  },
  {
   "cell_type": "markdown",
   "metadata": {},
   "source": [
    "# Query topics"
   ]
  },
  {
   "cell_type": "code",
   "execution_count": 34,
   "metadata": {
    "collapsed": false,
    "scrolled": true
   },
   "outputs": [
    {
     "name": "stdout",
     "output_type": "stream",
     "text": [
      "Snapshot\n",
      "5258 num topics: 3\n",
      "     194 0.583235451342\n",
      "        0.178309175492 rule\n",
      "        0.121059499556 perspective\n",
      "        0.0762293638816 name\n",
      "        0.0690858822929 rules\n",
      "        0.0503684867632 explorer\n",
      "     226 0.185504920139\n",
      "        0.1856541011 machine\n",
      "        0.11777883397 object\n",
      "        0.102723364576 handle\n",
      "        0.0773127578072 collaboration\n",
      "        0.0647654447602 expr\n",
      "        0.0556342824257 represented\n",
      "        0.0545723769322 set\n",
      "     464 0.148426295186\n",
      "        0.388703354048 classifier\n",
      "        0.0789009067262 object\n",
      "5088 num topics: 18\n",
      "     281 0.192892482112\n",
      "        0.0969630906947 profiles\n",
      "        0.0777460707084 profile\n",
      "     283 0.134882719488\n",
      "        0.0805840860895 writer\n",
      "        0.0625096636339 component\n",
      "        0.0515641337096 file\n",
      "        0.0505557374166 xmi\n",
      "     38 0.111432315008\n",
      "        0.0837400317472 file\n",
      "        0.052783578714 chooser\n",
      "     119 0.0964613712182\n",
      "        0.156409544424 file\n",
      "     103 0.0691276760039\n",
      "        0.16809440942 file\n",
      "     111 0.0685104236137\n",
      "        0.125885156498 step\n",
      "        0.0697529957911 model\n",
      "     481 0.0518654065039\n",
      "        0.0674266557557 parse\n",
      "        0.0570079740695 token\n",
      "        0.0544558797888 writer\n",
      "     139 0.0324502945153\n",
      "        0.0955942380078 models\n",
      "        0.0650571100652 model\n",
      "     141 0.0322229933664\n",
      "        0.0543910707269 xmi\n",
      "     108 0.0314122256905\n",
      "        0.0699067796998 model\n",
      "        0.0612544940263 remove\n",
      "     86 0.026662365181\n",
      "        0.105853196686 reference\n",
      "        0.0878734448854 string\n",
      "        0.0645647436518 url\n",
      "        0.0550209968393 name\n",
      "     447 0.0240687789787\n",
      "        0.15333403279 notation\n",
      "     354 0.0225346023494\n",
      "        0.0878789060677 project\n",
      "     382 0.0210871915307\n",
      "        0.139606144686 exception\n",
      "        0.106314762066 implemented\n",
      "        0.0974270629621 object\n",
      "        0.0599530729317 handle\n",
      "     214 0.0186729032508\n",
      "        0.230609056123 data\n",
      "        0.111611181192 usage\n",
      "        0.0713278894831 type\n",
      "     434 0.0181542447857\n",
      "        0.219480177176 expression\n",
      "        0.10163616281 body\n",
      "        0.0751584535406 uml\n",
      "        0.0602296707336 object\n",
      "     6 0.0165884049916\n",
      "        0.0637265671456 paint\n",
      "     213 0.0154252143155\n",
      "        0.176449741077 signal\n",
      "        0.0613632526749 code\n",
      "        0.0503169723679 set\n",
      "\n",
      "Changeset\n",
      "5258 num topics: 2\n",
      "     250 0.480454833658\n",
      "        0.14981641216 role\n",
      "        0.0626290395827 classifier\n",
      "     365 0.436545166285\n",
      "        0.124552431151 list\n",
      "        0.0938468895104 perspective\n",
      "        0.0755053463939 explorer\n",
      "5088 num topics: 19\n",
      "     446 0.223695242894\n",
      "        0.153329589266 profile\n",
      "        0.143068021978 model\n",
      "     426 0.12399276247\n",
      "        0.0949520396923 model\n",
      "        0.0696471492872 xmi\n",
      "     472 0.102106097725\n",
      "        0.0910955504975 profile\n",
      "        0.0607702650632 model\n",
      "     60 0.0894294001188\n",
      "        0.26619347497 writer\n",
      "        0.0603899936415 xmi\n",
      "        0.0574402204277 version\n",
      "     275 0.0573757019035\n",
      "     442 0.0547833013152\n",
      "        0.163713250373 issue\n",
      "        0.0792524029923 missing\n",
      "     413 0.0432923461318\n",
      "     461 0.037831138752\n",
      "        0.176006718296 align\n",
      "        0.0922787388659 fig\n",
      "     387 0.0363919063144\n",
      "        0.123594389938 key\n",
      "        0.115037429216 configuration\n",
      "     364 0.0319705003843\n",
      "        0.0794981898048 localizer\n",
      "        0.0578702004864 save\n",
      "        0.0561289380578 project\n",
      "     459 0.03153287682\n",
      "        0.170216589157 cur\n",
      "        0.0720421850808 directories\n",
      "        0.0697521781028 files\n",
      "        0.0655348165511 seen\n",
      "        0.0623599481029 file\n",
      "     141 0.0280556318168\n",
      "        0.122469551075 project\n",
      "        0.0978741348229 file\n",
      "        0.0726405979342 persister\n",
      "        0.0669375074458 load\n",
      "        0.0575545253566 url\n",
      "     310 0.0280084956012\n",
      "     96 0.0253951376442\n",
      "        0.0565651169082 string\n",
      "     94 0.017713858847\n",
      "     340 0.0153925911799\n",
      "        0.1388582756 release\n",
      "        0.0937788467227 linus\n",
      "        0.0749201810244 tolke\n",
      "        0.0541570626906 responsible\n",
      "     26 0.0145906663083\n",
      "        0.128221160772 performance\n",
      "     173 0.0128230167936\n",
      "        0.0754531405559 downloads\n",
      "        0.0554828998678 argo\n",
      "        0.0547616867927 uml\n",
      "     176 0.0116772979938\n",
      "        0.105611764512 extended\n"
     ]
    }
   ],
   "source": [
    "print(\"Snapshot\")\n",
    "printer(q, snapshot_lda)\n",
    "\n",
    "print()\n",
    "print(\"Changeset\")\n",
    "printer(qc, changeset_lda)"
   ]
  },
  {
   "cell_type": "markdown",
   "metadata": {},
   "source": [
    "# Issue 5258 top method topics"
   ]
  },
  {
   "cell_type": "code",
   "execution_count": 35,
   "metadata": {
    "collapsed": false
   },
   "outputs": [
    {
     "name": "stdout",
     "output_type": "stream",
     "text": [
      "Snapshot\n",
      "org.argouml.ui.explorer.rules.GoClassifierToInstance.getRuleName() num topics: 3\n",
      "     194 0.816857912065\n",
      "        0.178309175492 rule\n",
      "        0.121059499556 perspective\n",
      "        0.0762293638816 name\n",
      "        0.0690858822929 rules\n",
      "        0.0503684867632 explorer\n",
      "     202 0.067793539522\n",
      "        0.107613146742 elem\n",
      "        0.0827978683518 perspective\n",
      "        0.0708453920312 add\n",
      "        0.0578630351812 delete\n",
      "     464 0.0568779601772\n",
      "        0.388703354048 classifier\n",
      "        0.0789009067262 object\n",
      "\n",
      "Changeset\n",
      "org.argouml.ui.explorer.rules.GoClassifierToInstance.getRuleName() num topics: 2\n",
      "     432 0.757164655495\n",
      "        0.0893536710693 jar\n",
      "        0.0678621781371 argouml\n",
      "        0.0517429904434 org\n",
      "     332 0.184247109211\n",
      "        0.0834646177049 rule\n",
      "        0.0673931412026 perspective\n"
     ]
    }
   ],
   "source": [
    "print(\"Snapshot\")\n",
    "printer(q5258, snapshot_lda)\n",
    "\n",
    "print()\n",
    "print(\"Changeset\")\n",
    "printer(qc5258, changeset_lda)"
   ]
  },
  {
   "cell_type": "markdown",
   "metadata": {},
   "source": [
    "# Issue 5088 top method topics"
   ]
  },
  {
   "cell_type": "code",
   "execution_count": 36,
   "metadata": {
    "collapsed": false
   },
   "outputs": [
    {
     "name": "stdout",
     "output_type": "stream",
     "text": [
      "\n",
      "Snapshot\n",
      "org.argouml.model.mdr.XmiWriterMDRImpl.write() num topics: 6\n",
      "     283 0.560131002273\n",
      "        0.0805840860895 writer\n",
      "        0.0625096636339 component\n",
      "        0.0515641337096 file\n",
      "        0.0505557374166 xmi\n",
      "     82 0.155389811181\n",
      "        0.112620395345 xmi\n",
      "        0.100644430345 input\n",
      "        0.0743053978246 exception\n",
      "        0.0681277303619 stream\n",
      "        0.0663342788556 reader\n",
      "        0.0647220093709 file\n",
      "     41 0.117416586732\n",
      "        0.116364685128 exception\n",
      "        0.113558278325 object\n",
      "        0.0930610719178 invalid\n",
      "        0.0875901359546 handle\n",
      "        0.0700790042915 element\n",
      "     135 0.0973695698302\n",
      "     327 0.0250058497936\n",
      "        0.118631551517 handle\n",
      "        0.0784944389706 object\n",
      "        0.0687597203891 command\n",
      "        0.0598388243215 set\n",
      "        0.0578894470115 model\n",
      "        0.0522935577955 token\n",
      "        0.0511620081769 execute\n",
      "     462 0.0236659035944\n",
      "        0.0555031990487 type\n",
      "\n",
      "Changeset\n",
      "org.argouml.persistence.TestProfileConfigurationFilePersister.testWritePreviouslyLoadedProfile() num topics: 10\n",
      "     446 0.469148817839\n",
      "        0.153329589266 profile\n",
      "        0.143068021978 model\n",
      "     462 0.151367576645\n",
      "        0.234758074375 file\n",
      "     426 0.116783321691\n",
      "        0.0949520396923 model\n",
      "        0.0696471492872 xmi\n",
      "     60 0.0845542343172\n",
      "        0.26619347497 writer\n",
      "        0.0603899936415 xmi\n",
      "        0.0574402204277 version\n",
      "     417 0.0530253486527\n",
      "        0.115612676069 resource\n",
      "        0.0804154038388 icon\n",
      "        0.0749234907511 loader\n",
      "        0.052997765041 string\n",
      "     447 0.0348505504431\n",
      "        0.249974406751 uml\n",
      "        0.105597470943 novosoft\n",
      "     387 0.0251125129828\n",
      "        0.123594389938 key\n",
      "        0.115037429216 configuration\n",
      "     497 0.0214877824164\n",
      "        0.250963633269 name\n",
      "        0.068723223098 xsd\n",
      "     364 0.0179882222237\n",
      "        0.0794981898048 localizer\n",
      "        0.0578702004864 save\n",
      "        0.0561289380578 project\n",
      "     472 0.0120901889967\n",
      "        0.0910955504975 profile\n",
      "        0.0607702650632 model\n"
     ]
    }
   ],
   "source": [
    "print()\n",
    "print(\"Snapshot\")\n",
    "printer(q5088, snapshot_lda)\n",
    "\n",
    "print()\n",
    "print(\"Changeset\")\n",
    "printer(qc5088, changeset_lda)"
   ]
  },
  {
   "cell_type": "code",
   "execution_count": null,
   "metadata": {
    "collapsed": true
   },
   "outputs": [],
   "source": []
  }
 ],
 "metadata": {
  "kernelspec": {
   "display_name": "Python 2",
   "language": "python",
   "name": "python2"
  },
  "language_info": {
   "codemirror_mode": {
    "name": "ipython",
    "version": 2
   },
   "file_extension": ".py",
   "mimetype": "text/x-python",
   "name": "python",
   "nbconvert_exporter": "python",
   "pygments_lexer": "ipython2",
   "version": "2.7.9"
  }
 },
 "nbformat": 4,
 "nbformat_minor": 0
}
