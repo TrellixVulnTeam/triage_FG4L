{
 "cells": [
  {
   "cell_type": "code",
   "execution_count": 1,
   "metadata": {
    "collapsed": true
   },
   "outputs": [],
   "source": [
    "%matplotlib inline"
   ]
  },
  {
   "cell_type": "code",
   "execution_count": 142,
   "metadata": {
    "collapsed": false
   },
   "outputs": [],
   "source": [
    "from __future__ import print_function, division\n",
    "import pandas\n",
    "import src\n",
    "import os, os.path\n",
    "import matplotlib.pyplot as plt\n",
    "from operator import itemgetter\n",
    "if not os.path.exists('data'):\n",
    "    os.chdir('..')"
   ]
  },
  {
   "cell_type": "code",
   "execution_count": 3,
   "metadata": {
    "collapsed": true
   },
   "outputs": [],
   "source": [
    "def best_pair(s, t):\n",
    "    s = reversed(sorted(enumerate(s), key=itemgetter(1)))\n",
    "    t = reversed(sorted(enumerate(t), key=itemgetter(1)))\n",
    "    for (i, item_i), (j, item_j) in zip(s, t):\n",
    "        if i == j:\n",
    "            return i"
   ]
  },
  {
   "cell_type": "code",
   "execution_count": 4,
   "metadata": {
    "collapsed": false
   },
   "outputs": [
    {
     "data": {
      "text/plain": [
       "[Project(name='tika', printable_name='Tika v1.8', version='v1.8', ref='refs/tags/1.8', data_path='data/tika/', full_path='data/tika/v1.8/', src_path='data/tika/v1.8/src/', level='file'),\n",
       " Project(name='pig', printable_name='Pig v0.14.0', version='v0.14.0', ref='refs/tags/release-0.14.0', data_path='data/pig/', full_path='data/pig/v0.14.0/', src_path='data/pig/v0.14.0/src/', level='file'),\n",
       " Project(name='bookkeeper', printable_name='BookKeeper v4.3.0', version='v4.3.0', ref='refs/tags/release-4.3.0', data_path='data/bookkeeper/', full_path='data/bookkeeper/v4.3.0/', src_path='data/bookkeeper/v4.3.0/src/', level='file'),\n",
       " Project(name='openjpa', printable_name='OpenJPA v2.3.0', version='v2.3.0', ref='refs/tags/2.3.0', data_path='data/openjpa/', full_path='data/openjpa/v2.3.0/', src_path='data/openjpa/v2.3.0/src/', level='file'),\n",
       " Project(name='mahout', printable_name='Mahout v0.10.0', version='v0.10.0', ref='refs/tags/mahout-0.10', data_path='data/mahout/', full_path='data/mahout/v0.10.0/', src_path='data/mahout/v0.10.0/src/', level='file'),\n",
       " Project(name='zookeeper', printable_name='ZooKeeper v3.5.0', version='v3.5.0', ref='refs/tags/release-3.5.0', data_path='data/zookeeper/', full_path='data/zookeeper/v3.5.0/', src_path='data/zookeeper/v3.5.0/src/', level='file')]"
      ]
     },
     "execution_count": 4,
     "metadata": {},
     "output_type": "execute_result"
    }
   ],
   "source": [
    "projects = src.common.load_projects(dict(level='file'))\n",
    "projects"
   ]
  },
  {
   "cell_type": "code",
   "execution_count": 5,
   "metadata": {
    "collapsed": false,
    "scrolled": true
   },
   "outputs": [
    {
     "name": "stdout",
     "output_type": "stream",
     "text": [
      "47\n",
      "Writing to: /home/cscorley/git/dissertation/tables/tika_model_sweep.tex\n",
      "\n",
      "\\begin{table}\n",
      "\\begin{spacing}{1.2}\n",
      "\\centering\n",
      "\\caption{MRR values of Tika v1.8 model construction sweep}\n",
      "\\label{table:tika_model_sweep}\n",
      "\\vspace{0.2em}\n",
      "\\parbox{.45\\linewidth}{\\centering \\begin{tabular}{rll|rr}\n",
      "\\toprule\n",
      "    K &  $\\alpha$ &    $\\eta$ & FLT &   DIT \\\\\n",
      "\\midrule\n",
      "$100$ &  $1/K$ &  $1/K$ &         $0.2149$ & $0.2912$ \\\\\n",
      "$100$ &  $1/K$ &  $2/K$ &         $0.2418$ & $0.3040$ \\\\\n",
      "$100$ &  $1/K$ &  $5/K$ &         $0.3358$ & $0.2462$ \\\\\n",
      "$100$ &  $1/K$ &   auto &         $0.2107$ & $0.2645$ \\\\\n",
      "$100$ &  $2/K$ &  $1/K$ &         $0.2618$ & $0.3548$ \\\\\n",
      "$100$ &  $2/K$ &  $2/K$ &         $0.3256$ & $0.2350$ \\\\\n",
      "$100$ &  $2/K$ &  $5/K$ &         $0.3811$ & $0.3009$ \\\\\n",
      "$100$ &  $2/K$ &   auto &         $0.3716$ & $0.2599$ \\\\\n",
      "$100$ &  $5/K$ &  $1/K$ &         $0.3104$ & $0.2910$ \\\\\n",
      "$100$ &  $5/K$ &  $2/K$ &         $0.3042$ & $0.2662$ \\\\\n",
      "$100$ &  $5/K$ &  $5/K$ &         $0.2412$ & $0.2847$ \\\\\n",
      "$100$ &  $5/K$ &   auto &         $0.2741$ & $0.2676$ \\\\\n",
      "$100$ &   auto &  $1/K$ &         $0.3183$ & $0.2849$ \\\\\n",
      "$100$ &   auto &  $2/K$ &         $0.3376$ & $0.3146$ \\\\\n",
      "$100$ &   auto &  $5/K$ &         $0.2954$ & $0.2574$ \\\\\n",
      "$100$ &   auto &   auto &         $0.2621$ & $0.2258$ \\\\\n",
      "$200$ &  $1/K$ &  $1/K$ &         $0.3896$ & $0.3081$ \\\\\n",
      "$200$ &  $1/K$ &  $2/K$ &         $0.3472$ & $0.3193$ \\\\\n",
      "$200$ &  $1/K$ &  $5/K$ &         $0.3378$ & $0.3007$ \\\\\n",
      "$200$ &  $1/K$ &   auto &         $0.4090$ & $0.4403$ \\\\\n",
      "$200$ &  $2/K$ &  $1/K$ &         $0.2707$ & $0.3021$ \\\\\n",
      "$200$ &  $2/K$ &  $2/K$ &         $0.4065$ & $0.3455$ \\\\\n",
      "$200$ &  $2/K$ &  $5/K$ &         $0.2742$ & $0.2660$ \\\\\n",
      "$200$ &  $2/K$ &   auto &         $0.4153$ & $0.3093$ \\\\\n",
      "\\bottomrule\n",
      "\\end{tabular}\n",
      "} \\hfill \\parbox{.45\\linewidth}{\\centering \\begin{tabular}{rll|rr}\n",
      "\\toprule\n",
      "    K &  $\\alpha$ &    $\\eta$ & FLT &        DIT \\\\\n",
      "\\midrule\n",
      "$200$ &  $5/K$ &  $1/K$ &         $0.4466$ &      $0.2918$ \\\\\n",
      "$200$ &  $5/K$ &  $2/K$ &         $0.4257$ &      $0.3540$ \\\\\n",
      "$200$ &  $5/K$ &  $5/K$ &         $0.3820$ &      $0.2841$ \\\\\n",
      "$200$ &  $5/K$ &   auto &         $0.5139$ &      $0.3063$ \\\\\n",
      "$200$ &   auto &  $1/K$ &         $0.4144$ &      $0.3542$ \\\\\n",
      "$200$ &   auto &  $2/K$ &         $0.3371$ &      $0.2875$ \\\\\n",
      "$200$ &   auto &  $5/K$ &         $0.3391$ &      $0.2845$ \\\\\n",
      "$200$ &   auto &   auto &         $0.4645$ &      $0.4137$ \\\\\n",
      "$500$ &  $1/K$ &  $1/K$ &         $0.4891$ &      $0.4347$ \\\\\n",
      "$500$ &  $1/K$ &  $2/K$ &         $0.5289$ &      $0.3816$ \\\\\n",
      "$500$ &  $1/K$ &  $5/K$ &         $0.3305$ &      $0.3324$ \\\\\n",
      "$500$ &  $1/K$ &   auto &         $0.4476$ &      $0.4053$ \\\\\n",
      "$500$ &  $2/K$ &  $1/K$ &         $0.4554$ &      $0.4190$ \\\\\n",
      "$500$ &  $2/K$ &  $2/K$ &         $0.4082$ &      $0.3911$ \\\\\n",
      "$500$ &  $2/K$ &  $5/K$ &         $0.4727$ &      $0.3178$ \\\\\n",
      "$500$ &  $2/K$ &   auto &    $\\bm{0.5603}$ &      $0.3413$ \\\\\n",
      "$500$ &  $5/K$ &  $1/K$ &         $0.3980$ &      $0.4246$ \\\\\n",
      "$500$ &  $5/K$ &  $2/K$ &         $0.4773$ &      $0.4340$ \\\\\n",
      "$500$ &  $5/K$ &  $5/K$ &         $0.4858$ &      $0.3148$ \\\\\n",
      "$500$ &  $5/K$ &   auto &         $0.4762$ &      $0.4433$ \\\\\n",
      "$500$ &   auto &  $1/K$ &         $0.4891$ &      $0.4416$ \\\\\n",
      "$500$ &   auto &  $2/K$ &         $0.4301$ & $\\bm{0.4618}$ \\\\\n",
      "$500$ &   auto &  $5/K$ &         $0.5577$ &      $0.3459$ \\\\\n",
      "$500$ &   auto &   auto &         $0.4697$ &      $0.4036$ \\\\\n",
      "\\bottomrule\n",
      "\\end{tabular}\n",
      "}\n",
      "\\end{spacing}\n",
      "\\end{table}\n",
      "\n",
      "\n",
      "11\n",
      "Writing to: /home/cscorley/git/dissertation/tables/tika_corpus_sweep.tex\n",
      "\n",
      "\\begin{table}\n",
      "\\begin{spacing}{1.2}\n",
      "\\centering\n",
      "\\caption{MRR values of Tika v1.8 corpus construction sweep}\n",
      "\\label{table:tika_corpus_sweep}\n",
      "\\vspace{0.2em}\n",
      "\\begin{tabular}{llll|rr}\n",
      "\\toprule\n",
      "Additions & Removals & Context & Message & FLT &        DIT \\\\\n",
      "\\midrule\n",
      "     True &     True &    True &    True &    $\\bm{0.6257}$ &      $0.4358$ \\\\\n",
      "     True &     True &    True &   False &         $0.4891$ &      $0.4347$ \\\\\n",
      "     True &     True &   False &    True &         $0.4377$ &      $0.3858$ \\\\\n",
      "     True &     True &   False &   False &         $0.5026$ &      $0.3676$ \\\\\n",
      "     True &    False &    True &    True &         $0.5042$ &      $0.3840$ \\\\\n",
      "     True &    False &    True &   False &         $0.5278$ &      $0.3712$ \\\\\n",
      "     True &    False &   False &    True &         $0.5923$ &      $0.3911$ \\\\\n",
      "     True &    False &   False &   False &         $0.4607$ & $\\bm{0.4390}$ \\\\\n",
      "    False &     True &    True &    True &         $0.4071$ &      $0.4249$ \\\\\n",
      "    False &     True &    True &   False &         $0.4136$ &      $0.3882$ \\\\\n",
      "    False &     True &   False &    True &         $0.4678$ &      $0.3476$ \\\\\n",
      "    False &     True &   False &   False &         $0.3508$ &      $0.2192$ \\\\\n",
      "    False &    False &    True &    True &         $0.4541$ &      $0.4265$ \\\\\n",
      "    False &    False &    True &   False &         $0.4793$ &      $0.4170$ \\\\\n",
      "    False &    False &   False &    True &         $0.4208$ &      $0.3502$ \\\\\n",
      "\\bottomrule\n",
      "\\end{tabular}\n",
      "\n",
      "\\end{spacing}\n",
      "\\end{table}\n",
      "\n",
      "\n",
      "1\n",
      "Writing to: /home/cscorley/git/dissertation/tables/pig_model_sweep.tex\n",
      "\n",
      "\\begin{table}\n",
      "\\begin{spacing}{1.2}\n",
      "\\centering\n",
      "\\caption{MRR values of Pig v0.14.0 model construction sweep}\n",
      "\\label{table:pig_model_sweep}\n",
      "\\vspace{0.2em}\n",
      "\\parbox{.45\\linewidth}{\\centering \\begin{tabular}{rll|rr}\n",
      "\\toprule\n",
      "    K &  $\\alpha$ &    $\\eta$ & FLT &        DIT \\\\\n",
      "\\midrule\n",
      "$100$ &  $1/K$ &  $1/K$ &         $0.2625$ &      $0.1879$ \\\\\n",
      "$100$ &  $1/K$ &  $2/K$ &         $0.2292$ &      $0.1413$ \\\\\n",
      "$100$ &  $1/K$ &  $5/K$ &         $0.2325$ &      $0.1854$ \\\\\n",
      "$100$ &  $1/K$ &   auto &         $0.2927$ &      $0.1757$ \\\\\n",
      "$100$ &  $2/K$ &  $1/K$ &         $0.2546$ &      $0.1663$ \\\\\n",
      "$100$ &  $2/K$ &  $2/K$ &         $0.2542$ &      $0.1946$ \\\\\n",
      "$100$ &  $2/K$ &  $5/K$ &         $0.2670$ &      $0.1837$ \\\\\n",
      "$100$ &  $2/K$ &   auto &         $0.2809$ &      $0.2161$ \\\\\n",
      "$100$ &  $5/K$ &  $1/K$ &         $0.2870$ &      $0.1831$ \\\\\n",
      "$100$ &  $5/K$ &  $2/K$ &         $0.2792$ &      $0.1924$ \\\\\n",
      "$100$ &  $5/K$ &  $5/K$ &         $0.2822$ &      $0.2108$ \\\\\n",
      "$100$ &  $5/K$ &   auto &         $0.2572$ &      $0.1877$ \\\\\n",
      "$100$ &   auto &  $1/K$ &         $0.3142$ &      $0.1756$ \\\\\n",
      "$100$ &   auto &  $2/K$ &         $0.2457$ &      $0.2037$ \\\\\n",
      "$100$ &   auto &  $5/K$ &         $0.2217$ &      $0.1940$ \\\\\n",
      "$100$ &   auto &   auto &         $0.2677$ &      $0.2031$ \\\\\n",
      "$200$ &  $1/K$ &  $1/K$ &         $0.3066$ &      $0.1956$ \\\\\n",
      "$200$ &  $1/K$ &  $2/K$ &         $0.3381$ &      $0.2178$ \\\\\n",
      "$200$ &  $1/K$ &  $5/K$ &         $0.2932$ &      $0.1811$ \\\\\n",
      "$200$ &  $1/K$ &   auto &         $0.2675$ &      $0.2038$ \\\\\n",
      "$200$ &  $2/K$ &  $1/K$ &         $0.3407$ &      $0.2083$ \\\\\n",
      "$200$ &  $2/K$ &  $2/K$ &         $0.3158$ &      $0.1899$ \\\\\n",
      "$200$ &  $2/K$ &  $5/K$ &         $0.3100$ &      $0.2036$ \\\\\n",
      "$200$ &  $2/K$ &   auto &         $0.3274$ & $\\bm{0.2426}$ \\\\\n",
      "\\bottomrule\n",
      "\\end{tabular}\n",
      "} \\hfill \\parbox{.45\\linewidth}{\\centering \\begin{tabular}{rll|rr}\n",
      "\\toprule\n",
      "    K &  $\\alpha$ &    $\\eta$ & FLT &   DIT \\\\\n",
      "\\midrule\n",
      "$200$ &  $5/K$ &  $1/K$ &         $0.2894$ & $0.2078$ \\\\\n",
      "$200$ &  $5/K$ &  $2/K$ &         $0.3102$ & $0.1965$ \\\\\n",
      "$200$ &  $5/K$ &  $5/K$ &         $0.3108$ & $0.2017$ \\\\\n",
      "$200$ &  $5/K$ &   auto &         $0.2568$ & $0.2348$ \\\\\n",
      "$200$ &   auto &  $1/K$ &         $0.3126$ & $0.1882$ \\\\\n",
      "$200$ &   auto &  $2/K$ &         $0.2808$ & $0.2425$ \\\\\n",
      "$200$ &   auto &  $5/K$ &         $0.3154$ & $0.1716$ \\\\\n",
      "$200$ &   auto &   auto &         $0.3017$ & $0.2392$ \\\\\n",
      "$500$ &  $1/K$ &  $1/K$ &         $0.3695$ & $0.1756$ \\\\\n",
      "$500$ &  $1/K$ &  $2/K$ &         $0.3938$ & $0.1555$ \\\\\n",
      "$500$ &  $1/K$ &  $5/K$ &         $0.3847$ & $0.1695$ \\\\\n",
      "$500$ &  $1/K$ &   auto &         $0.3305$ & $0.1781$ \\\\\n",
      "$500$ &  $2/K$ &  $1/K$ &         $0.3551$ & $0.2242$ \\\\\n",
      "$500$ &  $2/K$ &  $2/K$ &         $0.3666$ & $0.1848$ \\\\\n",
      "$500$ &  $2/K$ &  $5/K$ &         $0.3297$ & $0.1762$ \\\\\n",
      "$500$ &  $2/K$ &   auto &         $0.3783$ & $0.1749$ \\\\\n",
      "$500$ &  $5/K$ &  $1/K$ &         $0.3518$ & $0.2193$ \\\\\n",
      "$500$ &  $5/K$ &  $2/K$ &         $0.3199$ & $0.2112$ \\\\\n",
      "$500$ &  $5/K$ &  $5/K$ &         $0.3772$ & $0.2023$ \\\\\n",
      "$500$ &  $5/K$ &   auto &    $\\bm{0.4195}$ & $0.1856$ \\\\\n",
      "$500$ &   auto &  $1/K$ &         $0.3468$ & $0.2083$ \\\\\n",
      "$500$ &   auto &  $2/K$ &         $0.3482$ & $0.1452$ \\\\\n",
      "$500$ &   auto &  $5/K$ &         $0.3351$ & $0.2129$ \\\\\n",
      "$500$ &   auto &   auto &         $0.3286$ & $0.1395$ \\\\\n",
      "\\bottomrule\n",
      "\\end{tabular}\n",
      "}\n",
      "\\end{spacing}\n",
      "\\end{table}\n",
      "\n",
      "\n",
      "None\n",
      "Writing to: /home/cscorley/git/dissertation/tables/pig_corpus_sweep.tex\n",
      "\n",
      "\\begin{table}\n",
      "\\begin{spacing}{1.2}\n",
      "\\centering\n",
      "\\caption{MRR values of Pig v0.14.0 corpus construction sweep}\n",
      "\\label{table:pig_corpus_sweep}\n",
      "\\vspace{0.2em}\n",
      "\\begin{tabular}{llll|rr}\n",
      "\\toprule\n",
      "Additions & Removals & Context & Message & FLT &        DIT \\\\\n",
      "\\midrule\n",
      "     True &     True &    True &    True &         $0.3762$ &      $0.2211$ \\\\\n",
      "     True &     True &    True &   False &         $0.3695$ &      $0.1756$ \\\\\n",
      "     True &     True &   False &    True &         $0.3629$ &      $0.1668$ \\\\\n",
      "     True &     True &   False &   False &         $0.3682$ &      $0.1361$ \\\\\n",
      "     True &    False &    True &    True &         $0.3908$ &      $0.2178$ \\\\\n",
      "     True &    False &    True &   False &         $0.3551$ &      $0.1620$ \\\\\n",
      "     True &    False &   False &    True &         $0.3503$ &      $0.1905$ \\\\\n",
      "     True &    False &   False &   False &    $\\bm{0.3983}$ &      $0.1791$ \\\\\n",
      "    False &     True &    True &    True &         $0.3518$ &      $0.1817$ \\\\\n",
      "    False &     True &    True &   False &         $0.3011$ &      $0.1677$ \\\\\n",
      "    False &     True &   False &    True &         $0.3615$ &      $0.1718$ \\\\\n",
      "    False &     True &   False &   False &         $0.3305$ &      $0.1805$ \\\\\n",
      "    False &    False &    True &    True &         $0.3575$ & $\\bm{0.2745}$ \\\\\n",
      "    False &    False &    True &   False &         $0.2833$ &      $0.2573$ \\\\\n",
      "    False &    False &   False &    True &         $0.3377$ &      $0.2357$ \\\\\n",
      "\\bottomrule\n",
      "\\end{tabular}\n",
      "\n",
      "\\end{spacing}\n",
      "\\end{table}\n",
      "\n",
      "\n",
      "8\n",
      "Writing to: /home/cscorley/git/dissertation/tables/bookkeeper_model_sweep.tex\n",
      "\n",
      "\\begin{table}\n",
      "\\begin{spacing}{1.2}\n",
      "\\centering\n",
      "\\caption{MRR values of BookKeeper v4.3.0 model construction sweep}\n",
      "\\label{table:bookkeeper_model_sweep}\n",
      "\\vspace{0.2em}\n",
      "\\parbox{.45\\linewidth}{\\centering \\begin{tabular}{rll|rr}\n",
      "\\toprule\n",
      "    K &  $\\alpha$ &    $\\eta$ & FLT &   DIT \\\\\n",
      "\\midrule\n",
      "$100$ &  $1/K$ &  $1/K$ &         $0.4425$ & $0.5879$ \\\\\n",
      "$100$ &  $1/K$ &  $2/K$ &         $0.4457$ & $0.5256$ \\\\\n",
      "$100$ &  $1/K$ &  $5/K$ &         $0.4241$ & $0.5043$ \\\\\n",
      "$100$ &  $1/K$ &   auto &         $0.4179$ & $0.5289$ \\\\\n",
      "$100$ &  $2/K$ &  $1/K$ &         $0.4441$ & $0.5783$ \\\\\n",
      "$100$ &  $2/K$ &  $2/K$ &         $0.4219$ & $0.5776$ \\\\\n",
      "$100$ &  $2/K$ &  $5/K$ &         $0.4135$ & $0.5265$ \\\\\n",
      "$100$ &  $2/K$ &   auto &         $0.4041$ & $0.5780$ \\\\\n",
      "$100$ &  $5/K$ &  $1/K$ &         $0.4416$ & $0.5777$ \\\\\n",
      "$100$ &  $5/K$ &  $2/K$ &         $0.4089$ & $0.4928$ \\\\\n",
      "$100$ &  $5/K$ &  $5/K$ &         $0.4599$ & $0.5377$ \\\\\n",
      "$100$ &  $5/K$ &   auto &         $0.4144$ & $0.5468$ \\\\\n",
      "$100$ &   auto &  $1/K$ &         $0.4212$ & $0.5875$ \\\\\n",
      "$100$ &   auto &  $2/K$ &         $0.3815$ & $0.5338$ \\\\\n",
      "$100$ &   auto &  $5/K$ &         $0.4245$ & $0.4673$ \\\\\n",
      "$100$ &   auto &   auto &         $0.3941$ & $0.5197$ \\\\\n",
      "$200$ &  $1/K$ &  $1/K$ &         $0.4749$ & $0.5642$ \\\\\n",
      "$200$ &  $1/K$ &  $2/K$ &         $0.4709$ & $0.5951$ \\\\\n",
      "$200$ &  $1/K$ &  $5/K$ &         $0.4439$ & $0.5780$ \\\\\n",
      "$200$ &  $1/K$ &   auto &         $0.4836$ & $0.6362$ \\\\\n",
      "$200$ &  $2/K$ &  $1/K$ &         $0.4374$ & $0.5820$ \\\\\n",
      "$200$ &  $2/K$ &  $2/K$ &         $0.4229$ & $0.5520$ \\\\\n",
      "$200$ &  $2/K$ &  $5/K$ &         $0.4650$ & $0.5198$ \\\\\n",
      "$200$ &  $2/K$ &   auto &         $0.4427$ & $0.5810$ \\\\\n",
      "\\bottomrule\n",
      "\\end{tabular}\n",
      "} \\hfill \\parbox{.45\\linewidth}{\\centering \\begin{tabular}{rll|rr}\n",
      "\\toprule\n",
      "    K &  $\\alpha$ &    $\\eta$ & FLT &        DIT \\\\\n",
      "\\midrule\n",
      "$200$ &  $5/K$ &  $1/K$ &         $0.4526$ &      $0.6175$ \\\\\n",
      "$200$ &  $5/K$ &  $2/K$ &         $0.4893$ &      $0.5461$ \\\\\n",
      "$200$ &  $5/K$ &  $5/K$ &         $0.4001$ &      $0.5099$ \\\\\n",
      "$200$ &  $5/K$ &   auto &         $0.4269$ &      $0.5818$ \\\\\n",
      "$200$ &   auto &  $1/K$ &         $0.4285$ &      $0.6298$ \\\\\n",
      "$200$ &   auto &  $2/K$ &         $0.4404$ &      $0.5728$ \\\\\n",
      "$200$ &   auto &  $5/K$ &         $0.4881$ &      $0.5419$ \\\\\n",
      "$200$ &   auto &   auto &         $0.4797$ &      $0.5799$ \\\\\n",
      "$500$ &  $1/K$ &  $1/K$ &         $0.4496$ & $\\bm{0.6976}$ \\\\\n",
      "$500$ &  $1/K$ &  $2/K$ &         $0.4484$ &      $0.6231$ \\\\\n",
      "$500$ &  $1/K$ &  $5/K$ &         $0.4714$ &      $0.6271$ \\\\\n",
      "$500$ &  $1/K$ &   auto &         $0.4541$ &      $0.6274$ \\\\\n",
      "$500$ &  $2/K$ &  $1/K$ &         $0.4699$ &      $0.6714$ \\\\\n",
      "$500$ &  $2/K$ &  $2/K$ &         $0.4754$ &      $0.6292$ \\\\\n",
      "$500$ &  $2/K$ &  $5/K$ &         $0.4431$ &      $0.6423$ \\\\\n",
      "$500$ &  $2/K$ &   auto &         $0.4751$ &      $0.6795$ \\\\\n",
      "$500$ &  $5/K$ &  $1/K$ &         $0.4548$ &      $0.6731$ \\\\\n",
      "$500$ &  $5/K$ &  $2/K$ &         $0.4613$ &      $0.6557$ \\\\\n",
      "$500$ &  $5/K$ &  $5/K$ &         $0.4627$ &      $0.6207$ \\\\\n",
      "$500$ &  $5/K$ &   auto &         $0.4672$ &      $0.6484$ \\\\\n",
      "$500$ &   auto &  $1/K$ &         $0.4329$ &      $0.6420$ \\\\\n",
      "$500$ &   auto &  $2/K$ &         $0.4832$ &      $0.6480$ \\\\\n",
      "$500$ &   auto &  $5/K$ &    $\\bm{0.4978}$ &      $0.6367$ \\\\\n",
      "$500$ &   auto &   auto &         $0.4558$ &      $0.6755$ \\\\\n",
      "\\bottomrule\n",
      "\\end{tabular}\n",
      "}\n",
      "\\end{spacing}\n",
      "\\end{table}\n",
      "\n",
      "\n",
      "None\n",
      "Writing to: /home/cscorley/git/dissertation/tables/bookkeeper_corpus_sweep.tex\n",
      "\n",
      "\\begin{table}\n",
      "\\begin{spacing}{1.2}\n",
      "\\centering\n",
      "\\caption{MRR values of BookKeeper v4.3.0 corpus construction sweep}\n",
      "\\label{table:bookkeeper_corpus_sweep}\n",
      "\\vspace{0.2em}\n",
      "\\begin{tabular}{llll|rr}\n",
      "\\toprule\n",
      "Additions & Removals & Context & Message & FLT &        DIT \\\\\n",
      "\\midrule\n",
      "     True &     True &    True &    True &         $0.5068$ &      $0.6960$ \\\\\n",
      "     True &     True &    True &   False &         $0.4496$ & $\\bm{0.6976}$ \\\\\n",
      "     True &     True &   False &    True &         $0.4973$ &      $0.6644$ \\\\\n",
      "     True &     True &   False &   False &         $0.5057$ &      $0.5509$ \\\\\n",
      "     True &    False &    True &    True &         $0.5307$ &      $0.6884$ \\\\\n",
      "     True &    False &    True &   False &         $0.4681$ &      $0.6334$ \\\\\n",
      "     True &    False &   False &    True &    $\\bm{0.5495}$ &      $0.6799$ \\\\\n",
      "     True &    False &   False &   False &         $0.4944$ &      $0.5108$ \\\\\n",
      "    False &     True &    True &    True &         $0.4546$ &      $0.6450$ \\\\\n",
      "    False &     True &    True &   False &         $0.3579$ &      $0.6207$ \\\\\n",
      "    False &     True &   False &    True &         $0.4017$ &      $0.6441$ \\\\\n",
      "    False &     True &   False &   False &         $0.3150$ &      $0.5954$ \\\\\n",
      "    False &    False &    True &    True &         $0.4901$ &      $0.6860$ \\\\\n",
      "    False &    False &    True &   False &         $0.3765$ &      $0.6948$ \\\\\n",
      "    False &    False &   False &    True &         $0.4314$ &      $0.5027$ \\\\\n",
      "\\bottomrule\n",
      "\\end{tabular}\n",
      "\n",
      "\\end{spacing}\n",
      "\\end{table}\n",
      "\n",
      "\n",
      "40\n",
      "Writing to: /home/cscorley/git/dissertation/tables/openjpa_model_sweep.tex\n",
      "\n",
      "\\begin{table}\n",
      "\\begin{spacing}{1.2}\n",
      "\\centering\n",
      "\\caption{MRR values of OpenJPA v2.3.0 model construction sweep}\n",
      "\\label{table:openjpa_model_sweep}\n",
      "\\vspace{0.2em}\n",
      "\\parbox{.45\\linewidth}{\\centering \\begin{tabular}{rll|rr}\n",
      "\\toprule\n",
      "    K &  $\\alpha$ &    $\\eta$ & FLT &   DIT \\\\\n",
      "\\midrule\n",
      "$100$ &  $1/K$ &  $1/K$ &         $0.1987$ & $0.3176$ \\\\\n",
      "$100$ &  $1/K$ &  $2/K$ &         $0.2359$ & $0.2822$ \\\\\n",
      "$100$ &  $1/K$ &  $5/K$ &         $0.1846$ & $0.2767$ \\\\\n",
      "$100$ &  $1/K$ &   auto &         $0.2017$ & $0.3061$ \\\\\n",
      "$100$ &  $2/K$ &  $1/K$ &         $0.2101$ & $0.2756$ \\\\\n",
      "$100$ &  $2/K$ &  $2/K$ &         $0.2146$ & $0.2824$ \\\\\n",
      "$100$ &  $2/K$ &  $5/K$ &         $0.2327$ & $0.2969$ \\\\\n",
      "$100$ &  $2/K$ &   auto &         $0.2133$ & $0.2821$ \\\\\n",
      "$100$ &  $5/K$ &  $1/K$ &         $0.2264$ & $0.2804$ \\\\\n",
      "$100$ &  $5/K$ &  $2/K$ &         $0.2558$ & $0.2941$ \\\\\n",
      "$100$ &  $5/K$ &  $5/K$ &         $0.2295$ & $0.2861$ \\\\\n",
      "$100$ &  $5/K$ &   auto &         $0.1876$ & $0.2732$ \\\\\n",
      "$100$ &   auto &  $1/K$ &         $0.2067$ & $0.2851$ \\\\\n",
      "$100$ &   auto &  $2/K$ &         $0.1709$ & $0.3042$ \\\\\n",
      "$100$ &   auto &  $5/K$ &         $0.1858$ & $0.2821$ \\\\\n",
      "$100$ &   auto &   auto &         $0.2271$ & $0.3201$ \\\\\n",
      "$200$ &  $1/K$ &  $1/K$ &         $0.2354$ & $0.3274$ \\\\\n",
      "$200$ &  $1/K$ &  $2/K$ &         $0.2421$ & $0.3350$ \\\\\n",
      "$200$ &  $1/K$ &  $5/K$ &         $0.2589$ & $0.3244$ \\\\\n",
      "$200$ &  $1/K$ &   auto &         $0.2678$ & $0.3193$ \\\\\n",
      "$200$ &  $2/K$ &  $1/K$ &         $0.2558$ & $0.3590$ \\\\\n",
      "$200$ &  $2/K$ &  $2/K$ &         $0.2827$ & $0.3019$ \\\\\n",
      "$200$ &  $2/K$ &  $5/K$ &         $0.2748$ & $0.2897$ \\\\\n",
      "$200$ &  $2/K$ &   auto &         $0.2837$ & $0.3045$ \\\\\n",
      "\\bottomrule\n",
      "\\end{tabular}\n",
      "} \\hfill \\parbox{.45\\linewidth}{\\centering \\begin{tabular}{rll|rr}\n",
      "\\toprule\n",
      "    K &  $\\alpha$ &    $\\eta$ & FLT &        DIT \\\\\n",
      "\\midrule\n",
      "$200$ &  $5/K$ &  $1/K$ &         $0.2646$ &      $0.3548$ \\\\\n",
      "$200$ &  $5/K$ &  $2/K$ &         $0.2810$ &      $0.3009$ \\\\\n",
      "$200$ &  $5/K$ &  $5/K$ &         $0.2449$ &      $0.2928$ \\\\\n",
      "$200$ &  $5/K$ &   auto &         $0.2419$ &      $0.2884$ \\\\\n",
      "$200$ &   auto &  $1/K$ &         $0.2697$ &      $0.3505$ \\\\\n",
      "$200$ &   auto &  $2/K$ &         $0.2406$ &      $0.3306$ \\\\\n",
      "$200$ &   auto &  $5/K$ &         $0.2524$ &      $0.3016$ \\\\\n",
      "$200$ &   auto &   auto &         $0.3042$ &      $0.3276$ \\\\\n",
      "$500$ &  $1/K$ &  $1/K$ &         $0.2967$ &      $0.3840$ \\\\\n",
      "$500$ &  $1/K$ &  $2/K$ &         $0.2986$ &      $0.3403$ \\\\\n",
      "$500$ &  $1/K$ &  $5/K$ &         $0.2890$ &      $0.3149$ \\\\\n",
      "$500$ &  $1/K$ &   auto &         $0.2978$ &      $0.3612$ \\\\\n",
      "$500$ &  $2/K$ &  $1/K$ &         $0.2865$ &      $0.3759$ \\\\\n",
      "$500$ &  $2/K$ &  $2/K$ &         $0.2995$ &      $0.3509$ \\\\\n",
      "$500$ &  $2/K$ &  $5/K$ &         $0.3281$ &      $0.3283$ \\\\\n",
      "$500$ &  $2/K$ &   auto &         $0.3017$ &      $0.3673$ \\\\\n",
      "$500$ &  $5/K$ &  $1/K$ &         $0.2883$ &      $0.3479$ \\\\\n",
      "$500$ &  $5/K$ &  $2/K$ &         $0.3031$ &      $0.3237$ \\\\\n",
      "$500$ &  $5/K$ &  $5/K$ &         $0.2979$ &      $0.3505$ \\\\\n",
      "$500$ &  $5/K$ &   auto &    $\\bm{0.3465}$ &      $0.3783$ \\\\\n",
      "$500$ &   auto &  $1/K$ &         $0.2974$ &      $0.3331$ \\\\\n",
      "$500$ &   auto &  $2/K$ &         $0.2586$ &      $0.3497$ \\\\\n",
      "$500$ &   auto &  $5/K$ &         $0.2767$ &      $0.3551$ \\\\\n",
      "$500$ &   auto &   auto &         $0.3113$ & $\\bm{0.3999}$ \\\\\n",
      "\\bottomrule\n",
      "\\end{tabular}\n",
      "}\n",
      "\\end{spacing}\n",
      "\\end{table}\n",
      "\n",
      "\n",
      "None\n",
      "Writing to: /home/cscorley/git/dissertation/tables/openjpa_corpus_sweep.tex\n",
      "\n",
      "\\begin{table}\n",
      "\\begin{spacing}{1.2}\n",
      "\\centering\n",
      "\\caption{MRR values of OpenJPA v2.3.0 corpus construction sweep}\n",
      "\\label{table:openjpa_corpus_sweep}\n",
      "\\vspace{0.2em}\n",
      "\\begin{tabular}{llll|rr}\n",
      "\\toprule\n",
      "Additions & Removals & Context & Message & FLT &        DIT \\\\\n",
      "\\midrule\n",
      "     True &     True &    True &    True &         $0.2973$ &      $0.3614$ \\\\\n",
      "     True &     True &    True &   False &         $0.2967$ &      $0.3840$ \\\\\n",
      "     True &     True &   False &    True &         $0.2257$ &      $0.3394$ \\\\\n",
      "     True &     True &   False &   False &    $\\bm{0.3384}$ &      $0.3420$ \\\\\n",
      "     True &    False &    True &    True &         $0.2785$ &      $0.3509$ \\\\\n",
      "     True &    False &    True &   False &         $0.2924$ &      $0.3634$ \\\\\n",
      "     True &    False &   False &    True &         $0.3092$ &      $0.3062$ \\\\\n",
      "     True &    False &   False &   False &         $0.2641$ & $\\bm{0.3938}$ \\\\\n",
      "    False &     True &    True &    True &         $0.3142$ &      $0.3568$ \\\\\n",
      "    False &     True &    True &   False &         $0.2458$ &      $0.3519$ \\\\\n",
      "    False &     True &   False &    True &         $0.2355$ &      $0.3432$ \\\\\n",
      "    False &     True &   False &   False &         $0.2817$ &      $0.3380$ \\\\\n",
      "    False &    False &    True &    True &         $0.3220$ &      $0.3343$ \\\\\n",
      "    False &    False &    True &   False &         $0.2716$ &      $0.3012$ \\\\\n",
      "    False &    False &   False &    True &         $0.3144$ &      $0.2569$ \\\\\n",
      "\\bottomrule\n",
      "\\end{tabular}\n",
      "\n",
      "\\end{spacing}\n",
      "\\end{table}\n",
      "\n",
      "\n",
      "32\n",
      "Writing to: /home/cscorley/git/dissertation/tables/mahout_model_sweep.tex\n",
      "\n",
      "\\begin{table}\n",
      "\\begin{spacing}{1.2}\n",
      "\\centering\n",
      "\\caption{MRR values of Mahout v0.10.0 model construction sweep}\n",
      "\\label{table:mahout_model_sweep}\n",
      "\\vspace{0.2em}\n",
      "\\parbox{.45\\linewidth}{\\centering \\begin{tabular}{rll|rr}\n",
      "\\toprule\n",
      "    K &  $\\alpha$ &    $\\eta$ & FLT &   DIT \\\\\n",
      "\\midrule\n",
      "$100$ &  $1/K$ &  $1/K$ &         $0.2782$ & $0.1917$ \\\\\n",
      "$100$ &  $1/K$ &  $2/K$ &         $0.1595$ & $0.2442$ \\\\\n",
      "$100$ &  $1/K$ &  $5/K$ &         $0.2564$ & $0.2277$ \\\\\n",
      "$100$ &  $1/K$ &   auto &         $0.2280$ & $0.2396$ \\\\\n",
      "$100$ &  $2/K$ &  $1/K$ &         $0.2349$ & $0.2577$ \\\\\n",
      "$100$ &  $2/K$ &  $2/K$ &         $0.2123$ & $0.2538$ \\\\\n",
      "$100$ &  $2/K$ &  $5/K$ &         $0.2563$ & $0.2397$ \\\\\n",
      "$100$ &  $2/K$ &   auto &         $0.1966$ & $0.2525$ \\\\\n",
      "$100$ &  $5/K$ &  $1/K$ &         $0.1996$ & $0.2396$ \\\\\n",
      "$100$ &  $5/K$ &  $2/K$ &         $0.2618$ & $0.2595$ \\\\\n",
      "$100$ &  $5/K$ &  $5/K$ &         $0.1741$ & $0.2391$ \\\\\n",
      "$100$ &  $5/K$ &   auto &         $0.1886$ & $0.2329$ \\\\\n",
      "$100$ &   auto &  $1/K$ &         $0.2077$ & $0.2676$ \\\\\n",
      "$100$ &   auto &  $2/K$ &         $0.2150$ & $0.2290$ \\\\\n",
      "$100$ &   auto &  $5/K$ &         $0.1426$ & $0.2486$ \\\\\n",
      "$100$ &   auto &   auto &         $0.2241$ & $0.2485$ \\\\\n",
      "$200$ &  $1/K$ &  $1/K$ &         $0.3045$ & $0.2522$ \\\\\n",
      "$200$ &  $1/K$ &  $2/K$ &         $0.2461$ & $0.2653$ \\\\\n",
      "$200$ &  $1/K$ &  $5/K$ &         $0.2017$ & $0.2704$ \\\\\n",
      "$200$ &  $1/K$ &   auto &         $0.2563$ & $0.2638$ \\\\\n",
      "$200$ &  $2/K$ &  $1/K$ &         $0.2488$ & $0.2540$ \\\\\n",
      "$200$ &  $2/K$ &  $2/K$ &         $0.2816$ & $0.2937$ \\\\\n",
      "$200$ &  $2/K$ &  $5/K$ &         $0.2450$ & $0.2482$ \\\\\n",
      "$200$ &  $2/K$ &   auto &         $0.2342$ & $0.2333$ \\\\\n",
      "\\bottomrule\n",
      "\\end{tabular}\n",
      "} \\hfill \\parbox{.45\\linewidth}{\\centering \\begin{tabular}{rll|rr}\n",
      "\\toprule\n",
      "    K &  $\\alpha$ &    $\\eta$ & FLT &        DIT \\\\\n",
      "\\midrule\n",
      "$200$ &  $5/K$ &  $1/K$ &         $0.1888$ &      $0.2844$ \\\\\n",
      "$200$ &  $5/K$ &  $2/K$ &         $0.1684$ &      $0.2687$ \\\\\n",
      "$200$ &  $5/K$ &  $5/K$ &         $0.2287$ &      $0.2682$ \\\\\n",
      "$200$ &  $5/K$ &   auto &         $0.2732$ &      $0.2575$ \\\\\n",
      "$200$ &   auto &  $1/K$ &         $0.2936$ &      $0.2862$ \\\\\n",
      "$200$ &   auto &  $2/K$ &         $0.2745$ &      $0.2436$ \\\\\n",
      "$200$ &   auto &  $5/K$ &         $0.2401$ &      $0.2673$ \\\\\n",
      "$200$ &   auto &   auto &         $0.2199$ &      $0.2734$ \\\\\n",
      "$500$ &  $1/K$ &  $1/K$ &         $0.3024$ &      $0.3039$ \\\\\n",
      "$500$ &  $1/K$ &  $2/K$ &         $0.2511$ &      $0.2700$ \\\\\n",
      "$500$ &  $1/K$ &  $5/K$ &         $0.2978$ &      $0.2807$ \\\\\n",
      "$500$ &  $1/K$ &   auto &         $0.3109$ &      $0.3044$ \\\\\n",
      "$500$ &  $2/K$ &  $1/K$ &    $\\bm{0.3411}$ &      $0.2673$ \\\\\n",
      "$500$ &  $2/K$ &  $2/K$ &         $0.2957$ &      $0.2706$ \\\\\n",
      "$500$ &  $2/K$ &  $5/K$ &         $0.2397$ &      $0.2878$ \\\\\n",
      "$500$ &  $2/K$ &   auto &         $0.2494$ &      $0.2813$ \\\\\n",
      "$500$ &  $5/K$ &  $1/K$ &         $0.2466$ &      $0.2771$ \\\\\n",
      "$500$ &  $5/K$ &  $2/K$ &         $0.2132$ & $\\bm{0.3251}$ \\\\\n",
      "$500$ &  $5/K$ &  $5/K$ &         $0.2845$ &      $0.3214$ \\\\\n",
      "$500$ &  $5/K$ &   auto &         $0.2313$ &      $0.3081$ \\\\\n",
      "$500$ &   auto &  $1/K$ &         $0.2555$ &      $0.2645$ \\\\\n",
      "$500$ &   auto &  $2/K$ &         $0.3035$ &      $0.2578$ \\\\\n",
      "$500$ &   auto &  $5/K$ &         $0.2972$ &      $0.3105$ \\\\\n",
      "$500$ &   auto &   auto &         $0.3068$ &      $0.2847$ \\\\\n",
      "\\bottomrule\n",
      "\\end{tabular}\n",
      "}\n",
      "\\end{spacing}\n",
      "\\end{table}\n",
      "\n",
      "\n",
      "None\n",
      "Writing to: /home/cscorley/git/dissertation/tables/mahout_corpus_sweep.tex\n",
      "\n",
      "\\begin{table}\n",
      "\\begin{spacing}{1.2}\n",
      "\\centering\n",
      "\\caption{MRR values of Mahout v0.10.0 corpus construction sweep}\n",
      "\\label{table:mahout_corpus_sweep}\n",
      "\\vspace{0.2em}\n",
      "\\begin{tabular}{llll|rr}\n",
      "\\toprule\n",
      "Additions & Removals & Context & Message & FLT &        DIT \\\\\n",
      "\\midrule\n",
      "     True &     True &    True &    True &         $0.3106$ &      $0.2916$ \\\\\n",
      "     True &     True &    True &   False &         $0.3024$ &      $0.3039$ \\\\\n",
      "     True &     True &   False &    True &    $\\bm{0.3425}$ &      $0.2914$ \\\\\n",
      "     True &     True &   False &   False &         $0.2773$ &      $0.3008$ \\\\\n",
      "     True &    False &    True &    True &         $0.2766$ & $\\bm{0.3247}$ \\\\\n",
      "     True &    False &    True &   False &         $0.2633$ &      $0.3050$ \\\\\n",
      "     True &    False &   False &    True &         $0.2735$ &      $0.3217$ \\\\\n",
      "     True &    False &   False &   False &         $0.3211$ &      $0.3121$ \\\\\n",
      "    False &     True &    True &    True &         $0.2878$ &      $0.2684$ \\\\\n",
      "    False &     True &    True &   False &         $0.3343$ &      $0.2710$ \\\\\n",
      "    False &     True &   False &    True &         $0.2441$ &      $0.2856$ \\\\\n",
      "    False &     True &   False &   False &         $0.2884$ &      $0.2607$ \\\\\n",
      "    False &    False &    True &    True &         $0.2958$ &      $0.2579$ \\\\\n",
      "    False &    False &    True &   False &         $0.2504$ &      $0.3216$ \\\\\n",
      "    False &    False &   False &    True &         $0.1788$ &      $0.2696$ \\\\\n",
      "\\bottomrule\n",
      "\\end{tabular}\n",
      "\n",
      "\\end{spacing}\n",
      "\\end{table}\n",
      "\n",
      "\n",
      "15\n",
      "Writing to: /home/cscorley/git/dissertation/tables/zookeeper_model_sweep.tex\n",
      "\n",
      "\\begin{table}\n",
      "\\begin{spacing}{1.2}\n",
      "\\centering\n",
      "\\caption{MRR values of ZooKeeper v3.5.0 model construction sweep}\n",
      "\\label{table:zookeeper_model_sweep}\n",
      "\\vspace{0.2em}\n",
      "\\parbox{.45\\linewidth}{\\centering \\begin{tabular}{rll|rr}\n",
      "\\toprule\n",
      "    K &  $\\alpha$ &    $\\eta$ & FLT &   DIT \\\\\n",
      "\\midrule\n",
      "$100$ &  $1/K$ &  $1/K$ &         $0.3884$ & $0.2939$ \\\\\n",
      "$100$ &  $1/K$ &  $2/K$ &         $0.3564$ & $0.2911$ \\\\\n",
      "$100$ &  $1/K$ &  $5/K$ &         $0.3856$ & $0.2948$ \\\\\n",
      "$100$ &  $1/K$ &   auto &         $0.4137$ & $0.3422$ \\\\\n",
      "$100$ &  $2/K$ &  $1/K$ &         $0.4132$ & $0.3026$ \\\\\n",
      "$100$ &  $2/K$ &  $2/K$ &         $0.4164$ & $0.2929$ \\\\\n",
      "$100$ &  $2/K$ &  $5/K$ &         $0.3512$ & $0.2751$ \\\\\n",
      "$100$ &  $2/K$ &   auto &         $0.4136$ & $0.2998$ \\\\\n",
      "$100$ &  $5/K$ &  $1/K$ &         $0.3813$ & $0.3075$ \\\\\n",
      "$100$ &  $5/K$ &  $2/K$ &         $0.4164$ & $0.3229$ \\\\\n",
      "$100$ &  $5/K$ &  $5/K$ &         $0.3476$ & $0.2977$ \\\\\n",
      "$100$ &  $5/K$ &   auto &         $0.3906$ & $0.3021$ \\\\\n",
      "$100$ &   auto &  $1/K$ &         $0.4184$ & $0.3277$ \\\\\n",
      "$100$ &   auto &  $2/K$ &         $0.3833$ & $0.2965$ \\\\\n",
      "$100$ &   auto &  $5/K$ &         $0.3940$ & $0.2915$ \\\\\n",
      "$100$ &   auto &   auto &         $0.4019$ & $0.2977$ \\\\\n",
      "$200$ &  $1/K$ &  $1/K$ &         $0.4446$ & $0.3434$ \\\\\n",
      "$200$ &  $1/K$ &  $2/K$ &         $0.4525$ & $0.2935$ \\\\\n",
      "$200$ &  $1/K$ &  $5/K$ &         $0.4175$ & $0.3412$ \\\\\n",
      "$200$ &  $1/K$ &   auto &         $0.4709$ & $0.3174$ \\\\\n",
      "$200$ &  $2/K$ &  $1/K$ &         $0.4455$ & $0.3465$ \\\\\n",
      "$200$ &  $2/K$ &  $2/K$ &         $0.4096$ & $0.3204$ \\\\\n",
      "$200$ &  $2/K$ &  $5/K$ &         $0.4340$ & $0.2970$ \\\\\n",
      "$200$ &  $2/K$ &   auto &         $0.4861$ & $0.3344$ \\\\\n",
      "\\bottomrule\n",
      "\\end{tabular}\n",
      "} \\hfill \\parbox{.45\\linewidth}{\\centering \\begin{tabular}{rll|rr}\n",
      "\\toprule\n",
      "    K &  $\\alpha$ &    $\\eta$ & FLT &        DIT \\\\\n",
      "\\midrule\n",
      "$200$ &  $5/K$ &  $1/K$ &         $0.4469$ &      $0.3331$ \\\\\n",
      "$200$ &  $5/K$ &  $2/K$ &         $0.4112$ &      $0.3255$ \\\\\n",
      "$200$ &  $5/K$ &  $5/K$ &         $0.3811$ &      $0.2983$ \\\\\n",
      "$200$ &  $5/K$ &   auto &         $0.4217$ &      $0.3496$ \\\\\n",
      "$200$ &   auto &  $1/K$ &         $0.4432$ &      $0.3429$ \\\\\n",
      "$200$ &   auto &  $2/K$ &         $0.4479$ &      $0.3429$ \\\\\n",
      "$200$ &   auto &  $5/K$ &         $0.4109$ &      $0.3021$ \\\\\n",
      "$200$ &   auto &   auto &         $0.4360$ &      $0.3489$ \\\\\n",
      "$500$ &  $1/K$ &  $1/K$ &         $0.4441$ &      $0.3446$ \\\\\n",
      "$500$ &  $1/K$ &  $2/K$ &         $0.4620$ &      $0.3626$ \\\\\n",
      "$500$ &  $1/K$ &  $5/K$ &         $0.4614$ &      $0.3089$ \\\\\n",
      "$500$ &  $1/K$ &   auto &         $0.4712$ &      $0.3733$ \\\\\n",
      "$500$ &  $2/K$ &  $1/K$ &         $0.4724$ & $\\bm{0.3892}$ \\\\\n",
      "$500$ &  $2/K$ &  $2/K$ &         $0.4337$ &      $0.3594$ \\\\\n",
      "$500$ &  $2/K$ &  $5/K$ &         $0.4452$ &      $0.3363$ \\\\\n",
      "$500$ &  $2/K$ &   auto &         $0.4449$ &      $0.3455$ \\\\\n",
      "$500$ &  $5/K$ &  $1/K$ &         $0.4549$ &      $0.3779$ \\\\\n",
      "$500$ &  $5/K$ &  $2/K$ &         $0.4803$ &      $0.3556$ \\\\\n",
      "$500$ &  $5/K$ &  $5/K$ &         $0.4289$ &      $0.3423$ \\\\\n",
      "$500$ &  $5/K$ &   auto &         $0.4692$ &      $0.3668$ \\\\\n",
      "$500$ &   auto &  $1/K$ &    $\\bm{0.4912}$ &      $0.3663$ \\\\\n",
      "$500$ &   auto &  $2/K$ &         $0.4324$ &      $0.3512$ \\\\\n",
      "$500$ &   auto &  $5/K$ &         $0.4579$ &      $0.3411$ \\\\\n",
      "$500$ &   auto &   auto &         $0.4586$ &      $0.3574$ \\\\\n",
      "\\bottomrule\n",
      "\\end{tabular}\n",
      "}\n",
      "\\end{spacing}\n",
      "\\end{table}\n",
      "\n",
      "\n",
      "5\n",
      "Writing to: /home/cscorley/git/dissertation/tables/zookeeper_corpus_sweep.tex\n",
      "\n",
      "\\begin{table}\n",
      "\\begin{spacing}{1.2}\n",
      "\\centering\n",
      "\\caption{MRR values of ZooKeeper v3.5.0 corpus construction sweep}\n",
      "\\label{table:zookeeper_corpus_sweep}\n",
      "\\vspace{0.2em}\n",
      "\\begin{tabular}{llll|rr}\n",
      "\\toprule\n",
      "Additions & Removals & Context & Message & FLT &        DIT \\\\\n",
      "\\midrule\n",
      "     True &     True &    True &    True &    $\\bm{0.4873}$ &      $0.3762$ \\\\\n",
      "     True &     True &    True &   False &         $0.4441$ &      $0.3446$ \\\\\n",
      "     True &     True &   False &    True &         $0.4611$ &      $0.3496$ \\\\\n",
      "     True &     True &   False &   False &         $0.4768$ &      $0.3564$ \\\\\n",
      "     True &    False &    True &    True &         $0.4827$ &      $0.3581$ \\\\\n",
      "     True &    False &    True &   False &         $0.4525$ &      $0.3526$ \\\\\n",
      "     True &    False &   False &    True &         $0.4608$ &      $0.3658$ \\\\\n",
      "     True &    False &   False &   False &         $0.4434$ &      $0.3308$ \\\\\n",
      "    False &     True &    True &    True &         $0.4788$ &      $0.3331$ \\\\\n",
      "    False &     True &    True &   False &         $0.4128$ &      $0.3591$ \\\\\n",
      "    False &     True &   False &    True &         $0.4122$ &      $0.2950$ \\\\\n",
      "    False &     True &   False &   False &         $0.4318$ &      $0.2947$ \\\\\n",
      "    False &    False &    True &    True &         $0.4608$ & $\\bm{0.4834}$ \\\\\n",
      "    False &    False &    True &   False &         $0.4047$ &      $0.3720$ \\\\\n",
      "    False &    False &   False &    True &         $0.4408$ &      $0.3400$ \\\\\n",
      "\\bottomrule\n",
      "\\end{tabular}\n",
      "\n",
      "\\end{spacing}\n",
      "\\end{table}\n",
      "\n",
      "\n"
     ]
    }
   ],
   "source": [
    "names = {'model': {'score': 'score',\n",
    "                   'model_base_alpha': 'alpha',\n",
    "                   'model_base_eta': 'eta',\n",
    "                   'num_topics': 'K'\n",
    "                  },\n",
    "         'corpus': {'score': 'score',\n",
    "                    'changeset_include_additions': 'Additions',\n",
    "                    'changeset_include_context': 'Context',\n",
    "                    'changeset_include_message': 'Message',\n",
    "                    'changeset_include_removals': 'Removals',\n",
    "                    },\n",
    "        }\n",
    "exps = ['triage', 'feature_location']\n",
    "table_headers = {\n",
    "    'model': ['K', 'alpha', 'eta', 'Feature Location', 'Triage'],\n",
    "    'corpus': ['Additions', 'Removals', 'Context', 'Message', 'Feature Location', 'Triage']\n",
    "}\n",
    "formatters = {\n",
    "    'Feature Location': lambda x: r\"$\\bm{%.4f}$\" % x if x == max(main_df[\"Feature Location\"]) else \"$%.4f$\" % x,\n",
    "    'alpha': lambda x: \"$%s/K$\" % x if x != 'auto' else x,\n",
    "    'eta': lambda x: \"$%s/K$\" % x if x != 'auto' else x,\n",
    "    'K': lambda x: \"$%s$\" % x,\n",
    "    'Triage': lambda x:  r\"$\\bm{%.4f}$\" % x if x == max(main_df[\"Triage\"]) else \"$%.4f$\" % x,\n",
    "}\n",
    "\n",
    "full_tex = r\"\"\"\n",
    "\\begin{table}\n",
    "\\begin{spacing}{1.2}\n",
    "\\centering\n",
    "\\caption{MRR values of %s %s construction sweep}\n",
    "\\label{table:%s}\n",
    "\\vspace{0.2em}\n",
    "%s\n",
    "\\end{spacing}\n",
    "\\end{table}\n",
    "\"\"\"\n",
    "\n",
    "best_flt = list()\n",
    "best_dit = list()\n",
    "tex_dir = os.path.expanduser(\"~/git/dissertation/tables\")\n",
    "for project in projects:\n",
    "    for rq in names.keys():\n",
    "        names[rq]['score'] = 'score'\n",
    "        main_df = pandas.DataFrame(columns=names[rq])\n",
    "        for exp in exps:\n",
    "            path = os.path.join(project.full_path, 'optimized-%s-changeset-%s.csv' % (rq, exp))\n",
    "            exp = ' '.join(exp.title().split('_'))\n",
    "            names[rq]['score'] = exp\n",
    "            exp_df = pandas.read_csv(path)\n",
    "            exp_df = exp_df.rename(columns=names[rq])\n",
    "            if len(main_df):\n",
    "                main_df = main_df.merge(exp_df)\n",
    "            else:\n",
    "                main_df = exp_df\n",
    "        \n",
    "        # filter out uninteresting rows, like there was no corpus\n",
    "        main_df = main_df[(main_df[\"Feature Location\"] != 0) | (main_df[\"Triage\"] != 0)]\n",
    "        if rq == \"model\":\n",
    "            main_df = main_df.sort([\"K\", \"alpha\", \"eta\"])\n",
    "        \n",
    "        best_flt.append((project, main_df[main_df[\"Feature Location\"] == main_df[\"Feature Location\"].max()]))\n",
    "        best_dit.append((project, main_df[main_df[\"Triage\"] == main_df[\"Triage\"].max()]))\n",
    "        \n",
    "        label = \"%s_%s_sweep\" % (project.name, rq)\n",
    "        op = os.path.join(tex_dir, label + \".tex\")\n",
    "        \n",
    "        if len(main_df) > 24:\n",
    "            tex = r\"\\parbox{.45\\linewidth}{\\centering %s} \\hfill \\parbox{.45\\linewidth}{\\centering %s}\"\n",
    "            mid = len(main_df)//2\n",
    "            tex = tex % (main_df[:mid].to_latex(index=False,\n",
    "                                                escape=False, # needed so it doesn't screw up formatters\n",
    "                                                formatters=formatters,\n",
    "                                                columns=table_headers[rq]),\n",
    "                         main_df[mid:].to_latex(index=False,\n",
    "                                                escape=False, # needed so it doesn't screw up formatters\n",
    "                                                formatters=formatters,\n",
    "                                                columns=table_headers[rq]))\n",
    "        else:\n",
    "            tex = main_df.to_latex(index=False,\n",
    "                                   escape=False, # needed so it doesn't screw up formatters\n",
    "                                   formatters=formatters,\n",
    "                                   columns=table_headers[rq],)\n",
    "            \n",
    "        print(best_pair(main_df[\"Triage\"], main_df[\"Feature Location\"]))\n",
    "        \n",
    "        # and now the lazy\n",
    "        this_full_tex = full_tex % (project.printable_name, rq, label, tex)\n",
    "        this_full_tex = this_full_tex.replace(\" alpha \", r\" $\\alpha$ \")\n",
    "        this_full_tex = this_full_tex.replace(\" eta \", r\" $\\eta$ \")\n",
    "        this_full_tex = this_full_tex.replace(\" Feature Location \", \" FLT \")\n",
    "        this_full_tex = this_full_tex.replace(\" Triage \", \" DIT \")\n",
    "        this_full_tex = this_full_tex.replace(r\"\\begin{tabular}{rllrr}\", r\"\\begin{tabular}{rll|rr}\")\n",
    "        this_full_tex = this_full_tex.replace(r\"\\begin{tabular}{llllrr}\", r\"\\begin{tabular}{llll|rr}\")\n",
    "        print(\"Writing to: %s\\n%s\\n\" % (op, this_full_tex))\n",
    "        with open(op, 'wt') as f:\n",
    "            f.write(this_full_tex)"
   ]
  },
  {
   "cell_type": "code",
   "execution_count": 6,
   "metadata": {
    "collapsed": false
   },
   "outputs": [],
   "source": [
    "best_flt_model = {p:x for p,x in best_flt if hasattr(x, 'alpha')}\n",
    "best_flt_corpus = {p:x for p,x in best_flt if hasattr(x, 'Additions')}\n",
    "best_dit_model = {p:x for p,x in best_dit if hasattr(x, 'alpha')}\n",
    "best_dit_corpus = {p:x for p,x in best_dit if hasattr(x, 'Additions')}"
   ]
  },
  {
   "cell_type": "code",
   "execution_count": 7,
   "metadata": {
    "collapsed": false
   },
   "outputs": [
    {
     "data": {
      "text/plain": [
       "{Project(name='bookkeeper', printable_name='BookKeeper v4.3.0', version='v4.3.0', ref='refs/tags/release-4.3.0', data_path='data/bookkeeper/', full_path='data/bookkeeper/v4.3.0/', src_path='data/bookkeeper/v4.3.0/src/', level='file'):      Triage Additions Context Message Removals  Feature Location\n",
       " 1  0.697561      True    True   False     True          0.449626,\n",
       " Project(name='mahout', printable_name='Mahout v0.10.0', version='v0.10.0', ref='refs/tags/mahout-0.10', data_path='data/mahout/', full_path='data/mahout/v0.10.0/', src_path='data/mahout/v0.10.0/src/', level='file'):      Triage Additions Context Message Removals  Feature Location\n",
       " 4  0.324705      True    True    True    False          0.276622,\n",
       " Project(name='openjpa', printable_name='OpenJPA v2.3.0', version='v2.3.0', ref='refs/tags/2.3.0', data_path='data/openjpa/', full_path='data/openjpa/v2.3.0/', src_path='data/openjpa/v2.3.0/src/', level='file'):      Triage Additions Context Message Removals  Feature Location\n",
       " 7  0.393834      True   False   False    False           0.26406,\n",
       " Project(name='pig', printable_name='Pig v0.14.0', version='v0.14.0', ref='refs/tags/release-0.14.0', data_path='data/pig/', full_path='data/pig/v0.14.0/', src_path='data/pig/v0.14.0/src/', level='file'):       Triage Additions Context Message Removals  Feature Location\n",
       " 12  0.274461     False    True    True    False          0.357544,\n",
       " Project(name='tika', printable_name='Tika v1.8', version='v1.8', ref='refs/tags/1.8', data_path='data/tika/', full_path='data/tika/v1.8/', src_path='data/tika/v1.8/src/', level='file'):      Triage Additions Context Message Removals  Feature Location\n",
       " 7  0.439001      True   False   False    False          0.460695,\n",
       " Project(name='zookeeper', printable_name='ZooKeeper v3.5.0', version='v3.5.0', ref='refs/tags/release-3.5.0', data_path='data/zookeeper/', full_path='data/zookeeper/v3.5.0/', src_path='data/zookeeper/v3.5.0/src/', level='file'):       Triage Additions Context Message Removals  Feature Location\n",
       " 12  0.483414     False    True    True    False          0.460841}"
      ]
     },
     "execution_count": 7,
     "metadata": {},
     "output_type": "execute_result"
    }
   ],
   "source": [
    "best_dit_corpus"
   ]
  },
  {
   "cell_type": "code",
   "execution_count": 48,
   "metadata": {
    "collapsed": false
   },
   "outputs": [],
   "source": [
    "kwargs = dict(model='lda', level='file', source=['changeset'], force=False)\n",
    "\n",
    "def get_model_config(table, project):\n",
    "    model_config, model_config_string = src.main.get_default_model_config(kwargs)\n",
    "    changeset_config, changeset_config_string = src.main.get_default_changeset_config()\n",
    "    \n",
    "    K = int(table[project]['K'].values[0])\n",
    "    alpha = table[project]['alpha'].values[0]\n",
    "    eta = table[project]['eta'].values[0]\n",
    "    model_config['alpha'] =  int(alpha) / K if alpha != 'auto' else alpha\n",
    "    model_config['eta'] = int(eta) / K if eta != 'auto' else eta\n",
    "    model_config['num_topics'] = K\n",
    "\n",
    "    model_config_string =  '-'.join([unicode(v) for k, v in sorted(model_config.items())])\n",
    "    changeset_config_string = '-'.join([unicode(v) for k, v in sorted(changeset_config.items())])\n",
    "\n",
    "    kwargs.update({'changeset_config': changeset_config,\n",
    "                   'changeset_config_string': changeset_config_string})\n",
    "\n",
    "    kwargs.update({'model_config': model_config,\n",
    "                   'model_config_string': model_config_string})\n",
    "    \n",
    "    return [x for x in src.common.load_projects(kwargs) if x.name == project.name][0]\n",
    "\n",
    "def get_corpus_config(table, project):\n",
    "    model_config, model_config_string = src.main.get_default_model_config(kwargs)\n",
    "    changeset_config, changeset_config_string = src.main.get_default_changeset_config()\n",
    "    \n",
    "    changeset_config['include_additions'] = table[project]['Additions'].values[0]\n",
    "    changeset_config['include_removals'] = table[project]['Removals'].values[0]\n",
    "    changeset_config['include_context'] = table[project]['Context'].values[0]\n",
    "    changeset_config['include_message'] = table[project]['Message'].values[0]\n",
    "\n",
    "    model_config_string =  '-'.join([unicode(v) for k, v in sorted(model_config.items())])\n",
    "    changeset_config_string = '-'.join([unicode(v) for k, v in sorted(changeset_config.items())])\n",
    "\n",
    "    kwargs.update({'changeset_config': changeset_config,\n",
    "                   'changeset_config_string': changeset_config_string})\n",
    "\n",
    "    kwargs.update({'model_config': model_config,\n",
    "                   'model_config_string': model_config_string})\n",
    "    \n",
    "    return [x for x in src.common.load_projects(kwargs) if x.name == project.name][0]"
   ]
  },
  {
   "cell_type": "code",
   "execution_count": 49,
   "metadata": {
    "collapsed": false
   },
   "outputs": [],
   "source": [
    "best_model_flt_projects = list()\n",
    "best_model_dit_projects = list()\n",
    "best_corpus_flt_projects = list()\n",
    "best_corpus_dit_projects = list()\n",
    "for project in projects:\n",
    "    # load project info\n",
    "    best_model_flt_projects.append(get_model_config(best_flt_model, project))\n",
    "    best_model_dit_projects.append(get_model_config(best_flt_model, project))\n",
    "    \n",
    "    best_corpus_flt_projects.append(get_corpus_config(best_flt_corpus, project))\n",
    "    best_corpus_dit_projects.append(get_corpus_config(best_dit_corpus, project))"
   ]
  },
  {
   "cell_type": "code",
   "execution_count": 50,
   "metadata": {
    "collapsed": false
   },
   "outputs": [
    {
     "data": {
      "text/plain": [
       "[Project(name='tika', printable_name='Tika v1.8', version='v1.8', ref='refs/tags/1.8', data_path='data/tika/', full_path='data/tika/v1.8/', src_path='data/tika/v1.8/src/', source=['changeset'], model_config_string=u'batch-0.004-0.5-auto-1000-1000-500-1.0-1', force=False, level='file', model_config={'passes': 1, 'eta': 'auto', 'num_topics': 500, 'iterations': 1000, 'decay': 0.5, 'algorithm': 'batch', 'alpha': 0.004, 'offset': 1.0, 'max_bound_iterations': 1000}, model='lda', changeset_config_string=u'True-True-False-True', changeset_config={'include_removals': True, 'include_context': True, 'include_message': False, 'include_additions': True}),\n",
       " Project(name='pig', printable_name='Pig v0.14.0', version='v0.14.0', ref='refs/tags/release-0.14.0', data_path='data/pig/', full_path='data/pig/v0.14.0/', src_path='data/pig/v0.14.0/src/', source=['changeset'], model_config_string=u'batch-0.01-0.5-auto-1000-1000-500-1.0-1', force=False, level='file', model_config={'passes': 1, 'eta': 'auto', 'num_topics': 500, 'iterations': 1000, 'decay': 0.5, 'algorithm': 'batch', 'alpha': 0.01, 'offset': 1.0, 'max_bound_iterations': 1000}, model='lda', changeset_config_string=u'True-True-False-True', changeset_config={'include_removals': True, 'include_context': True, 'include_message': False, 'include_additions': True}),\n",
       " Project(name='bookkeeper', printable_name='BookKeeper v4.3.0', version='v4.3.0', ref='refs/tags/release-4.3.0', data_path='data/bookkeeper/', full_path='data/bookkeeper/v4.3.0/', src_path='data/bookkeeper/v4.3.0/src/', source=['changeset'], model_config_string=u'batch-auto-0.5-0.01-1000-1000-500-1.0-1', force=False, level='file', model_config={'passes': 1, 'eta': 0.01, 'num_topics': 500, 'iterations': 1000, 'decay': 0.5, 'algorithm': 'batch', 'alpha': 'auto', 'offset': 1.0, 'max_bound_iterations': 1000}, model='lda', changeset_config_string=u'True-True-False-True', changeset_config={'include_removals': True, 'include_context': True, 'include_message': False, 'include_additions': True}),\n",
       " Project(name='openjpa', printable_name='OpenJPA v2.3.0', version='v2.3.0', ref='refs/tags/2.3.0', data_path='data/openjpa/', full_path='data/openjpa/v2.3.0/', src_path='data/openjpa/v2.3.0/src/', source=['changeset'], model_config_string=u'batch-0.01-0.5-auto-1000-1000-500-1.0-1', force=False, level='file', model_config={'passes': 1, 'eta': 'auto', 'num_topics': 500, 'iterations': 1000, 'decay': 0.5, 'algorithm': 'batch', 'alpha': 0.01, 'offset': 1.0, 'max_bound_iterations': 1000}, model='lda', changeset_config_string=u'True-True-False-True', changeset_config={'include_removals': True, 'include_context': True, 'include_message': False, 'include_additions': True}),\n",
       " Project(name='mahout', printable_name='Mahout v0.10.0', version='v0.10.0', ref='refs/tags/mahout-0.10', data_path='data/mahout/', full_path='data/mahout/v0.10.0/', src_path='data/mahout/v0.10.0/src/', source=['changeset'], model_config_string=u'batch-0.004-0.5-0.002-1000-1000-500-1.0-1', force=False, level='file', model_config={'passes': 1, 'eta': 0.002, 'num_topics': 500, 'iterations': 1000, 'decay': 0.5, 'algorithm': 'batch', 'alpha': 0.004, 'offset': 1.0, 'max_bound_iterations': 1000}, model='lda', changeset_config_string=u'True-True-False-True', changeset_config={'include_removals': True, 'include_context': True, 'include_message': False, 'include_additions': True}),\n",
       " Project(name='zookeeper', printable_name='ZooKeeper v3.5.0', version='v3.5.0', ref='refs/tags/release-3.5.0', data_path='data/zookeeper/', full_path='data/zookeeper/v3.5.0/', src_path='data/zookeeper/v3.5.0/src/', source=['changeset'], model_config_string=u'batch-auto-0.5-0.002-1000-1000-500-1.0-1', force=False, level='file', model_config={'passes': 1, 'eta': 0.002, 'num_topics': 500, 'iterations': 1000, 'decay': 0.5, 'algorithm': 'batch', 'alpha': 'auto', 'offset': 1.0, 'max_bound_iterations': 1000}, model='lda', changeset_config_string=u'True-True-False-True', changeset_config={'include_removals': True, 'include_context': True, 'include_message': False, 'include_additions': True})]"
      ]
     },
     "execution_count": 50,
     "metadata": {},
     "output_type": "execute_result"
    }
   ],
   "source": [
    "best_model_flt_projects"
   ]
  },
  {
   "cell_type": "code",
   "execution_count": 51,
   "metadata": {
    "collapsed": false
   },
   "outputs": [
    {
     "name": "stdout",
     "output_type": "stream",
     "text": [
      "dit {'include_removals': True, 'include_context': True, 'include_message': False, 'include_additions': True}\n",
      "flt {'include_removals': False, 'include_context': False, 'include_message': True, 'include_additions': True}\n"
     ]
    }
   ],
   "source": [
    "for each in best_corpus_dit_projects:\n",
    "    if (each.name == \"bookkeeper\"):\n",
    "        print(\"dit\", each.changeset_config)\n",
    "for each in best_corpus_flt_projects:\n",
    "    if (each.name == \"bookkeeper\"):\n",
    "        print(\"flt\", each.changeset_config)"
   ]
  },
  {
   "cell_type": "code",
   "execution_count": 52,
   "metadata": {
    "collapsed": false,
    "scrolled": true
   },
   "outputs": [
    {
     "name": "stdout",
     "output_type": "stream",
     "text": [
      "Tika v1.8 changeset-triage-lda-true-false-false-false-batch-0.002-0.5-0.002-1000-1000-500-1.0-1\n",
      "Pig v0.14.0 changeset-triage-lda-false-true-true-false-batch-0.002-0.5-0.002-1000-1000-500-1.0-1\n",
      "BookKeeper v4.3.0 changeset-triage-lda-true-true-false-true-batch-0.002-0.5-0.002-1000-1000-500-1.0-1\n",
      "OpenJPA v2.3.0 changeset-triage-lda-true-false-false-false-batch-0.002-0.5-0.002-1000-1000-500-1.0-1\n",
      "Mahout v0.10.0 changeset-triage-lda-true-true-true-false-batch-0.002-0.5-0.002-1000-1000-500-1.0-1\n",
      "ZooKeeper v3.5.0 changeset-triage-lda-false-true-true-false-batch-0.002-0.5-0.002-1000-1000-500-1.0-1\n"
     ]
    }
   ],
   "source": [
    "for each in best_corpus_dit_projects:\n",
    "    print(each.printable_name, src.common.check_ranks(each, \"changeset\", \"triage\")[1])"
   ]
  },
  {
   "cell_type": "code",
   "execution_count": 162,
   "metadata": {
    "collapsed": true
   },
   "outputs": [],
   "source": [
    "FIG_TEX=\"\"\"\n",
    "\\\\begin{figure}\n",
    "\\\\centering\n",
    "\\\\includegraphics[height=0.4\\\\textheight]{%s}\n",
    "\\\\caption{%s effectiveness measures of optimal and alternative %s configurations for %s}\n",
    "\\\\label{fig:combo:%s}\n",
    "\\\\end{figure}\n",
    "\"\"\"\n",
    "\n",
    "def plot_panel(panel, name, kind):\n",
    "    order = [\"Optimal\", \"Alternate\"]\n",
    "    \n",
    "    size = (len(order)*1.6, 4.5)\n",
    "    fontsize = None\n",
    "    widths = 0.3\n",
    "    lower = 0\n",
    "    kinds = {\"flt\": \"Feature Location\", \"dit\": \"Developer Identification\"}\n",
    "    rqs = {\"flt\": {\"rq1\": \"RQ 3.5.1\", \"rq2\": \"RQ 3.5.2\", \"all\": \"Overview\"},\n",
    "           \"dit\": {\"rq1\": \"RQ 3.5.1\", \"rq2\": \"RQ 3.5.2\", \"all\": \"Overview\"}}\n",
    "    config_name = \"model\" if name == \"rq1\" else \"corpus\"\n",
    "\n",
    "    allt = pandas.DataFrame()\n",
    "    for each in panel:\n",
    "        allt = allt.append(panel[each], ignore_index=True)\n",
    "\n",
    "        upper = panel[each][order].max().max()+1\n",
    "        panel[each].plot(kind='box',\n",
    "                         fontsize=fontsize,\n",
    "                         figsize=size,\n",
    "                         widths=widths,\n",
    "                         ylim=(lower, upper),\n",
    "                         y=order)\n",
    "        #plt.gca().invert_yaxis()\n",
    "        plt.tight_layout()\n",
    "        short_each = each.lower().split(' ')[0]\n",
    "        fig_name = 'figures/combo/%s_%s_%s' % (kind, name, short_each)\n",
    "        path = os.path.expanduser('~/git/dissertation/') + fig_name\n",
    "        plt.savefig(path + \".pdf\", dpi=300)\n",
    "        \n",
    "        with open(path + \".tex\", \"wt\") as f:\n",
    "            figlabel = \":\".join([x.lower() for x in [kind, name, short_each]])\n",
    "            f.write(FIG_TEX % (fig_name, kinds[kind], config_name, each, figlabel))\n",
    "        \n",
    "    upper = allt.max().max()+1\n",
    "    allt.plot(kind='box', figsize=(4,1.5), grid=False, vert=False, y=list(reversed(order)))\n",
    "    plt.tight_layout()\n",
    "    short_each = \"tiny\"\n",
    "    fig_name = 'figures/combo/%s_%s_%s' % (kind, name, short_each)\n",
    "    path = os.path.expanduser('~/git/dissertation/') + fig_name\n",
    "    plt.savefig(path + \".pdf\", dpi=300)\n",
    "\n",
    "    with open(path + \".tex\", \"wt\") as f:\n",
    "        figlabel = \":\".join([x.lower() for x in [kind, name, short_each]])\n",
    "        f.write(FIG_TEX % (fig_name, kinds[kind], config_name, \"all subject systems\", figlabel))\n",
    "    \n",
    "    allt.plot(kind='box',\n",
    "               fontsize=fontsize,\n",
    "\n",
    "              figsize=size,\n",
    "              widths=widths,\n",
    "              ylim=(lower, upper),\n",
    "              y=order)\n",
    "    #plt.gca().invert_yaxis()\n",
    "    plt.tight_layout()\n",
    "    short_each = \"overview\"\n",
    "    fig_name = 'figures/combo/%s_%s_%s' % (kind, name, short_each)\n",
    "    path = os.path.expanduser('~/git/dissertation/') + fig_name\n",
    "    plt.savefig(path + \".pdf\", dpi=300)\n",
    "    with open(path + \".tex\", \"wt\") as f:\n",
    "        figlabel = \":\".join([x.lower() for x in [kind, name, short_each]])\n",
    "        f.write(FIG_TEX % (fig_name, kinds[kind], config_name, \"all subject systems\", figlabel))"
   ]
  },
  {
   "cell_type": "code",
   "execution_count": 163,
   "metadata": {
    "collapsed": false
   },
   "outputs": [],
   "source": [
    "def generate_plots(question, best_dit, best_flt):\n",
    "    flt_data_ranks = dict()\n",
    "    for each in best_dit:\n",
    "        flt_data_ranks[each.printable_name] = dict()\n",
    "    dit_data_ranks = dict()\n",
    "    for each in best_dit:\n",
    "        dit_data_ranks[each.printable_name] = dict()\n",
    "\n",
    "\n",
    "    for each in best_dit:\n",
    "        dit_results = src.triage.run_experiment(each)['changeset']\n",
    "        dit_data_ranks[each.printable_name][\"Optimal\"] = pandas.Series([int(x) for x,_,_ in dit_results])\n",
    "\n",
    "        flt_results = src.feature_location.run_experiment(each)['changeset']\n",
    "        flt_data_ranks[each.printable_name][\"Alternate\"] = pandas.Series([int(x) for x,_,_ in flt_results])\n",
    "\n",
    "    for each in best_flt:\n",
    "        dit_results = src.triage.run_experiment(each)['changeset']\n",
    "        dit_data_ranks[each.printable_name][\"Alternate\"] = pandas.Series([int(x) for x,_,_ in dit_results])\n",
    "\n",
    "        flt_results = src.feature_location.run_experiment(each)['changeset']\n",
    "        flt_data_ranks[each.printable_name][\"Optimal\"] = pandas.Series([int(x) for x,_,_ in flt_results])\n",
    "\n",
    "    dit_panel = pandas.Panel(dit_data_ranks)\n",
    "    flt_panel = pandas.Panel(flt_data_ranks)\n",
    "    plot_panel(dit_panel, question, \"dit\")\n",
    "    plot_panel(flt_panel, question, \"flt\")"
   ]
  },
  {
   "cell_type": "code",
   "execution_count": 164,
   "metadata": {
    "collapsed": false
   },
   "outputs": [
    {
     "data": {
      "image/png": "[encoded data removed]",
      "text/plain": [
       "<matplotlib.figure.Figure at 0x7f74ae1e8c10>"
      ]
     },
     "metadata": {},
     "output_type": "display_data"
    },
    {
     "data": {
      "image/png": "[encoded data removed]",
      "text/plain": [
       "<matplotlib.figure.Figure at 0x7f74addfb110>"
      ]
     },
     "metadata": {},
     "output_type": "display_data"
    },
    {
     "data": {
      "image/png": "[encoded data removed]",
      "text/plain": [
       "<matplotlib.figure.Figure at 0x7f74adccc550>"
      ]
     },
     "metadata": {},
     "output_type": "display_data"
    },
    {
     "data": {
      "image/png": "[encoded data removed]",
      "text/plain": [
       "<matplotlib.figure.Figure at 0x7f74ad85cbd0>"
      ]
     },
     "metadata": {},
     "output_type": "display_data"
    },
    {
     "data": {
      "image/png": "[encoded data removed]",
      "text/plain": [
       "<matplotlib.figure.Figure at 0x7f74af19cb90>"
      ]
     },
     "metadata": {},
     "output_type": "display_data"
    },
    {
     "data": {
      "image/png": "[encoded data removed]",
      "text/plain": [
       "<matplotlib.figure.Figure at 0x7f74afb56210>"
      ]
     },
     "metadata": {},
     "output_type": "display_data"
    },
    {
     "data": {
      "image/png": "[encoded data removed]",
      "text/plain": [
       "<matplotlib.figure.Figure at 0x7f74ace8bd90>"
      ]
     },
     "metadata": {},
     "output_type": "display_data"
    },
    {
     "data": {
      "image/png": "[encoded data removed]",
      "text/plain": [
       "<matplotlib.figure.Figure at 0x7f74ad21e5d0>"
      ]
     },
     "metadata": {},
     "output_type": "display_data"
    },
    {
     "data": {
      "image/png": "[encoded data removed]",
      "text/plain": [
       "<matplotlib.figure.Figure at 0x7f74adaea550>"
      ]
     },
     "metadata": {},
     "output_type": "display_data"
    },
    {
     "data": {
      "image/png": "[encoded data removed]",
      "text/plain": [
       "<matplotlib.figure.Figure at 0x7f74ae293e50>"
      ]
     },
     "metadata": {},
     "output_type": "display_data"
    },
    {
     "data": {
      "image/png": "[encoded data removed]",
      "text/plain": [
       "<matplotlib.figure.Figure at 0x7f74ad41b610>"
      ]
     },
     "metadata": {},
     "output_type": "display_data"
    },
    {
     "data": {
      "image/png": "[encoded data removed]",
      "text/plain": [
       "<matplotlib.figure.Figure at 0x7f74ad2aa4d0>"
      ]
     },
     "metadata": {},
     "output_type": "display_data"
    },
    {
     "data": {
      "image/png": "[encoded data removed]",
      "text/plain": [
       "<matplotlib.figure.Figure at 0x7f74accf9950>"
      ]
     },
     "metadata": {},
     "output_type": "display_data"
    },
    {
     "data": {
      "image/png": "[encoded data removed]",
      "text/plain": [
       "<matplotlib.figure.Figure at 0x7f74acbc7e10>"
      ]
     },
     "metadata": {},
     "output_type": "display_data"
    },
    {
     "data": {
      "image/png": "[encoded data removed]",
      "text/plain": [
       "<matplotlib.figure.Figure at 0x7f74ae43aa90>"
      ]
     },
     "metadata": {},
     "output_type": "display_data"
    },
    {
     "data": {
      "image/png": "[encoded data removed]",
      "text/plain": [
       "<matplotlib.figure.Figure at 0x7f74ae2c6b10>"
      ]
     },
     "metadata": {},
     "output_type": "display_data"
    }
   ],
   "source": [
    "generate_plots(\"rq1\", best_model_dit_projects, best_model_flt_projects)"
   ]
  },
  {
   "cell_type": "code",
   "execution_count": 165,
   "metadata": {
    "collapsed": false
   },
   "outputs": [
    {
     "data": {
      "image/png": "[encoded data removed]",
      "text/plain": [
       "<matplotlib.figure.Figure at 0x7f74ae293990>"
      ]
     },
     "metadata": {},
     "output_type": "display_data"
    },
    {
     "data": {
      "image/png": "[encoded data removed]",
      "text/plain": [
       "<matplotlib.figure.Figure at 0x7f74adc728d0>"
      ]
     },
     "metadata": {},
     "output_type": "display_data"
    },
    {
     "data": {
      "image/png": "[encoded data removed]",
      "text/plain": [
       "<matplotlib.figure.Figure at 0x7f74ace9d910>"
      ]
     },
     "metadata": {},
     "output_type": "display_data"
    },
    {
     "data": {
      "image/png": "[encoded data removed]",
      "text/plain": [
       "<matplotlib.figure.Figure at 0x7f74adac60d0>"
      ]
     },
     "metadata": {},
     "output_type": "display_data"
    },
    {
     "data": {
      "image/png": "[encoded data removed]",
      "text/plain": [
       "<matplotlib.figure.Figure at 0x7f74add666d0>"
      ]
     },
     "metadata": {},
     "output_type": "display_data"
    },
    {
     "data": {
      "image/png": "[encoded data removed]",
      "text/plain": [
       "<matplotlib.figure.Figure at 0x7f74ace75610>"
      ]
     },
     "metadata": {},
     "output_type": "display_data"
    },
    {
     "data": {
      "image/png": "[encoded data removed]",
      "text/plain": [
       "<matplotlib.figure.Figure at 0x7f74b40c5c50>"
      ]
     },
     "metadata": {},
     "output_type": "display_data"
    },
    {
     "data": {
      "image/png": "[encoded data removed]",
      "text/plain": [
       "<matplotlib.figure.Figure at 0x7f74afb0a7d0>"
      ]
     },
     "metadata": {},
     "output_type": "display_data"
    },
    {
     "data": {
      "image/png": "[encoded data removed]",
      "text/plain": [
       "<matplotlib.figure.Figure at 0x7f74ac242e90>"
      ]
     },
     "metadata": {},
     "output_type": "display_data"
    },
    {
     "data": {
      "image/png": "[encoded data removed]",
      "text/plain": [
       "<matplotlib.figure.Figure at 0x7f74ac9bba10>"
      ]
     },
     "metadata": {},
     "output_type": "display_data"
    },
    {
     "data": {
      "image/png": "[encoded data removed]",
      "text/plain": [
       "<matplotlib.figure.Figure at 0x7f74ae2b4190>"
      ]
     },
     "metadata": {},
     "output_type": "display_data"
    },
    {
     "data": {
      "image/png": "[encoded data removed]",
      "text/plain": [
       "<matplotlib.figure.Figure at 0x7f74ad42af50>"
      ]
     },
     "metadata": {},
     "output_type": "display_data"
    },
    {
     "data": {
      "image/png": "[encoded data removed]",
      "text/plain": [
       "<matplotlib.figure.Figure at 0x7f74a7da9c10>"
      ]
     },
     "metadata": {},
     "output_type": "display_data"
    },
    {
     "data": {
      "image/png": "[encoded data removed]",
      "text/plain": [
       "<matplotlib.figure.Figure at 0x7f74ac7ad390>"
      ]
     },
     "metadata": {},
     "output_type": "display_data"
    },
    {
     "data": {
      "image/png": "[encoded data removed]",
      "text/plain": [
       "<matplotlib.figure.Figure at 0x7f74ad7a40d0>"
      ]
     },
     "metadata": {},
     "output_type": "display_data"
    },
    {
     "data": {
      "image/png": "[encoded data removed]",
      "text/plain": [
       "<matplotlib.figure.Figure at 0x7f74ad7a4310>"
      ]
     },
     "metadata": {},
     "output_type": "display_data"
    }
   ],
   "source": [
    "generate_plots(\"rq2\", best_corpus_dit_projects, best_corpus_flt_projects)"
   ]
  },
  {
   "cell_type": "code",
   "execution_count": null,
   "metadata": {
    "collapsed": true
   },
   "outputs": [],
   "source": []
  }
 ],
 "metadata": {
  "kernelspec": {
   "display_name": "Python 2",
   "language": "python2",
   "name": "python2"
  },
  "language_info": {
   "codemirror_mode": {
    "name": "ipython",
    "version": 2
   },
   "file_extension": ".py",
   "mimetype": "text/x-python",
   "name": "python",
   "nbconvert_exporter": "python",
   "pygments_lexer": "ipython2",
   "version": "2.7.11"
  }
 },
 "nbformat": 4,
 "nbformat_minor": 0
}
