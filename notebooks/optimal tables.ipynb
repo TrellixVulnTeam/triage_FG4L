{
 "cells": [
  {
   "cell_type": "code",
   "execution_count": 1,
   "metadata": {
    "collapsed": false
   },
   "outputs": [
    {
     "name": "stdout",
     "output_type": "stream",
     "text": [
      "Populating the interactive namespace from numpy and matplotlib\n"
     ]
    }
   ],
   "source": [
    "%pylab inline"
   ]
  },
  {
   "cell_type": "code",
   "execution_count": 2,
   "metadata": {
    "collapsed": false
   },
   "outputs": [],
   "source": [
    "from __future__ import print_function, division\n",
    "import pandas\n",
    "import src\n",
    "import os, os.path\n",
    "import matplotlib.pyplot as plt\n",
    "from operator import itemgetter"
   ]
  },
  {
   "cell_type": "code",
   "execution_count": 3,
   "metadata": {
    "collapsed": false
   },
   "outputs": [
    {
     "name": "stdout",
     "output_type": "stream",
     "text": [
      "/home/cscorley/git/triage/notebooks\n",
      "/home/cscorley/git/triage\n"
     ]
    }
   ],
   "source": [
    "def fake(*args, **kwargs):\n",
    "    print('Fake called with', str(args), str(kwargs))\n",
    "    sys.exit(1)\n",
    "\n",
    "# fake out the create_model so we don't accidentally attempt to create data\n",
    "src.common.create_model = fake\n",
    "\n",
    "print(os.getcwd())\n",
    "if os.getcwd().endswith('notebooks'):\n",
    "    os.chdir('..')\n",
    "print(os.getcwd())"
   ]
  },
  {
   "cell_type": "code",
   "execution_count": 4,
   "metadata": {
    "collapsed": true
   },
   "outputs": [],
   "source": [
    "def best_pair(s, t):\n",
    "    s = reversed(sorted(enumerate(s), key=itemgetter(1)))\n",
    "    t = reversed(sorted(enumerate(t), key=itemgetter(1)))\n",
    "    for (i, item_i), (j, item_j) in zip(s, t):\n",
    "        if i == j:\n",
    "            return i"
   ]
  },
  {
   "cell_type": "code",
   "execution_count": 5,
   "metadata": {
    "collapsed": false
   },
   "outputs": [
    {
     "data": {
      "text/plain": [
       "[Project(name='tika', printable_name='Tika v1.8', version='v1.8', ref='refs/tags/1.8', data_path='data/tika/', full_path='data/tika/v1.8/', src_path='data/tika/v1.8/src/', level='file'),\n",
       " Project(name='pig', printable_name='Pig v0.14.0', version='v0.14.0', ref='refs/tags/release-0.14.0', data_path='data/pig/', full_path='data/pig/v0.14.0/', src_path='data/pig/v0.14.0/src/', level='file'),\n",
       " Project(name='bookkeeper', printable_name='BookKeeper v4.3.0', version='v4.3.0', ref='refs/tags/release-4.3.0', data_path='data/bookkeeper/', full_path='data/bookkeeper/v4.3.0/', src_path='data/bookkeeper/v4.3.0/src/', level='file'),\n",
       " Project(name='openjpa', printable_name='OpenJPA v2.3.0', version='v2.3.0', ref='refs/tags/2.3.0', data_path='data/openjpa/', full_path='data/openjpa/v2.3.0/', src_path='data/openjpa/v2.3.0/src/', level='file'),\n",
       " Project(name='mahout', printable_name='Mahout v0.10.0', version='v0.10.0', ref='refs/tags/mahout-0.10', data_path='data/mahout/', full_path='data/mahout/v0.10.0/', src_path='data/mahout/v0.10.0/src/', level='file'),\n",
       " Project(name='zookeeper', printable_name='ZooKeeper v3.5.0', version='v3.5.0', ref='refs/tags/release-3.5.0', data_path='data/zookeeper/', full_path='data/zookeeper/v3.5.0/', src_path='data/zookeeper/v3.5.0/src/', level='file')]"
      ]
     },
     "execution_count": 5,
     "metadata": {},
     "output_type": "execute_result"
    }
   ],
   "source": [
    "projects = src.common.load_projects(dict(level='file'))\n",
    "projects"
   ]
  },
  {
   "cell_type": "code",
   "execution_count": 6,
   "metadata": {
    "collapsed": false,
    "scrolled": true
   },
   "outputs": [
    {
     "name": "stdout",
     "output_type": "stream",
     "text": [
      "None\n",
      "Writing to: /home/cscorley/git/dissertation/tables/tika_model_sweep.tex\n",
      "\n",
      "\\begin{table}\n",
      "\\begin{spacing}{1.2}\n",
      "\\centering\n",
      "\\caption{MRR values of Tika v1.8 model construction sweep}\n",
      "\\label{table:tika_model_sweep}\n",
      "\\vspace{0.2em}\n",
      "\\parbox{.45\\linewidth}{\\centering \\begin{tabular}{rll|rr}\n",
      "\\toprule\n",
      "    K &  $\\alpha$ &    $\\eta$ & FLT &   DIT \\\\\n",
      "\\midrule\n",
      "$100$ &  $1/K$ &  $1/K$ &         $0.3030$ & $0.2813$ \\\\\n",
      "$100$ &  $1/K$ &  $2/K$ &         $0.3104$ & $0.2858$ \\\\\n",
      "$100$ &  $1/K$ &  $5/K$ &         $0.3377$ & $0.2377$ \\\\\n",
      "$100$ &  $1/K$ &   auto &         $0.2793$ & $0.2814$ \\\\\n",
      "$100$ &  $2/K$ &  $1/K$ &         $0.3013$ & $0.2732$ \\\\\n",
      "$100$ &  $2/K$ &  $2/K$ &         $0.3007$ & $0.2609$ \\\\\n",
      "$100$ &  $2/K$ &  $5/K$ &         $0.3418$ & $0.2410$ \\\\\n",
      "$100$ &  $2/K$ &   auto &         $0.2782$ & $0.2881$ \\\\\n",
      "$100$ &  $5/K$ &  $1/K$ &         $0.3199$ & $0.2898$ \\\\\n",
      "$100$ &  $5/K$ &  $2/K$ &         $0.3396$ & $0.2799$ \\\\\n",
      "$100$ &  $5/K$ &  $5/K$ &         $0.3273$ & $0.2223$ \\\\\n",
      "$100$ &  $5/K$ &   auto &         $0.3244$ & $0.2799$ \\\\\n",
      "$100$ &   auto &  $1/K$ &         $0.3040$ & $0.2926$ \\\\\n",
      "$100$ &   auto &  $2/K$ &         $0.3126$ & $0.2855$ \\\\\n",
      "$100$ &   auto &  $5/K$ &         $0.3374$ & $0.2372$ \\\\\n",
      "$100$ &   auto &   auto &         $0.2818$ & $0.2809$ \\\\\n",
      "$200$ &  $1/K$ &  $1/K$ &         $0.4567$ & $0.3135$ \\\\\n",
      "$200$ &  $1/K$ &  $2/K$ &         $0.4742$ & $0.3164$ \\\\\n",
      "$200$ &  $1/K$ &  $5/K$ &         $0.3708$ & $0.2828$ \\\\\n",
      "$200$ &  $1/K$ &   auto &         $0.4747$ & $0.3381$ \\\\\n",
      "$200$ &  $2/K$ &  $1/K$ &         $0.4583$ & $0.3134$ \\\\\n",
      "$200$ &  $2/K$ &  $2/K$ &    $\\bm{0.4831}$ & $0.3328$ \\\\\n",
      "$200$ &  $2/K$ &  $5/K$ &         $0.3906$ & $0.2623$ \\\\\n",
      "$200$ &  $2/K$ &   auto &         $0.4605$ & $0.3140$ \\\\\n",
      "\\bottomrule\n",
      "\\end{tabular}\n",
      "} \\hfill \\parbox{.45\\linewidth}{\\centering \\begin{tabular}{rll|rr}\n",
      "\\toprule\n",
      "    K &  $\\alpha$ &    $\\eta$ & FLT &        DIT \\\\\n",
      "\\midrule\n",
      "$200$ &  $5/K$ &  $1/K$ &         $0.4430$ &      $0.3677$ \\\\\n",
      "$200$ &  $5/K$ &  $2/K$ &         $0.4586$ &      $0.3103$ \\\\\n",
      "$200$ &  $5/K$ &  $5/K$ &         $0.4023$ &      $0.3060$ \\\\\n",
      "$200$ &  $5/K$ &   auto &         $0.4171$ &      $0.3385$ \\\\\n",
      "$200$ &   auto &  $1/K$ &         $0.4712$ &      $0.3216$ \\\\\n",
      "$200$ &   auto &  $2/K$ &         $0.4743$ &      $0.3252$ \\\\\n",
      "$200$ &   auto &  $5/K$ &         $0.3565$ &      $0.2824$ \\\\\n",
      "$200$ &   auto &   auto &         $0.4746$ &      $0.3382$ \\\\\n",
      "$500$ &  $1/K$ &  $1/K$ &         $0.4033$ &      $0.3609$ \\\\\n",
      "$500$ &  $1/K$ &  $2/K$ &         $0.3934$ &      $0.3572$ \\\\\n",
      "$500$ &  $1/K$ &  $5/K$ &         $0.4112$ &      $0.3320$ \\\\\n",
      "$500$ &  $1/K$ &   auto &         $0.3944$ &      $0.3617$ \\\\\n",
      "$500$ &  $2/K$ &  $1/K$ &         $0.4364$ &      $0.3722$ \\\\\n",
      "$500$ &  $2/K$ &  $2/K$ &         $0.4004$ &      $0.3672$ \\\\\n",
      "$500$ &  $2/K$ &  $5/K$ &         $0.3922$ & $\\bm{0.3775}$ \\\\\n",
      "$500$ &  $2/K$ &   auto &         $0.4403$ &      $0.3597$ \\\\\n",
      "$500$ &  $5/K$ &  $1/K$ &         $0.3843$ &      $0.3570$ \\\\\n",
      "$500$ &  $5/K$ &  $2/K$ &         $0.3647$ &      $0.3720$ \\\\\n",
      "$500$ &  $5/K$ &  $5/K$ &         $0.3961$ &      $0.3565$ \\\\\n",
      "$500$ &  $5/K$ &   auto &         $0.3868$ &      $0.3549$ \\\\\n",
      "$500$ &   auto &  $1/K$ &         $0.4033$ &      $0.3608$ \\\\\n",
      "$500$ &   auto &  $2/K$ &         $0.3934$ &      $0.3572$ \\\\\n",
      "$500$ &   auto &  $5/K$ &         $0.3925$ &      $0.3747$ \\\\\n",
      "$500$ &   auto &   auto &         $0.3944$ &      $0.3634$ \\\\\n",
      "\\bottomrule\n",
      "\\end{tabular}\n",
      "}\n",
      "\\end{spacing}\n",
      "\\end{table}\n",
      "\n",
      "\n",
      "None\n",
      "Writing to: /home/cscorley/git/dissertation/tables/tika_corpus_sweep.tex\n",
      "\n",
      "\\begin{table}\n",
      "\\begin{spacing}{1.2}\n",
      "\\centering\n",
      "\\caption{MRR values of Tika v1.8 corpus construction sweep}\n",
      "\\label{table:tika_corpus_sweep}\n",
      "\\vspace{0.2em}\n",
      "\\begin{tabular}{llll|rr}\n",
      "\\toprule\n",
      "Additions & Removals & Context & Message & FLT &        DIT \\\\\n",
      "\\midrule\n",
      "     True &     True &    True &    True &    $\\bm{0.6482}$ &      $0.3943$ \\\\\n",
      "     True &     True &    True &   False &         $0.4033$ &      $0.3609$ \\\\\n",
      "     True &     True &   False &    True &         $0.4713$ &      $0.3563$ \\\\\n",
      "     True &     True &   False &   False &         $0.5231$ &      $0.4103$ \\\\\n",
      "     True &    False &    True &    True &         $0.4759$ &      $0.4065$ \\\\\n",
      "     True &    False &    True &   False &         $0.5572$ & $\\bm{0.4522}$ \\\\\n",
      "     True &    False &   False &    True &         $0.4864$ &      $0.3353$ \\\\\n",
      "     True &    False &   False &   False &         $0.3829$ &      $0.4321$ \\\\\n",
      "    False &     True &    True &    True &         $0.4494$ &      $0.3738$ \\\\\n",
      "    False &     True &    True &   False &         $0.3940$ &      $0.3694$ \\\\\n",
      "    False &     True &   False &    True &         $0.3759$ &      $0.3567$ \\\\\n",
      "    False &     True &   False &   False &         $0.4109$ &      $0.3015$ \\\\\n",
      "    False &    False &    True &    True &         $0.4507$ &      $0.3856$ \\\\\n",
      "    False &    False &    True &   False &         $0.4198$ &      $0.2995$ \\\\\n",
      "    False &    False &   False &    True &         $0.5475$ &      $0.3695$ \\\\\n",
      "\\bottomrule\n",
      "\\end{tabular}\n",
      "\n",
      "\\end{spacing}\n",
      "\\end{table}\n",
      "\n",
      "\n",
      "None\n",
      "Writing to: /home/cscorley/git/dissertation/tables/pig_model_sweep.tex\n",
      "\n",
      "\\begin{table}\n",
      "\\begin{spacing}{1.2}\n",
      "\\centering\n",
      "\\caption{MRR values of Pig v0.14.0 model construction sweep}\n",
      "\\label{table:pig_model_sweep}\n",
      "\\vspace{0.2em}\n",
      "\\parbox{.45\\linewidth}{\\centering \\begin{tabular}{rll|rr}\n",
      "\\toprule\n",
      "    K &  $\\alpha$ &    $\\eta$ & FLT &   DIT \\\\\n",
      "\\midrule\n",
      "$100$ &  $1/K$ &  $1/K$ &         $0.2412$ & $0.1960$ \\\\\n",
      "$100$ &  $1/K$ &  $2/K$ &         $0.2272$ & $0.1859$ \\\\\n",
      "$100$ &  $1/K$ &  $5/K$ &         $0.2376$ & $0.1931$ \\\\\n",
      "$100$ &  $1/K$ &   auto &         $0.2411$ & $0.1957$ \\\\\n",
      "$100$ &  $2/K$ &  $1/K$ &         $0.2338$ & $0.1880$ \\\\\n",
      "$100$ &  $2/K$ &  $2/K$ &         $0.2283$ & $0.1844$ \\\\\n",
      "$100$ &  $2/K$ &  $5/K$ &         $0.2370$ & $0.1973$ \\\\\n",
      "$100$ &  $2/K$ &   auto &         $0.2330$ & $0.1889$ \\\\\n",
      "$100$ &  $5/K$ &  $1/K$ &         $0.2276$ & $0.2018$ \\\\\n",
      "$100$ &  $5/K$ &  $2/K$ &         $0.2408$ & $0.1813$ \\\\\n",
      "$100$ &  $5/K$ &  $5/K$ &         $0.2467$ & $0.1902$ \\\\\n",
      "$100$ &  $5/K$ &   auto &         $0.2277$ & $0.1924$ \\\\\n",
      "$100$ &   auto &  $1/K$ &         $0.2419$ & $0.1961$ \\\\\n",
      "$100$ &   auto &  $2/K$ &         $0.2263$ & $0.1850$ \\\\\n",
      "$100$ &   auto &  $5/K$ &         $0.2378$ & $0.1925$ \\\\\n",
      "$100$ &   auto &   auto &         $0.2418$ & $0.1968$ \\\\\n",
      "$200$ &  $1/K$ &  $1/K$ &         $0.2858$ & $0.2060$ \\\\\n",
      "$200$ &  $1/K$ &  $2/K$ &         $0.3253$ & $0.1811$ \\\\\n",
      "$200$ &  $1/K$ &  $5/K$ &         $0.3155$ & $0.1730$ \\\\\n",
      "$200$ &  $1/K$ &   auto &         $0.2862$ & $0.2060$ \\\\\n",
      "$200$ &  $2/K$ &  $1/K$ &         $0.2931$ & $0.2136$ \\\\\n",
      "$200$ &  $2/K$ &  $2/K$ &         $0.3132$ & $0.1852$ \\\\\n",
      "$200$ &  $2/K$ &  $5/K$ &         $0.3120$ & $0.1683$ \\\\\n",
      "$200$ &  $2/K$ &   auto &         $0.3025$ & $0.2081$ \\\\\n",
      "\\bottomrule\n",
      "\\end{tabular}\n",
      "} \\hfill \\parbox{.45\\linewidth}{\\centering \\begin{tabular}{rll|rr}\n",
      "\\toprule\n",
      "    K &  $\\alpha$ &    $\\eta$ & FLT &        DIT \\\\\n",
      "\\midrule\n",
      "$200$ &  $5/K$ &  $1/K$ &         $0.2859$ & $\\bm{0.2173}$ \\\\\n",
      "$200$ &  $5/K$ &  $2/K$ &         $0.3017$ &      $0.1878$ \\\\\n",
      "$200$ &  $5/K$ &  $5/K$ &         $0.3031$ &      $0.1882$ \\\\\n",
      "$200$ &  $5/K$ &   auto &         $0.2906$ &      $0.2133$ \\\\\n",
      "$200$ &   auto &  $1/K$ &         $0.2863$ &      $0.2058$ \\\\\n",
      "$200$ &   auto &  $2/K$ &         $0.3249$ &      $0.1812$ \\\\\n",
      "$200$ &   auto &  $5/K$ &         $0.3126$ &      $0.1724$ \\\\\n",
      "$200$ &   auto &   auto &         $0.2863$ &      $0.2079$ \\\\\n",
      "$500$ &  $1/K$ &  $1/K$ &         $0.3930$ &      $0.1759$ \\\\\n",
      "$500$ &  $1/K$ &  $2/K$ &    $\\bm{0.3964}$ &      $0.1631$ \\\\\n",
      "$500$ &  $1/K$ &  $5/K$ &         $0.3256$ &      $0.1775$ \\\\\n",
      "$500$ &  $1/K$ &   auto &         $0.3898$ &      $0.1722$ \\\\\n",
      "$500$ &  $2/K$ &  $1/K$ &         $0.3905$ &      $0.1747$ \\\\\n",
      "$500$ &  $2/K$ &  $2/K$ &         $0.3821$ &      $0.1680$ \\\\\n",
      "$500$ &  $2/K$ &  $5/K$ &         $0.3244$ &      $0.1900$ \\\\\n",
      "$500$ &  $2/K$ &   auto &         $0.3834$ &      $0.1760$ \\\\\n",
      "$500$ &  $5/K$ &  $1/K$ &         $0.3860$ &      $0.1710$ \\\\\n",
      "$500$ &  $5/K$ &  $2/K$ &         $0.3964$ &      $0.1609$ \\\\\n",
      "$500$ &  $5/K$ &  $5/K$ &         $0.3246$ &      $0.1701$ \\\\\n",
      "$500$ &  $5/K$ &   auto &         $0.3859$ &      $0.1801$ \\\\\n",
      "$500$ &   auto &  $1/K$ &         $0.3943$ &      $0.1762$ \\\\\n",
      "$500$ &   auto &  $2/K$ &         $0.3936$ &      $0.1630$ \\\\\n",
      "$500$ &   auto &  $5/K$ &         $0.3266$ &      $0.1746$ \\\\\n",
      "$500$ &   auto &   auto &         $0.3900$ &      $0.1744$ \\\\\n",
      "\\bottomrule\n",
      "\\end{tabular}\n",
      "}\n",
      "\\end{spacing}\n",
      "\\end{table}\n",
      "\n",
      "\n",
      "8\n",
      "Writing to: /home/cscorley/git/dissertation/tables/pig_corpus_sweep.tex\n",
      "\n",
      "\\begin{table}\n",
      "\\begin{spacing}{1.2}\n",
      "\\centering\n",
      "\\caption{MRR values of Pig v0.14.0 corpus construction sweep}\n",
      "\\label{table:pig_corpus_sweep}\n",
      "\\vspace{0.2em}\n",
      "\\begin{tabular}{llll|rr}\n",
      "\\toprule\n",
      "Additions & Removals & Context & Message & FLT &        DIT \\\\\n",
      "\\midrule\n",
      "     True &     True &    True &    True &         $0.3677$ &      $0.1801$ \\\\\n",
      "     True &     True &    True &   False &         $0.3930$ &      $0.1759$ \\\\\n",
      "     True &     True &   False &    True &         $0.3365$ &      $0.1824$ \\\\\n",
      "     True &     True &   False &   False &    $\\bm{0.4360}$ &      $0.1437$ \\\\\n",
      "     True &    False &    True &    True &         $0.4144$ &      $0.1874$ \\\\\n",
      "     True &    False &    True &   False &         $0.3440$ &      $0.2032$ \\\\\n",
      "     True &    False &   False &    True &         $0.3594$ &      $0.1416$ \\\\\n",
      "     True &    False &   False &   False &         $0.3853$ &      $0.1421$ \\\\\n",
      "    False &     True &    True &    True &         $0.3470$ &      $0.1771$ \\\\\n",
      "    False &     True &    True &   False &         $0.2964$ &      $0.1316$ \\\\\n",
      "    False &     True &   False &    True &         $0.3391$ &      $0.1694$ \\\\\n",
      "    False &     True &   False &   False &         $0.2783$ &      $0.1533$ \\\\\n",
      "    False &    False &    True &    True &         $0.3204$ &      $0.2933$ \\\\\n",
      "    False &    False &    True &   False &         $0.3124$ & $\\bm{0.3032}$ \\\\\n",
      "    False &    False &   False &    True &         $0.3597$ &      $0.2703$ \\\\\n",
      "\\bottomrule\n",
      "\\end{tabular}\n",
      "\n",
      "\\end{spacing}\n",
      "\\end{table}\n",
      "\n",
      "\n",
      "43\n",
      "Writing to: /home/cscorley/git/dissertation/tables/bookkeeper_model_sweep.tex\n",
      "\n",
      "\\begin{table}\n",
      "\\begin{spacing}{1.2}\n",
      "\\centering\n",
      "\\caption{MRR values of BookKeeper v4.3.0 model construction sweep}\n",
      "\\label{table:bookkeeper_model_sweep}\n",
      "\\vspace{0.2em}\n",
      "\\parbox{.45\\linewidth}{\\centering \\begin{tabular}{rll|rr}\n",
      "\\toprule\n",
      "    K &  $\\alpha$ &    $\\eta$ & FLT &   DIT \\\\\n",
      "\\midrule\n",
      "$100$ &  $1/K$ &  $1/K$ &         $0.4143$ & $0.5129$ \\\\\n",
      "$100$ &  $1/K$ &  $2/K$ &         $0.4002$ & $0.4740$ \\\\\n",
      "$100$ &  $1/K$ &  $5/K$ &         $0.3420$ & $0.4296$ \\\\\n",
      "$100$ &  $1/K$ &   auto &         $0.3982$ & $0.5051$ \\\\\n",
      "$100$ &  $2/K$ &  $1/K$ &         $0.4208$ & $0.5097$ \\\\\n",
      "$100$ &  $2/K$ &  $2/K$ &         $0.3963$ & $0.4755$ \\\\\n",
      "$100$ &  $2/K$ &  $5/K$ &         $0.3611$ & $0.4392$ \\\\\n",
      "$100$ &  $2/K$ &   auto &         $0.3967$ & $0.5176$ \\\\\n",
      "$100$ &  $5/K$ &  $1/K$ &         $0.4194$ & $0.5374$ \\\\\n",
      "$100$ &  $5/K$ &  $2/K$ &         $0.3808$ & $0.4892$ \\\\\n",
      "$100$ &  $5/K$ &  $5/K$ &         $0.3720$ & $0.4443$ \\\\\n",
      "$100$ &  $5/K$ &   auto &         $0.4123$ & $0.5321$ \\\\\n",
      "$100$ &   auto &  $1/K$ &         $0.4108$ & $0.5160$ \\\\\n",
      "$100$ &   auto &  $2/K$ &         $0.4069$ & $0.4780$ \\\\\n",
      "$100$ &   auto &  $5/K$ &         $0.3420$ & $0.4296$ \\\\\n",
      "$100$ &   auto &   auto &         $0.4009$ & $0.5051$ \\\\\n",
      "$200$ &  $1/K$ &  $1/K$ &         $0.4422$ & $0.5945$ \\\\\n",
      "$200$ &  $1/K$ &  $2/K$ &         $0.4468$ & $0.5557$ \\\\\n",
      "$200$ &  $1/K$ &  $5/K$ &         $0.4711$ & $0.4902$ \\\\\n",
      "$200$ &  $1/K$ &   auto &         $0.4566$ & $0.5566$ \\\\\n",
      "$200$ &  $2/K$ &  $1/K$ &         $0.4349$ & $0.5686$ \\\\\n",
      "$200$ &  $2/K$ &  $2/K$ &         $0.4434$ & $0.5595$ \\\\\n",
      "$200$ &  $2/K$ &  $5/K$ &         $0.4638$ & $0.5114$ \\\\\n",
      "$200$ &  $2/K$ &   auto &         $0.4501$ & $0.5571$ \\\\\n",
      "\\bottomrule\n",
      "\\end{tabular}\n",
      "} \\hfill \\parbox{.45\\linewidth}{\\centering \\begin{tabular}{rll|rr}\n",
      "\\toprule\n",
      "    K &  $\\alpha$ &    $\\eta$ & FLT &        DIT \\\\\n",
      "\\midrule\n",
      "$200$ &  $5/K$ &  $1/K$ &         $0.4237$ &      $0.5823$ \\\\\n",
      "$200$ &  $5/K$ &  $2/K$ &         $0.4279$ &      $0.5805$ \\\\\n",
      "$200$ &  $5/K$ &  $5/K$ &         $0.4770$ &      $0.5223$ \\\\\n",
      "$200$ &  $5/K$ &   auto &         $0.4333$ &      $0.5554$ \\\\\n",
      "$200$ &   auto &  $1/K$ &         $0.4387$ &      $0.5945$ \\\\\n",
      "$200$ &   auto &  $2/K$ &         $0.4256$ &      $0.5652$ \\\\\n",
      "$200$ &   auto &  $5/K$ &         $0.4720$ &      $0.4902$ \\\\\n",
      "$200$ &   auto &   auto &         $0.4566$ &      $0.5566$ \\\\\n",
      "$500$ &  $1/K$ &  $1/K$ &         $0.4567$ &      $0.6513$ \\\\\n",
      "$500$ &  $1/K$ &  $2/K$ &         $0.4733$ &      $0.6470$ \\\\\n",
      "$500$ &  $1/K$ &  $5/K$ &         $0.4572$ &      $0.6189$ \\\\\n",
      "$500$ &  $1/K$ &   auto &         $0.4711$ &      $0.6269$ \\\\\n",
      "$500$ &  $2/K$ &  $1/K$ &         $0.4618$ &      $0.6419$ \\\\\n",
      "$500$ &  $2/K$ &  $2/K$ &         $0.4621$ &      $0.6419$ \\\\\n",
      "$500$ &  $2/K$ &  $5/K$ &         $0.4497$ &      $0.6226$ \\\\\n",
      "$500$ &  $2/K$ &   auto &         $0.4633$ &      $0.6459$ \\\\\n",
      "$500$ &  $5/K$ &  $1/K$ &         $0.4740$ &      $0.6571$ \\\\\n",
      "$500$ &  $5/K$ &  $2/K$ &         $0.4826$ &      $0.6432$ \\\\\n",
      "$500$ &  $5/K$ &  $5/K$ &         $0.4400$ &      $0.6327$ \\\\\n",
      "$500$ &  $5/K$ &   auto &    $\\bm{0.4884}$ & $\\bm{0.6642}$ \\\\\n",
      "$500$ &   auto &  $1/K$ &         $0.4578$ &      $0.6513$ \\\\\n",
      "$500$ &   auto &  $2/K$ &         $0.4720$ &      $0.6470$ \\\\\n",
      "$500$ &   auto &  $5/K$ &         $0.4567$ &      $0.6189$ \\\\\n",
      "$500$ &   auto &   auto &         $0.4710$ &      $0.6266$ \\\\\n",
      "\\bottomrule\n",
      "\\end{tabular}\n",
      "}\n",
      "\\end{spacing}\n",
      "\\end{table}\n",
      "\n",
      "\n",
      "1\n",
      "Writing to: /home/cscorley/git/dissertation/tables/bookkeeper_corpus_sweep.tex\n",
      "\n",
      "\\begin{table}\n",
      "\\begin{spacing}{1.2}\n",
      "\\centering\n",
      "\\caption{MRR values of BookKeeper v4.3.0 corpus construction sweep}\n",
      "\\label{table:bookkeeper_corpus_sweep}\n",
      "\\vspace{0.2em}\n",
      "\\begin{tabular}{llll|rr}\n",
      "\\toprule\n",
      "Additions & Removals & Context & Message & FLT &        DIT \\\\\n",
      "\\midrule\n",
      "     True &     True &    True &    True &         $0.5246$ & $\\bm{0.7216}$ \\\\\n",
      "     True &     True &    True &   False &         $0.4567$ &      $0.6513$ \\\\\n",
      "     True &     True &   False &    True &         $0.5316$ &      $0.6465$ \\\\\n",
      "     True &     True &   False &   False &         $0.4970$ &      $0.5425$ \\\\\n",
      "     True &    False &    True &    True &    $\\bm{0.5327}$ &      $0.6974$ \\\\\n",
      "     True &    False &    True &   False &         $0.4450$ &      $0.6517$ \\\\\n",
      "     True &    False &   False &    True &         $0.5260$ &      $0.6722$ \\\\\n",
      "     True &    False &   False &   False &         $0.4881$ &      $0.4821$ \\\\\n",
      "    False &     True &    True &    True &         $0.4786$ &      $0.6530$ \\\\\n",
      "    False &     True &    True &   False &         $0.4036$ &      $0.6526$ \\\\\n",
      "    False &     True &   False &    True &         $0.3978$ &      $0.6507$ \\\\\n",
      "    False &     True &   False &   False &         $0.3195$ &      $0.6375$ \\\\\n",
      "    False &    False &    True &    True &         $0.4968$ &      $0.7114$ \\\\\n",
      "    False &    False &    True &   False &         $0.3366$ &      $0.7057$ \\\\\n",
      "    False &    False &   False &    True &         $0.3826$ &      $0.5132$ \\\\\n",
      "\\bottomrule\n",
      "\\end{tabular}\n",
      "\n",
      "\\end{spacing}\n",
      "\\end{table}\n",
      "\n",
      "\n",
      "47\n",
      "Writing to: /home/cscorley/git/dissertation/tables/openjpa_model_sweep.tex\n",
      "\n",
      "\\begin{table}\n",
      "\\begin{spacing}{1.2}\n",
      "\\centering\n",
      "\\caption{MRR values of OpenJPA v2.3.0 model construction sweep}\n",
      "\\label{table:openjpa_model_sweep}\n",
      "\\vspace{0.2em}\n",
      "\\parbox{.45\\linewidth}{\\centering \\begin{tabular}{rll|rr}\n",
      "\\toprule\n",
      "    K &  $\\alpha$ &    $\\eta$ & FLT &   DIT \\\\\n",
      "\\midrule\n",
      "$100$ &  $1/K$ &  $1/K$ &         $0.1998$ & $0.2654$ \\\\\n",
      "$100$ &  $1/K$ &  $2/K$ &         $0.2045$ & $0.2705$ \\\\\n",
      "$100$ &  $1/K$ &  $5/K$ &         $0.1953$ & $0.2716$ \\\\\n",
      "$100$ &  $1/K$ &   auto &         $0.2038$ & $0.2697$ \\\\\n",
      "$100$ &  $2/K$ &  $1/K$ &         $0.2126$ & $0.2664$ \\\\\n",
      "$100$ &  $2/K$ &  $2/K$ &         $0.2006$ & $0.2697$ \\\\\n",
      "$100$ &  $2/K$ &  $5/K$ &         $0.2096$ & $0.2675$ \\\\\n",
      "$100$ &  $2/K$ &   auto &         $0.2097$ & $0.2662$ \\\\\n",
      "$100$ &  $5/K$ &  $1/K$ &         $0.1819$ & $0.2684$ \\\\\n",
      "$100$ &  $5/K$ &  $2/K$ &         $0.2052$ & $0.2547$ \\\\\n",
      "$100$ &  $5/K$ &  $5/K$ &         $0.2020$ & $0.2594$ \\\\\n",
      "$100$ &  $5/K$ &   auto &         $0.1812$ & $0.2665$ \\\\\n",
      "$100$ &   auto &  $1/K$ &         $0.1998$ & $0.2696$ \\\\\n",
      "$100$ &   auto &  $2/K$ &         $0.2039$ & $0.2670$ \\\\\n",
      "$100$ &   auto &  $5/K$ &         $0.2051$ & $0.2708$ \\\\\n",
      "$100$ &   auto &   auto &         $0.2025$ & $0.2718$ \\\\\n",
      "$200$ &  $1/K$ &  $1/K$ &         $0.2733$ & $0.3500$ \\\\\n",
      "$200$ &  $1/K$ &  $2/K$ &         $0.2688$ & $0.3377$ \\\\\n",
      "$200$ &  $1/K$ &  $5/K$ &         $0.2706$ & $0.3206$ \\\\\n",
      "$200$ &  $1/K$ &   auto &         $0.2719$ & $0.3489$ \\\\\n",
      "$200$ &  $2/K$ &  $1/K$ &         $0.2640$ & $0.3342$ \\\\\n",
      "$200$ &  $2/K$ &  $2/K$ &         $0.2684$ & $0.3260$ \\\\\n",
      "$200$ &  $2/K$ &  $5/K$ &         $0.2638$ & $0.3410$ \\\\\n",
      "$200$ &  $2/K$ &   auto &         $0.2619$ & $0.3305$ \\\\\n",
      "\\bottomrule\n",
      "\\end{tabular}\n",
      "} \\hfill \\parbox{.45\\linewidth}{\\centering \\begin{tabular}{rll|rr}\n",
      "\\toprule\n",
      "    K &  $\\alpha$ &    $\\eta$ & FLT &        DIT \\\\\n",
      "\\midrule\n",
      "$200$ &  $5/K$ &  $1/K$ &         $0.2771$ &      $0.3208$ \\\\\n",
      "$200$ &  $5/K$ &  $2/K$ &         $0.2578$ &      $0.3391$ \\\\\n",
      "$200$ &  $5/K$ &  $5/K$ &         $0.2558$ &      $0.3467$ \\\\\n",
      "$200$ &  $5/K$ &   auto &         $0.2690$ &      $0.3320$ \\\\\n",
      "$200$ &   auto &  $1/K$ &         $0.2758$ &      $0.3263$ \\\\\n",
      "$200$ &   auto &  $2/K$ &         $0.2695$ &      $0.3383$ \\\\\n",
      "$200$ &   auto &  $5/K$ &         $0.2691$ &      $0.3222$ \\\\\n",
      "$200$ &   auto &   auto &         $0.2719$ &      $0.3446$ \\\\\n",
      "$500$ &  $1/K$ &  $1/K$ &         $0.2989$ &      $0.3648$ \\\\\n",
      "$500$ &  $1/K$ &  $2/K$ &         $0.2837$ &      $0.3258$ \\\\\n",
      "$500$ &  $1/K$ &  $5/K$ &         $0.2655$ &      $0.3578$ \\\\\n",
      "$500$ &  $1/K$ &   auto &         $0.3002$ &      $0.3647$ \\\\\n",
      "$500$ &  $2/K$ &  $1/K$ &         $0.2945$ &      $0.3394$ \\\\\n",
      "$500$ &  $2/K$ &  $2/K$ &         $0.2838$ &      $0.3373$ \\\\\n",
      "$500$ &  $2/K$ &  $5/K$ &         $0.2649$ &      $0.3618$ \\\\\n",
      "$500$ &  $2/K$ &   auto &    $\\bm{0.3089}$ &      $0.3466$ \\\\\n",
      "$500$ &  $5/K$ &  $1/K$ &         $0.2895$ &      $0.3622$ \\\\\n",
      "$500$ &  $5/K$ &  $2/K$ &         $0.2543$ &      $0.3420$ \\\\\n",
      "$500$ &  $5/K$ &  $5/K$ &         $0.2885$ &      $0.3456$ \\\\\n",
      "$500$ &  $5/K$ &   auto &         $0.2874$ &      $0.3644$ \\\\\n",
      "$500$ &   auto &  $1/K$ &         $0.2983$ & $\\bm{0.3695}$ \\\\\n",
      "$500$ &   auto &  $2/K$ &         $0.2846$ &      $0.3253$ \\\\\n",
      "$500$ &   auto &  $5/K$ &         $0.2721$ &      $0.3569$ \\\\\n",
      "$500$ &   auto &   auto &         $0.3002$ &      $0.3681$ \\\\\n",
      "\\bottomrule\n",
      "\\end{tabular}\n",
      "}\n",
      "\\end{spacing}\n",
      "\\end{table}\n",
      "\n",
      "\n",
      "None\n",
      "Writing to: /home/cscorley/git/dissertation/tables/openjpa_corpus_sweep.tex\n",
      "\n",
      "\\begin{table}\n",
      "\\begin{spacing}{1.2}\n",
      "\\centering\n",
      "\\caption{MRR values of OpenJPA v2.3.0 corpus construction sweep}\n",
      "\\label{table:openjpa_corpus_sweep}\n",
      "\\vspace{0.2em}\n",
      "\\begin{tabular}{llll|rr}\n",
      "\\toprule\n",
      "Additions & Removals & Context & Message & FLT &        DIT \\\\\n",
      "\\midrule\n",
      "     True &     True &    True &    True &         $0.3137$ &      $0.3833$ \\\\\n",
      "     True &     True &    True &   False &         $0.2989$ &      $0.3648$ \\\\\n",
      "     True &     True &   False &    True &         $0.2933$ &      $0.3916$ \\\\\n",
      "     True &     True &   False &   False &         $0.2999$ &      $0.3568$ \\\\\n",
      "     True &    False &    True &    True &    $\\bm{0.3687}$ &      $0.3935$ \\\\\n",
      "     True &    False &    True &   False &         $0.2869$ & $\\bm{0.4096}$ \\\\\n",
      "     True &    False &   False &    True &         $0.3281$ &      $0.3349$ \\\\\n",
      "     True &    False &   False &   False &         $0.2990$ &      $0.3446$ \\\\\n",
      "    False &     True &    True &    True &         $0.2996$ &      $0.3544$ \\\\\n",
      "    False &     True &    True &   False &         $0.2314$ &      $0.3256$ \\\\\n",
      "    False &     True &   False &    True &         $0.2207$ &      $0.3317$ \\\\\n",
      "    False &     True &   False &   False &         $0.2706$ &      $0.2563$ \\\\\n",
      "    False &    False &    True &    True &         $0.2502$ &      $0.3236$ \\\\\n",
      "    False &    False &    True &   False &         $0.2809$ &      $0.2744$ \\\\\n",
      "    False &    False &   False &    True &         $0.2928$ &      $0.3157$ \\\\\n",
      "\\bottomrule\n",
      "\\end{tabular}\n",
      "\n",
      "\\end{spacing}\n",
      "\\end{table}\n",
      "\n",
      "\n",
      "None\n",
      "Writing to: /home/cscorley/git/dissertation/tables/mahout_model_sweep.tex\n",
      "\n",
      "\\begin{table}\n",
      "\\begin{spacing}{1.2}\n",
      "\\centering\n",
      "\\caption{MRR values of Mahout v0.10.0 model construction sweep}\n",
      "\\label{table:mahout_model_sweep}\n",
      "\\vspace{0.2em}\n",
      "\\parbox{.45\\linewidth}{\\centering \\begin{tabular}{rll|rr}\n",
      "\\toprule\n",
      "    K &  $\\alpha$ &    $\\eta$ & FLT &   DIT \\\\\n",
      "\\midrule\n",
      "$100$ &  $1/K$ &  $1/K$ &         $0.2536$ & $0.2501$ \\\\\n",
      "$100$ &  $1/K$ &  $2/K$ &         $0.2601$ & $0.2478$ \\\\\n",
      "$100$ &  $1/K$ &  $5/K$ &         $0.2830$ & $0.2560$ \\\\\n",
      "$100$ &  $1/K$ &   auto &         $0.2427$ & $0.2594$ \\\\\n",
      "$100$ &  $2/K$ &  $1/K$ &         $0.2687$ & $0.2395$ \\\\\n",
      "$100$ &  $2/K$ &  $2/K$ &         $0.2504$ & $0.2518$ \\\\\n",
      "$100$ &  $2/K$ &  $5/K$ &         $0.2952$ & $0.2556$ \\\\\n",
      "$100$ &  $2/K$ &   auto &         $0.2579$ & $0.2370$ \\\\\n",
      "$100$ &  $5/K$ &  $1/K$ &         $0.2244$ & $0.2686$ \\\\\n",
      "$100$ &  $5/K$ &  $2/K$ &         $0.2641$ & $0.2400$ \\\\\n",
      "$100$ &  $5/K$ &  $5/K$ &         $0.2940$ & $0.2401$ \\\\\n",
      "$100$ &  $5/K$ &   auto &         $0.2355$ & $0.2686$ \\\\\n",
      "$100$ &   auto &  $1/K$ &         $0.2436$ & $0.2501$ \\\\\n",
      "$100$ &   auto &  $2/K$ &         $0.2601$ & $0.2478$ \\\\\n",
      "$100$ &   auto &  $5/K$ &         $0.2830$ & $0.2563$ \\\\\n",
      "$100$ &   auto &   auto &         $0.2404$ & $0.2600$ \\\\\n",
      "$200$ &  $1/K$ &  $1/K$ &         $0.2846$ & $0.2806$ \\\\\n",
      "$200$ &  $1/K$ &  $2/K$ &         $0.3193$ & $0.2950$ \\\\\n",
      "$200$ &  $1/K$ &  $5/K$ &         $0.2751$ & $0.2855$ \\\\\n",
      "$200$ &  $1/K$ &   auto &         $0.2987$ & $0.2788$ \\\\\n",
      "$200$ &  $2/K$ &  $1/K$ &         $0.2667$ & $0.2811$ \\\\\n",
      "$200$ &  $2/K$ &  $2/K$ &         $0.3183$ & $0.2787$ \\\\\n",
      "$200$ &  $2/K$ &  $5/K$ &         $0.2725$ & $0.2872$ \\\\\n",
      "$200$ &  $2/K$ &   auto &         $0.2767$ & $0.2856$ \\\\\n",
      "\\bottomrule\n",
      "\\end{tabular}\n",
      "} \\hfill \\parbox{.45\\linewidth}{\\centering \\begin{tabular}{rll|rr}\n",
      "\\toprule\n",
      "    K &  $\\alpha$ &    $\\eta$ & FLT &        DIT \\\\\n",
      "\\midrule\n",
      "$200$ &  $5/K$ &  $1/K$ &         $0.2542$ &      $0.2740$ \\\\\n",
      "$200$ &  $5/K$ &  $2/K$ &         $0.2904$ &      $0.2764$ \\\\\n",
      "$200$ &  $5/K$ &  $5/K$ &         $0.2837$ &      $0.2908$ \\\\\n",
      "$200$ &  $5/K$ &   auto &         $0.2602$ &      $0.2749$ \\\\\n",
      "$200$ &   auto &  $1/K$ &         $0.2879$ &      $0.2812$ \\\\\n",
      "$200$ &   auto &  $2/K$ &         $0.3193$ &      $0.2954$ \\\\\n",
      "$200$ &   auto &  $5/K$ &         $0.2760$ &      $0.2855$ \\\\\n",
      "$200$ &   auto &   auto &         $0.2987$ &      $0.2789$ \\\\\n",
      "$500$ &  $1/K$ &  $1/K$ &         $0.2730$ &      $0.3340$ \\\\\n",
      "$500$ &  $1/K$ &  $2/K$ &         $0.2860$ &      $0.3517$ \\\\\n",
      "$500$ &  $1/K$ &  $5/K$ &         $0.2802$ & $\\bm{0.3544}$ \\\\\n",
      "$500$ &  $1/K$ &   auto &         $0.2726$ &      $0.3404$ \\\\\n",
      "$500$ &  $2/K$ &  $1/K$ &         $0.3106$ &      $0.3337$ \\\\\n",
      "$500$ &  $2/K$ &  $2/K$ &         $0.2836$ &      $0.3488$ \\\\\n",
      "$500$ &  $2/K$ &  $5/K$ &         $0.2861$ &      $0.3251$ \\\\\n",
      "$500$ &  $2/K$ &   auto &    $\\bm{0.3390}$ &      $0.3504$ \\\\\n",
      "$500$ &  $5/K$ &  $1/K$ &         $0.2579$ &      $0.3368$ \\\\\n",
      "$500$ &  $5/K$ &  $2/K$ &         $0.2437$ &      $0.3535$ \\\\\n",
      "$500$ &  $5/K$ &  $5/K$ &         $0.2502$ &      $0.3355$ \\\\\n",
      "$500$ &  $5/K$ &   auto &         $0.2685$ &      $0.3381$ \\\\\n",
      "$500$ &   auto &  $1/K$ &         $0.2733$ &      $0.3340$ \\\\\n",
      "$500$ &   auto &  $2/K$ &         $0.2860$ &      $0.3517$ \\\\\n",
      "$500$ &   auto &  $5/K$ &         $0.2802$ &      $0.3543$ \\\\\n",
      "$500$ &   auto &   auto &         $0.2727$ &      $0.3400$ \\\\\n",
      "\\bottomrule\n",
      "\\end{tabular}\n",
      "}\n",
      "\\end{spacing}\n",
      "\\end{table}\n",
      "\n",
      "\n",
      "None\n",
      "Writing to: /home/cscorley/git/dissertation/tables/mahout_corpus_sweep.tex\n",
      "\n",
      "\\begin{table}\n",
      "\\begin{spacing}{1.2}\n",
      "\\centering\n",
      "\\caption{MRR values of Mahout v0.10.0 corpus construction sweep}\n",
      "\\label{table:mahout_corpus_sweep}\n",
      "\\vspace{0.2em}\n",
      "\\begin{tabular}{llll|rr}\n",
      "\\toprule\n",
      "Additions & Removals & Context & Message & FLT &        DIT \\\\\n",
      "\\midrule\n",
      "     True &     True &    True &    True &         $0.3119$ &      $0.2785$ \\\\\n",
      "     True &     True &    True &   False &         $0.2730$ &      $0.3340$ \\\\\n",
      "     True &     True &   False &    True &         $0.2766$ &      $0.2797$ \\\\\n",
      "     True &     True &   False &   False &         $0.2606$ &      $0.3052$ \\\\\n",
      "     True &    False &    True &    True &         $0.3422$ &      $0.3124$ \\\\\n",
      "     True &    False &    True &   False &         $0.3063$ &      $0.3492$ \\\\\n",
      "     True &    False &   False &    True &         $0.2799$ &      $0.3116$ \\\\\n",
      "     True &    False &   False &   False &         $0.2601$ & $\\bm{0.3827}$ \\\\\n",
      "    False &     True &    True &    True &         $0.3305$ &      $0.2505$ \\\\\n",
      "    False &     True &    True &   False &         $0.3325$ &      $0.2719$ \\\\\n",
      "    False &     True &   False &    True &         $0.2814$ &      $0.2885$ \\\\\n",
      "    False &     True &   False &   False &         $0.2293$ &      $0.2969$ \\\\\n",
      "    False &    False &    True &    True &    $\\bm{0.3650}$ &      $0.3413$ \\\\\n",
      "    False &    False &    True &   False &         $0.2663$ &      $0.3093$ \\\\\n",
      "    False &    False &   False &    True &         $0.2363$ &      $0.2835$ \\\\\n",
      "\\bottomrule\n",
      "\\end{tabular}\n",
      "\n",
      "\\end{spacing}\n",
      "\\end{table}\n",
      "\n",
      "\n",
      "34\n",
      "Writing to: /home/cscorley/git/dissertation/tables/zookeeper_model_sweep.tex\n",
      "\n",
      "\\begin{table}\n",
      "\\begin{spacing}{1.2}\n",
      "\\centering\n",
      "\\caption{MRR values of ZooKeeper v3.5.0 model construction sweep}\n",
      "\\label{table:zookeeper_model_sweep}\n",
      "\\vspace{0.2em}\n",
      "\\parbox{.45\\linewidth}{\\centering \\begin{tabular}{rll|rr}\n",
      "\\toprule\n",
      "    K &  $\\alpha$ &    $\\eta$ & FLT &   DIT \\\\\n",
      "\\midrule\n",
      "$100$ &  $1/K$ &  $1/K$ &         $0.3912$ & $0.3058$ \\\\\n",
      "$100$ &  $1/K$ &  $2/K$ &         $0.3891$ & $0.3005$ \\\\\n",
      "$100$ &  $1/K$ &  $5/K$ &         $0.3699$ & $0.2984$ \\\\\n",
      "$100$ &  $1/K$ &   auto &         $0.3986$ & $0.3085$ \\\\\n",
      "$100$ &  $2/K$ &  $1/K$ &         $0.3906$ & $0.3137$ \\\\\n",
      "$100$ &  $2/K$ &  $2/K$ &         $0.3953$ & $0.3014$ \\\\\n",
      "$100$ &  $2/K$ &  $5/K$ &         $0.3660$ & $0.2910$ \\\\\n",
      "$100$ &  $2/K$ &   auto &         $0.4005$ & $0.3144$ \\\\\n",
      "$100$ &  $5/K$ &  $1/K$ &         $0.4024$ & $0.3212$ \\\\\n",
      "$100$ &  $5/K$ &  $2/K$ &         $0.3991$ & $0.3037$ \\\\\n",
      "$100$ &  $5/K$ &  $5/K$ &         $0.3598$ & $0.3005$ \\\\\n",
      "$100$ &  $5/K$ &   auto &         $0.4033$ & $0.3281$ \\\\\n",
      "$100$ &   auto &  $1/K$ &         $0.3918$ & $0.3048$ \\\\\n",
      "$100$ &   auto &  $2/K$ &         $0.3940$ & $0.3008$ \\\\\n",
      "$100$ &   auto &  $5/K$ &         $0.3727$ & $0.2940$ \\\\\n",
      "$100$ &   auto &   auto &         $0.3989$ & $0.3040$ \\\\\n",
      "$200$ &  $1/K$ &  $1/K$ &         $0.4360$ & $0.3598$ \\\\\n",
      "$200$ &  $1/K$ &  $2/K$ &         $0.4474$ & $0.3417$ \\\\\n",
      "$200$ &  $1/K$ &  $5/K$ &         $0.4376$ & $0.3223$ \\\\\n",
      "$200$ &  $1/K$ &   auto &         $0.4363$ & $0.3534$ \\\\\n",
      "$200$ &  $2/K$ &  $1/K$ &         $0.4405$ & $0.3589$ \\\\\n",
      "$200$ &  $2/K$ &  $2/K$ &         $0.4463$ & $0.3297$ \\\\\n",
      "$200$ &  $2/K$ &  $5/K$ &         $0.4306$ & $0.3202$ \\\\\n",
      "$200$ &  $2/K$ &   auto &         $0.4406$ & $0.3451$ \\\\\n",
      "\\bottomrule\n",
      "\\end{tabular}\n",
      "} \\hfill \\parbox{.45\\linewidth}{\\centering \\begin{tabular}{rll|rr}\n",
      "\\toprule\n",
      "    K &  $\\alpha$ &    $\\eta$ & FLT &        DIT \\\\\n",
      "\\midrule\n",
      "$200$ &  $5/K$ &  $1/K$ &         $0.4415$ &      $0.3506$ \\\\\n",
      "$200$ &  $5/K$ &  $2/K$ &         $0.4534$ &      $0.3302$ \\\\\n",
      "$200$ &  $5/K$ &  $5/K$ &         $0.4259$ &      $0.3241$ \\\\\n",
      "$200$ &  $5/K$ &   auto &         $0.4418$ &      $0.3507$ \\\\\n",
      "$200$ &   auto &  $1/K$ &         $0.4330$ &      $0.3592$ \\\\\n",
      "$200$ &   auto &  $2/K$ &         $0.4505$ &      $0.3421$ \\\\\n",
      "$200$ &   auto &  $5/K$ &         $0.4390$ &      $0.3234$ \\\\\n",
      "$200$ &   auto &   auto &         $0.4333$ &      $0.3517$ \\\\\n",
      "$500$ &  $1/K$ &  $1/K$ &         $0.4818$ &      $0.3985$ \\\\\n",
      "$500$ &  $1/K$ &  $2/K$ &         $0.4758$ &      $0.4145$ \\\\\n",
      "$500$ &  $1/K$ &  $5/K$ &         $0.4637$ &      $0.3775$ \\\\\n",
      "$500$ &  $1/K$ &   auto &    $\\bm{0.4882}$ &      $0.4011$ \\\\\n",
      "$500$ &  $2/K$ &  $1/K$ &         $0.4799$ &      $0.3967$ \\\\\n",
      "$500$ &  $2/K$ &  $2/K$ &         $0.4670$ & $\\bm{0.4213}$ \\\\\n",
      "$500$ &  $2/K$ &  $5/K$ &         $0.4630$ &      $0.3821$ \\\\\n",
      "$500$ &  $2/K$ &   auto &         $0.4826$ &      $0.3865$ \\\\\n",
      "$500$ &  $5/K$ &  $1/K$ &         $0.4789$ &      $0.4066$ \\\\\n",
      "$500$ &  $5/K$ &  $2/K$ &         $0.4693$ &      $0.4057$ \\\\\n",
      "$500$ &  $5/K$ &  $5/K$ &         $0.4749$ &      $0.3831$ \\\\\n",
      "$500$ &  $5/K$ &   auto &         $0.4824$ &      $0.4033$ \\\\\n",
      "$500$ &   auto &  $1/K$ &         $0.4835$ &      $0.3987$ \\\\\n",
      "$500$ &   auto &  $2/K$ &         $0.4783$ &      $0.4140$ \\\\\n",
      "$500$ &   auto &  $5/K$ &         $0.4641$ &      $0.3773$ \\\\\n",
      "$500$ &   auto &   auto &         $0.4870$ &      $0.4021$ \\\\\n",
      "\\bottomrule\n",
      "\\end{tabular}\n",
      "}\n",
      "\\end{spacing}\n",
      "\\end{table}\n",
      "\n",
      "\n",
      "7\n",
      "Writing to: /home/cscorley/git/dissertation/tables/zookeeper_corpus_sweep.tex\n",
      "\n",
      "\\begin{table}\n",
      "\\begin{spacing}{1.2}\n",
      "\\centering\n",
      "\\caption{MRR values of ZooKeeper v3.5.0 corpus construction sweep}\n",
      "\\label{table:zookeeper_corpus_sweep}\n",
      "\\vspace{0.2em}\n",
      "\\begin{tabular}{llll|rr}\n",
      "\\toprule\n",
      "Additions & Removals & Context & Message & FLT &        DIT \\\\\n",
      "\\midrule\n",
      "     True &     True &    True &    True &         $0.4788$ &      $0.3776$ \\\\\n",
      "     True &     True &    True &   False &         $0.4818$ &      $0.3985$ \\\\\n",
      "     True &     True &   False &    True &         $0.4790$ &      $0.3706$ \\\\\n",
      "     True &     True &   False &   False &         $0.4503$ &      $0.3858$ \\\\\n",
      "     True &    False &    True &    True &    $\\bm{0.4950}$ &      $0.3667$ \\\\\n",
      "     True &    False &    True &   False &         $0.4745$ &      $0.3579$ \\\\\n",
      "     True &    False &   False &    True &         $0.4531$ &      $0.3643$ \\\\\n",
      "     True &    False &   False &   False &         $0.4548$ &      $0.3637$ \\\\\n",
      "    False &     True &    True &    True &         $0.4576$ &      $0.3189$ \\\\\n",
      "    False &     True &    True &   False &         $0.4003$ &      $0.3456$ \\\\\n",
      "    False &     True &   False &    True &         $0.4062$ &      $0.2970$ \\\\\n",
      "    False &     True &   False &   False &         $0.3669$ &      $0.2973$ \\\\\n",
      "    False &    False &    True &    True &         $0.4720$ &      $0.4247$ \\\\\n",
      "    False &    False &    True &   False &         $0.3930$ & $\\bm{0.4565}$ \\\\\n",
      "    False &    False &   False &    True &         $0.4574$ &      $0.3188$ \\\\\n",
      "\\bottomrule\n",
      "\\end{tabular}\n",
      "\n",
      "\\end{spacing}\n",
      "\\end{table}\n",
      "\n",
      "\n"
     ]
    }
   ],
   "source": [
    "names = {'model': {'score': 'score',\n",
    "                   'model_base_alpha': 'alpha',\n",
    "                   'model_base_eta': 'eta',\n",
    "                   'num_topics': 'K'\n",
    "                  },\n",
    "         'corpus': {'score': 'score',\n",
    "                    'changeset_include_additions': 'Additions',\n",
    "                    'changeset_include_context': 'Context',\n",
    "                    'changeset_include_message': 'Message',\n",
    "                    'changeset_include_removals': 'Removals',\n",
    "                    },\n",
    "        }\n",
    "exps = ['triage', 'feature_location']\n",
    "table_headers = {\n",
    "    'model': ['K', 'alpha', 'eta', 'Feature Location', 'Triage'],\n",
    "    'corpus': ['Additions', 'Removals', 'Context', 'Message', 'Feature Location', 'Triage']\n",
    "}\n",
    "formatters = {\n",
    "    'Feature Location': lambda x: r\"$\\bm{%.4f}$\" % x if x == max(main_df[\"Feature Location\"]) else \"$%.4f$\" % x,\n",
    "    'alpha': lambda x: \"$%s/K$\" % x if x != 'auto' else x,\n",
    "    'eta': lambda x: \"$%s/K$\" % x if x != 'auto' else x,\n",
    "    'K': lambda x: \"$%s$\" % x,\n",
    "    'Triage': lambda x:  r\"$\\bm{%.4f}$\" % x if x == max(main_df[\"Triage\"]) else \"$%.4f$\" % x,\n",
    "}\n",
    "\n",
    "full_tex = r\"\"\"\n",
    "\\begin{table}\n",
    "\\begin{spacing}{1.2}\n",
    "\\centering\n",
    "\\caption{MRR values of %s %s construction sweep}\n",
    "\\label{table:%s}\n",
    "\\vspace{0.2em}\n",
    "%s\n",
    "\\end{spacing}\n",
    "\\end{table}\n",
    "\"\"\"\n",
    "\n",
    "best_flt = list()\n",
    "best_dit = list()\n",
    "tex_dir = os.path.expanduser(\"~/git/dissertation/tables\")\n",
    "for project in projects:\n",
    "    for rq in names.keys():\n",
    "        names[rq]['score'] = 'score'\n",
    "        main_df = pandas.DataFrame(columns=names[rq])\n",
    "        for exp in exps:\n",
    "            path = os.path.join(project.full_path, 'optimized-%s-changeset-%s.csv' % (rq, exp))\n",
    "            exp = ' '.join(exp.title().split('_'))\n",
    "            names[rq]['score'] = exp\n",
    "            exp_df = pandas.read_csv(path)\n",
    "            exp_df = exp_df.rename(columns=names[rq])\n",
    "            if len(main_df):\n",
    "                main_df = main_df.merge(exp_df)\n",
    "            else:\n",
    "                main_df = exp_df\n",
    "        \n",
    "        # filter out uninteresting rows, like there was no corpus\n",
    "        main_df = main_df[(main_df[\"Feature Location\"] != 0) | (main_df[\"Triage\"] != 0)]\n",
    "        if rq == \"model\":\n",
    "            main_df = main_df.sort([\"K\", \"alpha\", \"eta\"])\n",
    "        \n",
    "        best_flt.append((project, main_df[main_df[\"Feature Location\"] == main_df[\"Feature Location\"].max()]))\n",
    "        best_dit.append((project, main_df[main_df[\"Triage\"] == main_df[\"Triage\"].max()]))\n",
    "        \n",
    "        label = \"%s_%s_sweep\" % (project.name, rq)\n",
    "        op = os.path.join(tex_dir, label + \".tex\")\n",
    "        \n",
    "        if len(main_df) > 24:\n",
    "            tex = r\"\\parbox{.45\\linewidth}{\\centering %s} \\hfill \\parbox{.45\\linewidth}{\\centering %s}\"\n",
    "            mid = len(main_df)//2\n",
    "            tex = tex % (main_df[:mid].to_latex(index=False,\n",
    "                                                escape=False, # needed so it doesn't screw up formatters\n",
    "                                                formatters=formatters,\n",
    "                                                columns=table_headers[rq]),\n",
    "                         main_df[mid:].to_latex(index=False,\n",
    "                                                escape=False, # needed so it doesn't screw up formatters\n",
    "                                                formatters=formatters,\n",
    "                                                columns=table_headers[rq]))\n",
    "        else:\n",
    "            tex = main_df.to_latex(index=False,\n",
    "                                   escape=False, # needed so it doesn't screw up formatters\n",
    "                                   formatters=formatters,\n",
    "                                   columns=table_headers[rq],)\n",
    "            \n",
    "        print(best_pair(main_df[\"Triage\"], main_df[\"Feature Location\"]))\n",
    "        \n",
    "        # and now the lazy\n",
    "        this_full_tex = full_tex % (project.printable_name, rq, label, tex)\n",
    "        this_full_tex = this_full_tex.replace(\" alpha \", r\" $\\alpha$ \")\n",
    "        this_full_tex = this_full_tex.replace(\" eta \", r\" $\\eta$ \")\n",
    "        this_full_tex = this_full_tex.replace(\" Feature Location \", \" FLT \")\n",
    "        this_full_tex = this_full_tex.replace(\" Triage \", \" DIT \")\n",
    "        this_full_tex = this_full_tex.replace(r\"\\begin{tabular}{rllrr}\", r\"\\begin{tabular}{rll|rr}\")\n",
    "        this_full_tex = this_full_tex.replace(r\"\\begin{tabular}{llllrr}\", r\"\\begin{tabular}{llll|rr}\")\n",
    "        print(\"Writing to: %s\\n%s\\n\" % (op, this_full_tex))\n",
    "        with open(op, 'wt') as f:\n",
    "            f.write(this_full_tex)"
   ]
  },
  {
   "cell_type": "code",
   "execution_count": 7,
   "metadata": {
    "collapsed": false
   },
   "outputs": [],
   "source": [
    "best_flt_model = {p:x for p,x in best_flt if hasattr(x, 'alpha')}\n",
    "best_flt_corpus = {p:x for p,x in best_flt if hasattr(x, 'Additions')}\n",
    "best_dit_model = {p:x for p,x in best_dit if hasattr(x, 'alpha')}\n",
    "best_dit_corpus = {p:x for p,x in best_dit if hasattr(x, 'Additions')}"
   ]
  },
  {
   "cell_type": "code",
   "execution_count": 8,
   "metadata": {
    "collapsed": false
   },
   "outputs": [
    {
     "data": {
      "text/plain": [
       "{Project(name='bookkeeper', printable_name='BookKeeper v4.3.0', version='v4.3.0', ref='refs/tags/release-4.3.0', data_path='data/bookkeeper/', full_path='data/bookkeeper/v4.3.0/', src_path='data/bookkeeper/v4.3.0/src/', level='file'):      Triage Additions Context Message Removals  Feature Location\n",
       " 0  0.721646      True    True    True     True            0.5246,\n",
       " Project(name='mahout', printable_name='Mahout v0.10.0', version='v0.10.0', ref='refs/tags/mahout-0.10', data_path='data/mahout/', full_path='data/mahout/v0.10.0/', src_path='data/mahout/v0.10.0/src/', level='file'):      Triage Additions Context Message Removals  Feature Location\n",
       " 7  0.382731      True   False   False    False          0.260056,\n",
       " Project(name='openjpa', printable_name='OpenJPA v2.3.0', version='v2.3.0', ref='refs/tags/2.3.0', data_path='data/openjpa/', full_path='data/openjpa/v2.3.0/', src_path='data/openjpa/v2.3.0/src/', level='file'):      Triage Additions Context Message Removals  Feature Location\n",
       " 5  0.409568      True    True   False    False          0.286927,\n",
       " Project(name='pig', printable_name='Pig v0.14.0', version='v0.14.0', ref='refs/tags/release-0.14.0', data_path='data/pig/', full_path='data/pig/v0.14.0/', src_path='data/pig/v0.14.0/src/', level='file'):       Triage Additions Context Message Removals  Feature Location\n",
       " 13  0.303156     False    True   False    False          0.312365,\n",
       " Project(name='tika', printable_name='Tika v1.8', version='v1.8', ref='refs/tags/1.8', data_path='data/tika/', full_path='data/tika/v1.8/', src_path='data/tika/v1.8/src/', level='file'):      Triage Additions Context Message Removals  Feature Location\n",
       " 5  0.452242      True    True   False    False          0.557178,\n",
       " Project(name='zookeeper', printable_name='ZooKeeper v3.5.0', version='v3.5.0', ref='refs/tags/release-3.5.0', data_path='data/zookeeper/', full_path='data/zookeeper/v3.5.0/', src_path='data/zookeeper/v3.5.0/src/', level='file'):       Triage Additions Context Message Removals  Feature Location\n",
       " 13  0.456471     False    True   False    False          0.393001}"
      ]
     },
     "execution_count": 8,
     "metadata": {},
     "output_type": "execute_result"
    }
   ],
   "source": [
    "best_dit_corpus"
   ]
  },
  {
   "cell_type": "code",
   "execution_count": 9,
   "metadata": {
    "collapsed": false
   },
   "outputs": [],
   "source": [
    "kwargs = dict(model='lda', level='file', source=['changeset'], force=False)\n",
    "\n",
    "def get_model_config(table, project):\n",
    "    model_config, model_config_string = src.main.get_default_model_config(kwargs)\n",
    "    changeset_config, changeset_config_string = src.main.get_default_changeset_config()\n",
    "    \n",
    "    K = int(table[project]['K'].values[0])\n",
    "    alpha = table[project]['alpha'].values[0]\n",
    "    eta = table[project]['eta'].values[0]\n",
    "    model_config['alpha'] =  int(alpha) / K if alpha != 'auto' else alpha\n",
    "    model_config['eta'] = int(eta) / K if eta != 'auto' else eta\n",
    "    model_config['num_topics'] = K\n",
    "\n",
    "    model_config_string =  '-'.join([unicode(v) for k, v in sorted(model_config.items())])\n",
    "    changeset_config_string = '-'.join([unicode(v) for k, v in sorted(changeset_config.items())])\n",
    "\n",
    "    kwargs.update({'changeset_config': changeset_config,\n",
    "                   'changeset_config_string': changeset_config_string})\n",
    "\n",
    "    kwargs.update({'model_config': model_config,\n",
    "                   'model_config_string': model_config_string})\n",
    "    \n",
    "    return [x for x in src.common.load_projects(kwargs) if x.name == project.name][0]\n",
    "\n",
    "def get_corpus_config(table, project):\n",
    "    model_config, model_config_string = src.main.get_default_model_config(kwargs)\n",
    "    changeset_config, changeset_config_string = src.main.get_default_changeset_config()\n",
    "    \n",
    "    changeset_config['include_additions'] = table[project]['Additions'].values[0]\n",
    "    changeset_config['include_removals'] = table[project]['Removals'].values[0]\n",
    "    changeset_config['include_context'] = table[project]['Context'].values[0]\n",
    "    changeset_config['include_message'] = table[project]['Message'].values[0]\n",
    "\n",
    "    model_config_string =  '-'.join([unicode(v) for k, v in sorted(model_config.items())])\n",
    "    changeset_config_string = '-'.join([unicode(v) for k, v in sorted(changeset_config.items())])\n",
    "\n",
    "    kwargs.update({'changeset_config': changeset_config,\n",
    "                   'changeset_config_string': changeset_config_string})\n",
    "\n",
    "    kwargs.update({'model_config': model_config,\n",
    "                   'model_config_string': model_config_string})\n",
    "    \n",
    "    return [x for x in src.common.load_projects(kwargs) if x.name == project.name][0]"
   ]
  },
  {
   "cell_type": "code",
   "execution_count": 10,
   "metadata": {
    "collapsed": false
   },
   "outputs": [],
   "source": [
    "best_model_flt_projects = list()\n",
    "best_model_dit_projects = list()\n",
    "best_corpus_flt_projects = list()\n",
    "best_corpus_dit_projects = list()\n",
    "for project in projects:\n",
    "    # load project info\n",
    "    best_model_flt_projects.append(get_model_config(best_flt_model, project))\n",
    "    best_model_dit_projects.append(get_model_config(best_dit_model, project))\n",
    "    \n",
    "    best_corpus_flt_projects.append(get_corpus_config(best_flt_corpus, project))\n",
    "    best_corpus_dit_projects.append(get_corpus_config(best_dit_corpus, project))"
   ]
  },
  {
   "cell_type": "code",
   "execution_count": 11,
   "metadata": {
    "collapsed": false,
    "scrolled": true
   },
   "outputs": [
    {
     "name": "stdout",
     "output_type": "stream",
     "text": [
      "best dit corpus\n",
      "Tika v1.8 changeset-triage-lda-true-true-false-false-batch-0.002-0.5-0.002-1000-1000-500-1.0-1\n",
      "Pig v0.14.0 changeset-triage-lda-false-true-false-false-batch-0.002-0.5-0.002-1000-1000-500-1.0-1\n",
      "BookKeeper v4.3.0 changeset-triage-lda-true-true-true-true-batch-0.002-0.5-0.002-1000-1000-500-1.0-1\n",
      "OpenJPA v2.3.0 changeset-triage-lda-true-true-false-false-batch-0.002-0.5-0.002-1000-1000-500-1.0-1\n",
      "Mahout v0.10.0 changeset-triage-lda-true-false-false-false-batch-0.002-0.5-0.002-1000-1000-500-1.0-1\n",
      "ZooKeeper v3.5.0 changeset-triage-lda-false-true-false-false-batch-0.002-0.5-0.002-1000-1000-500-1.0-1\n",
      "\n",
      "best flt corpus\n",
      "Tika v1.8 changeset-feature_location-lda-true-true-true-true-batch-0.002-0.5-0.002-1000-1000-500-1.0-1\n",
      "Pig v0.14.0 changeset-feature_location-lda-true-false-false-true-batch-0.002-0.5-0.002-1000-1000-500-1.0-1\n",
      "BookKeeper v4.3.0 changeset-feature_location-lda-true-true-true-false-batch-0.002-0.5-0.002-1000-1000-500-1.0-1\n",
      "OpenJPA v2.3.0 changeset-feature_location-lda-true-true-true-false-batch-0.002-0.5-0.002-1000-1000-500-1.0-1\n",
      "Mahout v0.10.0 changeset-feature_location-lda-false-true-true-false-batch-0.002-0.5-0.002-1000-1000-500-1.0-1\n",
      "ZooKeeper v3.5.0 changeset-feature_location-lda-true-true-true-false-batch-0.002-0.5-0.002-1000-1000-500-1.0-1\n",
      "\n",
      "best dit model\n",
      "Tika v1.8 changeset-triage-lda-true-true-false-true-batch-0.004-0.5-0.01-1000-1000-500-1.0-1\n",
      "Pig v0.14.0 changeset-triage-lda-true-true-false-true-batch-0.025-0.5-0.005-1000-1000-200-1.0-1\n",
      "BookKeeper v4.3.0 changeset-triage-lda-true-true-false-true-batch-0.01-0.5-auto-1000-1000-500-1.0-1\n",
      "OpenJPA v2.3.0 changeset-triage-lda-true-true-false-true-batch-auto-0.5-0.002-1000-1000-500-1.0-1\n",
      "Mahout v0.10.0 changeset-triage-lda-true-true-false-true-batch-0.002-0.5-0.01-1000-1000-500-1.0-1\n",
      "ZooKeeper v3.5.0 changeset-triage-lda-true-true-false-true-batch-0.004-0.5-0.004-1000-1000-500-1.0-1\n",
      "\n",
      "best flt model\n",
      "Tika v1.8 changeset-feature_location-lda-true-true-false-true-batch-0.01-0.5-0.01-1000-1000-200-1.0-1\n",
      "Pig v0.14.0 changeset-feature_location-lda-true-true-false-true-batch-0.002-0.5-0.004-1000-1000-500-1.0-1\n",
      "BookKeeper v4.3.0 changeset-feature_location-lda-true-true-false-true-batch-0.01-0.5-auto-1000-1000-500-1.0-1\n",
      "OpenJPA v2.3.0 changeset-feature_location-lda-true-true-false-true-batch-0.004-0.5-auto-1000-1000-500-1.0-1\n",
      "Mahout v0.10.0 changeset-feature_location-lda-true-true-false-true-batch-0.004-0.5-auto-1000-1000-500-1.0-1\n",
      "ZooKeeper v3.5.0 changeset-feature_location-lda-true-true-false-true-batch-0.002-0.5-auto-1000-1000-500-1.0-1\n"
     ]
    }
   ],
   "source": [
    "print(\"best dit corpus\")\n",
    "for each in best_corpus_dit_projects:\n",
    "    print(each.printable_name, src.common.check_ranks(each, \"changeset\", \"triage\")[1])\n",
    "\n",
    "print()\n",
    "print(\"best flt corpus\")\n",
    "for each in best_corpus_flt_projects:\n",
    "    print(each.printable_name, src.common.check_ranks(each, \"changeset\", \"feature_location\")[1])\n",
    "\n",
    "print()\n",
    "print(\"best dit model\")\n",
    "for each in best_model_dit_projects:\n",
    "    print(each.printable_name, src.common.check_ranks(each, \"changeset\", \"triage\")[1])\n",
    "\n",
    "print()\n",
    "print(\"best flt model\")\n",
    "for each in best_model_flt_projects:\n",
    "    print(each.printable_name, src.common.check_ranks(each, \"changeset\", \"feature_location\")[1])"
   ]
  },
  {
   "cell_type": "code",
   "execution_count": 12,
   "metadata": {
    "collapsed": true
   },
   "outputs": [],
   "source": [
    "FIG_TEX=\"\"\"\n",
    "\\\\begin{figure}\n",
    "\\\\centering\n",
    "\\\\includegraphics[height=0.4\\\\textheight]{%s}\n",
    "\\\\caption{%s effectiveness measures of optimal and alternative %s configurations for %s}\n",
    "\\\\label{fig:combo:%s}\n",
    "\\\\end{figure}\n",
    "\"\"\"\n",
    "\n",
    "def plot_panel(panel, name, kind):\n",
    "    order = [\"Optimal\", \"Alternate\"]\n",
    "    \n",
    "    size = (len(order)*1.6, 4.5)\n",
    "    fontsize = None\n",
    "    widths = 0.3\n",
    "    lower = 0\n",
    "    kinds = {\"flt\": \"Feature Location\", \"dit\": \"Developer Identification\"}\n",
    "    rqs = {\"flt\": {\"rq1\": \"RQ 3.5.1\", \"rq2\": \"RQ 3.5.2\", \"all\": \"Overview\"},\n",
    "           \"dit\": {\"rq1\": \"RQ 3.5.1\", \"rq2\": \"RQ 3.5.2\", \"all\": \"Overview\"}}\n",
    "    config_name = \"model\" if name == \"rq1\" else \"corpus\"\n",
    "\n",
    "    allt = pandas.DataFrame()\n",
    "    for each in panel:\n",
    "        allt = allt.append(panel[each], ignore_index=True)\n",
    "\n",
    "        upper = panel[each][order].max().max()+1\n",
    "        panel[each].plot(kind='box',\n",
    "                         fontsize=fontsize,\n",
    "                         figsize=size,\n",
    "                         widths=widths,\n",
    "                         ylim=(lower, upper),\n",
    "                         y=order)\n",
    "        #plt.gca().invert_yaxis()\n",
    "        plt.tight_layout()\n",
    "        short_each = each.lower().split(' ')[0]\n",
    "        fig_name = 'figures/combo/%s_%s_%s' % (kind, name, short_each)\n",
    "        path = os.path.expanduser('~/git/dissertation/') + fig_name\n",
    "        plt.savefig(path + \".pdf\", dpi=300)\n",
    "        \n",
    "        with open(path + \".tex\", \"wt\") as f:\n",
    "            figlabel = \":\".join([x.lower() for x in [kind, name, short_each]])\n",
    "            f.write(FIG_TEX % (fig_name, kinds[kind], config_name, each, figlabel))\n",
    "        \n",
    "    upper = allt.max().max()+1\n",
    "    allt.plot(kind='box', figsize=(4,1.5), grid=False, vert=False, y=list(reversed(order)))\n",
    "    plt.tight_layout()\n",
    "    short_each = \"tiny\"\n",
    "    fig_name = 'figures/combo/%s_%s_%s' % (kind, name, short_each)\n",
    "    path = os.path.expanduser('~/git/dissertation/') + fig_name\n",
    "    plt.savefig(path + \".pdf\", dpi=300)\n",
    "\n",
    "    with open(path + \".tex\", \"wt\") as f:\n",
    "        figlabel = \":\".join([x.lower() for x in [kind, name, short_each]])\n",
    "        f.write(FIG_TEX % (fig_name, kinds[kind], config_name, \"all subject systems\", figlabel))\n",
    "    \n",
    "    allt.plot(kind='box',\n",
    "               fontsize=fontsize,\n",
    "\n",
    "              figsize=size,\n",
    "              widths=widths,\n",
    "              ylim=(lower, upper),\n",
    "              y=order)\n",
    "    #plt.gca().invert_yaxis()\n",
    "    plt.tight_layout()\n",
    "    short_each = \"overview\"\n",
    "    fig_name = 'figures/combo/%s_%s_%s' % (kind, name, short_each)\n",
    "    path = os.path.expanduser('~/git/dissertation/') + fig_name\n",
    "    plt.savefig(path + \".pdf\", dpi=300)\n",
    "    with open(path + \".tex\", \"wt\") as f:\n",
    "        figlabel = \":\".join([x.lower() for x in [kind, name, short_each]])\n",
    "        f.write(FIG_TEX % (fig_name, kinds[kind], config_name, \"all subject systems\", figlabel))"
   ]
  },
  {
   "cell_type": "code",
   "execution_count": 13,
   "metadata": {
    "collapsed": false
   },
   "outputs": [],
   "source": [
    "def generate_plots(question, best_dit, best_flt):\n",
    "    flt_data_ranks = dict()\n",
    "    for each in best_dit:\n",
    "        flt_data_ranks[each.printable_name] = dict()\n",
    "    dit_data_ranks = dict()\n",
    "    for each in best_dit:\n",
    "        dit_data_ranks[each.printable_name] = dict()\n",
    "\n",
    "\n",
    "    for each in best_dit:\n",
    "        dit_results = src.triage.run_experiment(each)['changeset']\n",
    "        dit_data_ranks[each.printable_name][\"Optimal\"] = pandas.Series([int(x) for x,_,_ in dit_results])\n",
    "\n",
    "        flt_results = src.feature_location.run_experiment(each)['changeset']\n",
    "        flt_data_ranks[each.printable_name][\"Alternate\"] = pandas.Series([int(x) for x,_,_ in flt_results])\n",
    "\n",
    "    for each in best_flt:\n",
    "        dit_results = src.triage.run_experiment(each)['changeset']\n",
    "        dit_data_ranks[each.printable_name][\"Alternate\"] = pandas.Series([int(x) for x,_,_ in dit_results])\n",
    "\n",
    "        flt_results = src.feature_location.run_experiment(each)['changeset']\n",
    "        flt_data_ranks[each.printable_name][\"Optimal\"] = pandas.Series([int(x) for x,_,_ in flt_results])\n",
    "\n",
    "    dit_panel = pandas.Panel(dit_data_ranks)\n",
    "    flt_panel = pandas.Panel(flt_data_ranks)\n",
    "    plot_panel(dit_panel, question, \"dit\")\n",
    "    plot_panel(flt_panel, question, \"flt\")"
   ]
  },
  {
   "cell_type": "code",
   "execution_count": 14,
   "metadata": {
    "collapsed": false
   },
   "outputs": [
    {
     "data": {
      "image/png": "[encoded data removed]",
      "text/plain": [
       "<matplotlib.figure.Figure at 0x7f09a5516710>"
      ]
     },
     "metadata": {},
     "output_type": "display_data"
    },
    {
     "data": {
      "image/png": "[encoded data removed]",
      "text/plain": [
       "<matplotlib.figure.Figure at 0x7f09a549fcd0>"
      ]
     },
     "metadata": {},
     "output_type": "display_data"
    },
    {
     "data": {
      "image/png": "[encoded data removed]",
      "text/plain": [
       "<matplotlib.figure.Figure at 0x7f09a5140190>"
      ]
     },
     "metadata": {},
     "output_type": "display_data"
    },
    {
     "data": {
      "image/png": "[encoded data removed]",
      "text/plain": [
       "<matplotlib.figure.Figure at 0x7f09a3d40fd0>"
      ]
     },
     "metadata": {},
     "output_type": "display_data"
    },
    {
     "data": {
      "image/png": "[encoded data removed]",
      "text/plain": [
       "<matplotlib.figure.Figure at 0x7f09a54df210>"
      ]
     },
     "metadata": {},
     "output_type": "display_data"
    },
    {
     "data": {
      "image/png": "[encoded data removed]",
      "text/plain": [
       "<matplotlib.figure.Figure at 0x7f09a3417910>"
      ]
     },
     "metadata": {},
     "output_type": "display_data"
    },
    {
     "data": {
      "image/png": "[encoded data removed]",
      "text/plain": [
       "<matplotlib.figure.Figure at 0x7f09a54b6890>"
      ]
     },
     "metadata": {},
     "output_type": "display_data"
    },
    {
     "data": {
      "image/png": "[encoded data removed]",
      "text/plain": [
       "<matplotlib.figure.Figure at 0x7f09a490bb10>"
      ]
     },
     "metadata": {},
     "output_type": "display_data"
    },
    {
     "data": {
      "image/png": "[encoded data removed]",
      "text/plain": [
       "<matplotlib.figure.Figure at 0x7f09a3f614d0>"
      ]
     },
     "metadata": {},
     "output_type": "display_data"
    },
    {
     "data": {
      "image/png": "[encoded data removed]",
      "text/plain": [
       "<matplotlib.figure.Figure at 0x7f09a48dab50>"
      ]
     },
     "metadata": {},
     "output_type": "display_data"
    },
    {
     "data": {
      "image/png": "[encoded data removed]",
      "text/plain": [
       "<matplotlib.figure.Figure at 0x7f09a54239d0>"
      ]
     },
     "metadata": {},
     "output_type": "display_data"
    },
    {
     "data": {
      "image/png": "[encoded data removed]",
      "text/plain": [
       "<matplotlib.figure.Figure at 0x7f09a3f61210>"
      ]
     },
     "metadata": {},
     "output_type": "display_data"
    },
    {
     "data": {
      "image/png": "[encoded data removed]",
      "text/plain": [
       "<matplotlib.figure.Figure at 0x7f09a4cadb50>"
      ]
     },
     "metadata": {},
     "output_type": "display_data"
    },
    {
     "data": {
      "image/png": "[encoded data removed]",
      "text/plain": [
       "<matplotlib.figure.Figure at 0x7f09a551a950>"
      ]
     },
     "metadata": {},
     "output_type": "display_data"
    },
    {
     "data": {
      "image/png": "[encoded data removed]",
      "text/plain": [
       "<matplotlib.figure.Figure at 0x7f09a3f61590>"
      ]
     },
     "metadata": {},
     "output_type": "display_data"
    },
    {
     "data": {
      "image/png": "[encoded data removed]",
      "text/plain": [
       "<matplotlib.figure.Figure at 0x7f09a53f9690>"
      ]
     },
     "metadata": {},
     "output_type": "display_data"
    }
   ],
   "source": [
    "generate_plots(\"rq1\", best_model_dit_projects, best_model_flt_projects)"
   ]
  },
  {
   "cell_type": "code",
   "execution_count": 15,
   "metadata": {
    "collapsed": false
   },
   "outputs": [
    {
     "data": {
      "image/png": "[encoded data removed]",
      "text/plain": [
       "<matplotlib.figure.Figure at 0x7f09a54d0910>"
      ]
     },
     "metadata": {},
     "output_type": "display_data"
    },
    {
     "data": {
      "image/png": "[encoded data removed]",
      "text/plain": [
       "<matplotlib.figure.Figure at 0x7f09a44b7a10>"
      ]
     },
     "metadata": {},
     "output_type": "display_data"
    },
    {
     "data": {
      "image/png": "[encoded data removed]",
      "text/plain": [
       "<matplotlib.figure.Figure at 0x7f09a53d02d0>"
      ]
     },
     "metadata": {},
     "output_type": "display_data"
    },
    {
     "data": {
      "image/png": "[encoded data removed]",
      "text/plain": [
       "<matplotlib.figure.Figure at 0x7f09a4598850>"
      ]
     },
     "metadata": {},
     "output_type": "display_data"
    },
    {
     "data": {
      "image/png": "[encoded data removed]",
      "text/plain": [
       "<matplotlib.figure.Figure at 0x7f09a4dfe3d0>"
      ]
     },
     "metadata": {},
     "output_type": "display_data"
    },
    {
     "data": {
      "image/png": "[encoded data removed]",
      "text/plain": [
       "<matplotlib.figure.Figure at 0x7f09a3eaab90>"
      ]
     },
     "metadata": {},
     "output_type": "display_data"
    },
    {
     "data": {
      "image/png": "[encoded data removed]",
      "text/plain": [
       "<matplotlib.figure.Figure at 0x7f09a4eb3cd0>"
      ]
     },
     "metadata": {},
     "output_type": "display_data"
    },
    {
     "data": {
      "image/png": "[encoded data removed]",
      "text/plain": [
       "<matplotlib.figure.Figure at 0x7f09a509cd10>"
      ]
     },
     "metadata": {},
     "output_type": "display_data"
    },
    {
     "data": {
      "image/png": "[encoded data removed]",
      "text/plain": [
       "<matplotlib.figure.Figure at 0x7f09a3d76c90>"
      ]
     },
     "metadata": {},
     "output_type": "display_data"
    },
    {
     "data": {
      "image/png": "[encoded data removed]",
      "text/plain": [
       "<matplotlib.figure.Figure at 0x7f09a4c62950>"
      ]
     },
     "metadata": {},
     "output_type": "display_data"
    },
    {
     "data": {
      "image/png": "[encoded data removed]",
      "text/plain": [
       "<matplotlib.figure.Figure at 0x7f09a3d76f10>"
      ]
     },
     "metadata": {},
     "output_type": "display_data"
    },
    {
     "data": {
      "image/png": "[encoded data removed]",
      "text/plain": [
       "<matplotlib.figure.Figure at 0x7f09a50dac90>"
      ]
     },
     "metadata": {},
     "output_type": "display_data"
    },
    {
     "data": {
      "image/png": "[encoded data removed]",
      "text/plain": [
       "<matplotlib.figure.Figure at 0x7f09a33e1d10>"
      ]
     },
     "metadata": {},
     "output_type": "display_data"
    },
    {
     "data": {
      "image/png": "[encoded data removed]",
      "text/plain": [
       "<matplotlib.figure.Figure at 0x7f09a4b8ced0>"
      ]
     },
     "metadata": {},
     "output_type": "display_data"
    },
    {
     "data": {
      "image/png": "[encoded data removed]",
      "text/plain": [
       "<matplotlib.figure.Figure at 0x7f09a4763a10>"
      ]
     },
     "metadata": {},
     "output_type": "display_data"
    },
    {
     "data": {
      "image/png": "[encoded data removed]",
      "text/plain": [
       "<matplotlib.figure.Figure at 0x7f09a33e18d0>"
      ]
     },
     "metadata": {},
     "output_type": "display_data"
    }
   ],
   "source": [
    "generate_plots(\"rq2\", best_corpus_dit_projects, best_corpus_flt_projects)"
   ]
  },
  {
   "cell_type": "code",
   "execution_count": null,
   "metadata": {
    "collapsed": true
   },
   "outputs": [],
   "source": []
  }
 ],
 "metadata": {
  "kernelspec": {
   "display_name": "Python 2",
   "language": "python2",
   "name": "python2"
  },
  "language_info": {
   "codemirror_mode": {
    "name": "ipython",
    "version": 2
   },
   "file_extension": ".py",
   "mimetype": "text/x-python",
   "name": "python",
   "nbconvert_exporter": "python",
   "pygments_lexer": "ipython2",
   "version": "2.7.12"
  }
 },
 "nbformat": 4,
 "nbformat_minor": 0
}
